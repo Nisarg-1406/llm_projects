{
 "cells": [
  {
   "cell_type": "markdown",
   "metadata": {},
   "source": [
    "#### LLMs with Structured Data"
   ]
  },
  {
   "cell_type": "markdown",
   "metadata": {},
   "source": [
    "##### Relational databases"
   ]
  },
  {
   "cell_type": "markdown",
   "metadata": {},
   "source": [
    "- Each row represents a record, and each column represents a field or attribute. The relationships between tables are established through keys, primarily the primary key and foreign key. \n",
    "- A primary key is like the unique fingerprint of each record in a table. Having a primary key is important because it guarantees that no two records in the same table will share the same key. This uniqueness makes it easy to locate, modify, and manage individual records in the table.\n",
    "- A foreign key is a bridge between two tables. It’s a column in one table that references the primary key column in another table. This reference creates a link between the data in the two tables, establishing a relationship. The purpose of the foreign key is to maintain data consistency and integrity across related tables. It ensures that if a change is made in the primary key table, the related data in the other table remains accurate. By using foreign keys, you can retrieve information from multiple tables that are connected, enabling you to understand how different pieces of data are related to each other. An example of the relationship between two tables in a database is shown in img1.\n",
    "\n",
    "Overview of the Chinook database:\n",
    "- The Chinook database is a sample database that can be used for learning and practicing SQL. It is based on a fictional digital media store and contains data about artists, albums, tracks, customers, invoices, and more. The Chinook database is available for various database management systems, such as SQL Server, Oracle, MySQL, PostgreSQL, SQLite, and DB2. Diagram of Chinook Database is shown in img2.\n",
    "\n",
    "Work with relational database:\n",
    "- To work with relational databases in Python, you need to use a library that can connect to the database and execute SQL queries.\n",
    "- SQLAlchemy: This is an open-source SQL toolkit and object-relational mapper (ORM) for Python. It allows you to create, read, update, and delete data from relational databases using Python objects and methods. It supports many database engines, such as SQLite, MySQL, PostgreSQL, and Oracle.\n",
    "- MySQLdb: This is a database connector for MySQL. It allows you to interact with MySQL databases from Python using the DB-API 2.0 specification. It is one of the oldest and most widely used Python libraries for MySQL, but its development is mostly frozen.\n",
    "- sqlite3: This is a database connector for SQLite3, a widely used, lightweight, serverless, self-contained, and open-source relational database management system. You can use sqlite3 to create, query, update, and delete data from SQLite databases in your Python programs. We will be working with the SQLite."
   ]
  },
  {
   "cell_type": "code",
   "execution_count": 5,
   "metadata": {},
   "outputs": [
    {
     "data": {
      "text/html": [
       "<div>\n",
       "<style scoped>\n",
       "    .dataframe tbody tr th:only-of-type {\n",
       "        vertical-align: middle;\n",
       "    }\n",
       "\n",
       "    .dataframe tbody tr th {\n",
       "        vertical-align: top;\n",
       "    }\n",
       "\n",
       "    .dataframe thead th {\n",
       "        text-align: right;\n",
       "    }\n",
       "</style>\n",
       "<table border=\"1\" class=\"dataframe\">\n",
       "  <thead>\n",
       "    <tr style=\"text-align: right;\">\n",
       "      <th></th>\n",
       "      <th>name</th>\n",
       "      <th>type</th>\n",
       "    </tr>\n",
       "  </thead>\n",
       "  <tbody>\n",
       "    <tr>\n",
       "      <th>0</th>\n",
       "      <td>albums</td>\n",
       "      <td>table</td>\n",
       "    </tr>\n",
       "    <tr>\n",
       "      <th>1</th>\n",
       "      <td>sqlite_sequence</td>\n",
       "      <td>table</td>\n",
       "    </tr>\n",
       "    <tr>\n",
       "      <th>2</th>\n",
       "      <td>artists</td>\n",
       "      <td>table</td>\n",
       "    </tr>\n",
       "    <tr>\n",
       "      <th>3</th>\n",
       "      <td>customers</td>\n",
       "      <td>table</td>\n",
       "    </tr>\n",
       "    <tr>\n",
       "      <th>4</th>\n",
       "      <td>employees</td>\n",
       "      <td>table</td>\n",
       "    </tr>\n",
       "    <tr>\n",
       "      <th>5</th>\n",
       "      <td>genres</td>\n",
       "      <td>table</td>\n",
       "    </tr>\n",
       "    <tr>\n",
       "      <th>6</th>\n",
       "      <td>invoices</td>\n",
       "      <td>table</td>\n",
       "    </tr>\n",
       "    <tr>\n",
       "      <th>7</th>\n",
       "      <td>invoice_items</td>\n",
       "      <td>table</td>\n",
       "    </tr>\n",
       "    <tr>\n",
       "      <th>8</th>\n",
       "      <td>media_types</td>\n",
       "      <td>table</td>\n",
       "    </tr>\n",
       "    <tr>\n",
       "      <th>9</th>\n",
       "      <td>playlists</td>\n",
       "      <td>table</td>\n",
       "    </tr>\n",
       "    <tr>\n",
       "      <th>10</th>\n",
       "      <td>playlist_track</td>\n",
       "      <td>table</td>\n",
       "    </tr>\n",
       "    <tr>\n",
       "      <th>11</th>\n",
       "      <td>tracks</td>\n",
       "      <td>table</td>\n",
       "    </tr>\n",
       "    <tr>\n",
       "      <th>12</th>\n",
       "      <td>sqlite_stat1</td>\n",
       "      <td>table</td>\n",
       "    </tr>\n",
       "  </tbody>\n",
       "</table>\n",
       "</div>"
      ],
      "text/plain": [
       "               name   type\n",
       "0            albums  table\n",
       "1   sqlite_sequence  table\n",
       "2           artists  table\n",
       "3         customers  table\n",
       "4         employees  table\n",
       "5            genres  table\n",
       "6          invoices  table\n",
       "7     invoice_items  table\n",
       "8       media_types  table\n",
       "9         playlists  table\n",
       "10   playlist_track  table\n",
       "11           tracks  table\n",
       "12     sqlite_stat1  table"
      ]
     },
     "execution_count": 5,
     "metadata": {},
     "output_type": "execute_result"
    }
   ],
   "source": [
    "import sqlite3\n",
    "import pandas as pd\n",
    "## creating a connection\n",
    "database = 'chinook.db'\n",
    "conn = sqlite3.connect(database)\n",
    "\n",
    "## importing tables \n",
    "tables = pd.read_sql(\"\"\"SELECT name, type\n",
    "                        FROM sqlite_master\n",
    "                        WHERE type IN (\"table\", \"view\");\"\"\", conn)\n",
    "\n",
    "tables"
   ]
  },
  {
   "cell_type": "code",
   "execution_count": 11,
   "metadata": {},
   "outputs": [
    {
     "data": {
      "text/html": [
       "<div>\n",
       "<style scoped>\n",
       "    .dataframe tbody tr th:only-of-type {\n",
       "        vertical-align: middle;\n",
       "    }\n",
       "\n",
       "    .dataframe tbody tr th {\n",
       "        vertical-align: top;\n",
       "    }\n",
       "\n",
       "    .dataframe thead th {\n",
       "        text-align: right;\n",
       "    }\n",
       "</style>\n",
       "<table border=\"1\" class=\"dataframe\">\n",
       "  <thead>\n",
       "    <tr style=\"text-align: right;\">\n",
       "      <th></th>\n",
       "      <th>cid</th>\n",
       "      <th>name</th>\n",
       "      <th>type</th>\n",
       "      <th>notnull</th>\n",
       "      <th>dflt_value</th>\n",
       "      <th>pk</th>\n",
       "    </tr>\n",
       "  </thead>\n",
       "  <tbody>\n",
       "    <tr>\n",
       "      <th>0</th>\n",
       "      <td>0</td>\n",
       "      <td>InvoiceId</td>\n",
       "      <td>INTEGER</td>\n",
       "      <td>1</td>\n",
       "      <td>None</td>\n",
       "      <td>1</td>\n",
       "    </tr>\n",
       "    <tr>\n",
       "      <th>1</th>\n",
       "      <td>1</td>\n",
       "      <td>CustomerId</td>\n",
       "      <td>INTEGER</td>\n",
       "      <td>1</td>\n",
       "      <td>None</td>\n",
       "      <td>0</td>\n",
       "    </tr>\n",
       "    <tr>\n",
       "      <th>2</th>\n",
       "      <td>2</td>\n",
       "      <td>InvoiceDate</td>\n",
       "      <td>DATETIME</td>\n",
       "      <td>1</td>\n",
       "      <td>None</td>\n",
       "      <td>0</td>\n",
       "    </tr>\n",
       "    <tr>\n",
       "      <th>3</th>\n",
       "      <td>3</td>\n",
       "      <td>BillingAddress</td>\n",
       "      <td>NVARCHAR(70)</td>\n",
       "      <td>0</td>\n",
       "      <td>None</td>\n",
       "      <td>0</td>\n",
       "    </tr>\n",
       "    <tr>\n",
       "      <th>4</th>\n",
       "      <td>4</td>\n",
       "      <td>BillingCity</td>\n",
       "      <td>NVARCHAR(40)</td>\n",
       "      <td>0</td>\n",
       "      <td>None</td>\n",
       "      <td>0</td>\n",
       "    </tr>\n",
       "    <tr>\n",
       "      <th>5</th>\n",
       "      <td>5</td>\n",
       "      <td>BillingState</td>\n",
       "      <td>NVARCHAR(40)</td>\n",
       "      <td>0</td>\n",
       "      <td>None</td>\n",
       "      <td>0</td>\n",
       "    </tr>\n",
       "    <tr>\n",
       "      <th>6</th>\n",
       "      <td>6</td>\n",
       "      <td>BillingCountry</td>\n",
       "      <td>NVARCHAR(40)</td>\n",
       "      <td>0</td>\n",
       "      <td>None</td>\n",
       "      <td>0</td>\n",
       "    </tr>\n",
       "    <tr>\n",
       "      <th>7</th>\n",
       "      <td>7</td>\n",
       "      <td>BillingPostalCode</td>\n",
       "      <td>NVARCHAR(10)</td>\n",
       "      <td>0</td>\n",
       "      <td>None</td>\n",
       "      <td>0</td>\n",
       "    </tr>\n",
       "    <tr>\n",
       "      <th>8</th>\n",
       "      <td>8</td>\n",
       "      <td>Total</td>\n",
       "      <td>NUMERIC(10,2)</td>\n",
       "      <td>1</td>\n",
       "      <td>None</td>\n",
       "      <td>0</td>\n",
       "    </tr>\n",
       "  </tbody>\n",
       "</table>\n",
       "</div>"
      ],
      "text/plain": [
       "   cid               name           type  notnull dflt_value  pk\n",
       "0    0          InvoiceId        INTEGER        1       None   1\n",
       "1    1         CustomerId        INTEGER        1       None   0\n",
       "2    2        InvoiceDate       DATETIME        1       None   0\n",
       "3    3     BillingAddress   NVARCHAR(70)        0       None   0\n",
       "4    4        BillingCity   NVARCHAR(40)        0       None   0\n",
       "5    5       BillingState   NVARCHAR(40)        0       None   0\n",
       "6    6     BillingCountry   NVARCHAR(40)        0       None   0\n",
       "7    7  BillingPostalCode   NVARCHAR(10)        0       None   0\n",
       "8    8              Total  NUMERIC(10,2)        1       None   0"
      ]
     },
     "execution_count": 11,
     "metadata": {},
     "output_type": "execute_result"
    }
   ],
   "source": [
    "album_primary_keys= pd.read_sql(\"\"\"PRAGMA table_info(invoices);\"\"\",conn)\n",
    "album_primary_keys"
   ]
  },
  {
   "cell_type": "code",
   "execution_count": 12,
   "metadata": {},
   "outputs": [
    {
     "data": {
      "text/html": [
       "<div>\n",
       "<style scoped>\n",
       "    .dataframe tbody tr th:only-of-type {\n",
       "        vertical-align: middle;\n",
       "    }\n",
       "\n",
       "    .dataframe tbody tr th {\n",
       "        vertical-align: top;\n",
       "    }\n",
       "\n",
       "    .dataframe thead th {\n",
       "        text-align: right;\n",
       "    }\n",
       "</style>\n",
       "<table border=\"1\" class=\"dataframe\">\n",
       "  <thead>\n",
       "    <tr style=\"text-align: right;\">\n",
       "      <th></th>\n",
       "      <th>Country</th>\n",
       "      <th>Sales</th>\n",
       "    </tr>\n",
       "  </thead>\n",
       "  <tbody>\n",
       "    <tr>\n",
       "      <th>0</th>\n",
       "      <td>USA</td>\n",
       "      <td>523.06</td>\n",
       "    </tr>\n",
       "    <tr>\n",
       "      <th>1</th>\n",
       "      <td>Canada</td>\n",
       "      <td>303.96</td>\n",
       "    </tr>\n",
       "    <tr>\n",
       "      <th>2</th>\n",
       "      <td>France</td>\n",
       "      <td>195.10</td>\n",
       "    </tr>\n",
       "    <tr>\n",
       "      <th>3</th>\n",
       "      <td>Brazil</td>\n",
       "      <td>190.10</td>\n",
       "    </tr>\n",
       "    <tr>\n",
       "      <th>4</th>\n",
       "      <td>Germany</td>\n",
       "      <td>156.48</td>\n",
       "    </tr>\n",
       "  </tbody>\n",
       "</table>\n",
       "</div>"
      ],
      "text/plain": [
       "   Country   Sales\n",
       "0      USA  523.06\n",
       "1   Canada  303.96\n",
       "2   France  195.10\n",
       "3   Brazil  190.10\n",
       "4  Germany  156.48"
      ]
     },
     "execution_count": 12,
     "metadata": {},
     "output_type": "execute_result"
    }
   ],
   "source": [
    "pd.read_sql(\"\"\"\n",
    "SELECT c.country AS Country, SUM(i.total) AS Sales\n",
    "FROM customers c\n",
    "JOIN invoices i ON c.CustomerId = i.CustomerId\n",
    "GROUP BY Country\n",
    "ORDER BY Sales DESC\n",
    "LIMIT 5;\n",
    "\n",
    "\"\"\", conn)"
   ]
  },
  {
   "cell_type": "markdown",
   "metadata": {},
   "source": [
    "##### LLM Implementation"
   ]
  },
  {
   "cell_type": "markdown",
   "metadata": {},
   "source": [
    "LangChain Agents and SQL Agent\n",
    "- create_sql_agent: An agent designed to interact with relational databases\n",
    "- SQLDatabaseToolkit: A toolkit to provide the agent with the required non-parametric knowledge"
   ]
  },
  {
   "cell_type": "code",
   "execution_count": 15,
   "metadata": {},
   "outputs": [
    {
     "name": "stderr",
     "output_type": "stream",
     "text": [
      "/Users/nisargmehta/Documents/LLM/langchain/myenv/lib/python3.9/site-packages/langchain_core/_api/deprecation.py:119: LangChainDeprecationWarning: The class `OpenAI` was deprecated in LangChain 0.0.10 and will be removed in 0.3.0. An updated version of the class exists in the langchain-openai package and should be used instead. To use it run `pip install -U langchain-openai` and import as `from langchain_openai import OpenAI`.\n",
      "  warn_deprecated(\n",
      "/Users/nisargmehta/Documents/LLM/langchain/myenv/lib/python3.9/site-packages/langchain_core/_api/deprecation.py:119: LangChainDeprecationWarning: The class `ChatOpenAI` was deprecated in LangChain 0.0.10 and will be removed in 0.3.0. An updated version of the class exists in the langchain-openai package and should be used instead. To use it run `pip install -U langchain-openai` and import as `from langchain_openai import ChatOpenAI`.\n",
      "  warn_deprecated(\n"
     ]
    }
   ],
   "source": [
    "import os\n",
    "from dotenv import load_dotenv\n",
    "from langchain.llms import OpenAI\n",
    "from langchain.chat_models import ChatOpenAI\n",
    "\n",
    "load_dotenv()\n",
    "os.environ[\"OPEN_API_KEY\"]=\"\"\n",
    "openai_api_key = os.environ['OPEN_API_KEY']\n",
    "\n",
    "llm = OpenAI(openai_api_key=os.environ[\"OPEN_API_KEY\"])\n",
    "model = ChatOpenAI(openai_api_key=os.environ[\"OPEN_API_KEY\"])"
   ]
  },
  {
   "cell_type": "markdown",
   "metadata": {},
   "source": [
    "- We will first initialize all the components and establish the connection to the Chinook database, using the SQLDatabase LangChain component (which uses SQLAlchemy under the hood and is used to connect to our database)"
   ]
  },
  {
   "cell_type": "code",
   "execution_count": 16,
   "metadata": {},
   "outputs": [
    {
     "name": "stderr",
     "output_type": "stream",
     "text": [
      "/Users/nisargmehta/Documents/LLM/langchain/myenv/lib/python3.9/site-packages/langchain_core/_api/deprecation.py:119: LangChainDeprecationWarning: The method `Chain.run` was deprecated in langchain 0.1.0 and will be removed in 0.3.0. Use invoke instead.\n",
      "  warn_deprecated(\n"
     ]
    },
    {
     "name": "stdout",
     "output_type": "stream",
     "text": [
      "\n",
      "\n",
      "\u001b[1m> Entering new SQL Agent Executor chain...\u001b[0m\n",
      "\u001b[32;1m\u001b[1;3m We need to find the table name and its corresponding columns\n",
      "Action: sql_db_schema\n",
      "Action Input: playlisttrack\u001b[0m\u001b[33;1m\u001b[1;3mError: table_names {'playlisttrack'} not found in database\u001b[0m\u001b[32;1m\u001b[1;3m We need to call sql_db_list_tables first to find the correct table name\n",
      "Action: sql_db_list_tables\n",
      "Action Input: ''\u001b[0m\u001b[38;5;200m\u001b[1;3malbums, artists, customers, employees, genres, invoice_items, invoices, media_types, playlist_track, playlists, sqlite_sequence, sqlite_stat1, tracks\u001b[0m\u001b[32;1m\u001b[1;3m The correct table name is playlist_track, not playlisttrack\n",
      "Action: sql_db_schema\n",
      "Action Input: playlist_track\u001b[0m\u001b[33;1m\u001b[1;3m\n",
      "CREATE TABLE playlist_track (\n",
      "\t\"PlaylistId\" INTEGER NOT NULL, \n",
      "\t\"TrackId\" INTEGER NOT NULL, \n",
      "\tPRIMARY KEY (\"PlaylistId\", \"TrackId\"), \n",
      "\tFOREIGN KEY(\"PlaylistId\") REFERENCES playlists (\"PlaylistId\"), \n",
      "\tFOREIGN KEY(\"TrackId\") REFERENCES tracks (\"TrackId\")\n",
      ")\n",
      "\n",
      "/*\n",
      "3 rows from playlist_track table:\n",
      "PlaylistId\tTrackId\n",
      "1\t3402\n",
      "1\t3389\n",
      "1\t3390\n",
      "*/\u001b[0m\u001b[32;1m\u001b[1;3m We now have the correct table name and columns\n",
      "Final Answer: The playlist_track table has two columns, PlaylistId and TrackId, with a primary key on both columns. It also has foreign key constraints on both columns referencing the playlists and tracks tables, respectively. The table contains 3 rows of data, with each row representing a track associated with a particular playlist.\u001b[0m\n",
      "\n",
      "\u001b[1m> Finished chain.\u001b[0m\n"
     ]
    },
    {
     "data": {
      "text/plain": [
       "'The playlist_track table has two columns, PlaylistId and TrackId, with a primary key on both columns. It also has foreign key constraints on both columns referencing the playlists and tracks tables, respectively. The table contains 3 rows of data, with each row representing a track associated with a particular playlist.'"
      ]
     },
     "execution_count": 16,
     "metadata": {},
     "output_type": "execute_result"
    }
   ],
   "source": [
    "from langchain.agents import create_sql_agent\n",
    "from langchain.agents.agent_toolkits import SQLDatabaseToolkit\n",
    "from langchain.sql_database import SQLDatabase\n",
    "from langchain.llms.openai import OpenAI\n",
    "from langchain.agents import AgentExecutor\n",
    "from langchain.agents.agent_types import AgentType\n",
    "from langchain.chat_models import ChatOpenAI\n",
    "\n",
    "db = SQLDatabase.from_uri('sqlite:///chinook.db')\n",
    "\n",
    "toolkit = SQLDatabaseToolkit(db=db, llm=llm)\n",
    "agent_executor = create_sql_agent(\n",
    "    llm=llm,\n",
    "    toolkit=toolkit,\n",
    "    verbose=True,\n",
    "    agent_type=AgentType.ZERO_SHOT_REACT_DESCRIPTION,\n",
    ")\n",
    "\n",
    "agent_executor.run(\"Describe the playlisttrack table\")"
   ]
  },
  {
   "cell_type": "code",
   "execution_count": 17,
   "metadata": {},
   "outputs": [
    {
     "data": {
      "text/plain": [
       "['sql_db_query', 'sql_db_schema', 'sql_db_list_tables', 'sql_db_query_checker']"
      ]
     },
     "execution_count": 17,
     "metadata": {},
     "output_type": "execute_result"
    }
   ],
   "source": [
    "[tool.name for tool in toolkit.get_tools()]"
   ]
  },
  {
   "cell_type": "markdown",
   "metadata": {},
   "source": [
    "- sql_db_query: This takes as input a detailed and correct SQL query, and it outputs a result from the database. If the query is not correct, an error message will be returned.\n",
    "- sql_db_schema: This takes as input a comma-separated list of tables, and it outputs the schema and sample rows for those tables.\n",
    "- sql_db_list_tables: This takes as input an empty string, and it outputs a comma-separated list of tables in the database.\n",
    "- sql_db_query_checker: This tool double-checks whether the query is correct before executing it."
   ]
  },
  {
   "cell_type": "markdown",
   "metadata": {},
   "source": [
    "DML (Data manipulation language)\n",
    "- DML is a class of SQL statements that are used to query, edit, add, and delete row-level data from database tables or views. The main DML statements are as follows:\n",
    "    - SELECT: This is used to retrieve data from one or more tables or views based on specified criteria.\n",
    "    - INSERT: This is used to insert new data records or rows into a table.\n",
    "    - UPDATE: This is used to modify the values of existing data records or rows in a table.\n",
    "    - DELETE: This is used to remove one or more data records or rows from a table.\n",
    "    - MERGE: This is used to combine the data from two tables into one based on a common column.\n",
    "- DML statements are used to store, modify, retrieve, delete, and update data in a database.\n",
    "\n",
    "We can also see how the agent is able to correlate more than one table within the database"
   ]
  },
  {
   "cell_type": "code",
   "execution_count": 20,
   "metadata": {},
   "outputs": [
    {
     "name": "stdout",
     "output_type": "stream",
     "text": [
      "\n",
      "\n",
      "\u001b[1m> Entering new SQL Agent Executor chain...\u001b[0m\n",
      "\u001b[32;1m\u001b[1;3m We need to get the total number of tracks and average length for each genre, then combine them into a single table.\n",
      "Action: sql_db_list_tables\n",
      "Action Input: \"\"\u001b[0m\u001b[38;5;200m\u001b[1;3malbums, artists, customers, employees, genres, invoice_items, invoices, media_types, playlist_track, playlists, sqlite_sequence, sqlite_stat1, tracks\u001b[0m\u001b[32;1m\u001b[1;3mThere is no \"tracks\" table, so we need to check the schema for the correct table name.\n",
      "Action: sql_db_schema\n",
      "Action Input: tracks\u001b[0m\u001b[33;1m\u001b[1;3m\n",
      "CREATE TABLE tracks (\n",
      "\t\"TrackId\" INTEGER NOT NULL, \n",
      "\t\"Name\" NVARCHAR(200) NOT NULL, \n",
      "\t\"AlbumId\" INTEGER, \n",
      "\t\"MediaTypeId\" INTEGER NOT NULL, \n",
      "\t\"GenreId\" INTEGER, \n",
      "\t\"Composer\" NVARCHAR(220), \n",
      "\t\"Milliseconds\" INTEGER NOT NULL, \n",
      "\t\"Bytes\" INTEGER, \n",
      "\t\"UnitPrice\" NUMERIC(10, 2) NOT NULL, \n",
      "\tPRIMARY KEY (\"TrackId\"), \n",
      "\tFOREIGN KEY(\"AlbumId\") REFERENCES albums (\"AlbumId\"), \n",
      "\tFOREIGN KEY(\"GenreId\") REFERENCES genres (\"GenreId\"), \n",
      "\tFOREIGN KEY(\"MediaTypeId\") REFERENCES media_types (\"MediaTypeId\")\n",
      ")\n",
      "\n",
      "/*\n",
      "3 rows from tracks table:\n",
      "TrackId\tName\tAlbumId\tMediaTypeId\tGenreId\tComposer\tMilliseconds\tBytes\tUnitPrice\n",
      "1\tFor Those About To Rock (We Salute You)\t1\t1\t1\tAngus Young, Malcolm Young, Brian Johnson\t343719\t11170334\t0.99\n",
      "2\tBalls to the Wall\t2\t2\t1\tNone\t342562\t5510424\t0.99\n",
      "3\tFast As a Shark\t3\t2\t1\tF. Baltes, S. Kaufman, U. Dirkscneider & W. Hoffman\t230619\t3990994\t0.99\n",
      "*/\u001b[0m"
     ]
    },
    {
     "name": "stderr",
     "output_type": "stream",
     "text": [
      "/Users/nisargmehta/Documents/LLM/langchain/myenv/lib/python3.9/site-packages/langchain_community/utilities/sql_database.py:375: SAWarning: Dialect sqlite+pysqlite does *not* support Decimal objects natively, and SQLAlchemy must convert from floating point - rounding errors and other issues may occur. Please consider storing Decimal numbers as strings or integers on this platform for lossless storage.\n",
      "  sample_rows_result = connection.execute(command)  # type: ignore\n"
     ]
    },
    {
     "name": "stdout",
     "output_type": "stream",
     "text": [
      "\u001b[32;1m\u001b[1;3mLooks like \"tracks\" is the correct table name, let's use sql_db_query to get the total number of tracks and average length for each genre.\n",
      "Action: sql_db_query\n",
      "Action Input: SELECT genres.Name AS Genre, COUNT(tracks.TrackId) AS TotalTracks, AVG(tracks.Milliseconds) AS AvgLength FROM genres JOIN tracks ON genres.GenreId = tracks.GenreId GROUP BY genres.Name\u001b[0m\u001b[36;1m\u001b[1;3m[('Alternative', 40, 264058.525), ('Alternative & Punk', 332, 234353.84939759035), ('Blues', 81, 270359.77777777775), ('Bossa Nova', 15, 219590.0), ('Classical', 74, 293867.5675675676), ('Comedy', 17, 1585263.705882353), ('Drama', 64, 2575283.78125), ('Easy Listening', 24, 189164.20833333334), ('Electronica/Dance', 30, 302985.8), ('Heavy Metal', 28, 297452.9285714286), ('Hip Hop/Rap', 35, 178176.2857142857), ('Jazz', 130, 291755.3769230769), ('Latin', 579, 232859.26252158894), ('Metal', 374, 309749.4438502674), ('Opera', 1, 174813.0), ('Pop', 48, 229034.10416666666), ('R&B/Soul', 61, 220066.8524590164), ('Reggae', 58, 247177.75862068965), ('Rock', 1297, 283910.0431765613), ('Rock And Roll', 12, 134643.5), ('Sci Fi & Fantasy', 26, 2911783.0384615385), ('Science Fiction', 13, 2625549.076923077), ('Soundtrack', 43, 244370.88372093023), ('TV Shows', 93, 2145041.0215053763), ('World', 28, 224923.82142857142)]\u001b[0m\u001b[32;1m\u001b[1;3m Looks like the query worked and we have the total number of tracks and average length for each genre. Now, we just need to add them together to get the overall total and average.\n",
      "Action: sql_db_query\n",
      "Action Input: SELECT SUM(TotalTracks) AS OverallTotal, AVG(AvgLength) AS OverallAvg FROM (SELECT genres.Name AS Genre, COUNT(tracks.TrackId) AS TotalTracks, AVG(tracks.Milliseconds) AS AvgLength FROM genres JOIN tracks ON genres.GenreId = tracks.GenreId GROUP BY genres.Name)\u001b[0m\u001b[36;1m\u001b[1;3m[(3503, 667449.3445300679)]\u001b[0m\u001b[32;1m\u001b[1;3m This gives us the total number of tracks and average length for all genres combined. We can also add a WHERE clause to filter for specific genres if needed.\n",
      "Final Answer: The total number of tracks for all genres is 3503 and the average length for all tracks is 667449 milliseconds.\u001b[0m\n",
      "\n",
      "\u001b[1m> Finished chain.\u001b[0m\n"
     ]
    },
    {
     "data": {
      "text/plain": [
       "'The total number of tracks for all genres is 3503 and the average length for all tracks is 667449 milliseconds.'"
      ]
     },
     "execution_count": 20,
     "metadata": {},
     "output_type": "execute_result"
    }
   ],
   "source": [
    "agent_executor.run('what is the total number of tracks and the average length of tracks by genre?')"
   ]
  },
  {
   "cell_type": "markdown",
   "metadata": {},
   "source": [
    "Prompt engineering\n",
    "- we have to understand which kind of prompt chunks the SQL Agent is able to take as parameters. To do so, we can simply inspect the objects running `create_sql_agent`"
   ]
  },
  {
   "cell_type": "code",
   "execution_count": 25,
   "metadata": {},
   "outputs": [
    {
     "data": {
      "text/plain": [
       "<function langchain_community.agent_toolkits.sql.base.create_sql_agent(llm: 'BaseLanguageModel', toolkit: 'Optional[SQLDatabaseToolkit]' = None, agent_type: \"Optional[Union[AgentType, Literal['openai-tools', 'tool-calling']]]\" = None, callback_manager: 'Optional[BaseCallbackManager]' = None, prefix: 'Optional[str]' = None, suffix: 'Optional[str]' = None, format_instructions: 'Optional[str]' = None, input_variables: 'Optional[List[str]]' = None, top_k: 'int' = 10, max_iterations: 'Optional[int]' = 15, max_execution_time: 'Optional[float]' = None, early_stopping_method: 'str' = 'force', verbose: 'bool' = False, agent_executor_kwargs: 'Optional[Dict[str, Any]]' = None, extra_tools: 'Sequence[BaseTool]' = (), *, db: 'Optional[SQLDatabase]' = None, prompt: 'Optional[BasePromptTemplate]' = None, **kwargs: 'Any') -> 'AgentExecutor'>"
      ]
     },
     "execution_count": 25,
     "metadata": {},
     "output_type": "execute_result"
    }
   ],
   "source": [
    "create_sql_agent"
   ]
  },
  {
   "cell_type": "markdown",
   "metadata": {},
   "source": [
    "- To make our agent more self-explanatory, we will create two variables, prefix and format_instructions from above output (create_sql_agent output), which will be passed as parameters and that slightly modify the default prompt as follows"
   ]
  },
  {
   "cell_type": "code",
   "execution_count": 26,
   "metadata": {},
   "outputs": [],
   "source": [
    "prompt_prefix = \"\"\" \n",
    "##Instructions:\n",
    "You are an agent designed to interact with a SQL database.\n",
    "Given an input question, create a syntactically correct {dialect} query to run, then look at the results of the query and return the answer.\n",
    "Unless the user specifies a specific number of examples they wish to obtain, always limit your query to at most {top_k} results.\n",
    "You can order the results by a relevant column to return the most interesting examples in the database.\n",
    "Never query for all the columns from a specific table, only ask for the relevant columns given the question.\n",
    "You have access to tools for interacting with the database.\n",
    "Only use the below tools. Only use the information returned by the below tools to construct your final answer.\n",
    "You MUST double check your query before executing it. If you get an error while executing a query, rewrite the query and try again.\n",
    "As part of your final answer, ALWAYS include an explanation of how to got to the final answer, including the SQL query you run. Include the explanation and the SQL query in the section that starts with \"Explanation:\".\n",
    "\n",
    "DO NOT make any DML statements (INSERT, UPDATE, DELETE, DROP etc.) to the database.\n",
    "\n",
    "If the question does not seem related to the database, just return \"I don\\'t know\" as the answer.\n",
    "\n",
    "##Tools:\n",
    "\n",
    "\"\"\"\n",
    "\n",
    "prompt_format_instructions = \"\"\" \n",
    "Use the following format:\n",
    "\n",
    "Question: the input question you must answer\n",
    "Thought: you should always think about what to do\n",
    "Action: the action to take, should be one of [{tool_names}]\\nAction Input: the input to the action\n",
    "Observation: the result of the action\n",
    "... (this Thought/Action/Action Input/Observation can repeat N times)\n",
    "Thought: I now know the final answer\n",
    "Final Answer: the final answer to the original input question.\n",
    "\n",
    "Explanation:\n",
    "\n",
    "<===Beging of an Example of Explanation:\n",
    "\n",
    "I joined the invoices and customers tables on the customer_id column, which is the common key between them. This will allowed me to access the Total and Country columns from both tables. Then I grouped the records by the country column and calculate the sum of the Total column for each country, ordered them in descending order and limited the SELECT to the top 5.\n",
    "\n",
    "```sql\n",
    "SELECT c.country AS Country, SUM(i.total) AS Sales\n",
    "FROM customer c\n",
    "JOIN invoice i ON c.customer_id = i.customer_id\n",
    "GROUP BY Country\n",
    "ORDER BY Sales DESC\n",
    "LIMIT 5;\n",
    "```\n",
    "\n",
    "===>End of an Example of Explanation\n",
    "\"\"\""
   ]
  },
  {
   "cell_type": "code",
   "execution_count": 28,
   "metadata": {},
   "outputs": [
    {
     "name": "stdout",
     "output_type": "stream",
     "text": [
      "\n",
      "\n",
      "\u001b[1m> Entering new SQL Agent Executor chain...\u001b[0m\n",
      "\u001b[32;1m\u001b[1;3m To answer this question, we need to join the albums and artists tables on the artist_id column and sum the quantity of tracks sold for each album, then sort the records in descending order and limit the result to 5.\n",
      "Action: sql_db_query\n",
      "Action Input: SELECT a.title AS Album, ar.name AS Artist, SUM(t.quantity) AS Quantity\n",
      "FROM album a\n",
      "JOIN artist ar ON a.artist_id = ar.artist_id\n",
      "JOIN track t ON a.album_id = t.album_id\n",
      "GROUP BY Album\n",
      "ORDER BY Quantity DESC\n",
      "LIMIT 5;\u001b[0m\u001b[36;1m\u001b[1;3mError: (sqlite3.OperationalError) no such table: album\n",
      "[SQL: SELECT a.title AS Album, ar.name AS Artist, SUM(t.quantity) AS Quantity\n",
      "FROM album a\n",
      "JOIN artist ar ON a.artist_id = ar.artist_id\n",
      "JOIN track t ON a.album_id = t.album_id\n",
      "GROUP BY Album\n",
      "ORDER BY Quantity DESC\n",
      "LIMIT 5;]\n",
      "(Background on this error at: https://sqlalche.me/e/14/e3q8)\u001b[0m\u001b[32;1m\u001b[1;3mThe error indicates that the album table does not exist in the database.\n",
      "Action: sql_db_list_tables\n",
      "Action Input: ''\u001b[0m\u001b[38;5;200m\u001b[1;3malbums, artists, customers, employees, genres, invoice_items, invoices, media_types, playlist_track, playlists, sqlite_sequence, sqlite_stat1, tracks\u001b[0m\u001b[32;1m\u001b[1;3m The album table does exist in the database, but maybe it has a different name or is in a different schema.\n",
      "Action: sql_db_schema\n",
      "Action Input: albums, artists\u001b[0m\u001b[33;1m\u001b[1;3m\n",
      "CREATE TABLE albums (\n",
      "\t\"AlbumId\" INTEGER NOT NULL, \n",
      "\t\"Title\" NVARCHAR(160) NOT NULL, \n",
      "\t\"ArtistId\" INTEGER NOT NULL, \n",
      "\tPRIMARY KEY (\"AlbumId\"), \n",
      "\tFOREIGN KEY(\"ArtistId\") REFERENCES artists (\"ArtistId\")\n",
      ")\n",
      "\n",
      "/*\n",
      "3 rows from albums table:\n",
      "AlbumId\tTitle\tArtistId\n",
      "1\tFor Those About To Rock We Salute You\t1\n",
      "2\tBalls to the Wall\t2\n",
      "3\tRestless and Wild\t2\n",
      "*/\n",
      "\n",
      "\n",
      "CREATE TABLE artists (\n",
      "\t\"ArtistId\" INTEGER NOT NULL, \n",
      "\t\"Name\" NVARCHAR(120), \n",
      "\tPRIMARY KEY (\"ArtistId\")\n",
      ")\n",
      "\n",
      "/*\n",
      "3 rows from artists table:\n",
      "ArtistId\tName\n",
      "1\tAC/DC\n",
      "2\tAccept\n",
      "3\tAerosmith\n",
      "*/\u001b[0m\u001b[32;1m\u001b[1;3m The album table does exist in the database and it has a different name, \"albums\" instead of \"album\". Also, we need to include the track table in the schema to access the album_id column.\n",
      "Action: sql_db_query\n",
      "Action Input: SELECT a.title AS Album, ar.name AS Artist, SUM(t.quantity) AS Quantity\n",
      "FROM albums a\n",
      "JOIN artists ar ON a.artist_id = ar.artist_id\n",
      "JOIN tracks t ON a.album_id = t.album_id\n",
      "GROUP BY Album\n",
      "ORDER BY Quantity DESC\n",
      "LIMIT 5;\u001b[0m\u001b[36;1m\u001b[1;3mError: (sqlite3.OperationalError) no such column: t.quantity\n",
      "[SQL: SELECT a.title AS Album, ar.name AS Artist, SUM(t.quantity) AS Quantity\n",
      "FROM albums a\n",
      "JOIN artists ar ON a.artist_id = ar.artist_id\n",
      "JOIN tracks t ON a.album_id = t.album_id\n",
      "GROUP BY Album\n",
      "ORDER BY Quantity DESC\n",
      "LIMIT 5;]\n",
      "(Background on this error at: https://sqlalche.me/e/14/e3q8)\u001b[0m\u001b[32;1m\u001b[1;3m The error indicates that the quantity column does not exist in the tracks table.\n",
      "Action: sql_db_schema\n",
      "Action Input: tracks\u001b[0m\u001b[33;1m\u001b[1;3m\n",
      "CREATE TABLE tracks (\n",
      "\t\"TrackId\" INTEGER NOT NULL, \n",
      "\t\"Name\" NVARCHAR(200) NOT NULL, \n",
      "\t\"AlbumId\" INTEGER, \n",
      "\t\"MediaTypeId\" INTEGER NOT NULL, \n",
      "\t\"GenreId\" INTEGER, \n",
      "\t\"Composer\" NVARCHAR(220), \n",
      "\t\"Milliseconds\" INTEGER NOT NULL, \n",
      "\t\"Bytes\" INTEGER, \n",
      "\t\"UnitPrice\" NUMERIC(10, 2) NOT NULL, \n",
      "\tPRIMARY KEY (\"TrackId\"), \n",
      "\tFOREIGN KEY(\"AlbumId\") REFERENCES albums (\"AlbumId\"), \n",
      "\tFOREIGN KEY(\"GenreId\") REFERENCES genres (\"GenreId\"), \n",
      "\tFOREIGN KEY(\"MediaTypeId\") REFERENCES media_types (\"MediaTypeId\")\n",
      ")\n",
      "\n",
      "/*\n",
      "3 rows from tracks table:\n",
      "TrackId\tName\tAlbumId\tMediaTypeId\tGenreId\tComposer\tMilliseconds\tBytes\tUnitPrice\n",
      "1\tFor Those About To Rock (We Salute You)\t1\t1\t1\tAngus Young, Malcolm Young, Brian Johnson\t343719\t11170334\t0.99\n",
      "2\tBalls to the Wall\t2\t2\t1\tNone\t342562\t5510424\t0.99\n",
      "3\tFast As a Shark\t3\t2\t1\tF. Baltes, S. Kaufman, U. Dirkscneider & W. Hoffman\t230619\t3990994\t0.99\n",
      "*/\u001b[0m\u001b[32;1m\u001b[1;3m The quantity column does not exist in the tracks table, but we can use the invoice_items table to access the quantity of tracks sold for each album.\n",
      "Action: sql_db_query\n",
      "Action Input: SELECT a.title AS Album, ar.name AS Artist, SUM(ii.quantity) AS Quantity\n",
      "FROM albums a\n",
      "JOIN artists ar ON a.artist_id = ar.artist_id\n",
      "JOIN tracks t ON a.album_id = t.album_id\n",
      "JOIN invoice_items ii ON t.track_id = ii.track_id\n",
      "GROUP BY Album\n",
      "ORDER BY Quantity DESC\n",
      "LIMIT 5;\u001b[0m\u001b[36;1m\u001b[1;3mError: (sqlite3.OperationalError) no such column: a.artist_id\n",
      "[SQL: SELECT a.title AS Album, ar.name AS Artist, SUM(ii.quantity) AS Quantity\n",
      "FROM albums a\n",
      "JOIN artists ar ON a.artist_id = ar.artist_id\n",
      "JOIN tracks t ON a.album_id = t.album_id\n",
      "JOIN invoice_items ii ON t.track_id = ii.track_id\n",
      "GROUP BY Album\n",
      "ORDER BY Quantity DESC\n",
      "LIMIT 5;]\n",
      "(Background on this error at: https://sqlalche.me/e/14/e3q8)\u001b[0m\u001b[32;1m\u001b[1;3m The error indicates that the artist_id column does not exist in the albums table.\n",
      "Action: sql_db_schema\n",
      "Action Input: albums\u001b[0m\u001b[33;1m\u001b[1;3m\n",
      "CREATE TABLE albums (\n",
      "\t\"AlbumId\" INTEGER NOT NULL, \n",
      "\t\"Title\" NVARCHAR(160) NOT NULL, \n",
      "\t\"ArtistId\" INTEGER NOT NULL, \n",
      "\tPRIMARY KEY (\"AlbumId\"), \n",
      "\tFOREIGN KEY(\"ArtistId\") REFERENCES artists (\"ArtistId\")\n",
      ")\n",
      "\n",
      "/*\n",
      "3 rows from albums table:\n",
      "AlbumId\tTitle\tArtistId\n",
      "1\tFor Those About To Rock We Salute You\t1\n",
      "2\tBalls to the Wall\t2\n",
      "3\tRestless and Wild\t2\n",
      "*/\u001b[0m\u001b[32;1m\u001b[1;3m The artist_id column does exist in the albums table, but we need to add the artist table in the schema to access the name of the artist.\n",
      "Action: sql_db_schema\n",
      "Action Input: artist\u001b[0m\u001b[33;1m\u001b[1;3mError: table_names {'artist'} not found in database\u001b[0m\u001b[32;1m\u001b[1;3m The artist table does not exist in the database.\n",
      "Action: sql_db_list_tables\n",
      "Action Input: ''\u001b[0m\u001b[38;5;200m\u001b[1;3malbums, artists, customers, employees, genres, invoice_items, invoices, media_types, playlist_track, playlists, sqlite_sequence, sqlite_stat1, tracks\u001b[0m\u001b[32;1m\u001b[1;3m The artist table does exist in the database, but maybe it has a different name or is in a different schema.\n",
      "Action: sql_db_schema\n",
      "Action Input: ''\u001b[0m\u001b[33;1m\u001b[1;3mError: table_names {\"''\"} not found in database\u001b[0m\u001b[32;1m\u001b[1;3m The error indicates that the input for the schema tool is incorrect.\n",
      "Action: sql_db_schema\n",
      "Action Input: artist, albums\u001b[0m\u001b[33;1m\u001b[1;3mError: table_names {'artist'} not found in database\u001b[0m\u001b[32;1m\u001b[1;3m The artist table does exist in the database, but maybe it has a different name or is in a different schema.\n",
      "Action: sql_db_schema\n",
      "Action Input: artists, albums\u001b[0m\u001b[33;1m\u001b[1;3m\n",
      "CREATE TABLE albums (\n",
      "\t\"AlbumId\" INTEGER NOT NULL, \n",
      "\t\"Title\" NVARCHAR(160) NOT NULL, \n",
      "\t\"ArtistId\" INTEGER NOT NULL, \n",
      "\tPRIMARY KEY (\"AlbumId\"), \n",
      "\tFOREIGN KEY(\"ArtistId\") REFERENCES artists (\"ArtistId\")\n",
      ")\n",
      "\n",
      "/*\n",
      "3 rows from albums table:\n",
      "AlbumId\tTitle\tArtistId\n",
      "1\tFor Those About To Rock We Salute You\t1\n",
      "2\tBalls to the Wall\t2\n",
      "3\tRestless and Wild\t2\n",
      "*/\n",
      "\n",
      "\n",
      "CREATE TABLE artists (\n",
      "\t\"ArtistId\" INTEGER NOT NULL, \n",
      "\t\"Name\" NVARCHAR(120), \n",
      "\tPRIMARY KEY (\"ArtistId\")\n",
      ")\n",
      "\n",
      "/*\n",
      "3 rows from artists table:\n",
      "ArtistId\tName\n",
      "1\tAC/DC\n",
      "2\tAccept\n",
      "3\tAerosmith\n",
      "*/\u001b[0m\u001b[32;1m\u001b[1;3m The artist table does exist in the database, but it has a different name, \"artists\" instead of \"artist\".\n",
      "Action: sql_db_query\n",
      "Action Input: SELECT a.title AS Album, ar.name AS Artist, SUM(ii.quantity) AS Quantity\n",
      "FROM albums a\n",
      "JOIN artists ar ON a.artist_id = ar.artist_id\n",
      "JOIN tracks t ON a.album_id = t.album_id\n",
      "JOIN invoice_items ii ON t.track_id = ii.track_id\n",
      "GROUP BY Album\n",
      "ORDER BY Quantity DESC\n",
      "LIMIT 5;\u001b[0m\u001b[36;1m\u001b[1;3mError: (sqlite3.OperationalError) no such column: a.artist_id\n",
      "[SQL: SELECT a.title AS Album, ar.name AS Artist, SUM(ii.quantity) AS Quantity\n",
      "FROM albums a\n",
      "JOIN artists ar ON a.artist_id = ar.artist_id\n",
      "JOIN tracks t ON a.album_id = t.album_id\n",
      "JOIN invoice_items ii ON t.track_id = ii.track_id\n",
      "GROUP BY Album\n",
      "ORDER BY Quantity DESC\n",
      "LIMIT 5;]\n",
      "(Background on this error at: https://sqlalche.me/e/14/e3q8)\u001b[0m\u001b[32;1m\u001b[1;3m The error indicates that the artist_id column does not exist in the albums table.\n",
      "Action: sql_db_schema\n",
      "Action Input: artists\u001b[0m\u001b[33;1m\u001b[1;3m\n",
      "CREATE TABLE artists (\n",
      "\t\"ArtistId\" INTEGER NOT NULL, \n",
      "\t\"Name\" NVARCHAR(120), \n",
      "\tPRIMARY KEY (\"ArtistId\")\n",
      ")\n",
      "\n",
      "/*\n",
      "3 rows from artists table:\n",
      "ArtistId\tName\n",
      "1\tAC/DC\n",
      "2\tAccept\n",
      "3\tAerosmith\n",
      "*/\u001b[0m\u001b[32;1m\u001b[1;3m The artist_id column does not exist in the artists table, we need to use the artist_id column in the tracks table to access the name of the artist.\n",
      "Action: sql_db_query\n",
      "Action Input: SELECT a.title AS Album, ar.name AS Artist, SUM(ii.quantity) AS Quantity\n",
      "FROM albums a\n",
      "JOIN tracks t ON a.album_id = t.album_id\n",
      "JOIN invoice_items ii ON t.track_id = ii.track_id\n",
      "GROUP BY Album\n",
      "ORDER BY Quantity DESC\n",
      "LIMIT 5;\u001b[0m\u001b[36;1m\u001b[1;3mError: (sqlite3.OperationalError) no such column: ar.name\n",
      "[SQL: SELECT a.title AS Album, ar.name AS Artist, SUM(ii.quantity) AS Quantity\n",
      "FROM albums a\n",
      "JOIN tracks t ON a.album_id = t.album_id\n",
      "JOIN invoice_items ii ON t.track_id = ii.track_id\n",
      "GROUP BY Album\n",
      "ORDER BY Quantity DESC\n",
      "LIMIT 5;]\n",
      "(Background on this error at: https://sqlalche.me/e/14/e3q8)\u001b[0m\u001b[32;1m\u001b[1;3m\u001b[0m\n",
      "\n",
      "\u001b[1m> Finished chain.\u001b[0m\n"
     ]
    }
   ],
   "source": [
    "agent_executor = create_sql_agent(\n",
    "    prefix=prompt_prefix,\n",
    "    format_instructions = prompt_format_instructions,\n",
    "    llm=llm,\n",
    "    toolkit=toolkit,\n",
    "    verbose=True,\n",
    "    top_k=10\n",
    ")\n",
    "\n",
    "result = agent_executor.run(\"What are the top 5 best-selling albums and their artists?\")"
   ]
  },
  {
   "cell_type": "markdown",
   "metadata": {},
   "source": [
    "Adding further tools\n",
    "- There are two further capabilities we can add: \n",
    "- PythonREPLTool: This tool allows you to interact with the Python programming language using natural language. You can use this tool to write, run, and debug Python code without having to use a script file or an IDE. You can also use this tool to access and manipulate various Python modules, libraries, and data structures. We will need this tool to produce the matplotlib graphs from the SQL query’s results.\n",
    "    - REPL is an acronym for read-eval-print loop, which is a term that describes an interactive shell or environment that allows you to execute code and see the results immediately. REPL is a common feature of many programming languages, such as Python, Ruby. In the context of LangChain, REPL is a feature that allows you to interact with LangChain agents and tools using natural language. You can use REPL in LangChain to test, debug, or experiment with different agents and tools without having to write and run a script file. \n",
    "- FileManagementToolkit: This is a set of tools, or toolkit, that allows you to interact with the file system of your computer or device using natural language. You can use this toolkit to perform various operations on files and directories, such as creating, deleting, renaming, copying, moving, searching, reading, and writing.  "
   ]
  },
  {
   "cell_type": "code",
   "execution_count": 35,
   "metadata": {},
   "outputs": [
    {
     "name": "stdout",
     "output_type": "stream",
     "text": [
      "\n",
      "\n",
      "\u001b[1m> Entering new AgentExecutor chain...\u001b[0m\n"
     ]
    },
    {
     "name": "stderr",
     "output_type": "stream",
     "text": [
      "Python REPL can execute arbitrary code. Use with caution.\n"
     ]
    },
    {
     "name": "stdout",
     "output_type": "stream",
     "text": [
      "\u001b[32;1m\u001b[1;3m To create a dataframe, I need to first import the pandas library and then use the DataFrame() function. To plot a pie chart, I need to import the matplotlib library and then use the pie() function.\n",
      "Action: Python_REPL\n",
      "Action Input: import pandas\u001b[0m\n",
      "Observation: \u001b[36;1m\u001b[1;3m\u001b[0m\n",
      "Thought:\u001b[32;1m\u001b[1;3m Now I can use the DataFrame() function to create a dataframe.\n",
      "Action: Python_REPL\n",
      "Action Input: df = pandas.DataFrame({'Names': ['Bob', 'Alice', 'Frank'], 'Salary': [50000, 60000, 70000]})\u001b[0m\n",
      "Observation: \u001b[36;1m\u001b[1;3m\u001b[0m\n",
      "Thought:\u001b[32;1m\u001b[1;3m Now I need to import the matplotlib library to plot a pie chart.\n",
      "Action: Python_REPL\n",
      "Action Input: import matplotlib.pyplot as plt\u001b[0m\n",
      "Observation: \u001b[36;1m\u001b[1;3m\u001b[0m\n",
      "Thought:\u001b[32;1m\u001b[1;3m Now I can use the pie() function to plot a pie chart.\n",
      "Action: Python_REPL\n",
      "Action Input: plt.pie(df['Salary'], labels=df['Names'], autopct='%1.1f%%')\u001b[0m\n",
      "Observation: \u001b[36;1m\u001b[1;3m\u001b[0m\n",
      "Thought:\u001b[32;1m\u001b[1;3m I now know the final answer\n",
      "Final Answer: A pie chart showing the distribution of salaries among Bob, Alice, and Frank.\u001b[0m\n",
      "\n",
      "\u001b[1m> Finished chain.\u001b[0m\n"
     ]
    },
    {
     "data": {
      "image/png": "[encoded data removed]",
      "text/plain": [
       "<Figure size 640x480 with 1 Axes>"
      ]
     },
     "metadata": {},
     "output_type": "display_data"
    }
   ],
   "source": [
    "from langchain_experimental.agents.agent_toolkits import create_python_agent\n",
    "from langchain_experimental.tools.python.tool import PythonREPLTool\n",
    "\n",
    "from langchain.python import PythonREPL\n",
    "from langchain.llms.openai import OpenAI\n",
    "from langchain.agents.agent_types import AgentType\n",
    "from langchain.chat_models import ChatOpenAI\n",
    "\n",
    "agent = create_python_agent(\n",
    "    llm=llm,\n",
    "    tool=PythonREPLTool(),\n",
    "    verbose=True,\n",
    "    agent_type=AgentType.ZERO_SHOT_REACT_DESCRIPTION,\n",
    ")\n",
    "\n",
    "result = agent.run('create a sample dataframe about the salary of bob, alice, and frank. Then return a matplotlib piechart of their three salaries. Return only the plot as output.')"
   ]
  },
  {
   "cell_type": "markdown",
   "metadata": {},
   "source": [
    "- We will define the list of tools for our agent"
   ]
  },
  {
   "cell_type": "code",
   "execution_count": 38,
   "metadata": {},
   "outputs": [],
   "source": [
    "from langchain.tools.file_management import (\n",
    "    ReadFileTool,\n",
    "    CopyFileTool,\n",
    "    DeleteFileTool,\n",
    "    MoveFileTool,\n",
    "    WriteFileTool,\n",
    "    ListDirectoryTool,\n",
    ")\n",
    "from langchain.agents.agent_toolkits import FileManagementToolkit\n",
    "\n",
    "working_directory  = os.getcwd()\n",
    "\n",
    "tools = FileManagementToolkit(\n",
    "    root_dir=str(working_directory),\n",
    "    selected_tools=[\"read_file\", \"write_file\", \"list_directory\"],).get_tools()\n",
    "tools.append(PythonREPLTool())\n",
    "\n",
    "tools.extend(SQLDatabaseToolkit(db=db, llm=llm).get_tools())"
   ]
  },
  {
   "cell_type": "markdown",
   "metadata": {},
   "source": [
    "- In order to leverage that heterogeneous set of tools – SQL Database, Python REPL, and File System (https://python.langchain.com/v0.1/docs/integrations/tools/filesystem/) – we cannot work anymore with the SQL Database-specific agent, since its default configurations are meant to only accept SQL-related contents. Henceforth, we need to set up an agnostic agent that is able to use all of the tools that we provide it with. For this purpose, we are going to use the STRUCTURED_CHAT_ZERO_SHOT_REACT_DESCRIPTION agent type, which is able to use a multi-tool input."
   ]
  },
  {
   "cell_type": "code",
   "execution_count": 41,
   "metadata": {},
   "outputs": [
    {
     "name": "stdout",
     "output_type": "stream",
     "text": [
      "\n",
      "\n",
      "\u001b[1m> Entering new AgentExecutor chain...\u001b[0m\n",
      "\u001b[32;1m\u001b[1;3mThought: First, we need to use the sql_db_query tool to query the chinook.db database for the top 5 countries for sales. We can do this by writing an SQL query that sorts the invoices table by total sales in descending order, limits the results to 5, and groups them by country. Then, we can use the sql_db_query tool to execute this query and retrieve the results. We can then use the sql_db_schema tool to check the table fields and make sure our query is correct before executing it.\n",
      "\n",
      "Action:\n",
      "```\n",
      "{\n",
      "  \"action\": \"sql_db_query\",\n",
      "  \"action_input\": \"SELECT invoices.BillingCountry, SUM(invoice_items.UnitPrice * invoice_items.Quantity) AS total_sales FROM invoices INNER JOIN invoice_items ON invoices.InvoiceId = invoice_items.InvoiceId GROUP BY invoices.BillingCountry ORDER BY total_sales DESC LIMIT 5\"\n",
      "}\n",
      "```\n",
      "\u001b[0m\n",
      "Observation: \u001b[33;1m\u001b[1;3m[('USA', 523.060000000003), ('Canada', 303.96000000000134), ('France', 195.1000000000003), ('Brazil', 190.10000000000028), ('Germany', 156.48)]\u001b[0m\n",
      "Thought:\u001b[32;1m\u001b[1;3m Now that we have the results, we can use the sql_db_schema tool to check the table fields and make sure our query is correct before executing it.\n",
      "Action:\n",
      "```\n",
      "{\n",
      "  \"action\": \"sql_db_schema\",\n",
      "  \"action_input\": \"invoices\"\n",
      "}\n",
      "```\n",
      "\n",
      "\u001b[0m\n",
      "Observation: \u001b[38;5;200m\u001b[1;3m\n",
      "CREATE TABLE invoices (\n",
      "\t\"InvoiceId\" INTEGER NOT NULL, \n",
      "\t\"CustomerId\" INTEGER NOT NULL, \n",
      "\t\"InvoiceDate\" DATETIME NOT NULL, \n",
      "\t\"BillingAddress\" NVARCHAR(70), \n",
      "\t\"BillingCity\" NVARCHAR(40), \n",
      "\t\"BillingState\" NVARCHAR(40), \n",
      "\t\"BillingCountry\" NVARCHAR(40), \n",
      "\t\"BillingPostalCode\" NVARCHAR(10), \n",
      "\t\"Total\" NUMERIC(10, 2) NOT NULL, \n",
      "\tPRIMARY KEY (\"InvoiceId\"), \n",
      "\tFOREIGN KEY(\"CustomerId\") REFERENCES customers (\"CustomerId\")\n",
      ")\n",
      "\n",
      "/*\n",
      "3 rows from invoices table:\n",
      "InvoiceId\tCustomerId\tInvoiceDate\tBillingAddress\tBillingCity\tBillingState\tBillingCountry\tBillingPostalCode\tTotal\n",
      "1\t2\t2009-01-01 00:00:00\tTheodor-Heuss-Straße 34\tStuttgart\tNone\tGermany\t70174\t1.98\n",
      "2\t4\t2009-01-02 00:00:00\tUllevålsveien 14\tOslo\tNone\tNorway\t0171\t3.96\n",
      "3\t8\t2009-01-03 00:00:00\tGrétrystraat 63\tBrussels\tNone\tBelgium\t1000\t5.94\n",
      "*/\u001b[0m\n",
      "Thought:\u001b[32;1m\u001b[1;3m Now that we have confirmed our query is correct, we can use the sql_db_query tool to retrieve the results from the database and store them as a pandas dataframe.\n",
      "Action:\n",
      "```\n",
      "{\n",
      "  \"action\": \"sql_db_query\",\n",
      "  \"action_input\": \"SELECT invoices.BillingCountry, SUM(invoice_items.UnitPrice * invoice_items.Quantity) AS total_sales FROM invoices INNER JOIN invoice_items ON invoices.InvoiceId = invoice_items.InvoiceId GROUP BY invoices.BillingCountry ORDER BY total_sales DESC LIMIT 5\"\n",
      "}\n",
      "```\n",
      "\n",
      "\u001b[0m\n",
      "Observation: \u001b[33;1m\u001b[1;3m[('USA', 523.060000000003), ('Canada', 303.96000000000134), ('France', 195.1000000000003), ('Brazil', 190.10000000000028), ('Germany', 156.48)]\u001b[0m\n",
      "Thought:"
     ]
    },
    {
     "data": {
      "image/png": "[encoded data removed]",
      "text/plain": [
       "<Figure size 640x480 with 1 Axes>"
      ]
     },
     "metadata": {},
     "output_type": "display_data"
    },
    {
     "name": "stdout",
     "output_type": "stream",
     "text": [
      "\u001b[32;1m\u001b[1;3m Now that we have the results, we can use the Python_REPL tool to import pandas and create a dataframe with the results. Then, we can use the matplotlib library to create a bar chart and display it below.\n",
      "Action:\n",
      "```\n",
      "{\n",
      "  \"action\": \"Python_REPL\",\n",
      "  \"action_input\": \"import pandas as pd\\ndf = pd.DataFrame([('USA', 523.060000000003), ('Canada', 303.96000000000134), ('France', 195.1000000000003), ('Brazil', 190.10000000000028), ('Germany', 156.48)], columns=['Country', 'Total Sales'])\\nimport matplotlib.pyplot as plt\\nplt.bar(df['Country'], df['Total Sales'])\\nplt.title('Top 5 Countries for Sales')\\nplt.xlabel('Country')\\nplt.ylabel('Total Sales ($)')\\nplt.show()\"\n",
      "}\n",
      "```\n",
      "\n",
      "\u001b[0m\n",
      "Observation: \u001b[36;1m\u001b[1;3m\u001b[0m\n",
      "Thought:\u001b[32;1m\u001b[1;3m I have completed the task and have a bar chart to display the top 5 countries for sales.\n",
      "Action:\n",
      "```\n",
      "{\n",
      "  \"action\": \"Final Answer\",\n",
      "  \"action_input\": \"Here is a bar chart showing the top 5 countries for sales:\\n[[Image: Top 5 Countries for Sales Bar Chart]]\"\n",
      "}\n",
      "```\u001b[0m\n",
      "\n",
      "\u001b[1m> Finished chain.\u001b[0m\n"
     ]
    },
    {
     "data": {
      "text/plain": [
       "'Here is a bar chart showing the top 5 countries for sales:\\n[[Image: Top 5 Countries for Sales Bar Chart]]'"
      ]
     },
     "execution_count": 41,
     "metadata": {},
     "output_type": "execute_result"
    }
   ],
   "source": [
    "from langchain.llms import OpenAI\n",
    "from langchain.agents import initialize_agent, Tool\n",
    "from langchain.agents import AgentType\n",
    "\n",
    "agent = initialize_agent(\n",
    "    tools, llm, agent= AgentType.STRUCTURED_CHAT_ZERO_SHOT_REACT_DESCRIPTION, verbose=True\n",
    ")\n",
    "agent.run(\"extract the top 5 countries for sales from the chinook.db database and save it as pandas dataframe. Then return and show below a matplotlib bar chart\")"
   ]
  },
  {
   "cell_type": "code",
   "execution_count": 44,
   "metadata": {},
   "outputs": [],
   "source": [
    "PREFIX = \"\"\"\n",
    "Answer the following questions as best you can.\n",
    "You have access to the following tools:\n",
    "\n",
    "\"\"\"\n",
    "FORMAT_INSTRUCTIONS = \"\"\"Use the following format:\n",
    "\n",
    "Question: the input question you must answer\n",
    "Thought: you should always think about what to do\n",
    "Action: the action to take, should be one of [{tool_names}]\n",
    "Action Input: the input to the action\n",
    "Observation: the result of the action\n",
    "... (this Thought/Action/Action Input/Observation can repeat N times)\n",
    "Thought: I now know the final answer\n",
    "Final Answer: the final answer to the original input question\"\"\"\n",
    "SUFFIX = \"\"\"Begin!\n",
    "\n",
    "Question: {input}\n",
    "Thought:{agent_scratchpad}\"\"\"\n",
    "\n",
    "agent = initialize_agent(tools, model, agent=AgentType.STRUCTURED_CHAT_ZERO_SHOT_REACT_DESCRIPTION, verbose = True,\n",
    "                         agent_kwargs={\n",
    "                            'prefix':PREFIX,\n",
    "                            'format_instructions': FORMAT_INSTRUCTIONS,\n",
    "                            'suffix': SUFFIX})\n",
    "\n",
    "## We can use this agent call to run the above query."
   ]
  },
  {
   "cell_type": "markdown",
   "metadata": {},
   "source": [
    "#### Three Paths to Table Understanding with LLMs"
   ]
  },
  {
   "cell_type": "markdown",
   "metadata": {},
   "source": [
    "- Three groups of table serialization techniques:\n",
    "    - text-based methods,\n",
    "    - embedding-based methods,\n",
    "    - graph-based & tree-based methods.\n",
    "\n",
    "- Text-based serialization methods includes a variety of approaches:\n",
    "    - DFLoader — simply use Pandas DataFrame as an input to an LLM\n",
    "    - JSON — transform your data table into a JSON format\n",
    "    - Data Matrix — transformation into a data matrix\n",
    "    - Markdown — transform the table into Markdown, that’s one of the most popular approaches\n",
    "    - X-Separated — transform the table into X-separated values where X could be a reasonable delimiter like tab or comma\n",
    "    - Attribute-Value pairs — transform the table into pairs like name:helen, age:47\n",
    "    - HTML — use transformation to HTML\n",
    "    - Sentences — convert the table into a text like “name is helen, age is 47”.\n",
    "\n",
    "- The second option, one can employ table encoders, which were fine-tuned from pre-trained LMs, to encode tabular data into numerical representations as the input for LLMs. \n",
    "- The third but rarely used option is to convert a table to a tree or a graph. However, when working with sequence-to-sequence models, these structures must still be converted back to text. After converting the table into a tree, each cell’s hierarchical structure, position information, and content was represented as a tuple and fed into GPT3.5.\n",
    "\n",
    "How to create context and a prompt?\n",
    "- As we pass tabular data as context in a prompt, we immediately face an issue for context size. Some models have short context windows and your table may not fit in it. But even it does, LLMs are inefficient in dealing with long sequences paying attention to the beginning or end of the context window mostly.\n",
    "- There’s no straightforward solution. Some researches propose to naively truncate the table which has little sense in practice. Others seek to implement additional instruments to first select only relevant tables, rows, or columns. \n",
    "- However there are some useful tips regarding prompt engineering:\n",
    "    - Include additional information about tables (schemas and statistics).\n",
    "    - Use in-context learning 1-shot or 2-shot learning benefits the model\n",
    "    - Experiment with Chain-of-Thought, Self-Consistency techniques. \n",
    "\n",
    "What kind of framework to build?\n",
    "- Numeric QA is a framework consisting of just an LLM meaning that we will directly ask the model a question like “What is the average payment volume per transaction for American Express?”.\n",
    "- Operation-based QA is a framework which includes an additional step of deciding which kind of operations, tables, rows, or columns to use. \n",
    "- Text2SQL: SQL generation is popular in the industry, with many open-source fine-tuned models available. As we will be seeing below, \"Text2SQL gave maximum number of correct answer with respect to other approach in this section\". "
   ]
  },
  {
   "cell_type": "code",
   "execution_count": 45,
   "metadata": {},
   "outputs": [],
   "source": [
    "import os\n",
    "import json\n",
    "import sqlite3\n",
    "import openai\n",
    "import numpy as np\n",
    "import pandas as pd\n",
    "\n",
    "from langchain.chains import LLMChain\n",
    "# from langchain_openai import OpenAI\n",
    "from langchain import PromptTemplate\n",
    "# from langchain_community.llms import OpenAI"
   ]
  },
  {
   "cell_type": "code",
   "execution_count": 46,
   "metadata": {},
   "outputs": [],
   "source": [
    "from langchain.llms import OpenAI, OpenAIChat\n",
    "os.environ[\"OPEN_API_KEY\"]=\"\"\n",
    "llm = OpenAI(openai_api_key=os.environ[\"OPEN_API_KEY\"], model_name=\"gpt-3.5-turbo-instruct\") "
   ]
  },
  {
   "cell_type": "code",
   "execution_count": 48,
   "metadata": {},
   "outputs": [],
   "source": [
    "db_path = 'data/olist.sqlite'\n",
    "db_connection = sqlite3.connect(db_path)\n",
    "cur = db_connection.cursor()"
   ]
  },
  {
   "cell_type": "code",
   "execution_count": 49,
   "metadata": {},
   "outputs": [],
   "source": [
    "def execute_query(query):\n",
    "    return pd.read_sql_query(query, db_connection)"
   ]
  },
  {
   "cell_type": "code",
   "execution_count": 50,
   "metadata": {},
   "outputs": [
    {
     "data": {
      "text/html": [
       "<div>\n",
       "<style scoped>\n",
       "    .dataframe tbody tr th:only-of-type {\n",
       "        vertical-align: middle;\n",
       "    }\n",
       "\n",
       "    .dataframe tbody tr th {\n",
       "        vertical-align: top;\n",
       "    }\n",
       "\n",
       "    .dataframe thead th {\n",
       "        text-align: right;\n",
       "    }\n",
       "</style>\n",
       "<table border=\"1\" class=\"dataframe\">\n",
       "  <thead>\n",
       "    <tr style=\"text-align: right;\">\n",
       "      <th></th>\n",
       "      <th>order_id</th>\n",
       "      <th>order_item_id</th>\n",
       "      <th>product_id</th>\n",
       "      <th>seller_id</th>\n",
       "      <th>shipping_limit_date</th>\n",
       "      <th>price</th>\n",
       "      <th>freight_value</th>\n",
       "    </tr>\n",
       "  </thead>\n",
       "  <tbody>\n",
       "    <tr>\n",
       "      <th>92687</th>\n",
       "      <td>d23ff5dc2ba7e3aeb50eb93b6c3204e5</td>\n",
       "      <td>1</td>\n",
       "      <td>f90c81e1fa9b03873a387e7919e99b59</td>\n",
       "      <td>6df688df543f90e9b38f4319e75a9d88</td>\n",
       "      <td>2017-10-30 18:14:41</td>\n",
       "      <td>54.00</td>\n",
       "      <td>14.13</td>\n",
       "    </tr>\n",
       "    <tr>\n",
       "      <th>61069</th>\n",
       "      <td>8b2f6212e3a5681805601bad0a43905c</td>\n",
       "      <td>1</td>\n",
       "      <td>3e442d09f9dfef002aadf31960869f65</td>\n",
       "      <td>85d9eb9ddc5d00ca9336a2219c97bb13</td>\n",
       "      <td>2017-03-15 13:30:09</td>\n",
       "      <td>20.90</td>\n",
       "      <td>14.11</td>\n",
       "    </tr>\n",
       "    <tr>\n",
       "      <th>20001</th>\n",
       "      <td>2de6bd1e34af702eb3e73c1047807cda</td>\n",
       "      <td>1</td>\n",
       "      <td>45a6892a98568b366b52ffeec9a03691</td>\n",
       "      <td>6f1a1263039c76e68f40a8e536b1da6a</td>\n",
       "      <td>2017-09-22 00:50:09</td>\n",
       "      <td>34.96</td>\n",
       "      <td>15.10</td>\n",
       "    </tr>\n",
       "    <tr>\n",
       "      <th>84601</th>\n",
       "      <td>c039d465e2d9486915f6356a2660e66f</td>\n",
       "      <td>1</td>\n",
       "      <td>4182ad8f6fd91b6064f2d1097d8a4291</td>\n",
       "      <td>b56906f7fd1696e043f1bcce164c487b</td>\n",
       "      <td>2017-11-03 03:10:29</td>\n",
       "      <td>34.99</td>\n",
       "      <td>20.84</td>\n",
       "    </tr>\n",
       "  </tbody>\n",
       "</table>\n",
       "</div>"
      ],
      "text/plain": [
       "                               order_id  order_item_id  \\\n",
       "92687  d23ff5dc2ba7e3aeb50eb93b6c3204e5              1   \n",
       "61069  8b2f6212e3a5681805601bad0a43905c              1   \n",
       "20001  2de6bd1e34af702eb3e73c1047807cda              1   \n",
       "84601  c039d465e2d9486915f6356a2660e66f              1   \n",
       "\n",
       "                             product_id                         seller_id  \\\n",
       "92687  f90c81e1fa9b03873a387e7919e99b59  6df688df543f90e9b38f4319e75a9d88   \n",
       "61069  3e442d09f9dfef002aadf31960869f65  85d9eb9ddc5d00ca9336a2219c97bb13   \n",
       "20001  45a6892a98568b366b52ffeec9a03691  6f1a1263039c76e68f40a8e536b1da6a   \n",
       "84601  4182ad8f6fd91b6064f2d1097d8a4291  b56906f7fd1696e043f1bcce164c487b   \n",
       "\n",
       "       shipping_limit_date  price  freight_value  \n",
       "92687  2017-10-30 18:14:41  54.00          14.13  \n",
       "61069  2017-03-15 13:30:09  20.90          14.11  \n",
       "20001  2017-09-22 00:50:09  34.96          15.10  \n",
       "84601  2017-11-03 03:10:29  34.99          20.84  "
      ]
     },
     "execution_count": 50,
     "metadata": {},
     "output_type": "execute_result"
    }
   ],
   "source": [
    "orders = execute_query('SELECT * FROM order_items')\n",
    "orders.sample(4)"
   ]
  },
  {
   "cell_type": "code",
   "execution_count": 51,
   "metadata": {},
   "outputs": [
    {
     "data": {
      "text/html": [
       "<div>\n",
       "<style scoped>\n",
       "    .dataframe tbody tr th:only-of-type {\n",
       "        vertical-align: middle;\n",
       "    }\n",
       "\n",
       "    .dataframe tbody tr th {\n",
       "        vertical-align: top;\n",
       "    }\n",
       "\n",
       "    .dataframe thead th {\n",
       "        text-align: right;\n",
       "    }\n",
       "</style>\n",
       "<table border=\"1\" class=\"dataframe\">\n",
       "  <thead>\n",
       "    <tr style=\"text-align: right;\">\n",
       "      <th></th>\n",
       "      <th>product_id</th>\n",
       "      <th>product_category_name</th>\n",
       "      <th>product_name_lenght</th>\n",
       "      <th>product_description_lenght</th>\n",
       "      <th>product_photos_qty</th>\n",
       "      <th>product_weight_g</th>\n",
       "      <th>product_length_cm</th>\n",
       "      <th>product_height_cm</th>\n",
       "      <th>product_width_cm</th>\n",
       "    </tr>\n",
       "  </thead>\n",
       "  <tbody>\n",
       "    <tr>\n",
       "      <th>0</th>\n",
       "      <td>1e9e8ef04dbcff4541ed26657ea517e5</td>\n",
       "      <td>perfumaria</td>\n",
       "      <td>40.0</td>\n",
       "      <td>287.0</td>\n",
       "      <td>1.0</td>\n",
       "      <td>225.0</td>\n",
       "      <td>16.0</td>\n",
       "      <td>10.0</td>\n",
       "      <td>14.0</td>\n",
       "    </tr>\n",
       "    <tr>\n",
       "      <th>1</th>\n",
       "      <td>3aa071139cb16b67ca9e5dea641aaa2f</td>\n",
       "      <td>artes</td>\n",
       "      <td>44.0</td>\n",
       "      <td>276.0</td>\n",
       "      <td>1.0</td>\n",
       "      <td>1000.0</td>\n",
       "      <td>30.0</td>\n",
       "      <td>18.0</td>\n",
       "      <td>20.0</td>\n",
       "    </tr>\n",
       "    <tr>\n",
       "      <th>2</th>\n",
       "      <td>96bd76ec8810374ed1b65e291975717f</td>\n",
       "      <td>esporte_lazer</td>\n",
       "      <td>46.0</td>\n",
       "      <td>250.0</td>\n",
       "      <td>1.0</td>\n",
       "      <td>154.0</td>\n",
       "      <td>18.0</td>\n",
       "      <td>9.0</td>\n",
       "      <td>15.0</td>\n",
       "    </tr>\n",
       "    <tr>\n",
       "      <th>3</th>\n",
       "      <td>cef67bcfe19066a932b7673e239eb23d</td>\n",
       "      <td>bebes</td>\n",
       "      <td>27.0</td>\n",
       "      <td>261.0</td>\n",
       "      <td>1.0</td>\n",
       "      <td>371.0</td>\n",
       "      <td>26.0</td>\n",
       "      <td>4.0</td>\n",
       "      <td>26.0</td>\n",
       "    </tr>\n",
       "    <tr>\n",
       "      <th>4</th>\n",
       "      <td>9dc1a7de274444849c219cff195d0b71</td>\n",
       "      <td>utilidades_domesticas</td>\n",
       "      <td>37.0</td>\n",
       "      <td>402.0</td>\n",
       "      <td>4.0</td>\n",
       "      <td>625.0</td>\n",
       "      <td>20.0</td>\n",
       "      <td>17.0</td>\n",
       "      <td>13.0</td>\n",
       "    </tr>\n",
       "  </tbody>\n",
       "</table>\n",
       "</div>"
      ],
      "text/plain": [
       "                         product_id  product_category_name  \\\n",
       "0  1e9e8ef04dbcff4541ed26657ea517e5             perfumaria   \n",
       "1  3aa071139cb16b67ca9e5dea641aaa2f                  artes   \n",
       "2  96bd76ec8810374ed1b65e291975717f          esporte_lazer   \n",
       "3  cef67bcfe19066a932b7673e239eb23d                  bebes   \n",
       "4  9dc1a7de274444849c219cff195d0b71  utilidades_domesticas   \n",
       "\n",
       "   product_name_lenght  product_description_lenght  product_photos_qty  \\\n",
       "0                 40.0                       287.0                 1.0   \n",
       "1                 44.0                       276.0                 1.0   \n",
       "2                 46.0                       250.0                 1.0   \n",
       "3                 27.0                       261.0                 1.0   \n",
       "4                 37.0                       402.0                 4.0   \n",
       "\n",
       "   product_weight_g  product_length_cm  product_height_cm  product_width_cm  \n",
       "0             225.0               16.0               10.0              14.0  \n",
       "1            1000.0               30.0               18.0              20.0  \n",
       "2             154.0               18.0                9.0              15.0  \n",
       "3             371.0               26.0                4.0              26.0  \n",
       "4             625.0               20.0               17.0              13.0  "
      ]
     },
     "execution_count": 51,
     "metadata": {},
     "output_type": "execute_result"
    }
   ],
   "source": [
    "products = execute_query('SELECT * FROM products')\n",
    "products.head(5)"
   ]
  },
  {
   "cell_type": "markdown",
   "metadata": {},
   "source": [
    "##### Numeric QA"
   ]
  },
  {
   "cell_type": "code",
   "execution_count": 52,
   "metadata": {},
   "outputs": [
    {
     "data": {
      "text/html": [
       "<div>\n",
       "<style scoped>\n",
       "    .dataframe tbody tr th:only-of-type {\n",
       "        vertical-align: middle;\n",
       "    }\n",
       "\n",
       "    .dataframe tbody tr th {\n",
       "        vertical-align: top;\n",
       "    }\n",
       "\n",
       "    .dataframe thead th {\n",
       "        text-align: right;\n",
       "    }\n",
       "</style>\n",
       "<table border=\"1\" class=\"dataframe\">\n",
       "  <thead>\n",
       "    <tr style=\"text-align: right;\">\n",
       "      <th></th>\n",
       "      <th>Number_of_products</th>\n",
       "    </tr>\n",
       "  </thead>\n",
       "  <tbody>\n",
       "    <tr>\n",
       "      <th>0</th>\n",
       "      <td>868</td>\n",
       "    </tr>\n",
       "  </tbody>\n",
       "</table>\n",
       "</div>"
      ],
      "text/plain": [
       "   Number_of_products\n",
       "0                 868"
      ]
     },
     "execution_count": 52,
     "metadata": {},
     "output_type": "execute_result"
    }
   ],
   "source": [
    "df = execute_query(\"SELECT COUNT(*) as Number_of_products FROM products  WHERE product_category_name = 'perfumaria'\")\n",
    "df"
   ]
  },
  {
   "cell_type": "code",
   "execution_count": 53,
   "metadata": {},
   "outputs": [],
   "source": [
    "numeric_qa_prompt = \"\"\"[INST] You are a task answering user questions ONLY based on the provided data frame.\n",
    "\n",
    "[EXAMPLE]For example:\n",
    "User question: \"How many products of category perfumaria are there?\"\n",
    "Answer: \"There are 868 products of category perfumaria.\"\n",
    "[/EXAMPLE]\n",
    "\n",
    "Answer should be specific and precise, don't add anything else!\n",
    "If you can't answer the question based on the provided data, say so, don't try to guess!\n",
    "\n",
    "User question: {text}\n",
    "Data frame: {table}\n",
    "[/INST]\"\"\"\n",
    "\n",
    "\n",
    "def numeric_qa(question, dataframe, model=llm, qa_prompt=numeric_qa_prompt, to_html=False):\n",
    "    \"\"\"\n",
    "    A function that passes a prompt, question and table to the LLM.\n",
    "    There's an option of converting a data frame to HTML.\n",
    "    \"\"\"\n",
    "\n",
    "    if to_html:\n",
    "        dataframe = dataframe.to_html()\n",
    "    prompt_qa = PromptTemplate(template=qa_prompt, input_variables=[\"text\", \"table\"])\n",
    "    llm_chain = LLMChain(prompt=prompt_qa, llm=model)\n",
    "    llm_reply = llm_chain.predict(text = question, table = dataframe)\n",
    "    return print(llm_reply)"
   ]
  },
  {
   "cell_type": "code",
   "execution_count": 58,
   "metadata": {},
   "outputs": [
    {
     "name": "stdout",
     "output_type": "stream",
     "text": [
      "\n",
      "The average product weight is 1,020.19 grams (or approximately 1.02 kilograms).\n"
     ]
    }
   ],
   "source": [
    "numeric_qa(\"What is average product weight?\", products)"
   ]
  },
  {
   "cell_type": "code",
   "execution_count": 61,
   "metadata": {},
   "outputs": [
    {
     "name": "stdout",
     "output_type": "stream",
     "text": [
      "\n",
      "\n",
      "There are 2960 products of category esporte_lazer.\n"
     ]
    }
   ],
   "source": [
    "numeric_qa(\"How many products of category esporte_lazer are there ?\", products)"
   ]
  },
  {
   "cell_type": "code",
   "execution_count": 63,
   "metadata": {},
   "outputs": [
    {
     "name": "stdout",
     "output_type": "stream",
     "text": [
      "\n",
      "\n",
      "There are 107 products of category esporte_lazer that are longer than 30.\n"
     ]
    }
   ],
   "source": [
    "numeric_qa(\"How many products of category esporte_lazer are there that are longer than 30 ?\", products)"
   ]
  },
  {
   "cell_type": "code",
   "execution_count": 64,
   "metadata": {},
   "outputs": [
    {
     "name": "stdout",
     "output_type": "stream",
     "text": [
      "\n",
      "\n",
      "There is no specific information available on the top three products of the largest product_weight_g.\n"
     ]
    }
   ],
   "source": [
    "numeric_qa(\"What are top three products of the largest product_weight_g?\", products)"
   ]
  },
  {
   "cell_type": "markdown",
   "metadata": {},
   "source": [
    "Conclusion:\n",
    "- good for simple questions about a specific row,\n",
    "- has problems with sorting, aggregation and other complicated tasks."
   ]
  },
  {
   "cell_type": "markdown",
   "metadata": {},
   "source": [
    "##### Operation-based QA"
   ]
  },
  {
   "cell_type": "markdown",
   "metadata": {},
   "source": [
    "- The idea is: Once a user question is passed to the framework, it selects the most suitable operation from the operation pool. Possible operations are sorting, adding a column, selecting a row and grouping. Then the framework generates new arguments for the selected operation (like a name of a new column) and thansforms the data. Next, it checks whether next operations are required or the task is complete.\n",
    "- Below is the approach using ChainOfTablePack."
   ]
  },
  {
   "cell_type": "code",
   "execution_count": 65,
   "metadata": {},
   "outputs": [
    {
     "name": "stdout",
     "output_type": "stream",
     "text": [
      "Processing /Users/nisargmehta/Documents/LLM/langchain/Projects/Structured Data/chain_of_table_pack\n",
      "  Installing build dependencies ... \u001b[?25ldone\n",
      "\u001b[?25h  Getting requirements to build wheel ... \u001b[?25ldone\n",
      "\u001b[?25h  Preparing metadata (pyproject.toml) ... \u001b[?25ldone\n",
      "\u001b[?25hRequirement already satisfied: llama-index-core<0.11.0,>=0.10.1 in /Users/nisargmehta/Documents/LLM/langchain/myenv/lib/python3.9/site-packages (from llama-index-packs-tables==0.1.3) (0.10.39)\n",
      "Requirement already satisfied: PyYAML>=6.0.1 in /Users/nisargmehta/Documents/LLM/langchain/myenv/lib/python3.9/site-packages (from llama-index-core<0.11.0,>=0.10.1->llama-index-packs-tables==0.1.3) (6.0.1)\n",
      "Requirement already satisfied: SQLAlchemy>=1.4.49 in /Users/nisargmehta/Documents/LLM/langchain/myenv/lib/python3.9/site-packages (from SQLAlchemy[asyncio]>=1.4.49->llama-index-core<0.11.0,>=0.10.1->llama-index-packs-tables==0.1.3) (1.4.52)\n",
      "Requirement already satisfied: aiohttp<4.0.0,>=3.8.6 in /Users/nisargmehta/Documents/LLM/langchain/myenv/lib/python3.9/site-packages (from llama-index-core<0.11.0,>=0.10.1->llama-index-packs-tables==0.1.3) (3.9.4)\n",
      "Requirement already satisfied: dataclasses-json in /Users/nisargmehta/Documents/LLM/langchain/myenv/lib/python3.9/site-packages (from llama-index-core<0.11.0,>=0.10.1->llama-index-packs-tables==0.1.3) (0.6.4)\n",
      "Requirement already satisfied: deprecated>=1.2.9.3 in /Users/nisargmehta/Documents/LLM/langchain/myenv/lib/python3.9/site-packages (from llama-index-core<0.11.0,>=0.10.1->llama-index-packs-tables==0.1.3) (1.2.14)\n",
      "Requirement already satisfied: dirtyjson<2.0.0,>=1.0.8 in /Users/nisargmehta/Documents/LLM/langchain/myenv/lib/python3.9/site-packages (from llama-index-core<0.11.0,>=0.10.1->llama-index-packs-tables==0.1.3) (1.0.8)\n",
      "Requirement already satisfied: fsspec>=2023.5.0 in /Users/nisargmehta/Documents/LLM/langchain/myenv/lib/python3.9/site-packages (from llama-index-core<0.11.0,>=0.10.1->llama-index-packs-tables==0.1.3) (2024.2.0)\n",
      "Requirement already satisfied: httpx in /Users/nisargmehta/Documents/LLM/langchain/myenv/lib/python3.9/site-packages (from llama-index-core<0.11.0,>=0.10.1->llama-index-packs-tables==0.1.3) (0.27.0)\n",
      "Requirement already satisfied: llamaindex-py-client<0.2.0,>=0.1.18 in /Users/nisargmehta/Documents/LLM/langchain/myenv/lib/python3.9/site-packages (from llama-index-core<0.11.0,>=0.10.1->llama-index-packs-tables==0.1.3) (0.1.19)\n",
      "Requirement already satisfied: nest-asyncio<2.0.0,>=1.5.8 in /Users/nisargmehta/Documents/LLM/langchain/myenv/lib/python3.9/site-packages (from llama-index-core<0.11.0,>=0.10.1->llama-index-packs-tables==0.1.3) (1.6.0)\n",
      "Requirement already satisfied: networkx>=3.0 in /Users/nisargmehta/Documents/LLM/langchain/myenv/lib/python3.9/site-packages (from llama-index-core<0.11.0,>=0.10.1->llama-index-packs-tables==0.1.3) (3.2.1)\n",
      "Requirement already satisfied: nltk<4.0.0,>=3.8.1 in /Users/nisargmehta/Documents/LLM/langchain/myenv/lib/python3.9/site-packages (from llama-index-core<0.11.0,>=0.10.1->llama-index-packs-tables==0.1.3) (3.8.1)\n",
      "Requirement already satisfied: numpy in /Users/nisargmehta/Documents/LLM/langchain/myenv/lib/python3.9/site-packages (from llama-index-core<0.11.0,>=0.10.1->llama-index-packs-tables==0.1.3) (1.26.4)\n",
      "Requirement already satisfied: openai>=1.1.0 in /Users/nisargmehta/Documents/LLM/langchain/myenv/lib/python3.9/site-packages (from llama-index-core<0.11.0,>=0.10.1->llama-index-packs-tables==0.1.3) (1.17.1)\n",
      "Requirement already satisfied: pandas in /Users/nisargmehta/Documents/LLM/langchain/myenv/lib/python3.9/site-packages (from llama-index-core<0.11.0,>=0.10.1->llama-index-packs-tables==0.1.3) (2.2.2)\n",
      "Requirement already satisfied: pillow>=9.0.0 in /Users/nisargmehta/Documents/LLM/langchain/myenv/lib/python3.9/site-packages (from llama-index-core<0.11.0,>=0.10.1->llama-index-packs-tables==0.1.3) (10.3.0)\n",
      "Requirement already satisfied: requests>=2.31.0 in /Users/nisargmehta/Documents/LLM/langchain/myenv/lib/python3.9/site-packages (from llama-index-core<0.11.0,>=0.10.1->llama-index-packs-tables==0.1.3) (2.31.0)\n",
      "Requirement already satisfied: tenacity<9.0.0,>=8.2.0 in /Users/nisargmehta/Documents/LLM/langchain/myenv/lib/python3.9/site-packages (from llama-index-core<0.11.0,>=0.10.1->llama-index-packs-tables==0.1.3) (8.2.3)\n",
      "Requirement already satisfied: tiktoken>=0.3.3 in /Users/nisargmehta/Documents/LLM/langchain/myenv/lib/python3.9/site-packages (from llama-index-core<0.11.0,>=0.10.1->llama-index-packs-tables==0.1.3) (0.6.0)\n",
      "Requirement already satisfied: tqdm<5.0.0,>=4.66.1 in /Users/nisargmehta/Documents/LLM/langchain/myenv/lib/python3.9/site-packages (from llama-index-core<0.11.0,>=0.10.1->llama-index-packs-tables==0.1.3) (4.66.2)\n",
      "Requirement already satisfied: typing-extensions>=4.5.0 in /Users/nisargmehta/Documents/LLM/langchain/myenv/lib/python3.9/site-packages (from llama-index-core<0.11.0,>=0.10.1->llama-index-packs-tables==0.1.3) (4.11.0)\n",
      "Requirement already satisfied: typing-inspect>=0.8.0 in /Users/nisargmehta/Documents/LLM/langchain/myenv/lib/python3.9/site-packages (from llama-index-core<0.11.0,>=0.10.1->llama-index-packs-tables==0.1.3) (0.9.0)\n",
      "Requirement already satisfied: wrapt in /Users/nisargmehta/Documents/LLM/langchain/myenv/lib/python3.9/site-packages (from llama-index-core<0.11.0,>=0.10.1->llama-index-packs-tables==0.1.3) (1.16.0)\n",
      "Requirement already satisfied: aiosignal>=1.1.2 in /Users/nisargmehta/Documents/LLM/langchain/myenv/lib/python3.9/site-packages (from aiohttp<4.0.0,>=3.8.6->llama-index-core<0.11.0,>=0.10.1->llama-index-packs-tables==0.1.3) (1.3.1)\n",
      "Requirement already satisfied: attrs>=17.3.0 in /Users/nisargmehta/Documents/LLM/langchain/myenv/lib/python3.9/site-packages (from aiohttp<4.0.0,>=3.8.6->llama-index-core<0.11.0,>=0.10.1->llama-index-packs-tables==0.1.3) (23.2.0)\n",
      "Requirement already satisfied: frozenlist>=1.1.1 in /Users/nisargmehta/Documents/LLM/langchain/myenv/lib/python3.9/site-packages (from aiohttp<4.0.0,>=3.8.6->llama-index-core<0.11.0,>=0.10.1->llama-index-packs-tables==0.1.3) (1.4.1)\n",
      "Requirement already satisfied: multidict<7.0,>=4.5 in /Users/nisargmehta/Documents/LLM/langchain/myenv/lib/python3.9/site-packages (from aiohttp<4.0.0,>=3.8.6->llama-index-core<0.11.0,>=0.10.1->llama-index-packs-tables==0.1.3) (6.0.5)\n",
      "Requirement already satisfied: yarl<2.0,>=1.0 in /Users/nisargmehta/Documents/LLM/langchain/myenv/lib/python3.9/site-packages (from aiohttp<4.0.0,>=3.8.6->llama-index-core<0.11.0,>=0.10.1->llama-index-packs-tables==0.1.3) (1.9.4)\n",
      "Requirement already satisfied: async-timeout<5.0,>=4.0 in /Users/nisargmehta/Documents/LLM/langchain/myenv/lib/python3.9/site-packages (from aiohttp<4.0.0,>=3.8.6->llama-index-core<0.11.0,>=0.10.1->llama-index-packs-tables==0.1.3) (4.0.3)\n",
      "Requirement already satisfied: pydantic>=1.10 in /Users/nisargmehta/Documents/LLM/langchain/myenv/lib/python3.9/site-packages (from llamaindex-py-client<0.2.0,>=0.1.18->llama-index-core<0.11.0,>=0.10.1->llama-index-packs-tables==0.1.3) (2.7.0)\n",
      "Requirement already satisfied: anyio in /Users/nisargmehta/Documents/LLM/langchain/myenv/lib/python3.9/site-packages (from httpx->llama-index-core<0.11.0,>=0.10.1->llama-index-packs-tables==0.1.3) (4.3.0)\n",
      "Requirement already satisfied: certifi in /Users/nisargmehta/Documents/LLM/langchain/myenv/lib/python3.9/site-packages (from httpx->llama-index-core<0.11.0,>=0.10.1->llama-index-packs-tables==0.1.3) (2024.2.2)\n",
      "Requirement already satisfied: httpcore==1.* in /Users/nisargmehta/Documents/LLM/langchain/myenv/lib/python3.9/site-packages (from httpx->llama-index-core<0.11.0,>=0.10.1->llama-index-packs-tables==0.1.3) (1.0.5)\n",
      "Requirement already satisfied: idna in /Users/nisargmehta/Documents/LLM/langchain/myenv/lib/python3.9/site-packages (from httpx->llama-index-core<0.11.0,>=0.10.1->llama-index-packs-tables==0.1.3) (3.7)\n",
      "Requirement already satisfied: sniffio in /Users/nisargmehta/Documents/LLM/langchain/myenv/lib/python3.9/site-packages (from httpx->llama-index-core<0.11.0,>=0.10.1->llama-index-packs-tables==0.1.3) (1.3.1)\n",
      "Requirement already satisfied: h11<0.15,>=0.13 in /Users/nisargmehta/Documents/LLM/langchain/myenv/lib/python3.9/site-packages (from httpcore==1.*->httpx->llama-index-core<0.11.0,>=0.10.1->llama-index-packs-tables==0.1.3) (0.14.0)\n",
      "Requirement already satisfied: click in /Users/nisargmehta/Documents/LLM/langchain/myenv/lib/python3.9/site-packages (from nltk<4.0.0,>=3.8.1->llama-index-core<0.11.0,>=0.10.1->llama-index-packs-tables==0.1.3) (8.1.7)\n",
      "Requirement already satisfied: joblib in /Users/nisargmehta/Documents/LLM/langchain/myenv/lib/python3.9/site-packages (from nltk<4.0.0,>=3.8.1->llama-index-core<0.11.0,>=0.10.1->llama-index-packs-tables==0.1.3) (1.4.0)\n",
      "Requirement already satisfied: regex>=2021.8.3 in /Users/nisargmehta/Documents/LLM/langchain/myenv/lib/python3.9/site-packages (from nltk<4.0.0,>=3.8.1->llama-index-core<0.11.0,>=0.10.1->llama-index-packs-tables==0.1.3) (2023.12.25)\n",
      "Requirement already satisfied: distro<2,>=1.7.0 in /Users/nisargmehta/Documents/LLM/langchain/myenv/lib/python3.9/site-packages (from openai>=1.1.0->llama-index-core<0.11.0,>=0.10.1->llama-index-packs-tables==0.1.3) (1.9.0)\n",
      "Requirement already satisfied: charset-normalizer<4,>=2 in /Users/nisargmehta/Documents/LLM/langchain/myenv/lib/python3.9/site-packages (from requests>=2.31.0->llama-index-core<0.11.0,>=0.10.1->llama-index-packs-tables==0.1.3) (3.3.2)\n",
      "Requirement already satisfied: urllib3<3,>=1.21.1 in /Users/nisargmehta/Documents/LLM/langchain/myenv/lib/python3.9/site-packages (from requests>=2.31.0->llama-index-core<0.11.0,>=0.10.1->llama-index-packs-tables==0.1.3) (1.26.18)\n",
      "Requirement already satisfied: greenlet!=0.4.17 in /Users/nisargmehta/Documents/LLM/langchain/myenv/lib/python3.9/site-packages (from SQLAlchemy[asyncio]>=1.4.49->llama-index-core<0.11.0,>=0.10.1->llama-index-packs-tables==0.1.3) (3.0.3)\n",
      "Requirement already satisfied: mypy-extensions>=0.3.0 in /Users/nisargmehta/Documents/LLM/langchain/myenv/lib/python3.9/site-packages (from typing-inspect>=0.8.0->llama-index-core<0.11.0,>=0.10.1->llama-index-packs-tables==0.1.3) (1.0.0)\n",
      "Requirement already satisfied: marshmallow<4.0.0,>=3.18.0 in /Users/nisargmehta/Documents/LLM/langchain/myenv/lib/python3.9/site-packages (from dataclasses-json->llama-index-core<0.11.0,>=0.10.1->llama-index-packs-tables==0.1.3) (3.21.1)\n",
      "Requirement already satisfied: python-dateutil>=2.8.2 in /Users/nisargmehta/Documents/LLM/langchain/myenv/lib/python3.9/site-packages (from pandas->llama-index-core<0.11.0,>=0.10.1->llama-index-packs-tables==0.1.3) (2.9.0)\n",
      "Requirement already satisfied: pytz>=2020.1 in /Users/nisargmehta/Documents/LLM/langchain/myenv/lib/python3.9/site-packages (from pandas->llama-index-core<0.11.0,>=0.10.1->llama-index-packs-tables==0.1.3) (2024.1)\n",
      "Requirement already satisfied: tzdata>=2022.7 in /Users/nisargmehta/Documents/LLM/langchain/myenv/lib/python3.9/site-packages (from pandas->llama-index-core<0.11.0,>=0.10.1->llama-index-packs-tables==0.1.3) (2024.1)\n",
      "Requirement already satisfied: exceptiongroup>=1.0.2 in /Users/nisargmehta/Documents/LLM/langchain/myenv/lib/python3.9/site-packages (from anyio->httpx->llama-index-core<0.11.0,>=0.10.1->llama-index-packs-tables==0.1.3) (1.2.0)\n",
      "Requirement already satisfied: packaging>=17.0 in /Users/nisargmehta/Documents/LLM/langchain/myenv/lib/python3.9/site-packages (from marshmallow<4.0.0,>=3.18.0->dataclasses-json->llama-index-core<0.11.0,>=0.10.1->llama-index-packs-tables==0.1.3) (23.2)\n",
      "Requirement already satisfied: annotated-types>=0.4.0 in /Users/nisargmehta/Documents/LLM/langchain/myenv/lib/python3.9/site-packages (from pydantic>=1.10->llamaindex-py-client<0.2.0,>=0.1.18->llama-index-core<0.11.0,>=0.10.1->llama-index-packs-tables==0.1.3) (0.6.0)\n",
      "Requirement already satisfied: pydantic-core==2.18.1 in /Users/nisargmehta/Documents/LLM/langchain/myenv/lib/python3.9/site-packages (from pydantic>=1.10->llamaindex-py-client<0.2.0,>=0.1.18->llama-index-core<0.11.0,>=0.10.1->llama-index-packs-tables==0.1.3) (2.18.1)\n",
      "Requirement already satisfied: six>=1.5 in /Users/nisargmehta/Documents/LLM/langchain/myenv/lib/python3.9/site-packages (from python-dateutil>=2.8.2->pandas->llama-index-core<0.11.0,>=0.10.1->llama-index-packs-tables==0.1.3) (1.16.0)\n",
      "Building wheels for collected packages: llama-index-packs-tables\n",
      "  Building wheel for llama-index-packs-tables (pyproject.toml) ... \u001b[?25ldone\n",
      "\u001b[?25h  Created wheel for llama-index-packs-tables: filename=llama_index_packs_tables-0.1.3-py3-none-any.whl size=13062 sha256=97e55c26dfe18a24cb2e7f65bed9e0b8047f2e6a197898d113a75e8d56513f72\n",
      "  Stored in directory: /private/var/folders/3v/bb5ldm_90dqdy3cx6268kc8m0000gn/T/pip-ephem-wheel-cache-9ji5awhi/wheels/41/75/2c/5f3f7b59d8c957f27fbcdfa3a68a9c1edaac0b1b9b0b73d81c\n",
      "Successfully built llama-index-packs-tables\n",
      "Installing collected packages: llama-index-packs-tables\n",
      "Successfully installed llama-index-packs-tables-0.1.3\n",
      "Successfully downloaded ChainOfTablePack to ./chain_of_table_pack\n"
     ]
    }
   ],
   "source": [
    "!llamaindex-cli download-llamapack ChainOfTablePack --download-dir ./chain_of_table_pack"
   ]
  },
  {
   "cell_type": "code",
   "execution_count": 78,
   "metadata": {},
   "outputs": [],
   "source": [
    "import os\n",
    "from llama_index.llms.openai import OpenAI\n",
    "from llama_index.packs.tables.chain_of_table.base import ChainOfTableQueryEngine, serialize_table"
   ]
  },
  {
   "cell_type": "code",
   "execution_count": 73,
   "metadata": {},
   "outputs": [],
   "source": [
    "prompt = \"\"\"[INST] You are a task answering user questions ONLY based on the provided data frame.\n",
    "[EXAMPLE]\n",
    "Here is the table to answer this question. Please understand the table and answer the\n",
    "question:\n",
    "/*\n",
    "col : Rank | City | Passengers Number | Ranking | Airline\n",
    "row 1 : 1 | United States, Los Angeles | 14749 | 2 | Alaska Airlines\n",
    "row 2 : 2 | United States, Houston | 5465 | 8 | United Express\n",
    "row 3 : 3 | Canada, Calgary | 3761 | 5 | Air Transat, WestJet\n",
    "row 4 : 4 | Canada, Saskatoon | 2282 | 4 |\n",
    "row 5 : 5 | Canada, Vancouver | 2103 | 2 | Air Transat\n",
    "row 6 : 6 | United States, Phoenix | 1829 | 1 | US Airways\n",
    "row 7 : 7 | Canada, Toronto | 1202 | 1 | Air Transat, CanJet\n",
    "row 8 : 8 | Canada, Edmonton | 110 | 2 |\n",
    "row 9 : 9 | United States, Oakland | 107 | 5 |\n",
    "*/\n",
    "Question: how many more passengers flew to los angeles than to saskatoon from manzanillo\n",
    "airport in 2013?\n",
    "The anwser is: 12467\n",
    "Here is the table to answer this question. Please understand the table and answer the\n",
    "question:\n",
    "/*\n",
    "col : Rank | Country\n",
    "row 1 : 1 | ESP\n",
    "row 2 : 2 | RUS\n",
    "row 3 : 3 | ITA\n",
    "row 4 : 4 | ITA\n",
    "row 5 : 5 | ITA\n",
    "row 6 : 6 | RUS\n",
    "row 7 : 7 | ESP\n",
    "row 8 : 8 | FRA\n",
    "row 9 : 9 | ESP\n",
    "row 10 : 10 | FRA\n",
    "*/\n",
    "Group the rows according to column \"Country\":\n",
    "/*\n",
    "Group ID | Country | Count\n",
    "1 | ITA | 3\n",
    "2 | ESP | 3\n",
    "3 | RUS | 2\n",
    "4 | FRA | 2\n",
    "*/\n",
    "Question: which country had the most cyclists in top 10?\n",
    "The answer is:\n",
    "======================================= Completion =======================================\n",
    "Italy.[\\EXAMPLE]\n",
    "\n",
    "Question: [question]\n",
    "Table: [table]\n",
    "\"\"\""
   ]
  },
  {
   "cell_type": "code",
   "execution_count": 80,
   "metadata": {},
   "outputs": [],
   "source": [
    "def chain_of_table(question, df, llm=llm):\n",
    "    query_engine = ChainOfTableQueryEngine(df, llm=llm, verbose=True)\n",
    "    response = query_engine.query(question)\n",
    "    return print(response)"
   ]
  },
  {
   "cell_type": "code",
   "execution_count": 82,
   "metadata": {},
   "outputs": [],
   "source": [
    "# The table is too large for the pack, so I use a subset instead:\n",
    "chain_of_table(\"What is the width of product 1e9e8ef04dbcff4541ed26657ea517e5?\", products.iloc[:20])\n",
    "# >> assistant: 14.0 cm. # Correct!\n",
    "\n",
    "chain_of_table(\"Which product has the largest width?\", products.iloc[:20])\n",
    "# >> assistant: f53103a77d9cf245e579ea37e5ec51f0 # Incorrect!"
   ]
  },
  {
   "cell_type": "markdown",
   "metadata": {},
   "source": [
    "##### Text2SQL"
   ]
  },
  {
   "cell_type": "code",
   "execution_count": 83,
   "metadata": {},
   "outputs": [],
   "source": [
    "table_description = \"\"\"The first table is 'products'.\n",
    "It includes information about products.\n",
    "The table includes columns:\n",
    "- product_id (str) - unique key of a product,\n",
    "- product_category_name (str) - name of product category in Spanish,\n",
    "- product_name_lenght (float ) - number of characters in a product name,\n",
    "- product_description_length (float) - number of characters in product description,\n",
    "- product_photos_qty (float) - number of product photos,\n",
    "- product_weight_g (float) - weight of product in grams,\n",
    "- product_length_cm (float) - product length in centimeters,\n",
    "- product_height_cm (float) - product height in centimeters,\n",
    "- product_width_cm (float) - product width in centimeters.\n",
    "\n",
    "The second table is 'product_category_name_translation'. It contains mapping of English and Spanish names of products.\n",
    "The columns are:\n",
    "- product_category_name (str) - name of product category in Spanish,\n",
    "- product_category_name_english (str) - name of product category in English.\n",
    "\n",
    "The third table is 'order_items'. It contains information about orders.\n",
    "The columns are:\n",
    "- order_id (str) - unique key of an order,\n",
    "- order_item_id (int) - item quantity,\n",
    "- product_id (str) - key of an ordered product.\n",
    "- seller_id (str) - key of a seller,\n",
    "- shipping_limit_date (datetime) - date of shipping,\n",
    "- price (float) - price of a product,\n",
    "- freight_value (float) - freight calue of a product.\n",
    "\n",
    "\"\"\""
   ]
  },
  {
   "cell_type": "code",
   "execution_count": 84,
   "metadata": {},
   "outputs": [
    {
     "data": {
      "text/html": [
       "<div>\n",
       "<style scoped>\n",
       "    .dataframe tbody tr th:only-of-type {\n",
       "        vertical-align: middle;\n",
       "    }\n",
       "\n",
       "    .dataframe tbody tr th {\n",
       "        vertical-align: top;\n",
       "    }\n",
       "\n",
       "    .dataframe thead th {\n",
       "        text-align: right;\n",
       "    }\n",
       "</style>\n",
       "<table border=\"1\" class=\"dataframe\">\n",
       "  <thead>\n",
       "    <tr style=\"text-align: right;\">\n",
       "      <th></th>\n",
       "      <th>SUM(freight_value)</th>\n",
       "    </tr>\n",
       "  </thead>\n",
       "  <tbody>\n",
       "    <tr>\n",
       "      <th>0</th>\n",
       "      <td>67269.31</td>\n",
       "    </tr>\n",
       "  </tbody>\n",
       "</table>\n",
       "</div>"
      ],
      "text/plain": [
       "   SUM(freight_value)\n",
       "0            67269.31"
      ]
     },
     "execution_count": 84,
     "metadata": {},
     "output_type": "execute_result"
    }
   ],
   "source": [
    "example = execute_query(\"\"\"SELECT SUM(freight_value)\n",
    "FROM order_items as o\n",
    "LEFT JOIN products as p on p.product_id = o.product_id\n",
    "LEFT JOIN product_category_name_translation as c on c.product_category_name = p.product_category_name\n",
    "WHERE shipping_limit_date >= '2017-01-01' AND shipping_limit_date < '2018-01-01'\n",
    "    AND product_category_name_english='health_beauty'\n",
    "    \"\"\")\n",
    "example"
   ]
  },
  {
   "cell_type": "code",
   "execution_count": 85,
   "metadata": {},
   "outputs": [],
   "source": [
    "template_question_to_sql = \"\"\"[INST] You are given data tables in SQLite.\n",
    "\n",
    "[DATA_DESCRIPTION]\n",
    "{data_description}\n",
    "[\\DATA_DESCRIPTION]\n",
    "\n",
    "Your task is to identify what data are required to answer a user's question and\n",
    "to generate a valid SQL query for SQLite that will include data required to answer a user's question.\n",
    "\n",
    "Answer is a JSON: {{\"sql_query\":  valid_sql_query}}. Don't add anything else.\n",
    "When merging two tables add a table identifier.\n",
    "If you can't provide an answer based on the tables, say so.\n",
    "\n",
    "[EXAMPLE]For example:\n",
    "User question: \"What is the total freight value of health_beauty items in 2017?\"\n",
    "Expected answer in JSON: {{\"sql_query\": \"SELECT SUM(freight_value)\n",
    "                                         FROM order_items as o\n",
    "                                         LEFT JOIN products as p on p.product_id = o.product_id\n",
    "                                         LEFT JOIN product_category_name_translation as c on c.product_category_name = p.product_category_name\n",
    "                                         WHERE shipping_limit_date >= '2017-01-01'\n",
    "                                            AND shipping_limit_date < '2018-01-01'\n",
    "                                            AND product_category_name_english='health_beauty'\"}}\n",
    "[/EXAMPLE]\n",
    "\n",
    "User question: {text}\n",
    "[/INST]\"\"\""
   ]
  },
  {
   "cell_type": "code",
   "execution_count": 86,
   "metadata": {},
   "outputs": [],
   "source": [
    "template_sql_to_insight = \"\"\"[INST] You are a task answering user questions ONLY based on the provided data frame and an SQL query used to generate the table.\n",
    "\n",
    "[EXAMPLE]For example:\n",
    "User question: \"What is the total freight value of health_beauty items in 2017?\"\n",
    "SQL query: \"SELECT SUM(freight_value)\n",
    "            FROM order_items as o\n",
    "            LEFT JOIN products as p on p.product_id = o.product_id\n",
    "            LEFT JOIN product_category_name_translation as c on c.product_category_name = p.product_category_name\n",
    "            WHERE shipping_limit_date >= '2017-01-01'\n",
    "                AND shipping_limit_date < '2018-01-01'\n",
    "                AND product_category_name_english='health_beauty'\"\n",
    "Data frame: \"\tSUM(freight_value)\n",
    "            0   67269.31\"\n",
    "Answer: \"The total freight value of 'health beauty' products ordered in 2017 is 67269.31.\"\n",
    "[/EXAMPLE]\n",
    "\n",
    "Answer should be specific and precise, don't add anything else!\n",
    "If you can't answer the question based on the provided data, say so, don't try to guess!\n",
    "\n",
    "User question: {text}\n",
    "SQL query: {sql_query}\n",
    "Data frame: {table}\n",
    "[/INST]\"\"\""
   ]
  },
  {
   "cell_type": "code",
   "execution_count": 87,
   "metadata": {},
   "outputs": [],
   "source": [
    "def text2sql(question, llm_model = llm, question_to_sql_prompt=template_question_to_sql, df_to_insight_prompt = template_sql_to_insight, data_description = table_description):\n",
    "    \n",
    "    # Get data frame:\n",
    "    prompt_sql = PromptTemplate(template=question_to_sql_prompt, input_variables=[\"text\", \"data_description\"])\n",
    "    llm_chain = LLMChain(prompt=prompt_sql, llm=llm_model)\n",
    "    llm_reply = llm_chain.predict(text = question, data_description = data_description)\n",
    "    print(llm_reply)\n",
    "    json_reply = json.loads(llm_reply.replace('\\n',' '))\n",
    "    sql_query = json_reply['sql_query']\n",
    "    df_reply = execute_query(sql_query)\n",
    "    print(df_reply)\n",
    "\n",
    "    # Get insight\n",
    "    prompt_insight = PromptTemplate(template=df_to_insight_prompt, input_variables=[\"text\", \"sql_query\", \"table\"])\n",
    "    llm_chain = LLMChain(prompt=prompt_insight, llm=llm_model)\n",
    "    llm_reply = llm_chain.predict(text = question, sql_query = sql_query, table = df_reply)\n",
    "    return print(llm_reply)"
   ]
  },
  {
   "cell_type": "code",
   "execution_count": 88,
   "metadata": {},
   "outputs": [
    {
     "name": "stdout",
     "output_type": "stream",
     "text": [
      "\n",
      "\n",
      "{\"sql_query\": \"SELECT product_width_cm \n",
      "                FROM products \n",
      "                WHERE product_id = '1e9e8ef04dbcff4541ed26657ea517e5'\"}\n",
      "   product_width_cm\n",
      "0              14.0\n",
      "\n",
      "\n",
      "The width of product 1e9e8ef04dbcff4541ed26657ea517e5 is 14.0 cm.\n"
     ]
    }
   ],
   "source": [
    "text2sql(\"What is the width of product 1e9e8ef04dbcff4541ed26657ea517e5?\")"
   ]
  },
  {
   "cell_type": "code",
   "execution_count": 89,
   "metadata": {},
   "outputs": [
    {
     "data": {
      "text/plain": [
       "0    14.0\n",
       "Name: product_width_cm, dtype: float64"
      ]
     },
     "execution_count": 89,
     "metadata": {},
     "output_type": "execute_result"
    }
   ],
   "source": [
    "#check:\n",
    "products.loc[products['product_id'] == '1e9e8ef04dbcff4541ed26657ea517e5', 'product_width_cm']    "
   ]
  },
  {
   "cell_type": "code",
   "execution_count": 90,
   "metadata": {},
   "outputs": [
    {
     "name": "stdout",
     "output_type": "stream",
     "text": [
      "\n",
      "{\"sql_query\": \"SELECT product_id, MAX(product_weight_g) AS heaviest_product\n",
      "                FROM products\"}\n",
      "                         product_id  heaviest_product\n",
      "0  26644690fde745fc4654719c3904e1db           40425.0\n",
      "\n",
      "The heaviest product is the one with product_id '26644690fde745fc4654719c3904e1db' and a weight of 40425 grams.\n"
     ]
    }
   ],
   "source": [
    "text2sql(\"What is the heaviest product?\")"
   ]
  },
  {
   "cell_type": "code",
   "execution_count": 91,
   "metadata": {},
   "outputs": [
    {
     "name": "stdout",
     "output_type": "stream",
     "text": [
      "\n",
      "\n",
      "{\"sql_query\": \"SELECT COUNT(*) \n",
      "                FROM products as p\n",
      "                LEFT JOIN product_category_name_translation as c on c.product_category_name = p.product_category_name\n",
      "                WHERE product_category_name_english = 'esporte_lazer'\"}\n",
      "   COUNT(*)\n",
      "0         0\n",
      "\n",
      "There are 0 products of category 'esporte_lazer'.\n"
     ]
    }
   ],
   "source": [
    "text2sql(\"How many products of category esporte_lazer are there ?\")"
   ]
  },
  {
   "cell_type": "code",
   "execution_count": 93,
   "metadata": {},
   "outputs": [
    {
     "data": {
      "text/plain": [
       "2867"
      ]
     },
     "execution_count": 93,
     "metadata": {},
     "output_type": "execute_result"
    }
   ],
   "source": [
    "# check: ## Giving the incorrect result from text2sql as shown in above cell\n",
    "products.loc[products['product_category_name'] == 'esporte_lazer',].shape[0]"
   ]
  },
  {
   "cell_type": "code",
   "execution_count": 95,
   "metadata": {},
   "outputs": [
    {
     "name": "stdout",
     "output_type": "stream",
     "text": [
      "\n",
      "\n",
      "{\"sql_query\": \"SELECT MAX(p.product_weight_g) \n",
      "               FROM products as p \n",
      "               LEFT JOIN product_category_name_translation as c on c.product_category_name = p.product_category_name \n",
      "               WHERE product_category_name_english='health_beauty'\"}\n",
      "   MAX(p.product_weight_g)\n",
      "0                  30000.0\n",
      "\n",
      "\n",
      "The heaviest product in the 'health beauty' category is 30000.0 grams.\n"
     ]
    }
   ],
   "source": [
    "text2sql(\"What is the heaviest product of category health_beauty?\")\n",
    "# The heaviest product in the 'health beauty' category weighs 30000 grams."
   ]
  },
  {
   "cell_type": "code",
   "execution_count": 97,
   "metadata": {},
   "outputs": [
    {
     "name": "stdout",
     "output_type": "stream",
     "text": [
      "\n",
      "\n",
      "{\"sql_query\": \"SELECT seller_id, COUNT(*) AS total_sales\n",
      "               FROM order_items as o\n",
      "               LEFT JOIN products as p on p.product_id = o.product_id\n",
      "               LEFT JOIN product_category_name_translation as c on c.product_category_name = p.product_category_name\n",
      "               WHERE product_category_name_english='health_beauty'\n",
      "               GROUP BY seller_id\n",
      "               ORDER BY total_sales DESC\n",
      "               LIMIT 1\"}\n",
      "                          seller_id  total_sales\n",
      "0  cc419e0650a3c5ba77189a1882b7556a         1091\n",
      "\n",
      "\n",
      "The seller with ID 'cc419e0650a3c5ba77189a1882b7556a' sold the most 'health beauty' products with a total of 1091 sales.\n"
     ]
    }
   ],
   "source": [
    "# Three tables:\n",
    "text2sql(\"Who sold most of health_beauty products?\")"
   ]
  },
  {
   "cell_type": "markdown",
   "metadata": {},
   "source": [
    "Text2SQL gave maximum number of correct answer with respect to other approach in this section"
   ]
  },
  {
   "cell_type": "markdown",
   "metadata": {},
   "source": [
    "#### Tabular Data Exploration and Modelling with LLMs"
   ]
  },
  {
   "cell_type": "markdown",
   "metadata": {},
   "source": [
    "##### EDA with LLM"
   ]
  },
  {
   "cell_type": "markdown",
   "metadata": {},
   "source": [
    "- PandasAI would use the LLM power to help us explore and clean data. It would be conversational tools that we can use to ask Pandas to manipulate data in a way we want."
   ]
  },
  {
   "cell_type": "code",
   "execution_count": 1,
   "metadata": {},
   "outputs": [
    {
     "data": {
      "text/html": [
       "<div>\n",
       "<style scoped>\n",
       "    .dataframe tbody tr th:only-of-type {\n",
       "        vertical-align: middle;\n",
       "    }\n",
       "\n",
       "    .dataframe tbody tr th {\n",
       "        vertical-align: top;\n",
       "    }\n",
       "\n",
       "    .dataframe thead th {\n",
       "        text-align: right;\n",
       "    }\n",
       "</style>\n",
       "<table border=\"1\" class=\"dataframe\">\n",
       "  <thead>\n",
       "    <tr style=\"text-align: right;\">\n",
       "      <th></th>\n",
       "      <th>Churn</th>\n",
       "      <th>AccountWeeks</th>\n",
       "      <th>ContractRenewal</th>\n",
       "      <th>DataPlan</th>\n",
       "      <th>DataUsage</th>\n",
       "      <th>CustServCalls</th>\n",
       "      <th>DayMins</th>\n",
       "      <th>DayCalls</th>\n",
       "      <th>MonthlyCharge</th>\n",
       "      <th>OverageFee</th>\n",
       "      <th>RoamMins</th>\n",
       "    </tr>\n",
       "  </thead>\n",
       "  <tbody>\n",
       "    <tr>\n",
       "      <th>0</th>\n",
       "      <td>0</td>\n",
       "      <td>128</td>\n",
       "      <td>1</td>\n",
       "      <td>1</td>\n",
       "      <td>2.7</td>\n",
       "      <td>1</td>\n",
       "      <td>265.1</td>\n",
       "      <td>110</td>\n",
       "      <td>89.0</td>\n",
       "      <td>9.87</td>\n",
       "      <td>10.0</td>\n",
       "    </tr>\n",
       "    <tr>\n",
       "      <th>1</th>\n",
       "      <td>0</td>\n",
       "      <td>107</td>\n",
       "      <td>1</td>\n",
       "      <td>1</td>\n",
       "      <td>3.7</td>\n",
       "      <td>1</td>\n",
       "      <td>161.6</td>\n",
       "      <td>123</td>\n",
       "      <td>82.0</td>\n",
       "      <td>9.78</td>\n",
       "      <td>13.7</td>\n",
       "    </tr>\n",
       "    <tr>\n",
       "      <th>2</th>\n",
       "      <td>0</td>\n",
       "      <td>137</td>\n",
       "      <td>1</td>\n",
       "      <td>0</td>\n",
       "      <td>0.0</td>\n",
       "      <td>0</td>\n",
       "      <td>243.4</td>\n",
       "      <td>114</td>\n",
       "      <td>52.0</td>\n",
       "      <td>6.06</td>\n",
       "      <td>12.2</td>\n",
       "    </tr>\n",
       "    <tr>\n",
       "      <th>3</th>\n",
       "      <td>0</td>\n",
       "      <td>84</td>\n",
       "      <td>0</td>\n",
       "      <td>0</td>\n",
       "      <td>0.0</td>\n",
       "      <td>2</td>\n",
       "      <td>299.4</td>\n",
       "      <td>71</td>\n",
       "      <td>57.0</td>\n",
       "      <td>3.10</td>\n",
       "      <td>6.6</td>\n",
       "    </tr>\n",
       "    <tr>\n",
       "      <th>4</th>\n",
       "      <td>0</td>\n",
       "      <td>75</td>\n",
       "      <td>0</td>\n",
       "      <td>0</td>\n",
       "      <td>0.0</td>\n",
       "      <td>3</td>\n",
       "      <td>166.7</td>\n",
       "      <td>113</td>\n",
       "      <td>41.0</td>\n",
       "      <td>7.42</td>\n",
       "      <td>10.1</td>\n",
       "    </tr>\n",
       "  </tbody>\n",
       "</table>\n",
       "</div>"
      ],
      "text/plain": [
       "   Churn  AccountWeeks  ContractRenewal  DataPlan  DataUsage  CustServCalls  \\\n",
       "0      0           128                1         1        2.7              1   \n",
       "1      0           107                1         1        3.7              1   \n",
       "2      0           137                1         0        0.0              0   \n",
       "3      0            84                0         0        0.0              2   \n",
       "4      0            75                0         0        0.0              3   \n",
       "\n",
       "   DayMins  DayCalls  MonthlyCharge  OverageFee  RoamMins  \n",
       "0    265.1       110           89.0        9.87      10.0  \n",
       "1    161.6       123           82.0        9.78      13.7  \n",
       "2    243.4       114           52.0        6.06      12.2  \n",
       "3    299.4        71           57.0        3.10       6.6  \n",
       "4    166.7       113           41.0        7.42      10.1  "
      ]
     },
     "execution_count": 1,
     "metadata": {},
     "output_type": "execute_result"
    }
   ],
   "source": [
    "import pandas as pd\n",
    "\n",
    "df = pd.read_csv('data/telecom_churn.csv')\n",
    "df.head()"
   ]
  },
  {
   "cell_type": "code",
   "execution_count": 4,
   "metadata": {},
   "outputs": [],
   "source": [
    "import os\n",
    "from pandasai.llm import OpenAI\n",
    "os.environ[\"OPEN_API_KEY\"]=\"\"\n",
    "openai_api_key = os.environ['OPEN_API_KEY']\n",
    "llm = OpenAI(api_token=os.environ[\"OPEN_API_KEY\"])"
   ]
  },
  {
   "cell_type": "markdown",
   "metadata": {},
   "source": [
    "Then, we would transform our Pandas DataFrame into a SmartDataFrame object that can accept conversational input"
   ]
  },
  {
   "cell_type": "code",
   "execution_count": 6,
   "metadata": {},
   "outputs": [],
   "source": [
    "from pandasai import SmartDataframe\n",
    "df = SmartDataframe(df, config = {'llm': llm})"
   ]
  },
  {
   "cell_type": "code",
   "execution_count": 7,
   "metadata": {},
   "outputs": [
    {
     "data": {
      "text/html": [
       "<div>\n",
       "<style scoped>\n",
       "    .dataframe tbody tr th:only-of-type {\n",
       "        vertical-align: middle;\n",
       "    }\n",
       "\n",
       "    .dataframe tbody tr th {\n",
       "        vertical-align: top;\n",
       "    }\n",
       "\n",
       "    .dataframe thead th {\n",
       "        text-align: right;\n",
       "    }\n",
       "</style>\n",
       "<table border=\"1\" class=\"dataframe\">\n",
       "  <thead>\n",
       "    <tr style=\"text-align: right;\">\n",
       "      <th></th>\n",
       "      <th>Churn</th>\n",
       "      <th>AccountWeeks</th>\n",
       "      <th>ContractRenewal</th>\n",
       "      <th>DataPlan</th>\n",
       "      <th>DataUsage</th>\n",
       "      <th>CustServCalls</th>\n",
       "      <th>DayMins</th>\n",
       "      <th>DayCalls</th>\n",
       "      <th>MonthlyCharge</th>\n",
       "      <th>OverageFee</th>\n",
       "      <th>RoamMins</th>\n",
       "    </tr>\n",
       "  </thead>\n",
       "  <tbody>\n",
       "    <tr>\n",
       "      <th>count</th>\n",
       "      <td>3333.000000</td>\n",
       "      <td>3333.000000</td>\n",
       "      <td>3333.000000</td>\n",
       "      <td>3333.000000</td>\n",
       "      <td>3333.000000</td>\n",
       "      <td>3333.000000</td>\n",
       "      <td>3333.000000</td>\n",
       "      <td>3333.000000</td>\n",
       "      <td>3333.000000</td>\n",
       "      <td>3333.000000</td>\n",
       "      <td>3333.000000</td>\n",
       "    </tr>\n",
       "    <tr>\n",
       "      <th>mean</th>\n",
       "      <td>0.144914</td>\n",
       "      <td>101.064806</td>\n",
       "      <td>0.903090</td>\n",
       "      <td>0.276628</td>\n",
       "      <td>0.816475</td>\n",
       "      <td>1.562856</td>\n",
       "      <td>179.775098</td>\n",
       "      <td>100.435644</td>\n",
       "      <td>56.305161</td>\n",
       "      <td>10.051488</td>\n",
       "      <td>10.237294</td>\n",
       "    </tr>\n",
       "    <tr>\n",
       "      <th>std</th>\n",
       "      <td>0.352067</td>\n",
       "      <td>39.822106</td>\n",
       "      <td>0.295879</td>\n",
       "      <td>0.447398</td>\n",
       "      <td>1.272668</td>\n",
       "      <td>1.315491</td>\n",
       "      <td>54.467389</td>\n",
       "      <td>20.069084</td>\n",
       "      <td>16.426032</td>\n",
       "      <td>2.535712</td>\n",
       "      <td>2.791840</td>\n",
       "    </tr>\n",
       "    <tr>\n",
       "      <th>min</th>\n",
       "      <td>0.000000</td>\n",
       "      <td>1.000000</td>\n",
       "      <td>0.000000</td>\n",
       "      <td>0.000000</td>\n",
       "      <td>0.000000</td>\n",
       "      <td>0.000000</td>\n",
       "      <td>0.000000</td>\n",
       "      <td>0.000000</td>\n",
       "      <td>14.000000</td>\n",
       "      <td>0.000000</td>\n",
       "      <td>0.000000</td>\n",
       "    </tr>\n",
       "    <tr>\n",
       "      <th>25%</th>\n",
       "      <td>0.000000</td>\n",
       "      <td>74.000000</td>\n",
       "      <td>1.000000</td>\n",
       "      <td>0.000000</td>\n",
       "      <td>0.000000</td>\n",
       "      <td>1.000000</td>\n",
       "      <td>143.700000</td>\n",
       "      <td>87.000000</td>\n",
       "      <td>45.000000</td>\n",
       "      <td>8.330000</td>\n",
       "      <td>8.500000</td>\n",
       "    </tr>\n",
       "    <tr>\n",
       "      <th>50%</th>\n",
       "      <td>0.000000</td>\n",
       "      <td>101.000000</td>\n",
       "      <td>1.000000</td>\n",
       "      <td>0.000000</td>\n",
       "      <td>0.000000</td>\n",
       "      <td>1.000000</td>\n",
       "      <td>179.400000</td>\n",
       "      <td>101.000000</td>\n",
       "      <td>53.500000</td>\n",
       "      <td>10.070000</td>\n",
       "      <td>10.300000</td>\n",
       "    </tr>\n",
       "    <tr>\n",
       "      <th>75%</th>\n",
       "      <td>0.000000</td>\n",
       "      <td>127.000000</td>\n",
       "      <td>1.000000</td>\n",
       "      <td>1.000000</td>\n",
       "      <td>1.780000</td>\n",
       "      <td>2.000000</td>\n",
       "      <td>216.400000</td>\n",
       "      <td>114.000000</td>\n",
       "      <td>66.200000</td>\n",
       "      <td>11.770000</td>\n",
       "      <td>12.100000</td>\n",
       "    </tr>\n",
       "    <tr>\n",
       "      <th>max</th>\n",
       "      <td>1.000000</td>\n",
       "      <td>243.000000</td>\n",
       "      <td>1.000000</td>\n",
       "      <td>1.000000</td>\n",
       "      <td>5.400000</td>\n",
       "      <td>9.000000</td>\n",
       "      <td>350.800000</td>\n",
       "      <td>165.000000</td>\n",
       "      <td>111.300000</td>\n",
       "      <td>18.190000</td>\n",
       "      <td>20.000000</td>\n",
       "    </tr>\n",
       "  </tbody>\n",
       "</table>\n",
       "</div>"
      ],
      "text/plain": [
       "             Churn  AccountWeeks  ContractRenewal     DataPlan    DataUsage  \\\n",
       "count  3333.000000   3333.000000      3333.000000  3333.000000  3333.000000   \n",
       "mean      0.144914    101.064806         0.903090     0.276628     0.816475   \n",
       "std       0.352067     39.822106         0.295879     0.447398     1.272668   \n",
       "min       0.000000      1.000000         0.000000     0.000000     0.000000   \n",
       "25%       0.000000     74.000000         1.000000     0.000000     0.000000   \n",
       "50%       0.000000    101.000000         1.000000     0.000000     0.000000   \n",
       "75%       0.000000    127.000000         1.000000     1.000000     1.780000   \n",
       "max       1.000000    243.000000         1.000000     1.000000     5.400000   \n",
       "\n",
       "       CustServCalls      DayMins     DayCalls  MonthlyCharge   OverageFee  \\\n",
       "count    3333.000000  3333.000000  3333.000000    3333.000000  3333.000000   \n",
       "mean        1.562856   179.775098   100.435644      56.305161    10.051488   \n",
       "std         1.315491    54.467389    20.069084      16.426032     2.535712   \n",
       "min         0.000000     0.000000     0.000000      14.000000     0.000000   \n",
       "25%         1.000000   143.700000    87.000000      45.000000     8.330000   \n",
       "50%         1.000000   179.400000   101.000000      53.500000    10.070000   \n",
       "75%         2.000000   216.400000   114.000000      66.200000    11.770000   \n",
       "max         9.000000   350.800000   165.000000     111.300000    18.190000   \n",
       "\n",
       "          RoamMins  \n",
       "count  3333.000000  \n",
       "mean     10.237294  \n",
       "std       2.791840  \n",
       "min       0.000000  \n",
       "25%       8.500000  \n",
       "50%      10.300000  \n",
       "75%      12.100000  \n",
       "max      20.000000  "
      ]
     },
     "execution_count": 7,
     "metadata": {},
     "output_type": "execute_result"
    }
   ],
   "source": [
    "response = df.chat(\"Can you provide me the detailed statistic of this dataset\")\n",
    "response"
   ]
  },
  {
   "cell_type": "markdown",
   "metadata": {},
   "source": [
    "##### Tabular Model Development with LLM"
   ]
  },
  {
   "cell_type": "code",
   "execution_count": 13,
   "metadata": {},
   "outputs": [
    {
     "name": "stderr",
     "output_type": "stream",
     "text": [
      "/Users/nisargmehta/Documents/LLM/langchain/myenv/lib/python3.9/site-packages/sklearn/linear_model/_logistic.py:469: ConvergenceWarning: lbfgs failed to converge (status=1):\n",
      "STOP: TOTAL NO. of ITERATIONS REACHED LIMIT.\n",
      "\n",
      "Increase the number of iterations (max_iter) or scale the data as shown in:\n",
      "    https://scikit-learn.org/stable/modules/preprocessing.html\n",
      "Please also refer to the documentation for alternative solver options:\n",
      "    https://scikit-learn.org/stable/modules/linear_model.html#logistic-regression\n",
      "  n_iter_i = _check_optimize_result(\n"
     ]
    }
   ],
   "source": [
    "from sklearn.model_selection import train_test_split\n",
    "from sklearn.linear_model import LogisticRegression\n",
    "\n",
    "df = pd.read_csv('data/telecom_churn.csv')\n",
    "\n",
    "X_train, X_test, y_train, y_test = train_test_split(df.drop('Churn', axis =1), df['Churn'], test_size=.2, random_state = 42)\n",
    "\n",
    "model = LogisticRegression()\n",
    "\n",
    "# Train the model\n",
    "model.fit(X_train, y_train)\n",
    "\n",
    "# Make predictions\n",
    "y_pred = model.predict(X_test)"
   ]
  },
  {
   "cell_type": "code",
   "execution_count": 16,
   "metadata": {},
   "outputs": [
    {
     "name": "stdout",
     "output_type": "stream",
     "text": [
      "F1 Score:  0.22727272727272727\n"
     ]
    }
   ],
   "source": [
    "from sklearn.metrics import f1_score\n",
    "\n",
    "print('F1 Score: ', f1_score(y_test, y_pred)) "
   ]
  },
  {
   "cell_type": "markdown",
   "metadata": {},
   "source": [
    "- With the Logistic Regression model in place, we would compare it with the LLM model if we try to create the prediction.\n",
    "- For this case, we need to transform the tabular data into a form that LLM could accept. That's why the code below would focus on transforming data into text."
   ]
  },
  {
   "cell_type": "code",
   "execution_count": 17,
   "metadata": {},
   "outputs": [],
   "source": [
    "def concatenate_text(x):\n",
    "    if x['ContractRenewal'] == 1:\n",
    "      cr = 'have renew the contract'\n",
    "    else:\n",
    "      cr = 'never renew the contract'\n",
    "\n",
    "    if x['DataPlan'] == 1:\n",
    "      dp = 'have data plan'\n",
    "    else:\n",
    "      dp = \"doesn't have data plan\"\n",
    "\n",
    "    full_text = (\n",
    "        f\"This customer account is {x['AccountWeeks']} weeks old, \",\n",
    "        f\"{cr}, \",\n",
    "        f\"{dp}, \",\n",
    "        f\"with {x['DataUsage']} GB of Monthly Data Usage, \",\n",
    "        f\"{x['CustServCalls']} times of Customer Service Calls, \" ,\n",
    "        f\"{x['DayMins']} minutes total usage average monthly, \",\n",
    "        f\"{x['DayCalls']} times in average of daytime calls, \"\n",
    "        f\"{x['MonthlyCharge']} monthly bill average, \"\n",
    "        f\"with the largest overage Fee in the last 12 month is {x['OverageFee']}, \"\n",
    "        f\"and {x['RoamMins']} minutes in average for roaming\"\n",
    "\n",
    "    )\n",
    "    return ''.join(full_text)\n",
    "\n",
    "X_train['label'] = y_train\n",
    "X_test['label'] = y_test\n",
    "\n",
    "X_train['text'] = X_train.apply(lambda x: concatenate_text(x), axis=1)\n",
    "X_test['text'] = X_test.apply(lambda x: concatenate_text(x), axis=1)"
   ]
  },
  {
   "cell_type": "markdown",
   "metadata": {},
   "source": [
    "Next, we would fine-tune an LLM model for text classification purposes. I would use the BERT base model as the foundation model for the classification."
   ]
  },
  {
   "cell_type": "code",
   "execution_count": 20,
   "metadata": {},
   "outputs": [
    {
     "name": "stderr",
     "output_type": "stream",
     "text": [
      "Map: 100%|██████████| 2666/2666 [00:01<00:00, 1935.77 examples/s]\n",
      "Map: 100%|██████████| 667/667 [00:00<00:00, 1909.84 examples/s]\n",
      "Map: 100%|██████████| 2666/2666 [00:00<00:00, 10931.60 examples/s]\n",
      "Map: 100%|██████████| 667/667 [00:00<00:00, 16762.24 examples/s]\n"
     ]
    }
   ],
   "source": [
    "import torch\n",
    "from transformers import BertTokenizer, BertForSequenceClassification, Trainer, TrainingArguments\n",
    "from datasets import Dataset\n",
    "import numpy as np\n",
    "import evaluate\n",
    "\n",
    "# label mapping\n",
    "id2label = {0: \"NOT-CHURN\", 1: \"CHURN\"}\n",
    "label2id = {\"NOT-CHURN\": 0, \"CHURN\": 1}\n",
    "\n",
    "# dataset formatting\n",
    "train_dataset = Dataset.from_pandas(X_train)\n",
    "test_dataset = Dataset.from_pandas(X_test)\n",
    "\n",
    "# Tokenization\n",
    "tokenizer = BertTokenizer.from_pretrained('bert-base-uncased')\n",
    "\n",
    "# Tweak the tokenizer function as you need\n",
    "def tokenize_fn(examples):\n",
    "    return tokenizer(examples['text'], padding='max_length', truncation=True, max_length=128)\n",
    "\n",
    "tokenized_train = train_dataset.map(tokenize_fn, batched=True)\n",
    "tokenized_test= test_dataset.map(tokenize_fn, batched=True)\n",
    "\n",
    "tokenized_train_dataset = tokenized_train.map(lambda x: {'labels': x['label']})\n",
    "tokenized_test_dataset = tokenized_test.map(lambda x: {'labels': x['label']})"
   ]
  },
  {
   "cell_type": "code",
   "execution_count": 21,
   "metadata": {},
   "outputs": [
    {
     "name": "stderr",
     "output_type": "stream",
     "text": [
      "Some weights of BertForSequenceClassification were not initialized from the model checkpoint at bert-base-uncased and are newly initialized: ['classifier.bias', 'classifier.weight']\n",
      "You should probably TRAIN this model on a down-stream task to be able to use it for predictions and inference.\n",
      "/Users/nisargmehta/Documents/LLM/langchain/myenv/lib/python3.9/site-packages/transformers/training_args.py:1474: FutureWarning: `evaluation_strategy` is deprecated and will be removed in version 4.46 of 🤗 Transformers. Use `eval_strategy` instead\n",
      "  warnings.warn(\n",
      "Downloading builder script: 100%|██████████| 6.77k/6.77k [00:00<00:00, 40.1MB/s]\n",
      "  1%|          | 10/1670 [00:06<08:55,  3.10it/s] "
     ]
    },
    {
     "name": "stdout",
     "output_type": "stream",
     "text": [
      "{'loss': 0.4889, 'grad_norm': 5.8668975830078125, 'learning_rate': 1.0000000000000002e-06, 'epoch': 0.03}\n"
     ]
    },
    {
     "name": "stderr",
     "output_type": "stream",
     "text": [
      "  1%|          | 20/1670 [00:08<07:39,  3.59it/s]"
     ]
    },
    {
     "name": "stdout",
     "output_type": "stream",
     "text": [
      "{'loss': 0.4854, 'grad_norm': 7.605673789978027, 'learning_rate': 2.0000000000000003e-06, 'epoch': 0.06}\n"
     ]
    },
    {
     "name": "stderr",
     "output_type": "stream",
     "text": [
      "  2%|▏         | 30/1670 [00:11<07:32,  3.63it/s]"
     ]
    },
    {
     "name": "stdout",
     "output_type": "stream",
     "text": [
      "{'loss': 0.5388, 'grad_norm': 2.0090012550354004, 'learning_rate': 3e-06, 'epoch': 0.09}\n"
     ]
    },
    {
     "name": "stderr",
     "output_type": "stream",
     "text": [
      "  2%|▏         | 40/1670 [00:14<07:28,  3.63it/s]"
     ]
    },
    {
     "name": "stdout",
     "output_type": "stream",
     "text": [
      "{'loss': 0.3894, 'grad_norm': 2.7741880416870117, 'learning_rate': 4.000000000000001e-06, 'epoch': 0.12}\n"
     ]
    },
    {
     "name": "stderr",
     "output_type": "stream",
     "text": [
      "  3%|▎         | 50/1670 [00:17<07:26,  3.63it/s]"
     ]
    },
    {
     "name": "stdout",
     "output_type": "stream",
     "text": [
      "{'loss': 0.3817, 'grad_norm': 6.8861494064331055, 'learning_rate': 5e-06, 'epoch': 0.15}\n"
     ]
    },
    {
     "name": "stderr",
     "output_type": "stream",
     "text": [
      "  4%|▎         | 60/1670 [00:19<07:24,  3.63it/s]"
     ]
    },
    {
     "name": "stdout",
     "output_type": "stream",
     "text": [
      "{'loss': 0.4558, 'grad_norm': 2.7952206134796143, 'learning_rate': 6e-06, 'epoch': 0.18}\n"
     ]
    },
    {
     "name": "stderr",
     "output_type": "stream",
     "text": [
      "  4%|▍         | 70/1670 [00:22<07:33,  3.53it/s]"
     ]
    },
    {
     "name": "stdout",
     "output_type": "stream",
     "text": [
      "{'loss': 0.4123, 'grad_norm': 7.330334663391113, 'learning_rate': 7.000000000000001e-06, 'epoch': 0.21}\n"
     ]
    },
    {
     "name": "stderr",
     "output_type": "stream",
     "text": [
      "  5%|▍         | 80/1670 [00:25<07:21,  3.60it/s]"
     ]
    },
    {
     "name": "stdout",
     "output_type": "stream",
     "text": [
      "{'loss': 0.4592, 'grad_norm': 1.5174626111984253, 'learning_rate': 8.000000000000001e-06, 'epoch': 0.24}\n"
     ]
    },
    {
     "name": "stderr",
     "output_type": "stream",
     "text": [
      "  5%|▌         | 90/1670 [00:28<07:16,  3.62it/s]"
     ]
    },
    {
     "name": "stdout",
     "output_type": "stream",
     "text": [
      "{'loss': 0.3811, 'grad_norm': 4.050023555755615, 'learning_rate': 9e-06, 'epoch': 0.27}\n"
     ]
    },
    {
     "name": "stderr",
     "output_type": "stream",
     "text": [
      "  6%|▌         | 100/1670 [00:31<07:28,  3.50it/s]"
     ]
    },
    {
     "name": "stdout",
     "output_type": "stream",
     "text": [
      "{'loss': 0.4965, 'grad_norm': 1.825079321861267, 'learning_rate': 1e-05, 'epoch': 0.3}\n"
     ]
    },
    {
     "name": "stderr",
     "output_type": "stream",
     "text": [
      "  7%|▋         | 110/1670 [00:34<07:24,  3.51it/s]"
     ]
    },
    {
     "name": "stdout",
     "output_type": "stream",
     "text": [
      "{'loss': 0.3933, 'grad_norm': 3.7556447982788086, 'learning_rate': 1.1000000000000001e-05, 'epoch': 0.33}\n"
     ]
    },
    {
     "name": "stderr",
     "output_type": "stream",
     "text": [
      "  7%|▋         | 120/1670 [00:36<07:16,  3.55it/s]"
     ]
    },
    {
     "name": "stdout",
     "output_type": "stream",
     "text": [
      "{'loss': 0.4618, 'grad_norm': 7.704730987548828, 'learning_rate': 1.2e-05, 'epoch': 0.36}\n"
     ]
    },
    {
     "name": "stderr",
     "output_type": "stream",
     "text": [
      "  8%|▊         | 130/1670 [00:39<07:12,  3.56it/s]"
     ]
    },
    {
     "name": "stdout",
     "output_type": "stream",
     "text": [
      "{'loss': 0.3868, 'grad_norm': 10.940210342407227, 'learning_rate': 1.3000000000000001e-05, 'epoch': 0.39}\n"
     ]
    },
    {
     "name": "stderr",
     "output_type": "stream",
     "text": [
      "  8%|▊         | 140/1670 [00:42<07:05,  3.60it/s]"
     ]
    },
    {
     "name": "stdout",
     "output_type": "stream",
     "text": [
      "{'loss': 0.3659, 'grad_norm': 3.4106380939483643, 'learning_rate': 1.4000000000000001e-05, 'epoch': 0.42}\n"
     ]
    },
    {
     "name": "stderr",
     "output_type": "stream",
     "text": [
      "  9%|▉         | 150/1670 [00:45<07:13,  3.51it/s]"
     ]
    },
    {
     "name": "stdout",
     "output_type": "stream",
     "text": [
      "{'loss': 0.3948, 'grad_norm': 2.64888596534729, 'learning_rate': 1.5e-05, 'epoch': 0.45}\n"
     ]
    },
    {
     "name": "stderr",
     "output_type": "stream",
     "text": [
      " 10%|▉         | 160/1670 [00:48<07:03,  3.56it/s]"
     ]
    },
    {
     "name": "stdout",
     "output_type": "stream",
     "text": [
      "{'loss': 0.2873, 'grad_norm': 7.357054233551025, 'learning_rate': 1.6000000000000003e-05, 'epoch': 0.48}\n"
     ]
    },
    {
     "name": "stderr",
     "output_type": "stream",
     "text": [
      " 10%|█         | 170/1670 [00:51<07:10,  3.48it/s]"
     ]
    },
    {
     "name": "stdout",
     "output_type": "stream",
     "text": [
      "{'loss': 0.4382, 'grad_norm': 5.752063751220703, 'learning_rate': 1.7000000000000003e-05, 'epoch': 0.51}\n"
     ]
    },
    {
     "name": "stderr",
     "output_type": "stream",
     "text": [
      " 11%|█         | 180/1670 [00:54<07:10,  3.46it/s]"
     ]
    },
    {
     "name": "stdout",
     "output_type": "stream",
     "text": [
      "{'loss': 0.2838, 'grad_norm': 5.959490776062012, 'learning_rate': 1.8e-05, 'epoch': 0.54}\n"
     ]
    },
    {
     "name": "stderr",
     "output_type": "stream",
     "text": [
      " 11%|█▏        | 190/1670 [00:56<07:42,  3.20it/s]"
     ]
    },
    {
     "name": "stdout",
     "output_type": "stream",
     "text": [
      "{'loss': 0.3323, 'grad_norm': 1.5545361042022705, 'learning_rate': 1.9e-05, 'epoch': 0.57}\n"
     ]
    },
    {
     "name": "stderr",
     "output_type": "stream",
     "text": [
      " 12%|█▏        | 200/1670 [00:59<06:58,  3.51it/s]"
     ]
    },
    {
     "name": "stdout",
     "output_type": "stream",
     "text": [
      "{'loss': 0.5187, 'grad_norm': 5.835117340087891, 'learning_rate': 2e-05, 'epoch': 0.6}\n"
     ]
    },
    {
     "name": "stderr",
     "output_type": "stream",
     "text": [
      " 13%|█▎        | 210/1670 [01:02<06:45,  3.60it/s]"
     ]
    },
    {
     "name": "stdout",
     "output_type": "stream",
     "text": [
      "{'loss': 0.5389, 'grad_norm': 3.1408114433288574, 'learning_rate': 2.1e-05, 'epoch': 0.63}\n"
     ]
    },
    {
     "name": "stderr",
     "output_type": "stream",
     "text": [
      " 13%|█▎        | 220/1670 [01:05<07:04,  3.41it/s]"
     ]
    },
    {
     "name": "stdout",
     "output_type": "stream",
     "text": [
      "{'loss': 0.4925, 'grad_norm': 1.7925256490707397, 'learning_rate': 2.2000000000000003e-05, 'epoch': 0.66}\n"
     ]
    },
    {
     "name": "stderr",
     "output_type": "stream",
     "text": [
      " 14%|█▍        | 230/1670 [01:08<06:53,  3.48it/s]"
     ]
    },
    {
     "name": "stdout",
     "output_type": "stream",
     "text": [
      "{'loss': 0.4613, 'grad_norm': 6.6035943031311035, 'learning_rate': 2.3000000000000003e-05, 'epoch': 0.69}\n"
     ]
    },
    {
     "name": "stderr",
     "output_type": "stream",
     "text": [
      " 14%|█▍        | 240/1670 [01:11<06:41,  3.56it/s]"
     ]
    },
    {
     "name": "stdout",
     "output_type": "stream",
     "text": [
      "{'loss': 0.4328, 'grad_norm': 1.3407866954803467, 'learning_rate': 2.4e-05, 'epoch': 0.72}\n"
     ]
    },
    {
     "name": "stderr",
     "output_type": "stream",
     "text": [
      " 15%|█▍        | 250/1670 [01:13<06:41,  3.54it/s]"
     ]
    },
    {
     "name": "stdout",
     "output_type": "stream",
     "text": [
      "{'loss': 0.3208, 'grad_norm': 1.8319226503372192, 'learning_rate': 2.5e-05, 'epoch': 0.75}\n"
     ]
    },
    {
     "name": "stderr",
     "output_type": "stream",
     "text": [
      " 16%|█▌        | 260/1670 [01:16<06:34,  3.57it/s]"
     ]
    },
    {
     "name": "stdout",
     "output_type": "stream",
     "text": [
      "{'loss': 0.4797, 'grad_norm': 3.9044809341430664, 'learning_rate': 2.6000000000000002e-05, 'epoch': 0.78}\n"
     ]
    },
    {
     "name": "stderr",
     "output_type": "stream",
     "text": [
      " 16%|█▌        | 270/1670 [01:19<06:29,  3.59it/s]"
     ]
    },
    {
     "name": "stdout",
     "output_type": "stream",
     "text": [
      "{'loss': 0.3558, 'grad_norm': 4.602632999420166, 'learning_rate': 2.7000000000000002e-05, 'epoch': 0.81}\n"
     ]
    },
    {
     "name": "stderr",
     "output_type": "stream",
     "text": [
      " 17%|█▋        | 280/1670 [01:22<06:24,  3.61it/s]"
     ]
    },
    {
     "name": "stdout",
     "output_type": "stream",
     "text": [
      "{'loss': 0.3819, 'grad_norm': 4.169885158538818, 'learning_rate': 2.8000000000000003e-05, 'epoch': 0.84}\n"
     ]
    },
    {
     "name": "stderr",
     "output_type": "stream",
     "text": [
      " 17%|█▋        | 290/1670 [01:25<06:27,  3.56it/s]"
     ]
    },
    {
     "name": "stdout",
     "output_type": "stream",
     "text": [
      "{'loss': 0.3794, 'grad_norm': 1.2475417852401733, 'learning_rate': 2.9e-05, 'epoch': 0.87}\n"
     ]
    },
    {
     "name": "stderr",
     "output_type": "stream",
     "text": [
      " 18%|█▊        | 300/1670 [01:28<06:28,  3.53it/s]"
     ]
    },
    {
     "name": "stdout",
     "output_type": "stream",
     "text": [
      "{'loss': 0.3697, 'grad_norm': 5.296911239624023, 'learning_rate': 3e-05, 'epoch': 0.9}\n"
     ]
    },
    {
     "name": "stderr",
     "output_type": "stream",
     "text": [
      " 19%|█▊        | 310/1670 [01:30<06:29,  3.49it/s]"
     ]
    },
    {
     "name": "stdout",
     "output_type": "stream",
     "text": [
      "{'loss': 0.5877, 'grad_norm': 14.343379020690918, 'learning_rate': 3.1e-05, 'epoch': 0.93}\n"
     ]
    },
    {
     "name": "stderr",
     "output_type": "stream",
     "text": [
      " 19%|█▉        | 320/1670 [01:33<06:27,  3.49it/s]"
     ]
    },
    {
     "name": "stdout",
     "output_type": "stream",
     "text": [
      "{'loss': 0.4064, 'grad_norm': 2.767699956893921, 'learning_rate': 3.2000000000000005e-05, 'epoch': 0.96}\n"
     ]
    },
    {
     "name": "stderr",
     "output_type": "stream",
     "text": [
      " 20%|█▉        | 330/1670 [01:36<06:15,  3.57it/s]"
     ]
    },
    {
     "name": "stdout",
     "output_type": "stream",
     "text": [
      "{'loss': 0.4191, 'grad_norm': 1.1659345626831055, 'learning_rate': 3.3e-05, 'epoch': 0.99}\n"
     ]
    },
    {
     "name": "stderr",
     "output_type": "stream",
     "text": [
      " 20%|██        | 334/1670 [01:38<12:35,  1.77it/s]\n",
      " 20%|██        | 334/1670 [01:44<12:35,  1.77it/s]"
     ]
    },
    {
     "name": "stdout",
     "output_type": "stream",
     "text": [
      "{'eval_loss': 0.4428458511829376, 'eval_f1': 0.0, 'eval_runtime': 5.8261, 'eval_samples_per_second': 114.485, 'eval_steps_per_second': 14.418, 'epoch': 1.0}\n"
     ]
    },
    {
     "name": "stderr",
     "output_type": "stream",
     "text": [
      " 20%|██        | 340/1670 [01:46<13:49,  1.60it/s]"
     ]
    },
    {
     "name": "stdout",
     "output_type": "stream",
     "text": [
      "{'loss': 0.2984, 'grad_norm': 2.077877998352051, 'learning_rate': 3.4000000000000007e-05, 'epoch': 1.02}\n"
     ]
    },
    {
     "name": "stderr",
     "output_type": "stream",
     "text": [
      " 21%|██        | 350/1670 [01:49<06:21,  3.46it/s]"
     ]
    },
    {
     "name": "stdout",
     "output_type": "stream",
     "text": [
      "{'loss': 0.3383, 'grad_norm': 2.1599626541137695, 'learning_rate': 3.5e-05, 'epoch': 1.05}\n"
     ]
    },
    {
     "name": "stderr",
     "output_type": "stream",
     "text": [
      " 22%|██▏       | 360/1670 [01:52<06:15,  3.49it/s]"
     ]
    },
    {
     "name": "stdout",
     "output_type": "stream",
     "text": [
      "{'loss': 0.5659, 'grad_norm': 1.5518062114715576, 'learning_rate': 3.6e-05, 'epoch': 1.08}\n"
     ]
    },
    {
     "name": "stderr",
     "output_type": "stream",
     "text": [
      " 22%|██▏       | 370/1670 [01:54<06:05,  3.56it/s]"
     ]
    },
    {
     "name": "stdout",
     "output_type": "stream",
     "text": [
      "{'loss': 0.4632, 'grad_norm': 5.916694641113281, 'learning_rate': 3.7e-05, 'epoch': 1.11}\n"
     ]
    },
    {
     "name": "stderr",
     "output_type": "stream",
     "text": [
      " 23%|██▎       | 380/1670 [01:57<06:00,  3.58it/s]"
     ]
    },
    {
     "name": "stdout",
     "output_type": "stream",
     "text": [
      "{'loss': 0.3999, 'grad_norm': 3.63181471824646, 'learning_rate': 3.8e-05, 'epoch': 1.14}\n"
     ]
    },
    {
     "name": "stderr",
     "output_type": "stream",
     "text": [
      " 23%|██▎       | 390/1670 [02:00<05:54,  3.61it/s]"
     ]
    },
    {
     "name": "stdout",
     "output_type": "stream",
     "text": [
      "{'loss': 0.3876, 'grad_norm': 4.680431842803955, 'learning_rate': 3.9000000000000006e-05, 'epoch': 1.17}\n"
     ]
    },
    {
     "name": "stderr",
     "output_type": "stream",
     "text": [
      " 24%|██▍       | 400/1670 [02:03<05:50,  3.62it/s]"
     ]
    },
    {
     "name": "stdout",
     "output_type": "stream",
     "text": [
      "{'loss': 0.3426, 'grad_norm': 1.3198498487472534, 'learning_rate': 4e-05, 'epoch': 1.2}\n"
     ]
    },
    {
     "name": "stderr",
     "output_type": "stream",
     "text": [
      " 25%|██▍       | 410/1670 [02:06<05:52,  3.57it/s]"
     ]
    },
    {
     "name": "stdout",
     "output_type": "stream",
     "text": [
      "{'loss': 0.4953, 'grad_norm': 1.665381669998169, 'learning_rate': 4.1e-05, 'epoch': 1.23}\n"
     ]
    },
    {
     "name": "stderr",
     "output_type": "stream",
     "text": [
      " 25%|██▌       | 420/1670 [02:08<05:45,  3.61it/s]"
     ]
    },
    {
     "name": "stdout",
     "output_type": "stream",
     "text": [
      "{'loss': 0.4638, 'grad_norm': 7.521394729614258, 'learning_rate': 4.2e-05, 'epoch': 1.26}\n"
     ]
    },
    {
     "name": "stderr",
     "output_type": "stream",
     "text": [
      " 26%|██▌       | 430/1670 [02:11<05:42,  3.62it/s]"
     ]
    },
    {
     "name": "stdout",
     "output_type": "stream",
     "text": [
      "{'loss': 0.566, 'grad_norm': 7.558049201965332, 'learning_rate': 4.3e-05, 'epoch': 1.29}\n"
     ]
    },
    {
     "name": "stderr",
     "output_type": "stream",
     "text": [
      " 26%|██▋       | 440/1670 [02:14<05:40,  3.61it/s]"
     ]
    },
    {
     "name": "stdout",
     "output_type": "stream",
     "text": [
      "{'loss': 0.3654, 'grad_norm': 1.2585800886154175, 'learning_rate': 4.4000000000000006e-05, 'epoch': 1.32}\n"
     ]
    },
    {
     "name": "stderr",
     "output_type": "stream",
     "text": [
      " 27%|██▋       | 450/1670 [02:17<05:37,  3.62it/s]"
     ]
    },
    {
     "name": "stdout",
     "output_type": "stream",
     "text": [
      "{'loss': 0.3422, 'grad_norm': 2.062209129333496, 'learning_rate': 4.5e-05, 'epoch': 1.35}\n"
     ]
    },
    {
     "name": "stderr",
     "output_type": "stream",
     "text": [
      " 28%|██▊       | 460/1670 [02:19<05:33,  3.63it/s]"
     ]
    },
    {
     "name": "stdout",
     "output_type": "stream",
     "text": [
      "{'loss': 0.4465, 'grad_norm': 4.7503509521484375, 'learning_rate': 4.600000000000001e-05, 'epoch': 1.38}\n"
     ]
    },
    {
     "name": "stderr",
     "output_type": "stream",
     "text": [
      " 28%|██▊       | 470/1670 [02:22<05:31,  3.62it/s]"
     ]
    },
    {
     "name": "stdout",
     "output_type": "stream",
     "text": [
      "{'loss': 0.3562, 'grad_norm': 2.8443243503570557, 'learning_rate': 4.7e-05, 'epoch': 1.41}\n"
     ]
    },
    {
     "name": "stderr",
     "output_type": "stream",
     "text": [
      " 29%|██▊       | 480/1670 [02:25<05:28,  3.62it/s]"
     ]
    },
    {
     "name": "stdout",
     "output_type": "stream",
     "text": [
      "{'loss': 0.6027, 'grad_norm': 10.23948860168457, 'learning_rate': 4.8e-05, 'epoch': 1.44}\n"
     ]
    },
    {
     "name": "stderr",
     "output_type": "stream",
     "text": [
      " 29%|██▉       | 490/1670 [02:28<05:25,  3.62it/s]"
     ]
    },
    {
     "name": "stdout",
     "output_type": "stream",
     "text": [
      "{'loss': 0.4267, 'grad_norm': 1.193809986114502, 'learning_rate': 4.9e-05, 'epoch': 1.47}\n"
     ]
    },
    {
     "name": "stderr",
     "output_type": "stream",
     "text": [
      " 30%|██▉       | 500/1670 [02:30<05:23,  3.62it/s]"
     ]
    },
    {
     "name": "stdout",
     "output_type": "stream",
     "text": [
      "{'loss': 0.3049, 'grad_norm': 3.489506959915161, 'learning_rate': 5e-05, 'epoch': 1.5}\n"
     ]
    },
    {
     "name": "stderr",
     "output_type": "stream",
     "text": [
      " 31%|███       | 510/1670 [02:35<05:38,  3.42it/s]"
     ]
    },
    {
     "name": "stdout",
     "output_type": "stream",
     "text": [
      "{'loss': 0.4138, 'grad_norm': 1.5312869548797607, 'learning_rate': 4.9572649572649575e-05, 'epoch': 1.53}\n"
     ]
    },
    {
     "name": "stderr",
     "output_type": "stream",
     "text": [
      " 31%|███       | 520/1670 [02:38<05:14,  3.66it/s]"
     ]
    },
    {
     "name": "stdout",
     "output_type": "stream",
     "text": [
      "{'loss': 0.4514, 'grad_norm': 2.7996082305908203, 'learning_rate': 4.9145299145299147e-05, 'epoch': 1.56}\n"
     ]
    },
    {
     "name": "stderr",
     "output_type": "stream",
     "text": [
      " 32%|███▏      | 530/1670 [02:40<05:12,  3.65it/s]"
     ]
    },
    {
     "name": "stdout",
     "output_type": "stream",
     "text": [
      "{'loss': 0.411, 'grad_norm': 4.143256664276123, 'learning_rate': 4.871794871794872e-05, 'epoch': 1.59}\n"
     ]
    },
    {
     "name": "stderr",
     "output_type": "stream",
     "text": [
      " 32%|███▏      | 540/1670 [02:43<05:09,  3.65it/s]"
     ]
    },
    {
     "name": "stdout",
     "output_type": "stream",
     "text": [
      "{'loss': 0.3641, 'grad_norm': 2.1700921058654785, 'learning_rate': 4.829059829059829e-05, 'epoch': 1.62}\n"
     ]
    },
    {
     "name": "stderr",
     "output_type": "stream",
     "text": [
      " 33%|███▎      | 550/1670 [02:46<05:06,  3.66it/s]"
     ]
    },
    {
     "name": "stdout",
     "output_type": "stream",
     "text": [
      "{'loss': 0.2683, 'grad_norm': 3.3267009258270264, 'learning_rate': 4.786324786324787e-05, 'epoch': 1.65}\n"
     ]
    },
    {
     "name": "stderr",
     "output_type": "stream",
     "text": [
      " 34%|███▎      | 560/1670 [02:48<05:04,  3.65it/s]"
     ]
    },
    {
     "name": "stdout",
     "output_type": "stream",
     "text": [
      "{'loss': 0.5321, 'grad_norm': 9.4354829788208, 'learning_rate': 4.7435897435897435e-05, 'epoch': 1.68}\n"
     ]
    },
    {
     "name": "stderr",
     "output_type": "stream",
     "text": [
      " 34%|███▍      | 570/1670 [02:51<05:01,  3.64it/s]"
     ]
    },
    {
     "name": "stdout",
     "output_type": "stream",
     "text": [
      "{'loss': 0.4489, 'grad_norm': 3.240812301635742, 'learning_rate': 4.700854700854701e-05, 'epoch': 1.71}\n"
     ]
    },
    {
     "name": "stderr",
     "output_type": "stream",
     "text": [
      " 35%|███▍      | 580/1670 [02:54<04:59,  3.64it/s]"
     ]
    },
    {
     "name": "stdout",
     "output_type": "stream",
     "text": [
      "{'loss': 0.4471, 'grad_norm': 6.742738723754883, 'learning_rate': 4.6581196581196586e-05, 'epoch': 1.74}\n"
     ]
    },
    {
     "name": "stderr",
     "output_type": "stream",
     "text": [
      " 35%|███▌      | 590/1670 [02:57<04:56,  3.65it/s]"
     ]
    },
    {
     "name": "stdout",
     "output_type": "stream",
     "text": [
      "{'loss': 0.3654, 'grad_norm': 5.967387676239014, 'learning_rate': 4.615384615384616e-05, 'epoch': 1.77}\n"
     ]
    },
    {
     "name": "stderr",
     "output_type": "stream",
     "text": [
      " 36%|███▌      | 600/1670 [02:59<04:52,  3.66it/s]"
     ]
    },
    {
     "name": "stdout",
     "output_type": "stream",
     "text": [
      "{'loss': 0.4584, 'grad_norm': 2.6292645931243896, 'learning_rate': 4.572649572649573e-05, 'epoch': 1.8}\n"
     ]
    },
    {
     "name": "stderr",
     "output_type": "stream",
     "text": [
      " 37%|███▋      | 610/1670 [03:02<04:50,  3.65it/s]"
     ]
    },
    {
     "name": "stdout",
     "output_type": "stream",
     "text": [
      "{'loss': 0.3592, 'grad_norm': 5.147336483001709, 'learning_rate': 4.52991452991453e-05, 'epoch': 1.83}\n"
     ]
    },
    {
     "name": "stderr",
     "output_type": "stream",
     "text": [
      " 37%|███▋      | 620/1670 [03:05<04:46,  3.66it/s]"
     ]
    },
    {
     "name": "stdout",
     "output_type": "stream",
     "text": [
      "{'loss': 0.4232, 'grad_norm': 3.149099111557007, 'learning_rate': 4.4871794871794874e-05, 'epoch': 1.86}\n"
     ]
    },
    {
     "name": "stderr",
     "output_type": "stream",
     "text": [
      " 38%|███▊      | 630/1670 [03:08<04:44,  3.66it/s]"
     ]
    },
    {
     "name": "stdout",
     "output_type": "stream",
     "text": [
      "{'loss': 0.3855, 'grad_norm': 1.4474109411239624, 'learning_rate': 4.4444444444444447e-05, 'epoch': 1.89}\n"
     ]
    },
    {
     "name": "stderr",
     "output_type": "stream",
     "text": [
      " 38%|███▊      | 640/1670 [03:10<04:47,  3.58it/s]"
     ]
    },
    {
     "name": "stdout",
     "output_type": "stream",
     "text": [
      "{'loss': 0.4233, 'grad_norm': 1.5100250244140625, 'learning_rate': 4.401709401709402e-05, 'epoch': 1.92}\n"
     ]
    },
    {
     "name": "stderr",
     "output_type": "stream",
     "text": [
      " 39%|███▉      | 650/1670 [03:13<04:38,  3.66it/s]"
     ]
    },
    {
     "name": "stdout",
     "output_type": "stream",
     "text": [
      "{'loss': 0.389, 'grad_norm': 6.084747314453125, 'learning_rate': 4.358974358974359e-05, 'epoch': 1.95}\n"
     ]
    },
    {
     "name": "stderr",
     "output_type": "stream",
     "text": [
      " 40%|███▉      | 660/1670 [03:16<04:36,  3.66it/s]"
     ]
    },
    {
     "name": "stdout",
     "output_type": "stream",
     "text": [
      "{'loss': 0.4519, 'grad_norm': 3.052718162536621, 'learning_rate': 4.316239316239317e-05, 'epoch': 1.98}\n"
     ]
    },
    {
     "name": "stderr",
     "output_type": "stream",
     "text": [
      "                                                  \n",
      " 40%|████      | 668/1670 [03:23<03:58,  4.19it/s]"
     ]
    },
    {
     "name": "stdout",
     "output_type": "stream",
     "text": [
      "{'eval_loss': 0.4283806383609772, 'eval_f1': 0.0, 'eval_runtime': 4.8662, 'eval_samples_per_second': 137.067, 'eval_steps_per_second': 17.262, 'epoch': 2.0}\n"
     ]
    },
    {
     "name": "stderr",
     "output_type": "stream",
     "text": [
      " 40%|████      | 670/1670 [03:23<21:24,  1.28s/it]"
     ]
    },
    {
     "name": "stdout",
     "output_type": "stream",
     "text": [
      "{'loss': 0.5399, 'grad_norm': 2.6203763484954834, 'learning_rate': 4.2735042735042735e-05, 'epoch': 2.01}\n"
     ]
    },
    {
     "name": "stderr",
     "output_type": "stream",
     "text": [
      " 41%|████      | 680/1670 [03:26<05:00,  3.30it/s]"
     ]
    },
    {
     "name": "stdout",
     "output_type": "stream",
     "text": [
      "{'loss': 0.4282, 'grad_norm': 6.276249408721924, 'learning_rate': 4.230769230769231e-05, 'epoch': 2.04}\n"
     ]
    },
    {
     "name": "stderr",
     "output_type": "stream",
     "text": [
      " 41%|████▏     | 690/1670 [03:29<04:30,  3.63it/s]"
     ]
    },
    {
     "name": "stdout",
     "output_type": "stream",
     "text": [
      "{'loss': 0.456, 'grad_norm': 4.203884124755859, 'learning_rate': 4.1880341880341886e-05, 'epoch': 2.07}\n"
     ]
    },
    {
     "name": "stderr",
     "output_type": "stream",
     "text": [
      " 42%|████▏     | 700/1670 [03:32<04:26,  3.64it/s]"
     ]
    },
    {
     "name": "stdout",
     "output_type": "stream",
     "text": [
      "{'loss': 0.501, 'grad_norm': 1.5560195446014404, 'learning_rate': 4.145299145299146e-05, 'epoch': 2.1}\n"
     ]
    },
    {
     "name": "stderr",
     "output_type": "stream",
     "text": [
      " 43%|████▎     | 710/1670 [03:34<04:23,  3.64it/s]"
     ]
    },
    {
     "name": "stdout",
     "output_type": "stream",
     "text": [
      "{'loss': 0.3902, 'grad_norm': 7.520972728729248, 'learning_rate': 4.1025641025641023e-05, 'epoch': 2.13}\n"
     ]
    },
    {
     "name": "stderr",
     "output_type": "stream",
     "text": [
      " 43%|████▎     | 720/1670 [03:37<04:21,  3.64it/s]"
     ]
    },
    {
     "name": "stdout",
     "output_type": "stream",
     "text": [
      "{'loss': 0.4084, 'grad_norm': 3.1518075466156006, 'learning_rate': 4.05982905982906e-05, 'epoch': 2.16}\n"
     ]
    },
    {
     "name": "stderr",
     "output_type": "stream",
     "text": [
      " 44%|████▎     | 730/1670 [03:40<04:26,  3.53it/s]"
     ]
    },
    {
     "name": "stdout",
     "output_type": "stream",
     "text": [
      "{'loss': 0.222, 'grad_norm': 3.1483583450317383, 'learning_rate': 4.0170940170940174e-05, 'epoch': 2.19}\n"
     ]
    },
    {
     "name": "stderr",
     "output_type": "stream",
     "text": [
      " 44%|████▍     | 740/1670 [03:43<04:14,  3.66it/s]"
     ]
    },
    {
     "name": "stdout",
     "output_type": "stream",
     "text": [
      "{'loss': 0.2855, 'grad_norm': 2.298267126083374, 'learning_rate': 3.974358974358974e-05, 'epoch': 2.22}\n"
     ]
    },
    {
     "name": "stderr",
     "output_type": "stream",
     "text": [
      " 45%|████▍     | 750/1670 [03:46<04:11,  3.65it/s]"
     ]
    },
    {
     "name": "stdout",
     "output_type": "stream",
     "text": [
      "{'loss': 0.3575, 'grad_norm': 2.336143970489502, 'learning_rate': 3.931623931623932e-05, 'epoch': 2.25}\n"
     ]
    },
    {
     "name": "stderr",
     "output_type": "stream",
     "text": [
      " 46%|████▌     | 760/1670 [03:48<04:08,  3.66it/s]"
     ]
    },
    {
     "name": "stdout",
     "output_type": "stream",
     "text": [
      "{'loss': 0.3838, 'grad_norm': 8.033416748046875, 'learning_rate': 3.888888888888889e-05, 'epoch': 2.28}\n"
     ]
    },
    {
     "name": "stderr",
     "output_type": "stream",
     "text": [
      " 46%|████▌     | 770/1670 [03:51<04:06,  3.65it/s]"
     ]
    },
    {
     "name": "stdout",
     "output_type": "stream",
     "text": [
      "{'loss': 0.4274, 'grad_norm': 4.056546688079834, 'learning_rate': 3.846153846153846e-05, 'epoch': 2.31}\n"
     ]
    },
    {
     "name": "stderr",
     "output_type": "stream",
     "text": [
      " 47%|████▋     | 780/1670 [03:54<04:04,  3.65it/s]"
     ]
    },
    {
     "name": "stdout",
     "output_type": "stream",
     "text": [
      "{'loss': 0.489, 'grad_norm': 2.0363423824310303, 'learning_rate': 3.8034188034188035e-05, 'epoch': 2.34}\n"
     ]
    },
    {
     "name": "stderr",
     "output_type": "stream",
     "text": [
      " 47%|████▋     | 790/1670 [03:56<04:01,  3.64it/s]"
     ]
    },
    {
     "name": "stdout",
     "output_type": "stream",
     "text": [
      "{'loss': 0.5579, 'grad_norm': 7.384050369262695, 'learning_rate': 3.760683760683761e-05, 'epoch': 2.37}\n"
     ]
    },
    {
     "name": "stderr",
     "output_type": "stream",
     "text": [
      " 48%|████▊     | 800/1670 [03:59<03:58,  3.65it/s]"
     ]
    },
    {
     "name": "stdout",
     "output_type": "stream",
     "text": [
      "{'loss': 0.3881, 'grad_norm': 3.5238795280456543, 'learning_rate': 3.717948717948718e-05, 'epoch': 2.4}\n"
     ]
    },
    {
     "name": "stderr",
     "output_type": "stream",
     "text": [
      " 49%|████▊     | 810/1670 [04:02<03:56,  3.64it/s]"
     ]
    },
    {
     "name": "stdout",
     "output_type": "stream",
     "text": [
      "{'loss': 0.4627, 'grad_norm': 4.063533782958984, 'learning_rate': 3.675213675213676e-05, 'epoch': 2.43}\n"
     ]
    },
    {
     "name": "stderr",
     "output_type": "stream",
     "text": [
      " 49%|████▉     | 820/1670 [04:05<03:54,  3.63it/s]"
     ]
    },
    {
     "name": "stdout",
     "output_type": "stream",
     "text": [
      "{'loss': 0.3651, 'grad_norm': 7.857006549835205, 'learning_rate': 3.6324786324786323e-05, 'epoch': 2.46}\n"
     ]
    },
    {
     "name": "stderr",
     "output_type": "stream",
     "text": [
      " 50%|████▉     | 830/1670 [04:07<03:50,  3.65it/s]"
     ]
    },
    {
     "name": "stdout",
     "output_type": "stream",
     "text": [
      "{'loss': 0.4208, 'grad_norm': 1.137831211090088, 'learning_rate': 3.58974358974359e-05, 'epoch': 2.49}\n"
     ]
    },
    {
     "name": "stderr",
     "output_type": "stream",
     "text": [
      " 50%|█████     | 840/1670 [04:10<03:47,  3.65it/s]"
     ]
    },
    {
     "name": "stdout",
     "output_type": "stream",
     "text": [
      "{'loss': 0.5307, 'grad_norm': 5.35096549987793, 'learning_rate': 3.5470085470085474e-05, 'epoch': 2.51}\n"
     ]
    },
    {
     "name": "stderr",
     "output_type": "stream",
     "text": [
      " 51%|█████     | 850/1670 [04:13<03:44,  3.66it/s]"
     ]
    },
    {
     "name": "stdout",
     "output_type": "stream",
     "text": [
      "{'loss': 0.4042, 'grad_norm': 2.9511876106262207, 'learning_rate': 3.504273504273504e-05, 'epoch': 2.54}\n"
     ]
    },
    {
     "name": "stderr",
     "output_type": "stream",
     "text": [
      " 51%|█████▏    | 860/1670 [04:16<03:41,  3.65it/s]"
     ]
    },
    {
     "name": "stdout",
     "output_type": "stream",
     "text": [
      "{'loss': 0.4429, 'grad_norm': 1.429317831993103, 'learning_rate': 3.461538461538462e-05, 'epoch': 2.57}\n"
     ]
    },
    {
     "name": "stderr",
     "output_type": "stream",
     "text": [
      " 52%|█████▏    | 870/1670 [04:18<03:39,  3.65it/s]"
     ]
    },
    {
     "name": "stdout",
     "output_type": "stream",
     "text": [
      "{'loss': 0.3705, 'grad_norm': 4.500094413757324, 'learning_rate': 3.418803418803419e-05, 'epoch': 2.6}\n"
     ]
    },
    {
     "name": "stderr",
     "output_type": "stream",
     "text": [
      " 53%|█████▎    | 880/1670 [04:21<03:37,  3.64it/s]"
     ]
    },
    {
     "name": "stdout",
     "output_type": "stream",
     "text": [
      "{'loss': 0.4888, 'grad_norm': 1.1213659048080444, 'learning_rate': 3.376068376068376e-05, 'epoch': 2.63}\n"
     ]
    },
    {
     "name": "stderr",
     "output_type": "stream",
     "text": [
      " 53%|█████▎    | 890/1670 [04:24<03:33,  3.65it/s]"
     ]
    },
    {
     "name": "stdout",
     "output_type": "stream",
     "text": [
      "{'loss': 0.4248, 'grad_norm': 3.03448486328125, 'learning_rate': 3.3333333333333335e-05, 'epoch': 2.66}\n"
     ]
    },
    {
     "name": "stderr",
     "output_type": "stream",
     "text": [
      " 54%|█████▍    | 900/1670 [04:27<03:30,  3.66it/s]"
     ]
    },
    {
     "name": "stdout",
     "output_type": "stream",
     "text": [
      "{'loss': 0.463, 'grad_norm': 5.620119571685791, 'learning_rate': 3.290598290598291e-05, 'epoch': 2.69}\n"
     ]
    },
    {
     "name": "stderr",
     "output_type": "stream",
     "text": [
      " 54%|█████▍    | 910/1670 [04:29<03:28,  3.65it/s]"
     ]
    },
    {
     "name": "stdout",
     "output_type": "stream",
     "text": [
      "{'loss': 0.4968, 'grad_norm': 2.736828565597534, 'learning_rate': 3.247863247863248e-05, 'epoch': 2.72}\n"
     ]
    },
    {
     "name": "stderr",
     "output_type": "stream",
     "text": [
      " 55%|█████▌    | 920/1670 [04:32<03:25,  3.66it/s]"
     ]
    },
    {
     "name": "stdout",
     "output_type": "stream",
     "text": [
      "{'loss': 0.3851, 'grad_norm': 1.8899012804031372, 'learning_rate': 3.205128205128206e-05, 'epoch': 2.75}\n"
     ]
    },
    {
     "name": "stderr",
     "output_type": "stream",
     "text": [
      " 56%|█████▌    | 930/1670 [04:35<03:24,  3.63it/s]"
     ]
    },
    {
     "name": "stdout",
     "output_type": "stream",
     "text": [
      "{'loss': 0.3912, 'grad_norm': 3.424572706222534, 'learning_rate': 3.162393162393162e-05, 'epoch': 2.78}\n"
     ]
    },
    {
     "name": "stderr",
     "output_type": "stream",
     "text": [
      " 56%|█████▋    | 940/1670 [04:38<03:19,  3.66it/s]"
     ]
    },
    {
     "name": "stdout",
     "output_type": "stream",
     "text": [
      "{'loss': 0.3582, 'grad_norm': 1.744661808013916, 'learning_rate': 3.1196581196581195e-05, 'epoch': 2.81}\n"
     ]
    },
    {
     "name": "stderr",
     "output_type": "stream",
     "text": [
      " 57%|█████▋    | 950/1670 [04:40<03:16,  3.66it/s]"
     ]
    },
    {
     "name": "stdout",
     "output_type": "stream",
     "text": [
      "{'loss': 0.3414, 'grad_norm': 2.4383764266967773, 'learning_rate': 3.0769230769230774e-05, 'epoch': 2.84}\n"
     ]
    },
    {
     "name": "stderr",
     "output_type": "stream",
     "text": [
      " 57%|█████▋    | 960/1670 [04:43<03:14,  3.65it/s]"
     ]
    },
    {
     "name": "stdout",
     "output_type": "stream",
     "text": [
      "{'loss': 0.3862, 'grad_norm': 6.274414539337158, 'learning_rate': 3.034188034188034e-05, 'epoch': 2.87}\n"
     ]
    },
    {
     "name": "stderr",
     "output_type": "stream",
     "text": [
      " 58%|█████▊    | 970/1670 [04:46<03:11,  3.65it/s]"
     ]
    },
    {
     "name": "stdout",
     "output_type": "stream",
     "text": [
      "{'loss': 0.3774, 'grad_norm': 5.839714527130127, 'learning_rate': 2.9914529914529915e-05, 'epoch': 2.9}\n"
     ]
    },
    {
     "name": "stderr",
     "output_type": "stream",
     "text": [
      " 59%|█████▊    | 980/1670 [04:49<03:09,  3.65it/s]"
     ]
    },
    {
     "name": "stdout",
     "output_type": "stream",
     "text": [
      "{'loss': 0.4992, 'grad_norm': 1.6587873697280884, 'learning_rate': 2.948717948717949e-05, 'epoch': 2.93}\n"
     ]
    },
    {
     "name": "stderr",
     "output_type": "stream",
     "text": [
      " 59%|█████▉    | 990/1670 [04:51<03:06,  3.65it/s]"
     ]
    },
    {
     "name": "stdout",
     "output_type": "stream",
     "text": [
      "{'loss': 0.4523, 'grad_norm': 3.999817132949829, 'learning_rate': 2.9059829059829063e-05, 'epoch': 2.96}\n"
     ]
    },
    {
     "name": "stderr",
     "output_type": "stream",
     "text": [
      " 60%|█████▉    | 1000/1670 [04:54<03:05,  3.62it/s]"
     ]
    },
    {
     "name": "stdout",
     "output_type": "stream",
     "text": [
      "{'loss': 0.4015, 'grad_norm': 5.394253253936768, 'learning_rate': 2.863247863247863e-05, 'epoch': 2.99}\n"
     ]
    },
    {
     "name": "stderr",
     "output_type": "stream",
     "text": [
      "                                                   \n",
      " 60%|██████    | 1002/1670 [05:01<06:05,  1.83it/s]"
     ]
    },
    {
     "name": "stdout",
     "output_type": "stream",
     "text": [
      "{'eval_loss': 0.426748663187027, 'eval_f1': 0.0, 'eval_runtime': 4.8453, 'eval_samples_per_second': 137.66, 'eval_steps_per_second': 17.336, 'epoch': 3.0}\n"
     ]
    },
    {
     "name": "stderr",
     "output_type": "stream",
     "text": [
      " 60%|██████    | 1010/1670 [05:03<04:30,  2.44it/s]"
     ]
    },
    {
     "name": "stdout",
     "output_type": "stream",
     "text": [
      "{'loss': 0.3797, 'grad_norm': 4.535213470458984, 'learning_rate': 2.8205128205128207e-05, 'epoch': 3.02}\n"
     ]
    },
    {
     "name": "stderr",
     "output_type": "stream",
     "text": [
      " 61%|██████    | 1020/1670 [05:06<02:59,  3.62it/s]"
     ]
    },
    {
     "name": "stdout",
     "output_type": "stream",
     "text": [
      "{'loss': 0.3993, 'grad_norm': 1.6178630590438843, 'learning_rate': 2.777777777777778e-05, 'epoch': 3.05}\n"
     ]
    },
    {
     "name": "stderr",
     "output_type": "stream",
     "text": [
      " 62%|██████▏   | 1030/1670 [05:09<02:54,  3.66it/s]"
     ]
    },
    {
     "name": "stdout",
     "output_type": "stream",
     "text": [
      "{'loss': 0.4522, 'grad_norm': 1.3046424388885498, 'learning_rate': 2.7350427350427355e-05, 'epoch': 3.08}\n"
     ]
    },
    {
     "name": "stderr",
     "output_type": "stream",
     "text": [
      " 62%|██████▏   | 1040/1670 [05:11<02:52,  3.66it/s]"
     ]
    },
    {
     "name": "stdout",
     "output_type": "stream",
     "text": [
      "{'loss': 0.4052, 'grad_norm': 1.1705918312072754, 'learning_rate': 2.6923076923076923e-05, 'epoch': 3.11}\n"
     ]
    },
    {
     "name": "stderr",
     "output_type": "stream",
     "text": [
      " 63%|██████▎   | 1050/1670 [05:14<02:49,  3.65it/s]"
     ]
    },
    {
     "name": "stdout",
     "output_type": "stream",
     "text": [
      "{'loss': 0.3327, 'grad_norm': 4.293140411376953, 'learning_rate': 2.64957264957265e-05, 'epoch': 3.14}\n"
     ]
    },
    {
     "name": "stderr",
     "output_type": "stream",
     "text": [
      " 63%|██████▎   | 1060/1670 [05:17<02:46,  3.66it/s]"
     ]
    },
    {
     "name": "stdout",
     "output_type": "stream",
     "text": [
      "{'loss': 0.3707, 'grad_norm': 3.4869861602783203, 'learning_rate': 2.606837606837607e-05, 'epoch': 3.17}\n"
     ]
    },
    {
     "name": "stderr",
     "output_type": "stream",
     "text": [
      " 64%|██████▍   | 1070/1670 [05:19<02:43,  3.67it/s]"
     ]
    },
    {
     "name": "stdout",
     "output_type": "stream",
     "text": [
      "{'loss': 0.4108, 'grad_norm': 1.6111886501312256, 'learning_rate': 2.564102564102564e-05, 'epoch': 3.2}\n"
     ]
    },
    {
     "name": "stderr",
     "output_type": "stream",
     "text": [
      " 65%|██████▍   | 1080/1670 [05:22<02:41,  3.66it/s]"
     ]
    },
    {
     "name": "stdout",
     "output_type": "stream",
     "text": [
      "{'loss': 0.3653, 'grad_norm': 1.225944995880127, 'learning_rate': 2.5213675213675215e-05, 'epoch': 3.23}\n"
     ]
    },
    {
     "name": "stderr",
     "output_type": "stream",
     "text": [
      " 65%|██████▌   | 1090/1670 [05:25<02:37,  3.67it/s]"
     ]
    },
    {
     "name": "stdout",
     "output_type": "stream",
     "text": [
      "{'loss': 0.4802, 'grad_norm': 4.39047908782959, 'learning_rate': 2.4786324786324787e-05, 'epoch': 3.26}\n"
     ]
    },
    {
     "name": "stderr",
     "output_type": "stream",
     "text": [
      " 66%|██████▌   | 1100/1670 [05:28<02:35,  3.66it/s]"
     ]
    },
    {
     "name": "stdout",
     "output_type": "stream",
     "text": [
      "{'loss': 0.4975, 'grad_norm': 2.8223276138305664, 'learning_rate': 2.435897435897436e-05, 'epoch': 3.29}\n"
     ]
    },
    {
     "name": "stderr",
     "output_type": "stream",
     "text": [
      " 66%|██████▋   | 1110/1670 [05:30<02:33,  3.65it/s]"
     ]
    },
    {
     "name": "stdout",
     "output_type": "stream",
     "text": [
      "{'loss': 0.4404, 'grad_norm': 1.3377068042755127, 'learning_rate': 2.3931623931623935e-05, 'epoch': 3.32}\n"
     ]
    },
    {
     "name": "stderr",
     "output_type": "stream",
     "text": [
      " 67%|██████▋   | 1120/1670 [05:33<02:30,  3.65it/s]"
     ]
    },
    {
     "name": "stdout",
     "output_type": "stream",
     "text": [
      "{'loss': 0.4546, 'grad_norm': 1.9655698537826538, 'learning_rate': 2.3504273504273504e-05, 'epoch': 3.35}\n"
     ]
    },
    {
     "name": "stderr",
     "output_type": "stream",
     "text": [
      " 68%|██████▊   | 1130/1670 [05:36<02:27,  3.67it/s]"
     ]
    },
    {
     "name": "stdout",
     "output_type": "stream",
     "text": [
      "{'loss': 0.4608, 'grad_norm': 6.879478931427002, 'learning_rate': 2.307692307692308e-05, 'epoch': 3.38}\n"
     ]
    },
    {
     "name": "stderr",
     "output_type": "stream",
     "text": [
      " 68%|██████▊   | 1140/1670 [05:39<02:24,  3.66it/s]"
     ]
    },
    {
     "name": "stdout",
     "output_type": "stream",
     "text": [
      "{'loss': 0.4249, 'grad_norm': 4.027163982391357, 'learning_rate': 2.264957264957265e-05, 'epoch': 3.41}\n"
     ]
    },
    {
     "name": "stderr",
     "output_type": "stream",
     "text": [
      " 69%|██████▉   | 1150/1670 [05:41<02:22,  3.65it/s]"
     ]
    },
    {
     "name": "stdout",
     "output_type": "stream",
     "text": [
      "{'loss': 0.4039, 'grad_norm': 1.2073005437850952, 'learning_rate': 2.2222222222222223e-05, 'epoch': 3.44}\n"
     ]
    },
    {
     "name": "stderr",
     "output_type": "stream",
     "text": [
      " 69%|██████▉   | 1160/1670 [05:44<02:19,  3.66it/s]"
     ]
    },
    {
     "name": "stdout",
     "output_type": "stream",
     "text": [
      "{'loss': 0.4255, 'grad_norm': 4.004036903381348, 'learning_rate': 2.1794871794871795e-05, 'epoch': 3.47}\n"
     ]
    },
    {
     "name": "stderr",
     "output_type": "stream",
     "text": [
      " 70%|███████   | 1170/1670 [05:47<02:16,  3.66it/s]"
     ]
    },
    {
     "name": "stdout",
     "output_type": "stream",
     "text": [
      "{'loss': 0.3673, 'grad_norm': 3.7739944458007812, 'learning_rate': 2.1367521367521368e-05, 'epoch': 3.5}\n"
     ]
    },
    {
     "name": "stderr",
     "output_type": "stream",
     "text": [
      " 71%|███████   | 1180/1670 [05:50<02:14,  3.65it/s]"
     ]
    },
    {
     "name": "stdout",
     "output_type": "stream",
     "text": [
      "{'loss': 0.3984, 'grad_norm': 3.221477746963501, 'learning_rate': 2.0940170940170943e-05, 'epoch': 3.53}\n"
     ]
    },
    {
     "name": "stderr",
     "output_type": "stream",
     "text": [
      " 71%|███████▏  | 1190/1670 [05:52<02:11,  3.66it/s]"
     ]
    },
    {
     "name": "stdout",
     "output_type": "stream",
     "text": [
      "{'loss': 0.4437, 'grad_norm': 3.6627163887023926, 'learning_rate': 2.0512820512820512e-05, 'epoch': 3.56}\n"
     ]
    },
    {
     "name": "stderr",
     "output_type": "stream",
     "text": [
      " 72%|███████▏  | 1200/1670 [05:55<02:09,  3.63it/s]"
     ]
    },
    {
     "name": "stdout",
     "output_type": "stream",
     "text": [
      "{'loss': 0.5438, 'grad_norm': 1.4382251501083374, 'learning_rate': 2.0085470085470087e-05, 'epoch': 3.59}\n"
     ]
    },
    {
     "name": "stderr",
     "output_type": "stream",
     "text": [
      " 72%|███████▏  | 1210/1670 [05:58<02:06,  3.63it/s]"
     ]
    },
    {
     "name": "stdout",
     "output_type": "stream",
     "text": [
      "{'loss': 0.3188, 'grad_norm': 1.4266852140426636, 'learning_rate': 1.965811965811966e-05, 'epoch': 3.62}\n"
     ]
    },
    {
     "name": "stderr",
     "output_type": "stream",
     "text": [
      " 73%|███████▎  | 1220/1670 [06:01<02:03,  3.65it/s]"
     ]
    },
    {
     "name": "stdout",
     "output_type": "stream",
     "text": [
      "{'loss': 0.3383, 'grad_norm': 2.9334187507629395, 'learning_rate': 1.923076923076923e-05, 'epoch': 3.65}\n"
     ]
    },
    {
     "name": "stderr",
     "output_type": "stream",
     "text": [
      " 74%|███████▎  | 1230/1670 [06:03<02:00,  3.65it/s]"
     ]
    },
    {
     "name": "stdout",
     "output_type": "stream",
     "text": [
      "{'loss': 0.6706, 'grad_norm': 4.004647731781006, 'learning_rate': 1.8803418803418804e-05, 'epoch': 3.68}\n"
     ]
    },
    {
     "name": "stderr",
     "output_type": "stream",
     "text": [
      " 74%|███████▍  | 1240/1670 [06:06<01:57,  3.64it/s]"
     ]
    },
    {
     "name": "stdout",
     "output_type": "stream",
     "text": [
      "{'loss': 0.3816, 'grad_norm': 1.4575738906860352, 'learning_rate': 1.837606837606838e-05, 'epoch': 3.71}\n"
     ]
    },
    {
     "name": "stderr",
     "output_type": "stream",
     "text": [
      " 75%|███████▍  | 1250/1670 [06:09<01:55,  3.63it/s]"
     ]
    },
    {
     "name": "stdout",
     "output_type": "stream",
     "text": [
      "{'loss': 0.4836, 'grad_norm': 1.2506968975067139, 'learning_rate': 1.794871794871795e-05, 'epoch': 3.74}\n"
     ]
    },
    {
     "name": "stderr",
     "output_type": "stream",
     "text": [
      " 75%|███████▌  | 1260/1670 [06:12<01:52,  3.65it/s]"
     ]
    },
    {
     "name": "stdout",
     "output_type": "stream",
     "text": [
      "{'loss': 0.2946, 'grad_norm': 1.2045190334320068, 'learning_rate': 1.752136752136752e-05, 'epoch': 3.77}\n"
     ]
    },
    {
     "name": "stderr",
     "output_type": "stream",
     "text": [
      " 76%|███████▌  | 1270/1670 [06:14<01:49,  3.65it/s]"
     ]
    },
    {
     "name": "stdout",
     "output_type": "stream",
     "text": [
      "{'loss': 0.5753, 'grad_norm': 9.902897834777832, 'learning_rate': 1.7094017094017095e-05, 'epoch': 3.8}\n"
     ]
    },
    {
     "name": "stderr",
     "output_type": "stream",
     "text": [
      " 77%|███████▋  | 1280/1670 [06:17<01:47,  3.64it/s]"
     ]
    },
    {
     "name": "stdout",
     "output_type": "stream",
     "text": [
      "{'loss': 0.3914, 'grad_norm': 6.900736331939697, 'learning_rate': 1.6666666666666667e-05, 'epoch': 3.83}\n"
     ]
    },
    {
     "name": "stderr",
     "output_type": "stream",
     "text": [
      " 77%|███████▋  | 1290/1670 [06:20<01:44,  3.64it/s]"
     ]
    },
    {
     "name": "stdout",
     "output_type": "stream",
     "text": [
      "{'loss': 0.3323, 'grad_norm': 1.258741855621338, 'learning_rate': 1.623931623931624e-05, 'epoch': 3.86}\n"
     ]
    },
    {
     "name": "stderr",
     "output_type": "stream",
     "text": [
      " 78%|███████▊  | 1300/1670 [06:23<01:41,  3.64it/s]"
     ]
    },
    {
     "name": "stdout",
     "output_type": "stream",
     "text": [
      "{'loss': 0.3467, 'grad_norm': 2.583085775375366, 'learning_rate': 1.581196581196581e-05, 'epoch': 3.89}\n"
     ]
    },
    {
     "name": "stderr",
     "output_type": "stream",
     "text": [
      " 78%|███████▊  | 1310/1670 [06:25<01:38,  3.65it/s]"
     ]
    },
    {
     "name": "stdout",
     "output_type": "stream",
     "text": [
      "{'loss': 0.4822, 'grad_norm': 3.928783416748047, 'learning_rate': 1.5384615384615387e-05, 'epoch': 3.92}\n"
     ]
    },
    {
     "name": "stderr",
     "output_type": "stream",
     "text": [
      " 79%|███████▉  | 1320/1670 [06:28<01:35,  3.65it/s]"
     ]
    },
    {
     "name": "stdout",
     "output_type": "stream",
     "text": [
      "{'loss': 0.418, 'grad_norm': 3.914503574371338, 'learning_rate': 1.4957264957264958e-05, 'epoch': 3.95}\n"
     ]
    },
    {
     "name": "stderr",
     "output_type": "stream",
     "text": [
      " 80%|███████▉  | 1330/1670 [06:31<01:33,  3.65it/s]"
     ]
    },
    {
     "name": "stdout",
     "output_type": "stream",
     "text": [
      "{'loss': 0.3947, 'grad_norm': 1.124275803565979, 'learning_rate': 1.4529914529914531e-05, 'epoch': 3.98}\n"
     ]
    },
    {
     "name": "stderr",
     "output_type": "stream",
     "text": [
      "                                                   \n",
      " 80%|████████  | 1336/1670 [06:37<01:19,  4.22it/s]"
     ]
    },
    {
     "name": "stdout",
     "output_type": "stream",
     "text": [
      "{'eval_loss': 0.43077075481414795, 'eval_f1': 0.0, 'eval_runtime': 4.8561, 'eval_samples_per_second': 137.353, 'eval_steps_per_second': 17.298, 'epoch': 4.0}\n"
     ]
    },
    {
     "name": "stderr",
     "output_type": "stream",
     "text": [
      " 80%|████████  | 1340/1670 [06:38<04:13,  1.30it/s]"
     ]
    },
    {
     "name": "stdout",
     "output_type": "stream",
     "text": [
      "{'loss': 0.2797, 'grad_norm': 4.011226654052734, 'learning_rate': 1.4102564102564104e-05, 'epoch': 4.01}\n"
     ]
    },
    {
     "name": "stderr",
     "output_type": "stream",
     "text": [
      " 81%|████████  | 1350/1670 [06:41<01:32,  3.47it/s]"
     ]
    },
    {
     "name": "stdout",
     "output_type": "stream",
     "text": [
      "{'loss': 0.2799, 'grad_norm': 2.612232208251953, 'learning_rate': 1.3675213675213677e-05, 'epoch': 4.04}\n"
     ]
    },
    {
     "name": "stderr",
     "output_type": "stream",
     "text": [
      " 81%|████████▏ | 1360/1670 [06:44<01:24,  3.66it/s]"
     ]
    },
    {
     "name": "stdout",
     "output_type": "stream",
     "text": [
      "{'loss': 0.5436, 'grad_norm': 2.5766983032226562, 'learning_rate': 1.324786324786325e-05, 'epoch': 4.07}\n"
     ]
    },
    {
     "name": "stderr",
     "output_type": "stream",
     "text": [
      " 82%|████████▏ | 1370/1670 [06:47<01:22,  3.65it/s]"
     ]
    },
    {
     "name": "stdout",
     "output_type": "stream",
     "text": [
      "{'loss': 0.3847, 'grad_norm': 1.340256690979004, 'learning_rate': 1.282051282051282e-05, 'epoch': 4.1}\n"
     ]
    },
    {
     "name": "stderr",
     "output_type": "stream",
     "text": [
      " 83%|████████▎ | 1380/1670 [06:49<01:19,  3.65it/s]"
     ]
    },
    {
     "name": "stdout",
     "output_type": "stream",
     "text": [
      "{'loss': 0.301, 'grad_norm': 2.906419515609741, 'learning_rate': 1.2393162393162394e-05, 'epoch': 4.13}\n"
     ]
    },
    {
     "name": "stderr",
     "output_type": "stream",
     "text": [
      " 83%|████████▎ | 1390/1670 [06:52<01:16,  3.65it/s]"
     ]
    },
    {
     "name": "stdout",
     "output_type": "stream",
     "text": [
      "{'loss': 0.3232, 'grad_norm': 2.6251416206359863, 'learning_rate': 1.1965811965811967e-05, 'epoch': 4.16}\n"
     ]
    },
    {
     "name": "stderr",
     "output_type": "stream",
     "text": [
      " 84%|████████▍ | 1400/1670 [06:55<01:14,  3.64it/s]"
     ]
    },
    {
     "name": "stdout",
     "output_type": "stream",
     "text": [
      "{'loss': 0.4368, 'grad_norm': 1.3450247049331665, 'learning_rate': 1.153846153846154e-05, 'epoch': 4.19}\n"
     ]
    },
    {
     "name": "stderr",
     "output_type": "stream",
     "text": [
      " 84%|████████▍ | 1410/1670 [06:58<01:11,  3.64it/s]"
     ]
    },
    {
     "name": "stdout",
     "output_type": "stream",
     "text": [
      "{'loss': 0.3487, 'grad_norm': 3.032355546951294, 'learning_rate': 1.1111111111111112e-05, 'epoch': 4.22}\n"
     ]
    },
    {
     "name": "stderr",
     "output_type": "stream",
     "text": [
      " 85%|████████▌ | 1420/1670 [07:00<01:08,  3.64it/s]"
     ]
    },
    {
     "name": "stdout",
     "output_type": "stream",
     "text": [
      "{'loss': 0.44, 'grad_norm': 3.195037841796875, 'learning_rate': 1.0683760683760684e-05, 'epoch': 4.25}\n"
     ]
    },
    {
     "name": "stderr",
     "output_type": "stream",
     "text": [
      " 86%|████████▌ | 1430/1670 [07:03<01:05,  3.64it/s]"
     ]
    },
    {
     "name": "stdout",
     "output_type": "stream",
     "text": [
      "{'loss': 0.3269, 'grad_norm': 1.1352944374084473, 'learning_rate': 1.0256410256410256e-05, 'epoch': 4.28}\n"
     ]
    },
    {
     "name": "stderr",
     "output_type": "stream",
     "text": [
      " 86%|████████▌ | 1440/1670 [07:06<01:03,  3.63it/s]"
     ]
    },
    {
     "name": "stdout",
     "output_type": "stream",
     "text": [
      "{'loss': 0.3651, 'grad_norm': 3.2586090564727783, 'learning_rate': 9.82905982905983e-06, 'epoch': 4.31}\n"
     ]
    },
    {
     "name": "stderr",
     "output_type": "stream",
     "text": [
      " 87%|████████▋ | 1450/1670 [07:09<01:00,  3.62it/s]"
     ]
    },
    {
     "name": "stdout",
     "output_type": "stream",
     "text": [
      "{'loss': 0.3139, 'grad_norm': 1.13413667678833, 'learning_rate': 9.401709401709402e-06, 'epoch': 4.34}\n"
     ]
    },
    {
     "name": "stderr",
     "output_type": "stream",
     "text": [
      " 87%|████████▋ | 1460/1670 [07:11<00:57,  3.63it/s]"
     ]
    },
    {
     "name": "stdout",
     "output_type": "stream",
     "text": [
      "{'loss': 0.4006, 'grad_norm': 3.4305293560028076, 'learning_rate': 8.974358974358976e-06, 'epoch': 4.37}\n"
     ]
    },
    {
     "name": "stderr",
     "output_type": "stream",
     "text": [
      " 88%|████████▊ | 1470/1670 [07:14<00:55,  3.63it/s]"
     ]
    },
    {
     "name": "stdout",
     "output_type": "stream",
     "text": [
      "{'loss': 0.3494, 'grad_norm': 3.4523324966430664, 'learning_rate': 8.547008547008548e-06, 'epoch': 4.4}\n"
     ]
    },
    {
     "name": "stderr",
     "output_type": "stream",
     "text": [
      " 89%|████████▊ | 1480/1670 [07:17<00:51,  3.66it/s]"
     ]
    },
    {
     "name": "stdout",
     "output_type": "stream",
     "text": [
      "{'loss': 0.511, 'grad_norm': 1.299836277961731, 'learning_rate': 8.11965811965812e-06, 'epoch': 4.43}\n"
     ]
    },
    {
     "name": "stderr",
     "output_type": "stream",
     "text": [
      " 89%|████████▉ | 1490/1670 [07:20<00:49,  3.64it/s]"
     ]
    },
    {
     "name": "stdout",
     "output_type": "stream",
     "text": [
      "{'loss': 0.5421, 'grad_norm': 7.392043590545654, 'learning_rate': 7.692307692307694e-06, 'epoch': 4.46}\n"
     ]
    },
    {
     "name": "stderr",
     "output_type": "stream",
     "text": [
      " 90%|████████▉ | 1500/1670 [07:22<00:46,  3.63it/s]"
     ]
    },
    {
     "name": "stdout",
     "output_type": "stream",
     "text": [
      "{'loss': 0.4138, 'grad_norm': 3.7233614921569824, 'learning_rate': 7.264957264957266e-06, 'epoch': 4.49}\n"
     ]
    },
    {
     "name": "stderr",
     "output_type": "stream",
     "text": [
      " 90%|█████████ | 1510/1670 [07:26<00:46,  3.44it/s]"
     ]
    },
    {
     "name": "stdout",
     "output_type": "stream",
     "text": [
      "{'loss': 0.4596, 'grad_norm': 1.0493453741073608, 'learning_rate': 6.837606837606839e-06, 'epoch': 4.52}\n"
     ]
    },
    {
     "name": "stderr",
     "output_type": "stream",
     "text": [
      " 91%|█████████ | 1520/1670 [07:29<00:41,  3.64it/s]"
     ]
    },
    {
     "name": "stdout",
     "output_type": "stream",
     "text": [
      "{'loss': 0.4224, 'grad_norm': 1.1844141483306885, 'learning_rate': 6.41025641025641e-06, 'epoch': 4.55}\n"
     ]
    },
    {
     "name": "stderr",
     "output_type": "stream",
     "text": [
      " 92%|█████████▏| 1530/1670 [07:32<00:38,  3.66it/s]"
     ]
    },
    {
     "name": "stdout",
     "output_type": "stream",
     "text": [
      "{'loss': 0.3778, 'grad_norm': 3.7045679092407227, 'learning_rate': 5.982905982905984e-06, 'epoch': 4.58}\n"
     ]
    },
    {
     "name": "stderr",
     "output_type": "stream",
     "text": [
      " 92%|█████████▏| 1540/1670 [07:35<00:35,  3.67it/s]"
     ]
    },
    {
     "name": "stdout",
     "output_type": "stream",
     "text": [
      "{'loss': 0.4202, 'grad_norm': 1.1944962739944458, 'learning_rate': 5.555555555555556e-06, 'epoch': 4.61}\n"
     ]
    },
    {
     "name": "stderr",
     "output_type": "stream",
     "text": [
      " 93%|█████████▎| 1550/1670 [07:37<00:32,  3.65it/s]"
     ]
    },
    {
     "name": "stdout",
     "output_type": "stream",
     "text": [
      "{'loss': 0.3113, 'grad_norm': 1.105138897895813, 'learning_rate': 5.128205128205128e-06, 'epoch': 4.64}\n"
     ]
    },
    {
     "name": "stderr",
     "output_type": "stream",
     "text": [
      " 93%|█████████▎| 1560/1670 [07:40<00:30,  3.65it/s]"
     ]
    },
    {
     "name": "stdout",
     "output_type": "stream",
     "text": [
      "{'loss': 0.644, 'grad_norm': 7.1551384925842285, 'learning_rate': 4.700854700854701e-06, 'epoch': 4.67}\n"
     ]
    },
    {
     "name": "stderr",
     "output_type": "stream",
     "text": [
      " 94%|█████████▍| 1570/1670 [07:43<00:27,  3.65it/s]"
     ]
    },
    {
     "name": "stdout",
     "output_type": "stream",
     "text": [
      "{'loss': 0.4897, 'grad_norm': 6.859123229980469, 'learning_rate': 4.273504273504274e-06, 'epoch': 4.7}\n"
     ]
    },
    {
     "name": "stderr",
     "output_type": "stream",
     "text": [
      " 95%|█████████▍| 1580/1670 [07:46<00:24,  3.65it/s]"
     ]
    },
    {
     "name": "stdout",
     "output_type": "stream",
     "text": [
      "{'loss': 0.4111, 'grad_norm': 3.781649589538574, 'learning_rate': 3.846153846153847e-06, 'epoch': 4.73}\n"
     ]
    },
    {
     "name": "stderr",
     "output_type": "stream",
     "text": [
      " 95%|█████████▌| 1590/1670 [07:48<00:21,  3.66it/s]"
     ]
    },
    {
     "name": "stdout",
     "output_type": "stream",
     "text": [
      "{'loss': 0.4902, 'grad_norm': 6.315003395080566, 'learning_rate': 3.4188034188034193e-06, 'epoch': 4.76}\n"
     ]
    },
    {
     "name": "stderr",
     "output_type": "stream",
     "text": [
      " 96%|█████████▌| 1600/1670 [07:51<00:19,  3.65it/s]"
     ]
    },
    {
     "name": "stdout",
     "output_type": "stream",
     "text": [
      "{'loss': 0.4671, 'grad_norm': 3.0439505577087402, 'learning_rate': 2.991452991452992e-06, 'epoch': 4.79}\n"
     ]
    },
    {
     "name": "stderr",
     "output_type": "stream",
     "text": [
      " 96%|█████████▋| 1610/1670 [07:54<00:16,  3.64it/s]"
     ]
    },
    {
     "name": "stdout",
     "output_type": "stream",
     "text": [
      "{'loss': 0.4582, 'grad_norm': 1.3305888175964355, 'learning_rate': 2.564102564102564e-06, 'epoch': 4.82}\n"
     ]
    },
    {
     "name": "stderr",
     "output_type": "stream",
     "text": [
      " 97%|█████████▋| 1620/1670 [07:57<00:13,  3.65it/s]"
     ]
    },
    {
     "name": "stdout",
     "output_type": "stream",
     "text": [
      "{'loss': 0.539, 'grad_norm': 3.90531587600708, 'learning_rate': 2.136752136752137e-06, 'epoch': 4.85}\n"
     ]
    },
    {
     "name": "stderr",
     "output_type": "stream",
     "text": [
      " 98%|█████████▊| 1630/1670 [07:59<00:10,  3.66it/s]"
     ]
    },
    {
     "name": "stdout",
     "output_type": "stream",
     "text": [
      "{'loss': 0.3684, 'grad_norm': 1.1514827013015747, 'learning_rate': 1.7094017094017097e-06, 'epoch': 4.88}\n"
     ]
    },
    {
     "name": "stderr",
     "output_type": "stream",
     "text": [
      " 98%|█████████▊| 1640/1670 [08:02<00:08,  3.64it/s]"
     ]
    },
    {
     "name": "stdout",
     "output_type": "stream",
     "text": [
      "{'loss': 0.4028, 'grad_norm': 1.2198076248168945, 'learning_rate': 1.282051282051282e-06, 'epoch': 4.91}\n"
     ]
    },
    {
     "name": "stderr",
     "output_type": "stream",
     "text": [
      " 99%|█████████▉| 1650/1670 [08:05<00:05,  3.65it/s]"
     ]
    },
    {
     "name": "stdout",
     "output_type": "stream",
     "text": [
      "{'loss': 0.4086, 'grad_norm': 1.2049190998077393, 'learning_rate': 8.547008547008548e-07, 'epoch': 4.94}\n"
     ]
    },
    {
     "name": "stderr",
     "output_type": "stream",
     "text": [
      " 99%|█████████▉| 1660/1670 [08:08<00:02,  3.66it/s]"
     ]
    },
    {
     "name": "stdout",
     "output_type": "stream",
     "text": [
      "{'loss': 0.4065, 'grad_norm': 3.710430860519409, 'learning_rate': 4.273504273504274e-07, 'epoch': 4.97}\n"
     ]
    },
    {
     "name": "stderr",
     "output_type": "stream",
     "text": [
      "100%|██████████| 1670/1670 [08:10<00:00,  4.24it/s]"
     ]
    },
    {
     "name": "stdout",
     "output_type": "stream",
     "text": [
      "{'loss': 0.3227, 'grad_norm': 3.625434637069702, 'learning_rate': 0.0, 'epoch': 5.0}\n"
     ]
    },
    {
     "name": "stderr",
     "output_type": "stream",
     "text": [
      "                                                   \n",
      "100%|██████████| 1670/1670 [08:15<00:00,  3.37it/s]"
     ]
    },
    {
     "name": "stdout",
     "output_type": "stream",
     "text": [
      "{'eval_loss': 0.42616885900497437, 'eval_f1': 0.0, 'eval_runtime': 4.8988, 'eval_samples_per_second': 136.156, 'eval_steps_per_second': 17.147, 'epoch': 5.0}\n",
      "{'train_runtime': 495.6233, 'train_samples_per_second': 26.895, 'train_steps_per_second': 3.369, 'train_loss': 0.4184377231997644, 'epoch': 5.0}\n"
     ]
    },
    {
     "name": "stderr",
     "output_type": "stream",
     "text": [
      "\n"
     ]
    },
    {
     "data": {
      "text/plain": [
       "TrainOutput(global_step=1670, training_loss=0.4184377231997644, metrics={'train_runtime': 495.6233, 'train_samples_per_second': 26.895, 'train_steps_per_second': 3.369, 'total_flos': 876817591987200.0, 'train_loss': 0.4184377231997644, 'epoch': 5.0})"
      ]
     },
     "execution_count": 21,
     "metadata": {},
     "output_type": "execute_result"
    }
   ],
   "source": [
    "# Model with the label mappings\n",
    "model = BertForSequenceClassification.from_pretrained(\n",
    "    'bert-base-uncased',\n",
    "    num_labels=len(label2id),\n",
    "    id2label=id2label,\n",
    "    label2id=label2id\n",
    ")\n",
    "\n",
    "# Model with training arguments. Tweaks the parameter as you need\n",
    "training_args = TrainingArguments(\n",
    "    output_dir='./results',\n",
    "    num_train_epochs=5,\n",
    "    per_device_train_batch_size=8,\n",
    "    per_device_eval_batch_size=8,\n",
    "    warmup_steps=500,\n",
    "    weight_decay=0.01,\n",
    "    logging_dir='./logs',\n",
    "    logging_steps=10,\n",
    "    evaluation_strategy=\"epoch\"\n",
    ")\n",
    "\n",
    "# Evaluation metric. We choose F1\n",
    "f1 = evaluate.load(\"f1\")\n",
    "\n",
    "def compute_metrics(eval_pred):\n",
    "    logits, labels = eval_pred\n",
    "    predictions = np.argmax(logits, axis=1)\n",
    "    return f1.compute(predictions=predictions, references=labels)\n",
    "\n",
    "# Set the trainer\n",
    "trainer = Trainer(\n",
    "    model=model,\n",
    "    args=training_args,\n",
    "    train_dataset=tokenized_train_dataset,\n",
    "    eval_dataset=tokenized_test_dataset,\n",
    "    compute_metrics=compute_metrics\n",
    ")\n",
    "\n",
    "# Train the model\n",
    "trainer.train()"
   ]
  },
  {
   "cell_type": "code",
   "execution_count": 22,
   "metadata": {},
   "outputs": [
    {
     "name": "stderr",
     "output_type": "stream",
     "text": [
      "100%|██████████| 84/84 [00:05<00:00, 16.75it/s]"
     ]
    },
    {
     "name": "stdout",
     "output_type": "stream",
     "text": [
      "{'eval_loss': 0.42616885900497437, 'eval_f1': 0.0, 'eval_runtime': 5.1658, 'eval_samples_per_second': 129.119, 'eval_steps_per_second': 16.261, 'epoch': 5.0}\n"
     ]
    },
    {
     "name": "stderr",
     "output_type": "stream",
     "text": [
      "\n"
     ]
    }
   ],
   "source": [
    "# Evaluate the model\n",
    "results = trainer.evaluate()\n",
    "print(results)"
   ]
  },
  {
   "cell_type": "markdown",
   "metadata": {},
   "source": [
    "#### Boosting Tabular Data Predictions with Large Language Models"
   ]
  },
  {
   "cell_type": "markdown",
   "metadata": {},
   "source": [
    "- From the article, we found with little background knowledge, zero data cleaning, and zero feature development required by traditional methods, LLMs were able to return results with predictive power. LLM predictions were not competitive with the leading models produced with lengthy and extensive tabular methods, but were strong enough to place well higher than the median score on the leaderboard rankings.\n",
    "- Here it merges traditional tabular datasets and XGBoost models with LLMs using latent structure embeddings, allowing the tabular approaches to work off of the numerical \"features\" produced internally by the LLM.\n",
    "- A reasonable hypothesis is that these LLMs are able to sidestep the \"narrow\" data problem that had with the deep learning approaches. By training on Internet-scale data, LLMs have built an internal representation for the context of many applications. \n",
    "- We supply our tabular data through prompts. Here the prompt is created on each row of the table. The construction of the prompt is pretty simple: a paragraph comprised of sentences, one for each cell in the table row. Process shown in img3.\n",
    "- Instead of accessing LLM predictions directly which might not be that good,  we find the flexibility to work with the features produced by the LLM preferable. These embeddings are accessible through LLM APIs. It is important to note that the embedding vectors are typically of values-per-row. Once we extract the embeddings, we can run them through a tabular model (XGBoost).\n",
    "- The LLM provides a great simple feature engineering tool available for use on any tabular dataset, essentially allowing performance gains with almost no feature engineering or parameterization."
   ]
  },
  {
   "cell_type": "code",
   "execution_count": 23,
   "metadata": {},
   "outputs": [],
   "source": [
    "# Imports\n",
    "import uuid\n",
    "import os\n",
    "import matplotlib.pyplot as plt\n",
    "import numpy as np\n",
    "import pandas as pd\n",
    "import random\n",
    "#  import seaborn as sns\n",
    "from datetime import datetime\n",
    "\n",
    "## sklearn \n",
    "from sklearn.metrics import mean_absolute_error,mean_squared_error,r2_score,mean_squared_log_error\n",
    "from sklearn.preprocessing import OrdinalEncoder, OneHotEncoder, StandardScaler\n",
    "from sklearn.impute import SimpleImputer\n",
    "from sklearn.compose import ColumnTransformer, make_column_transformer\n",
    "from sklearn.pipeline import Pipeline, make_pipeline\n",
    "from sklearn import set_config\n",
    "from sklearn.model_selection import train_test_split\n",
    "\n",
    "from sklearn.svm import SVR\n",
    "from sklearn.linear_model import LinearRegression, LassoLars, SGDRegressor, Ridge, LogisticRegression, BayesianRidge\n",
    "from sklearn.ensemble import RandomForestRegressor,GradientBoostingRegressor\n",
    "from sklearn.tree import DecisionTreeRegressor"
   ]
  },
  {
   "cell_type": "code",
   "execution_count": 24,
   "metadata": {},
   "outputs": [],
   "source": [
    "# Model ID: 'kaggle-house-prices-llm%Y%m%d-%H:%M'\n",
    "now = datetime.now()\n",
    "run_str = now.strftime('%Y%m%d-%H:%M')\n",
    "model_id = \"kaggle-house-prices-llm-\" + run_str \n",
    "model_version = \"test\"\n",
    "\n",
    "def gen_model_id( prefix=\"kaggle-house-prices-llm-\", timestamp=datetime.now().strftime('%Y%m%d-%H:%M'), model_type=\"regr\" ):\n",
    "  return( prefix + model_type + '-' + timestamp )"
   ]
  },
  {
   "cell_type": "code",
   "execution_count": 27,
   "metadata": {},
   "outputs": [
    {
     "name": "stdout",
     "output_type": "stream",
     "text": [
      "zsh:1: no matches found: arize[AutoEmbeddings]\n"
     ]
    },
    {
     "name": "stdout",
     "output_type": "stream",
     "text": [
      "✅ Import and Setup Arize Client Done! Now we can start using Arize!\n",
      "\u001b[33m  arize.utils.logging | WARNING | No available GPU has been detected. The use of GPU acceleration is strongly recommended. You can check for GPU availability by running `torch.cuda.is_available()`\u001b[0m\n",
      "\u001b[38;21m  arize.utils.logging | INFO | Downloading pre-trained model 'distilbert-base-uncased'\u001b[0m\n",
      "\u001b[38;21m  arize.utils.logging | INFO | Downloading tokenizer for 'distilbert-base-uncased'\u001b[0m\n"
     ]
    }
   ],
   "source": [
    "## Arize API and Space Keys\n",
    "SPACE_KEY  = \"323157d\"               # CTB / Kaggle: Wide LLMs\n",
    "API_KEY    = \"2b08d6fb477f564667b\"\n",
    "\n",
    "# INSTALL \n",
    "!pip install -q arize[AutoEmbeddings]\n",
    "\n",
    "from arize.pandas.logger import Client\n",
    "from arize.utils.types import Environments, ModelTypes, EmbeddingColumnNames, Schema\n",
    "\n",
    "# Arize Client\n",
    "arize_client = Client(space_key=SPACE_KEY, api_key=API_KEY)\n",
    "model_type = ModelTypes.REGRESSION\n",
    "if SPACE_KEY == \"SPACE_KEY\" or API_KEY == \"API_KEY\":\n",
    "    raise ValueError(\"❌ NEED TO CHANGE SPACE AND/OR API_KEY\")\n",
    "else:\n",
    "    print(\"✅ Import and Setup Arize Client Done! Now we can start using Arize!\")\n",
    "\n",
    "# Create generator for embedding vector\n",
    "# `generator` creates a vector from a prompt in the LLMs response surface.\n",
    "from arize.pandas.embeddings.tabular_generators import EmbeddingGeneratorForTabularFeatures\n",
    "import arize.pandas.embeddings.base_generators\n",
    "\n",
    "# EmbeddingGeneratorForTabularFeatures.list_pretrained_models()\n",
    "generator = EmbeddingGeneratorForTabularFeatures(\n",
    "    model_name=\"distilbert-base-uncased\",\n",
    "    tokenizer_max_length=512,\n",
    "    #, dropout=0\n",
    ")"
   ]
  },
  {
   "cell_type": "code",
   "execution_count": 28,
   "metadata": {},
   "outputs": [],
   "source": [
    "# Important Columns\n",
    "y_col = 'SalePrice'  # As it appears in the data\n",
    "id_col = 'Id'\n",
    "\n",
    "work_dir = 'data/house-prices-advanced-regression-techniques/'"
   ]
  },
  {
   "cell_type": "code",
   "execution_count": 29,
   "metadata": {},
   "outputs": [],
   "source": [
    "# Read Data\n",
    "train = pd.read_csv(\"data/house-prices-advanced-regression-techniques/train.csv\").drop('Id', axis=1)\n",
    "\n",
    "# test = Submissiion Data (e.g. Id, w/out SalePrice)\n",
    "test  = pd.read_csv(\"data/house-prices-advanced-regression-techniques/test.csv\")"
   ]
  },
  {
   "cell_type": "markdown",
   "metadata": {},
   "source": [
    "- Applying camel case split in python - Can read more about \"camel case split\". Eg: HousePrices -> \"House Prices\""
   ]
  },
  {
   "cell_type": "code",
   "execution_count": 30,
   "metadata": {},
   "outputs": [],
   "source": [
    "def camel_case_split(s):\n",
    "  '''Converts Camel Case to Spaced String'''\n",
    "  idx = list(map(str.isupper, s))\n",
    "  # mark change of case\n",
    "  l = [0]\n",
    "  for (i, (x, y)) in enumerate(zip(idx, idx[1:])):\n",
    "      if x and not y:  # \"Ul\"\n",
    "          l.append(i)\n",
    "      elif not x and y:  # \"lU\"\n",
    "          l.append(i+1)\n",
    "  l.append(len(s))\n",
    "  # for \"lUl\", index of \"U\" will pop twice, have to filter that\n",
    "  return \" \".join([s[x:y] for x, y in zip(l, l[1:]) if x < y])"
   ]
  },
  {
   "cell_type": "code",
   "execution_count": 31,
   "metadata": {},
   "outputs": [],
   "source": [
    "# Applies camel case split to each column turning, e.g. HousePrices -> \"House Prices\"\n",
    "for col in train.columns:\n",
    "  dct = {}\n",
    "  dct[col] = camel_case_split(col)\n",
    "  train = train.rename(columns=dct)\n",
    "\n",
    "for col in test.columns: \n",
    "  dct = {}\n",
    "  dct[col] = camel_case_split(col)\n",
    "  test  = test.rename(columns=dct)\n",
    "\n",
    "# Also our identifiers\n",
    "y_col = camel_case_split(y_col) \n",
    "id_col = camel_case_split(id_col)"
   ]
  },
  {
   "cell_type": "code",
   "execution_count": 32,
   "metadata": {},
   "outputs": [],
   "source": [
    "# Define train_y, train_X, test_X\n",
    "\n",
    "# TRAIN\n",
    "train_y = train[ y_col ]                     # This will be split later\n",
    "train_X = train.drop(y_col , axis=1)\n",
    "\n",
    "# TEST\n",
    "test_X = test.drop(id_col, axis=1)           # Used for scoring and submission"
   ]
  },
  {
   "cell_type": "markdown",
   "metadata": {},
   "source": [
    "- No feature engineering requried. We will use the data as it is. \n",
    "\n",
    "Split Rows for Embedding"
   ]
  },
  {
   "cell_type": "code",
   "execution_count": 33,
   "metadata": {},
   "outputs": [],
   "source": [
    "# Save names of columns \n",
    "tabular_columns = list(train_X.columns)  # List of train columns\n",
    "# X_cols = train.columns.drop( y_col )"
   ]
  },
  {
   "cell_type": "markdown",
   "metadata": {},
   "source": [
    "Create Prompts\n",
    "- The novel idea of this demonstration is that the final embedding vectors from a large language model can be used as predictors in a traditional ML model. In this step, we use the arize Python package embedding methods to transform native columns to embeddings using Hugging Face's Distilbert LLM.\n",
    "- The Arize package allows for a choice of pre-trained LLM implementations. We have found some variation across models, but have found Distilbert to provide a good trade-off of expense, speed, and general applicability.\n",
    "- Arize's generate_embeddding function accepts DataFrame and creates a tabular embedding vector as a tuple of length 768. This embedding vector comes directly from the large language model as a tuple of length 768.\n",
    "- Eg prompt for one observation:\n",
    "    > The MS Sub Class is 60. The MS Zoning is RL. The Lot Frontage is 65.0. The Lot Area is 8450. The Street is Pave. The Alley is nan. The Lot Shape is Reg. The Land Contour is Lvl. The Utilities is AllPub. The Lot Config is Inside. The Land Slope is Gtl. The Neighborhood is CollgCr. The Condition1 is Norm. The Condition2 is Norm. The Bldg Type is 1Fam. The House Style is 2Story. The Overall Qual is 7. The Overall Cond is 5. The Year Built is 2003."
   ]
  },
  {
   "cell_type": "code",
   "execution_count": 34,
   "metadata": {},
   "outputs": [],
   "source": [
    "# Rows dont fit in *context window* so we split the rows into 4 groups\n",
    "split_prompt_n = 4  # Number of sets of columns\n",
    "\n",
    "the_cols    = list(train_X.columns)  # list of column names \n",
    "cols_per    = {}   # Dict key: int 0-n  value: list of cols in group\n",
    "prompt_ln   = len(the_cols)//split_prompt_n # Number of col per split\n",
    "\n",
    "for i in range(split_prompt_n):\n",
    "  if i != split_prompt_n - 1: \n",
    "    cols_per[str(i)] = the_cols[ prompt_ln*(i):prompt_ln*(i + 1) ]\n",
    "  else:\n",
    "    cols_per[str(i)] = the_cols[ prompt_ln*(i): ]"
   ]
  },
  {
   "cell_type": "code",
   "execution_count": 35,
   "metadata": {},
   "outputs": [],
   "source": [
    "train_X  = train_X.reset_index(drop=True)\n",
    "test_X   = test_X.reset_index(drop=True)"
   ]
  },
  {
   "cell_type": "code",
   "execution_count": 36,
   "metadata": {},
   "outputs": [
    {
     "name": "stdout",
     "output_type": "stream",
     "text": [
      "\u001b[38;21m  arize.utils.logging | INFO | Generating embedding vectors\u001b[0m\n"
     ]
    },
    {
     "name": "stderr",
     "output_type": "stream",
     "text": [
      "Map: 100%|██████████| 1460/1460 [00:24<00:00, 59.68 examples/s]\n"
     ]
    },
    {
     "name": "stdout",
     "output_type": "stream",
     "text": [
      "\u001b[38;21m  arize.utils.logging | INFO | Generating embedding vectors\u001b[0m\n"
     ]
    },
    {
     "name": "stderr",
     "output_type": "stream",
     "text": [
      "Map: 100%|██████████| 1459/1459 [00:23<00:00, 61.52 examples/s]\n"
     ]
    },
    {
     "name": "stdout",
     "output_type": "stream",
     "text": [
      "\u001b[38;21m  arize.utils.logging | INFO | Generating embedding vectors\u001b[0m\n"
     ]
    },
    {
     "name": "stderr",
     "output_type": "stream",
     "text": [
      "Map: 100%|██████████| 1460/1460 [00:30<00:00, 47.40 examples/s]\n"
     ]
    },
    {
     "name": "stdout",
     "output_type": "stream",
     "text": [
      "\u001b[38;21m  arize.utils.logging | INFO | Generating embedding vectors\u001b[0m\n"
     ]
    },
    {
     "name": "stderr",
     "output_type": "stream",
     "text": [
      "Map: 100%|██████████| 1459/1459 [00:31<00:00, 46.22 examples/s]\n"
     ]
    },
    {
     "name": "stdout",
     "output_type": "stream",
     "text": [
      "\u001b[38;21m  arize.utils.logging | INFO | Generating embedding vectors\u001b[0m\n"
     ]
    },
    {
     "name": "stderr",
     "output_type": "stream",
     "text": [
      "Map: 100%|██████████| 1460/1460 [00:23<00:00, 62.01 examples/s]\n"
     ]
    },
    {
     "name": "stdout",
     "output_type": "stream",
     "text": [
      "\u001b[38;21m  arize.utils.logging | INFO | Generating embedding vectors\u001b[0m\n"
     ]
    },
    {
     "name": "stderr",
     "output_type": "stream",
     "text": [
      "Map: 100%|██████████| 1459/1459 [00:24<00:00, 59.14 examples/s]\n"
     ]
    },
    {
     "name": "stdout",
     "output_type": "stream",
     "text": [
      "\u001b[38;21m  arize.utils.logging | INFO | Generating embedding vectors\u001b[0m\n"
     ]
    },
    {
     "name": "stderr",
     "output_type": "stream",
     "text": [
      "Map: 100%|██████████| 1460/1460 [00:26<00:00, 55.02 examples/s]\n"
     ]
    },
    {
     "name": "stdout",
     "output_type": "stream",
     "text": [
      "\u001b[38;21m  arize.utils.logging | INFO | Generating embedding vectors\u001b[0m\n"
     ]
    },
    {
     "name": "stderr",
     "output_type": "stream",
     "text": [
      "Map: 100%|██████████| 1459/1459 [00:26<00:00, 54.08 examples/s]\n"
     ]
    }
   ],
   "source": [
    "# Generate a set of embeddings for each split, the prompt window is 512 but \n",
    "# there are a decent number of columns so we split over 4 here\n",
    "\n",
    "tabular_vector_columns = []  # list of tabular vectors \n",
    "prompt_columns         = []  # list of prompt columns  \n",
    "\n",
    "# Iterate over each column_set\n",
    "for i in range(split_prompt_n):\n",
    "  tab_vec_col_name_i = 'tabular_vector_' + str(i)\n",
    "  prompt_col_name_i = 'prompts_' + str(i)\n",
    "  tabular_vector_columns += [tab_vec_col_name_i] \n",
    "  prompt_columns += [prompt_col_name_i]\n",
    "\n",
    "  # train_X\n",
    "  train_X[tab_vec_col_name_i ], train_X[prompt_col_name_i] = generator.generate_embeddings(\n",
    "      train_X,\n",
    "      selected_columns  = cols_per[str(i)],\n",
    "      return_prompt_col = True\n",
    "  )\n",
    " \n",
    "  # test_X \n",
    "  test_X[tab_vec_col_name_i], test_X[prompt_col_name_i] = generator.generate_embeddings(\n",
    "    test_X,\n",
    "    selected_columns  = cols_per[str(i)],\n",
    "    return_prompt_col = True\n",
    "  )"
   ]
  },
  {
   "cell_type": "code",
   "execution_count": 39,
   "metadata": {},
   "outputs": [
    {
     "data": {
      "text/plain": [
       "0       [-0.31983068585395813, -0.16844205558300018, 0...\n",
       "1       [-0.32897689938545227, -0.16040703654289246, 0...\n",
       "2       [-0.3140539824962616, -0.17123576998710632, 0....\n",
       "3       [-0.33795496821403503, -0.21069830656051636, 0...\n",
       "4       [-0.32410648465156555, -0.19254693388938904, 0...\n",
       "                              ...                        \n",
       "1455    [-0.3044815957546234, -0.19637925922870636, 0....\n",
       "1456    [-0.27583047747612, -0.11404433101415634, 0.28...\n",
       "1457    [-0.36363402009010315, -0.16711899638175964, 0...\n",
       "1458    [-0.3182757496833801, -0.19416368007659912, 0....\n",
       "1459    [-0.3085479736328125, -0.19831599295139313, 0....\n",
       "Name: tabular_vector_1, Length: 1460, dtype: object"
      ]
     },
     "execution_count": 39,
     "metadata": {},
     "output_type": "execute_result"
    }
   ],
   "source": [
    "train_X['tabular_vector_1' ] # for training"
   ]
  },
  {
   "cell_type": "markdown",
   "metadata": {},
   "source": [
    "\"Explode\" Tabular Vectors into Columns"
   ]
  },
  {
   "cell_type": "code",
   "execution_count": 40,
   "metadata": {},
   "outputs": [],
   "source": [
    "def explode( col, prefix ):\n",
    "  '''explodes single column embedding vector column to DataFrame'''\n",
    "  n_cols = len(col[0])\n",
    "  col_names = [ prefix + str(i) for i in range(n_cols) ]\n",
    "\n",
    "  return( pd.DataFrame( col.to_list(), columns=col_names) )"
   ]
  },
  {
   "cell_type": "code",
   "execution_count": 41,
   "metadata": {},
   "outputs": [],
   "source": [
    "# Creates a column per embedding dimension for modeling \n",
    "# The template is vec_N_n, where N is the tabular vector, n is each dimension \n",
    "# of the tabular vector.\n",
    "\n",
    "# Adds columns: vec_N_n to DataFrames\n",
    "\n",
    "for i in range(split_prompt_n):\n",
    "  tab_vec_name = 'tabular_vector_' + str(i)    #\n",
    "  prefix = \"vec_\" + str(i) + \"_\" \n",
    "  \n",
    "  # train_X\n",
    "  exploded = explode( train_X[ tab_vec_name], prefix )\n",
    "  train_X.loc[:, exploded.columns ] = exploded   # Idempotent replacement\n",
    "\n",
    "  # test_X\n",
    "  exploded = explode( test_X[ tab_vec_name], prefix )\n",
    "  test_X.loc[:, exploded.columns ] = exploded    # Idempotent replacement"
   ]
  },
  {
   "cell_type": "code",
   "execution_count": 43,
   "metadata": {},
   "outputs": [
    {
     "data": {
      "text/html": [
       "<div>\n",
       "<style scoped>\n",
       "    .dataframe tbody tr th:only-of-type {\n",
       "        vertical-align: middle;\n",
       "    }\n",
       "\n",
       "    .dataframe tbody tr th {\n",
       "        vertical-align: top;\n",
       "    }\n",
       "\n",
       "    .dataframe thead th {\n",
       "        text-align: right;\n",
       "    }\n",
       "</style>\n",
       "<table border=\"1\" class=\"dataframe\">\n",
       "  <thead>\n",
       "    <tr style=\"text-align: right;\">\n",
       "      <th></th>\n",
       "      <th>vec_3_0</th>\n",
       "      <th>vec_3_1</th>\n",
       "      <th>vec_3_2</th>\n",
       "      <th>vec_3_3</th>\n",
       "      <th>vec_3_4</th>\n",
       "      <th>vec_3_5</th>\n",
       "      <th>vec_3_6</th>\n",
       "      <th>vec_3_7</th>\n",
       "      <th>vec_3_8</th>\n",
       "      <th>vec_3_9</th>\n",
       "      <th>...</th>\n",
       "      <th>vec_3_758</th>\n",
       "      <th>vec_3_759</th>\n",
       "      <th>vec_3_760</th>\n",
       "      <th>vec_3_761</th>\n",
       "      <th>vec_3_762</th>\n",
       "      <th>vec_3_763</th>\n",
       "      <th>vec_3_764</th>\n",
       "      <th>vec_3_765</th>\n",
       "      <th>vec_3_766</th>\n",
       "      <th>vec_3_767</th>\n",
       "    </tr>\n",
       "  </thead>\n",
       "  <tbody>\n",
       "    <tr>\n",
       "      <th>0</th>\n",
       "      <td>-0.342006</td>\n",
       "      <td>-0.171133</td>\n",
       "      <td>0.323581</td>\n",
       "      <td>-0.050515</td>\n",
       "      <td>0.450389</td>\n",
       "      <td>0.069994</td>\n",
       "      <td>-0.036674</td>\n",
       "      <td>0.352880</td>\n",
       "      <td>0.117408</td>\n",
       "      <td>-0.303971</td>\n",
       "      <td>...</td>\n",
       "      <td>0.210174</td>\n",
       "      <td>-0.108250</td>\n",
       "      <td>0.269066</td>\n",
       "      <td>-0.257249</td>\n",
       "      <td>-0.298957</td>\n",
       "      <td>-0.102981</td>\n",
       "      <td>-0.000097</td>\n",
       "      <td>0.193534</td>\n",
       "      <td>0.159268</td>\n",
       "      <td>-0.006528</td>\n",
       "    </tr>\n",
       "    <tr>\n",
       "      <th>1</th>\n",
       "      <td>-0.378229</td>\n",
       "      <td>-0.173819</td>\n",
       "      <td>0.302587</td>\n",
       "      <td>-0.060987</td>\n",
       "      <td>0.451866</td>\n",
       "      <td>0.092956</td>\n",
       "      <td>-0.028463</td>\n",
       "      <td>0.379144</td>\n",
       "      <td>0.111176</td>\n",
       "      <td>-0.259963</td>\n",
       "      <td>...</td>\n",
       "      <td>0.205089</td>\n",
       "      <td>-0.094579</td>\n",
       "      <td>0.230198</td>\n",
       "      <td>-0.299686</td>\n",
       "      <td>-0.301835</td>\n",
       "      <td>-0.101234</td>\n",
       "      <td>0.005312</td>\n",
       "      <td>0.160243</td>\n",
       "      <td>0.181979</td>\n",
       "      <td>-0.005931</td>\n",
       "    </tr>\n",
       "    <tr>\n",
       "      <th>2</th>\n",
       "      <td>-0.365969</td>\n",
       "      <td>-0.195362</td>\n",
       "      <td>0.316320</td>\n",
       "      <td>-0.061668</td>\n",
       "      <td>0.440227</td>\n",
       "      <td>0.069372</td>\n",
       "      <td>0.013363</td>\n",
       "      <td>0.342497</td>\n",
       "      <td>0.100401</td>\n",
       "      <td>-0.296682</td>\n",
       "      <td>...</td>\n",
       "      <td>0.214890</td>\n",
       "      <td>-0.115911</td>\n",
       "      <td>0.261414</td>\n",
       "      <td>-0.275377</td>\n",
       "      <td>-0.328244</td>\n",
       "      <td>-0.081942</td>\n",
       "      <td>0.002331</td>\n",
       "      <td>0.151198</td>\n",
       "      <td>0.185818</td>\n",
       "      <td>-0.011428</td>\n",
       "    </tr>\n",
       "    <tr>\n",
       "      <th>3</th>\n",
       "      <td>-0.350866</td>\n",
       "      <td>-0.213495</td>\n",
       "      <td>0.317820</td>\n",
       "      <td>-0.035717</td>\n",
       "      <td>0.420609</td>\n",
       "      <td>0.078273</td>\n",
       "      <td>-0.002208</td>\n",
       "      <td>0.371343</td>\n",
       "      <td>0.117391</td>\n",
       "      <td>-0.289893</td>\n",
       "      <td>...</td>\n",
       "      <td>0.229203</td>\n",
       "      <td>-0.092521</td>\n",
       "      <td>0.242700</td>\n",
       "      <td>-0.263874</td>\n",
       "      <td>-0.331816</td>\n",
       "      <td>-0.124782</td>\n",
       "      <td>0.002975</td>\n",
       "      <td>0.129735</td>\n",
       "      <td>0.190521</td>\n",
       "      <td>-0.030740</td>\n",
       "    </tr>\n",
       "    <tr>\n",
       "      <th>4</th>\n",
       "      <td>-0.368668</td>\n",
       "      <td>-0.174473</td>\n",
       "      <td>0.313357</td>\n",
       "      <td>-0.104889</td>\n",
       "      <td>0.460809</td>\n",
       "      <td>0.066121</td>\n",
       "      <td>-0.011961</td>\n",
       "      <td>0.352099</td>\n",
       "      <td>0.129468</td>\n",
       "      <td>-0.265519</td>\n",
       "      <td>...</td>\n",
       "      <td>0.218121</td>\n",
       "      <td>-0.114711</td>\n",
       "      <td>0.265717</td>\n",
       "      <td>-0.253103</td>\n",
       "      <td>-0.308522</td>\n",
       "      <td>-0.083559</td>\n",
       "      <td>-0.036052</td>\n",
       "      <td>0.168244</td>\n",
       "      <td>0.173635</td>\n",
       "      <td>-0.013105</td>\n",
       "    </tr>\n",
       "    <tr>\n",
       "      <th>...</th>\n",
       "      <td>...</td>\n",
       "      <td>...</td>\n",
       "      <td>...</td>\n",
       "      <td>...</td>\n",
       "      <td>...</td>\n",
       "      <td>...</td>\n",
       "      <td>...</td>\n",
       "      <td>...</td>\n",
       "      <td>...</td>\n",
       "      <td>...</td>\n",
       "      <td>...</td>\n",
       "      <td>...</td>\n",
       "      <td>...</td>\n",
       "      <td>...</td>\n",
       "      <td>...</td>\n",
       "      <td>...</td>\n",
       "      <td>...</td>\n",
       "      <td>...</td>\n",
       "      <td>...</td>\n",
       "      <td>...</td>\n",
       "      <td>...</td>\n",
       "    </tr>\n",
       "    <tr>\n",
       "      <th>1454</th>\n",
       "      <td>-0.403125</td>\n",
       "      <td>-0.198048</td>\n",
       "      <td>0.313464</td>\n",
       "      <td>-0.092809</td>\n",
       "      <td>0.387106</td>\n",
       "      <td>0.087382</td>\n",
       "      <td>-0.000940</td>\n",
       "      <td>0.374303</td>\n",
       "      <td>0.159427</td>\n",
       "      <td>-0.296443</td>\n",
       "      <td>...</td>\n",
       "      <td>0.202086</td>\n",
       "      <td>-0.089521</td>\n",
       "      <td>0.255471</td>\n",
       "      <td>-0.204309</td>\n",
       "      <td>-0.344054</td>\n",
       "      <td>-0.096400</td>\n",
       "      <td>-0.053632</td>\n",
       "      <td>0.103907</td>\n",
       "      <td>0.181194</td>\n",
       "      <td>0.027618</td>\n",
       "    </tr>\n",
       "    <tr>\n",
       "      <th>1455</th>\n",
       "      <td>-0.361951</td>\n",
       "      <td>-0.124050</td>\n",
       "      <td>0.335209</td>\n",
       "      <td>-0.122869</td>\n",
       "      <td>0.426031</td>\n",
       "      <td>0.070570</td>\n",
       "      <td>-0.026616</td>\n",
       "      <td>0.372254</td>\n",
       "      <td>0.125379</td>\n",
       "      <td>-0.246590</td>\n",
       "      <td>...</td>\n",
       "      <td>0.239758</td>\n",
       "      <td>-0.138762</td>\n",
       "      <td>0.242129</td>\n",
       "      <td>-0.243523</td>\n",
       "      <td>-0.311728</td>\n",
       "      <td>-0.108667</td>\n",
       "      <td>-0.000195</td>\n",
       "      <td>0.172455</td>\n",
       "      <td>0.168498</td>\n",
       "      <td>0.031621</td>\n",
       "    </tr>\n",
       "    <tr>\n",
       "      <th>1456</th>\n",
       "      <td>-0.389813</td>\n",
       "      <td>-0.162583</td>\n",
       "      <td>0.331811</td>\n",
       "      <td>-0.118855</td>\n",
       "      <td>0.436123</td>\n",
       "      <td>0.070765</td>\n",
       "      <td>-0.024646</td>\n",
       "      <td>0.348435</td>\n",
       "      <td>0.092073</td>\n",
       "      <td>-0.232146</td>\n",
       "      <td>...</td>\n",
       "      <td>0.225816</td>\n",
       "      <td>-0.124345</td>\n",
       "      <td>0.240753</td>\n",
       "      <td>-0.284854</td>\n",
       "      <td>-0.308265</td>\n",
       "      <td>-0.113225</td>\n",
       "      <td>0.011527</td>\n",
       "      <td>0.190316</td>\n",
       "      <td>0.181140</td>\n",
       "      <td>0.018103</td>\n",
       "    </tr>\n",
       "    <tr>\n",
       "      <th>1457</th>\n",
       "      <td>-0.387260</td>\n",
       "      <td>-0.176757</td>\n",
       "      <td>0.315439</td>\n",
       "      <td>-0.072700</td>\n",
       "      <td>0.422233</td>\n",
       "      <td>0.093375</td>\n",
       "      <td>-0.010964</td>\n",
       "      <td>0.362914</td>\n",
       "      <td>0.088383</td>\n",
       "      <td>-0.293265</td>\n",
       "      <td>...</td>\n",
       "      <td>0.188836</td>\n",
       "      <td>-0.107610</td>\n",
       "      <td>0.269160</td>\n",
       "      <td>-0.245053</td>\n",
       "      <td>-0.302679</td>\n",
       "      <td>-0.084123</td>\n",
       "      <td>-0.023936</td>\n",
       "      <td>0.146812</td>\n",
       "      <td>0.170245</td>\n",
       "      <td>0.020654</td>\n",
       "    </tr>\n",
       "    <tr>\n",
       "      <th>1458</th>\n",
       "      <td>-0.354255</td>\n",
       "      <td>-0.158858</td>\n",
       "      <td>0.309515</td>\n",
       "      <td>-0.076914</td>\n",
       "      <td>0.424964</td>\n",
       "      <td>0.060782</td>\n",
       "      <td>-0.027711</td>\n",
       "      <td>0.363169</td>\n",
       "      <td>0.133268</td>\n",
       "      <td>-0.292133</td>\n",
       "      <td>...</td>\n",
       "      <td>0.231273</td>\n",
       "      <td>-0.108203</td>\n",
       "      <td>0.249336</td>\n",
       "      <td>-0.254590</td>\n",
       "      <td>-0.312288</td>\n",
       "      <td>-0.112799</td>\n",
       "      <td>-0.019633</td>\n",
       "      <td>0.165909</td>\n",
       "      <td>0.168088</td>\n",
       "      <td>-0.022405</td>\n",
       "    </tr>\n",
       "  </tbody>\n",
       "</table>\n",
       "<p>1459 rows × 768 columns</p>\n",
       "</div>"
      ],
      "text/plain": [
       "       vec_3_0   vec_3_1   vec_3_2   vec_3_3   vec_3_4   vec_3_5   vec_3_6  \\\n",
       "0    -0.342006 -0.171133  0.323581 -0.050515  0.450389  0.069994 -0.036674   \n",
       "1    -0.378229 -0.173819  0.302587 -0.060987  0.451866  0.092956 -0.028463   \n",
       "2    -0.365969 -0.195362  0.316320 -0.061668  0.440227  0.069372  0.013363   \n",
       "3    -0.350866 -0.213495  0.317820 -0.035717  0.420609  0.078273 -0.002208   \n",
       "4    -0.368668 -0.174473  0.313357 -0.104889  0.460809  0.066121 -0.011961   \n",
       "...        ...       ...       ...       ...       ...       ...       ...   \n",
       "1454 -0.403125 -0.198048  0.313464 -0.092809  0.387106  0.087382 -0.000940   \n",
       "1455 -0.361951 -0.124050  0.335209 -0.122869  0.426031  0.070570 -0.026616   \n",
       "1456 -0.389813 -0.162583  0.331811 -0.118855  0.436123  0.070765 -0.024646   \n",
       "1457 -0.387260 -0.176757  0.315439 -0.072700  0.422233  0.093375 -0.010964   \n",
       "1458 -0.354255 -0.158858  0.309515 -0.076914  0.424964  0.060782 -0.027711   \n",
       "\n",
       "       vec_3_7   vec_3_8   vec_3_9  ...  vec_3_758  vec_3_759  vec_3_760  \\\n",
       "0     0.352880  0.117408 -0.303971  ...   0.210174  -0.108250   0.269066   \n",
       "1     0.379144  0.111176 -0.259963  ...   0.205089  -0.094579   0.230198   \n",
       "2     0.342497  0.100401 -0.296682  ...   0.214890  -0.115911   0.261414   \n",
       "3     0.371343  0.117391 -0.289893  ...   0.229203  -0.092521   0.242700   \n",
       "4     0.352099  0.129468 -0.265519  ...   0.218121  -0.114711   0.265717   \n",
       "...        ...       ...       ...  ...        ...        ...        ...   \n",
       "1454  0.374303  0.159427 -0.296443  ...   0.202086  -0.089521   0.255471   \n",
       "1455  0.372254  0.125379 -0.246590  ...   0.239758  -0.138762   0.242129   \n",
       "1456  0.348435  0.092073 -0.232146  ...   0.225816  -0.124345   0.240753   \n",
       "1457  0.362914  0.088383 -0.293265  ...   0.188836  -0.107610   0.269160   \n",
       "1458  0.363169  0.133268 -0.292133  ...   0.231273  -0.108203   0.249336   \n",
       "\n",
       "      vec_3_761  vec_3_762  vec_3_763  vec_3_764  vec_3_765  vec_3_766  \\\n",
       "0     -0.257249  -0.298957  -0.102981  -0.000097   0.193534   0.159268   \n",
       "1     -0.299686  -0.301835  -0.101234   0.005312   0.160243   0.181979   \n",
       "2     -0.275377  -0.328244  -0.081942   0.002331   0.151198   0.185818   \n",
       "3     -0.263874  -0.331816  -0.124782   0.002975   0.129735   0.190521   \n",
       "4     -0.253103  -0.308522  -0.083559  -0.036052   0.168244   0.173635   \n",
       "...         ...        ...        ...        ...        ...        ...   \n",
       "1454  -0.204309  -0.344054  -0.096400  -0.053632   0.103907   0.181194   \n",
       "1455  -0.243523  -0.311728  -0.108667  -0.000195   0.172455   0.168498   \n",
       "1456  -0.284854  -0.308265  -0.113225   0.011527   0.190316   0.181140   \n",
       "1457  -0.245053  -0.302679  -0.084123  -0.023936   0.146812   0.170245   \n",
       "1458  -0.254590  -0.312288  -0.112799  -0.019633   0.165909   0.168088   \n",
       "\n",
       "      vec_3_767  \n",
       "0     -0.006528  \n",
       "1     -0.005931  \n",
       "2     -0.011428  \n",
       "3     -0.030740  \n",
       "4     -0.013105  \n",
       "...         ...  \n",
       "1454   0.027618  \n",
       "1455   0.031621  \n",
       "1456   0.018103  \n",
       "1457   0.020654  \n",
       "1458  -0.022405  \n",
       "\n",
       "[1459 rows x 768 columns]"
      ]
     },
     "execution_count": 43,
     "metadata": {},
     "output_type": "execute_result"
    }
   ],
   "source": [
    "exploded"
   ]
  },
  {
   "cell_type": "code",
   "execution_count": 44,
   "metadata": {},
   "outputs": [
    {
     "data": {
      "text/html": [
       "<div>\n",
       "<style scoped>\n",
       "    .dataframe tbody tr th:only-of-type {\n",
       "        vertical-align: middle;\n",
       "    }\n",
       "\n",
       "    .dataframe tbody tr th {\n",
       "        vertical-align: top;\n",
       "    }\n",
       "\n",
       "    .dataframe thead th {\n",
       "        text-align: right;\n",
       "    }\n",
       "</style>\n",
       "<table border=\"1\" class=\"dataframe\">\n",
       "  <thead>\n",
       "    <tr style=\"text-align: right;\">\n",
       "      <th></th>\n",
       "      <th>MS Sub Class</th>\n",
       "      <th>MS Zoning</th>\n",
       "      <th>Lot Frontage</th>\n",
       "      <th>Lot Area</th>\n",
       "      <th>Street</th>\n",
       "      <th>Alley</th>\n",
       "      <th>Lot Shape</th>\n",
       "      <th>Land Contour</th>\n",
       "      <th>Utilities</th>\n",
       "      <th>Lot Config</th>\n",
       "      <th>...</th>\n",
       "      <th>vec_3_758</th>\n",
       "      <th>vec_3_759</th>\n",
       "      <th>vec_3_760</th>\n",
       "      <th>vec_3_761</th>\n",
       "      <th>vec_3_762</th>\n",
       "      <th>vec_3_763</th>\n",
       "      <th>vec_3_764</th>\n",
       "      <th>vec_3_765</th>\n",
       "      <th>vec_3_766</th>\n",
       "      <th>vec_3_767</th>\n",
       "    </tr>\n",
       "  </thead>\n",
       "  <tbody>\n",
       "    <tr>\n",
       "      <th>0</th>\n",
       "      <td>60</td>\n",
       "      <td>RL</td>\n",
       "      <td>65.0</td>\n",
       "      <td>8450</td>\n",
       "      <td>Pave</td>\n",
       "      <td>NaN</td>\n",
       "      <td>Reg</td>\n",
       "      <td>Lvl</td>\n",
       "      <td>AllPub</td>\n",
       "      <td>Inside</td>\n",
       "      <td>...</td>\n",
       "      <td>0.208463</td>\n",
       "      <td>-0.120883</td>\n",
       "      <td>0.255852</td>\n",
       "      <td>-0.236847</td>\n",
       "      <td>-0.325836</td>\n",
       "      <td>-0.098564</td>\n",
       "      <td>-0.029495</td>\n",
       "      <td>0.125205</td>\n",
       "      <td>0.183719</td>\n",
       "      <td>-0.000265</td>\n",
       "    </tr>\n",
       "    <tr>\n",
       "      <th>1</th>\n",
       "      <td>20</td>\n",
       "      <td>RL</td>\n",
       "      <td>80.0</td>\n",
       "      <td>9600</td>\n",
       "      <td>Pave</td>\n",
       "      <td>NaN</td>\n",
       "      <td>Reg</td>\n",
       "      <td>Lvl</td>\n",
       "      <td>AllPub</td>\n",
       "      <td>FR2</td>\n",
       "      <td>...</td>\n",
       "      <td>0.202784</td>\n",
       "      <td>-0.119835</td>\n",
       "      <td>0.247730</td>\n",
       "      <td>-0.236490</td>\n",
       "      <td>-0.329266</td>\n",
       "      <td>-0.095681</td>\n",
       "      <td>-0.019608</td>\n",
       "      <td>0.134751</td>\n",
       "      <td>0.177303</td>\n",
       "      <td>-0.019494</td>\n",
       "    </tr>\n",
       "    <tr>\n",
       "      <th>2</th>\n",
       "      <td>60</td>\n",
       "      <td>RL</td>\n",
       "      <td>68.0</td>\n",
       "      <td>11250</td>\n",
       "      <td>Pave</td>\n",
       "      <td>NaN</td>\n",
       "      <td>IR1</td>\n",
       "      <td>Lvl</td>\n",
       "      <td>AllPub</td>\n",
       "      <td>Inside</td>\n",
       "      <td>...</td>\n",
       "      <td>0.200401</td>\n",
       "      <td>-0.126680</td>\n",
       "      <td>0.266866</td>\n",
       "      <td>-0.234960</td>\n",
       "      <td>-0.311054</td>\n",
       "      <td>-0.095723</td>\n",
       "      <td>-0.030529</td>\n",
       "      <td>0.131665</td>\n",
       "      <td>0.170624</td>\n",
       "      <td>-0.003719</td>\n",
       "    </tr>\n",
       "    <tr>\n",
       "      <th>3</th>\n",
       "      <td>70</td>\n",
       "      <td>RL</td>\n",
       "      <td>60.0</td>\n",
       "      <td>9550</td>\n",
       "      <td>Pave</td>\n",
       "      <td>NaN</td>\n",
       "      <td>IR1</td>\n",
       "      <td>Lvl</td>\n",
       "      <td>AllPub</td>\n",
       "      <td>Corner</td>\n",
       "      <td>...</td>\n",
       "      <td>0.207097</td>\n",
       "      <td>-0.144861</td>\n",
       "      <td>0.237704</td>\n",
       "      <td>-0.246230</td>\n",
       "      <td>-0.333087</td>\n",
       "      <td>-0.103559</td>\n",
       "      <td>-0.003735</td>\n",
       "      <td>0.164902</td>\n",
       "      <td>0.180839</td>\n",
       "      <td>-0.005502</td>\n",
       "    </tr>\n",
       "    <tr>\n",
       "      <th>4</th>\n",
       "      <td>60</td>\n",
       "      <td>RL</td>\n",
       "      <td>84.0</td>\n",
       "      <td>14260</td>\n",
       "      <td>Pave</td>\n",
       "      <td>NaN</td>\n",
       "      <td>IR1</td>\n",
       "      <td>Lvl</td>\n",
       "      <td>AllPub</td>\n",
       "      <td>FR2</td>\n",
       "      <td>...</td>\n",
       "      <td>0.190694</td>\n",
       "      <td>-0.130889</td>\n",
       "      <td>0.259197</td>\n",
       "      <td>-0.239135</td>\n",
       "      <td>-0.324061</td>\n",
       "      <td>-0.086134</td>\n",
       "      <td>-0.021968</td>\n",
       "      <td>0.148590</td>\n",
       "      <td>0.169043</td>\n",
       "      <td>-0.004184</td>\n",
       "    </tr>\n",
       "    <tr>\n",
       "      <th>...</th>\n",
       "      <td>...</td>\n",
       "      <td>...</td>\n",
       "      <td>...</td>\n",
       "      <td>...</td>\n",
       "      <td>...</td>\n",
       "      <td>...</td>\n",
       "      <td>...</td>\n",
       "      <td>...</td>\n",
       "      <td>...</td>\n",
       "      <td>...</td>\n",
       "      <td>...</td>\n",
       "      <td>...</td>\n",
       "      <td>...</td>\n",
       "      <td>...</td>\n",
       "      <td>...</td>\n",
       "      <td>...</td>\n",
       "      <td>...</td>\n",
       "      <td>...</td>\n",
       "      <td>...</td>\n",
       "      <td>...</td>\n",
       "      <td>...</td>\n",
       "    </tr>\n",
       "    <tr>\n",
       "      <th>1455</th>\n",
       "      <td>60</td>\n",
       "      <td>RL</td>\n",
       "      <td>62.0</td>\n",
       "      <td>7917</td>\n",
       "      <td>Pave</td>\n",
       "      <td>NaN</td>\n",
       "      <td>Reg</td>\n",
       "      <td>Lvl</td>\n",
       "      <td>AllPub</td>\n",
       "      <td>Inside</td>\n",
       "      <td>...</td>\n",
       "      <td>0.192286</td>\n",
       "      <td>-0.117847</td>\n",
       "      <td>0.261338</td>\n",
       "      <td>-0.231875</td>\n",
       "      <td>-0.326915</td>\n",
       "      <td>-0.107919</td>\n",
       "      <td>-0.020642</td>\n",
       "      <td>0.128740</td>\n",
       "      <td>0.166478</td>\n",
       "      <td>-0.010512</td>\n",
       "    </tr>\n",
       "    <tr>\n",
       "      <th>1456</th>\n",
       "      <td>20</td>\n",
       "      <td>RL</td>\n",
       "      <td>85.0</td>\n",
       "      <td>13175</td>\n",
       "      <td>Pave</td>\n",
       "      <td>NaN</td>\n",
       "      <td>Reg</td>\n",
       "      <td>Lvl</td>\n",
       "      <td>AllPub</td>\n",
       "      <td>Inside</td>\n",
       "      <td>...</td>\n",
       "      <td>0.192156</td>\n",
       "      <td>-0.112341</td>\n",
       "      <td>0.245834</td>\n",
       "      <td>-0.241311</td>\n",
       "      <td>-0.320174</td>\n",
       "      <td>-0.081971</td>\n",
       "      <td>0.003732</td>\n",
       "      <td>0.156895</td>\n",
       "      <td>0.175175</td>\n",
       "      <td>-0.000459</td>\n",
       "    </tr>\n",
       "    <tr>\n",
       "      <th>1457</th>\n",
       "      <td>70</td>\n",
       "      <td>RL</td>\n",
       "      <td>66.0</td>\n",
       "      <td>9042</td>\n",
       "      <td>Pave</td>\n",
       "      <td>NaN</td>\n",
       "      <td>Reg</td>\n",
       "      <td>Lvl</td>\n",
       "      <td>AllPub</td>\n",
       "      <td>Inside</td>\n",
       "      <td>...</td>\n",
       "      <td>0.200664</td>\n",
       "      <td>-0.107478</td>\n",
       "      <td>0.274401</td>\n",
       "      <td>-0.236904</td>\n",
       "      <td>-0.286155</td>\n",
       "      <td>-0.093362</td>\n",
       "      <td>-0.040233</td>\n",
       "      <td>0.121788</td>\n",
       "      <td>0.189844</td>\n",
       "      <td>-0.026125</td>\n",
       "    </tr>\n",
       "    <tr>\n",
       "      <th>1458</th>\n",
       "      <td>20</td>\n",
       "      <td>RL</td>\n",
       "      <td>68.0</td>\n",
       "      <td>9717</td>\n",
       "      <td>Pave</td>\n",
       "      <td>NaN</td>\n",
       "      <td>Reg</td>\n",
       "      <td>Lvl</td>\n",
       "      <td>AllPub</td>\n",
       "      <td>Inside</td>\n",
       "      <td>...</td>\n",
       "      <td>0.194097</td>\n",
       "      <td>-0.094834</td>\n",
       "      <td>0.254600</td>\n",
       "      <td>-0.236620</td>\n",
       "      <td>-0.324627</td>\n",
       "      <td>-0.112494</td>\n",
       "      <td>-0.010592</td>\n",
       "      <td>0.160308</td>\n",
       "      <td>0.165439</td>\n",
       "      <td>-0.012261</td>\n",
       "    </tr>\n",
       "    <tr>\n",
       "      <th>1459</th>\n",
       "      <td>20</td>\n",
       "      <td>RL</td>\n",
       "      <td>75.0</td>\n",
       "      <td>9937</td>\n",
       "      <td>Pave</td>\n",
       "      <td>NaN</td>\n",
       "      <td>Reg</td>\n",
       "      <td>Lvl</td>\n",
       "      <td>AllPub</td>\n",
       "      <td>Inside</td>\n",
       "      <td>...</td>\n",
       "      <td>0.208826</td>\n",
       "      <td>-0.111087</td>\n",
       "      <td>0.244784</td>\n",
       "      <td>-0.243139</td>\n",
       "      <td>-0.286915</td>\n",
       "      <td>-0.109102</td>\n",
       "      <td>-0.033321</td>\n",
       "      <td>0.161448</td>\n",
       "      <td>0.161679</td>\n",
       "      <td>-0.006599</td>\n",
       "    </tr>\n",
       "  </tbody>\n",
       "</table>\n",
       "<p>1460 rows × 3159 columns</p>\n",
       "</div>"
      ],
      "text/plain": [
       "      MS Sub Class MS Zoning  Lot Frontage  Lot Area Street Alley Lot Shape  \\\n",
       "0               60        RL          65.0      8450   Pave   NaN       Reg   \n",
       "1               20        RL          80.0      9600   Pave   NaN       Reg   \n",
       "2               60        RL          68.0     11250   Pave   NaN       IR1   \n",
       "3               70        RL          60.0      9550   Pave   NaN       IR1   \n",
       "4               60        RL          84.0     14260   Pave   NaN       IR1   \n",
       "...            ...       ...           ...       ...    ...   ...       ...   \n",
       "1455            60        RL          62.0      7917   Pave   NaN       Reg   \n",
       "1456            20        RL          85.0     13175   Pave   NaN       Reg   \n",
       "1457            70        RL          66.0      9042   Pave   NaN       Reg   \n",
       "1458            20        RL          68.0      9717   Pave   NaN       Reg   \n",
       "1459            20        RL          75.0      9937   Pave   NaN       Reg   \n",
       "\n",
       "     Land Contour Utilities Lot Config  ... vec_3_758 vec_3_759 vec_3_760  \\\n",
       "0             Lvl    AllPub     Inside  ...  0.208463 -0.120883  0.255852   \n",
       "1             Lvl    AllPub        FR2  ...  0.202784 -0.119835  0.247730   \n",
       "2             Lvl    AllPub     Inside  ...  0.200401 -0.126680  0.266866   \n",
       "3             Lvl    AllPub     Corner  ...  0.207097 -0.144861  0.237704   \n",
       "4             Lvl    AllPub        FR2  ...  0.190694 -0.130889  0.259197   \n",
       "...           ...       ...        ...  ...       ...       ...       ...   \n",
       "1455          Lvl    AllPub     Inside  ...  0.192286 -0.117847  0.261338   \n",
       "1456          Lvl    AllPub     Inside  ...  0.192156 -0.112341  0.245834   \n",
       "1457          Lvl    AllPub     Inside  ...  0.200664 -0.107478  0.274401   \n",
       "1458          Lvl    AllPub     Inside  ...  0.194097 -0.094834  0.254600   \n",
       "1459          Lvl    AllPub     Inside  ...  0.208826 -0.111087  0.244784   \n",
       "\n",
       "     vec_3_761 vec_3_762 vec_3_763  vec_3_764  vec_3_765  vec_3_766  vec_3_767  \n",
       "0    -0.236847 -0.325836 -0.098564  -0.029495   0.125205   0.183719  -0.000265  \n",
       "1    -0.236490 -0.329266 -0.095681  -0.019608   0.134751   0.177303  -0.019494  \n",
       "2    -0.234960 -0.311054 -0.095723  -0.030529   0.131665   0.170624  -0.003719  \n",
       "3    -0.246230 -0.333087 -0.103559  -0.003735   0.164902   0.180839  -0.005502  \n",
       "4    -0.239135 -0.324061 -0.086134  -0.021968   0.148590   0.169043  -0.004184  \n",
       "...        ...       ...       ...        ...        ...        ...        ...  \n",
       "1455 -0.231875 -0.326915 -0.107919  -0.020642   0.128740   0.166478  -0.010512  \n",
       "1456 -0.241311 -0.320174 -0.081971   0.003732   0.156895   0.175175  -0.000459  \n",
       "1457 -0.236904 -0.286155 -0.093362  -0.040233   0.121788   0.189844  -0.026125  \n",
       "1458 -0.236620 -0.324627 -0.112494  -0.010592   0.160308   0.165439  -0.012261  \n",
       "1459 -0.243139 -0.286915 -0.109102  -0.033321   0.161448   0.161679  -0.006599  \n",
       "\n",
       "[1460 rows x 3159 columns]"
      ]
     },
     "execution_count": 44,
     "metadata": {},
     "output_type": "execute_result"
    }
   ],
   "source": [
    "train_X"
   ]
  },
  {
   "cell_type": "markdown",
   "metadata": {},
   "source": [
    "- Doing train test split on training data for evaluation step"
   ]
  },
  {
   "cell_type": "code",
   "execution_count": 45,
   "metadata": {},
   "outputs": [],
   "source": [
    "train_X_sp, eval_X_sp, train_y_sp, eval_y_sp = train_test_split(train_X, train_y,  test_size=0.2, random_state=0)"
   ]
  },
  {
   "cell_type": "code",
   "execution_count": 46,
   "metadata": {},
   "outputs": [],
   "source": [
    "# Drop everything that is not an exploded-out tabular-vector columns of the form\n",
    "import re\n",
    "def get_matching_cols(df, regex):\n",
    "  r = re.compile(regex)\n",
    "  return( list( filter( r.match, df.columns) ) )\n",
    "  \n",
    "def get_embedding_cols(df):\n",
    "  return( get_matching_cols(df, \"vec_\\d+_\\d+\") )\n",
    "\n",
    "embed_cols = get_embedding_cols( train_X )"
   ]
  },
  {
   "cell_type": "code",
   "execution_count": 48,
   "metadata": {},
   "outputs": [
    {
     "data": {
      "text/plain": [
       "['vec_0_0',\n",
       " 'vec_0_1',\n",
       " 'vec_0_2',\n",
       " 'vec_0_3',\n",
       " 'vec_0_4',\n",
       " 'vec_0_5',\n",
       " 'vec_0_6',\n",
       " 'vec_0_7',\n",
       " 'vec_0_8',\n",
       " 'vec_0_9',\n",
       " 'vec_0_10',\n",
       " 'vec_0_11',\n",
       " 'vec_0_12',\n",
       " 'vec_0_13',\n",
       " 'vec_0_14',\n",
       " 'vec_0_15',\n",
       " 'vec_0_16',\n",
       " 'vec_0_17',\n",
       " 'vec_0_18',\n",
       " 'vec_0_19',\n",
       " 'vec_0_20',\n",
       " 'vec_0_21',\n",
       " 'vec_0_22',\n",
       " 'vec_0_23',\n",
       " 'vec_0_24',\n",
       " 'vec_0_25',\n",
       " 'vec_0_26',\n",
       " 'vec_0_27',\n",
       " 'vec_0_28',\n",
       " 'vec_0_29',\n",
       " 'vec_0_30',\n",
       " 'vec_0_31',\n",
       " 'vec_0_32',\n",
       " 'vec_0_33',\n",
       " 'vec_0_34',\n",
       " 'vec_0_35',\n",
       " 'vec_0_36',\n",
       " 'vec_0_37',\n",
       " 'vec_0_38',\n",
       " 'vec_0_39',\n",
       " 'vec_0_40',\n",
       " 'vec_0_41',\n",
       " 'vec_0_42',\n",
       " 'vec_0_43',\n",
       " 'vec_0_44',\n",
       " 'vec_0_45',\n",
       " 'vec_0_46',\n",
       " 'vec_0_47',\n",
       " 'vec_0_48',\n",
       " 'vec_0_49',\n",
       " 'vec_0_50',\n",
       " 'vec_0_51',\n",
       " 'vec_0_52',\n",
       " 'vec_0_53',\n",
       " 'vec_0_54',\n",
       " 'vec_0_55',\n",
       " 'vec_0_56',\n",
       " 'vec_0_57',\n",
       " 'vec_0_58',\n",
       " 'vec_0_59',\n",
       " 'vec_0_60',\n",
       " 'vec_0_61',\n",
       " 'vec_0_62',\n",
       " 'vec_0_63',\n",
       " 'vec_0_64',\n",
       " 'vec_0_65',\n",
       " 'vec_0_66',\n",
       " 'vec_0_67',\n",
       " 'vec_0_68',\n",
       " 'vec_0_69',\n",
       " 'vec_0_70',\n",
       " 'vec_0_71',\n",
       " 'vec_0_72',\n",
       " 'vec_0_73',\n",
       " 'vec_0_74',\n",
       " 'vec_0_75',\n",
       " 'vec_0_76',\n",
       " 'vec_0_77',\n",
       " 'vec_0_78',\n",
       " 'vec_0_79',\n",
       " 'vec_0_80',\n",
       " 'vec_0_81',\n",
       " 'vec_0_82',\n",
       " 'vec_0_83',\n",
       " 'vec_0_84',\n",
       " 'vec_0_85',\n",
       " 'vec_0_86',\n",
       " 'vec_0_87',\n",
       " 'vec_0_88',\n",
       " 'vec_0_89',\n",
       " 'vec_0_90',\n",
       " 'vec_0_91',\n",
       " 'vec_0_92',\n",
       " 'vec_0_93',\n",
       " 'vec_0_94',\n",
       " 'vec_0_95',\n",
       " 'vec_0_96',\n",
       " 'vec_0_97',\n",
       " 'vec_0_98',\n",
       " 'vec_0_99',\n",
       " 'vec_0_100',\n",
       " 'vec_0_101',\n",
       " 'vec_0_102',\n",
       " 'vec_0_103',\n",
       " 'vec_0_104',\n",
       " 'vec_0_105',\n",
       " 'vec_0_106',\n",
       " 'vec_0_107',\n",
       " 'vec_0_108',\n",
       " 'vec_0_109',\n",
       " 'vec_0_110',\n",
       " 'vec_0_111',\n",
       " 'vec_0_112',\n",
       " 'vec_0_113',\n",
       " 'vec_0_114',\n",
       " 'vec_0_115',\n",
       " 'vec_0_116',\n",
       " 'vec_0_117',\n",
       " 'vec_0_118',\n",
       " 'vec_0_119',\n",
       " 'vec_0_120',\n",
       " 'vec_0_121',\n",
       " 'vec_0_122',\n",
       " 'vec_0_123',\n",
       " 'vec_0_124',\n",
       " 'vec_0_125',\n",
       " 'vec_0_126',\n",
       " 'vec_0_127',\n",
       " 'vec_0_128',\n",
       " 'vec_0_129',\n",
       " 'vec_0_130',\n",
       " 'vec_0_131',\n",
       " 'vec_0_132',\n",
       " 'vec_0_133',\n",
       " 'vec_0_134',\n",
       " 'vec_0_135',\n",
       " 'vec_0_136',\n",
       " 'vec_0_137',\n",
       " 'vec_0_138',\n",
       " 'vec_0_139',\n",
       " 'vec_0_140',\n",
       " 'vec_0_141',\n",
       " 'vec_0_142',\n",
       " 'vec_0_143',\n",
       " 'vec_0_144',\n",
       " 'vec_0_145',\n",
       " 'vec_0_146',\n",
       " 'vec_0_147',\n",
       " 'vec_0_148',\n",
       " 'vec_0_149',\n",
       " 'vec_0_150',\n",
       " 'vec_0_151',\n",
       " 'vec_0_152',\n",
       " 'vec_0_153',\n",
       " 'vec_0_154',\n",
       " 'vec_0_155',\n",
       " 'vec_0_156',\n",
       " 'vec_0_157',\n",
       " 'vec_0_158',\n",
       " 'vec_0_159',\n",
       " 'vec_0_160',\n",
       " 'vec_0_161',\n",
       " 'vec_0_162',\n",
       " 'vec_0_163',\n",
       " 'vec_0_164',\n",
       " 'vec_0_165',\n",
       " 'vec_0_166',\n",
       " 'vec_0_167',\n",
       " 'vec_0_168',\n",
       " 'vec_0_169',\n",
       " 'vec_0_170',\n",
       " 'vec_0_171',\n",
       " 'vec_0_172',\n",
       " 'vec_0_173',\n",
       " 'vec_0_174',\n",
       " 'vec_0_175',\n",
       " 'vec_0_176',\n",
       " 'vec_0_177',\n",
       " 'vec_0_178',\n",
       " 'vec_0_179',\n",
       " 'vec_0_180',\n",
       " 'vec_0_181',\n",
       " 'vec_0_182',\n",
       " 'vec_0_183',\n",
       " 'vec_0_184',\n",
       " 'vec_0_185',\n",
       " 'vec_0_186',\n",
       " 'vec_0_187',\n",
       " 'vec_0_188',\n",
       " 'vec_0_189',\n",
       " 'vec_0_190',\n",
       " 'vec_0_191',\n",
       " 'vec_0_192',\n",
       " 'vec_0_193',\n",
       " 'vec_0_194',\n",
       " 'vec_0_195',\n",
       " 'vec_0_196',\n",
       " 'vec_0_197',\n",
       " 'vec_0_198',\n",
       " 'vec_0_199',\n",
       " 'vec_0_200',\n",
       " 'vec_0_201',\n",
       " 'vec_0_202',\n",
       " 'vec_0_203',\n",
       " 'vec_0_204',\n",
       " 'vec_0_205',\n",
       " 'vec_0_206',\n",
       " 'vec_0_207',\n",
       " 'vec_0_208',\n",
       " 'vec_0_209',\n",
       " 'vec_0_210',\n",
       " 'vec_0_211',\n",
       " 'vec_0_212',\n",
       " 'vec_0_213',\n",
       " 'vec_0_214',\n",
       " 'vec_0_215',\n",
       " 'vec_0_216',\n",
       " 'vec_0_217',\n",
       " 'vec_0_218',\n",
       " 'vec_0_219',\n",
       " 'vec_0_220',\n",
       " 'vec_0_221',\n",
       " 'vec_0_222',\n",
       " 'vec_0_223',\n",
       " 'vec_0_224',\n",
       " 'vec_0_225',\n",
       " 'vec_0_226',\n",
       " 'vec_0_227',\n",
       " 'vec_0_228',\n",
       " 'vec_0_229',\n",
       " 'vec_0_230',\n",
       " 'vec_0_231',\n",
       " 'vec_0_232',\n",
       " 'vec_0_233',\n",
       " 'vec_0_234',\n",
       " 'vec_0_235',\n",
       " 'vec_0_236',\n",
       " 'vec_0_237',\n",
       " 'vec_0_238',\n",
       " 'vec_0_239',\n",
       " 'vec_0_240',\n",
       " 'vec_0_241',\n",
       " 'vec_0_242',\n",
       " 'vec_0_243',\n",
       " 'vec_0_244',\n",
       " 'vec_0_245',\n",
       " 'vec_0_246',\n",
       " 'vec_0_247',\n",
       " 'vec_0_248',\n",
       " 'vec_0_249',\n",
       " 'vec_0_250',\n",
       " 'vec_0_251',\n",
       " 'vec_0_252',\n",
       " 'vec_0_253',\n",
       " 'vec_0_254',\n",
       " 'vec_0_255',\n",
       " 'vec_0_256',\n",
       " 'vec_0_257',\n",
       " 'vec_0_258',\n",
       " 'vec_0_259',\n",
       " 'vec_0_260',\n",
       " 'vec_0_261',\n",
       " 'vec_0_262',\n",
       " 'vec_0_263',\n",
       " 'vec_0_264',\n",
       " 'vec_0_265',\n",
       " 'vec_0_266',\n",
       " 'vec_0_267',\n",
       " 'vec_0_268',\n",
       " 'vec_0_269',\n",
       " 'vec_0_270',\n",
       " 'vec_0_271',\n",
       " 'vec_0_272',\n",
       " 'vec_0_273',\n",
       " 'vec_0_274',\n",
       " 'vec_0_275',\n",
       " 'vec_0_276',\n",
       " 'vec_0_277',\n",
       " 'vec_0_278',\n",
       " 'vec_0_279',\n",
       " 'vec_0_280',\n",
       " 'vec_0_281',\n",
       " 'vec_0_282',\n",
       " 'vec_0_283',\n",
       " 'vec_0_284',\n",
       " 'vec_0_285',\n",
       " 'vec_0_286',\n",
       " 'vec_0_287',\n",
       " 'vec_0_288',\n",
       " 'vec_0_289',\n",
       " 'vec_0_290',\n",
       " 'vec_0_291',\n",
       " 'vec_0_292',\n",
       " 'vec_0_293',\n",
       " 'vec_0_294',\n",
       " 'vec_0_295',\n",
       " 'vec_0_296',\n",
       " 'vec_0_297',\n",
       " 'vec_0_298',\n",
       " 'vec_0_299',\n",
       " 'vec_0_300',\n",
       " 'vec_0_301',\n",
       " 'vec_0_302',\n",
       " 'vec_0_303',\n",
       " 'vec_0_304',\n",
       " 'vec_0_305',\n",
       " 'vec_0_306',\n",
       " 'vec_0_307',\n",
       " 'vec_0_308',\n",
       " 'vec_0_309',\n",
       " 'vec_0_310',\n",
       " 'vec_0_311',\n",
       " 'vec_0_312',\n",
       " 'vec_0_313',\n",
       " 'vec_0_314',\n",
       " 'vec_0_315',\n",
       " 'vec_0_316',\n",
       " 'vec_0_317',\n",
       " 'vec_0_318',\n",
       " 'vec_0_319',\n",
       " 'vec_0_320',\n",
       " 'vec_0_321',\n",
       " 'vec_0_322',\n",
       " 'vec_0_323',\n",
       " 'vec_0_324',\n",
       " 'vec_0_325',\n",
       " 'vec_0_326',\n",
       " 'vec_0_327',\n",
       " 'vec_0_328',\n",
       " 'vec_0_329',\n",
       " 'vec_0_330',\n",
       " 'vec_0_331',\n",
       " 'vec_0_332',\n",
       " 'vec_0_333',\n",
       " 'vec_0_334',\n",
       " 'vec_0_335',\n",
       " 'vec_0_336',\n",
       " 'vec_0_337',\n",
       " 'vec_0_338',\n",
       " 'vec_0_339',\n",
       " 'vec_0_340',\n",
       " 'vec_0_341',\n",
       " 'vec_0_342',\n",
       " 'vec_0_343',\n",
       " 'vec_0_344',\n",
       " 'vec_0_345',\n",
       " 'vec_0_346',\n",
       " 'vec_0_347',\n",
       " 'vec_0_348',\n",
       " 'vec_0_349',\n",
       " 'vec_0_350',\n",
       " 'vec_0_351',\n",
       " 'vec_0_352',\n",
       " 'vec_0_353',\n",
       " 'vec_0_354',\n",
       " 'vec_0_355',\n",
       " 'vec_0_356',\n",
       " 'vec_0_357',\n",
       " 'vec_0_358',\n",
       " 'vec_0_359',\n",
       " 'vec_0_360',\n",
       " 'vec_0_361',\n",
       " 'vec_0_362',\n",
       " 'vec_0_363',\n",
       " 'vec_0_364',\n",
       " 'vec_0_365',\n",
       " 'vec_0_366',\n",
       " 'vec_0_367',\n",
       " 'vec_0_368',\n",
       " 'vec_0_369',\n",
       " 'vec_0_370',\n",
       " 'vec_0_371',\n",
       " 'vec_0_372',\n",
       " 'vec_0_373',\n",
       " 'vec_0_374',\n",
       " 'vec_0_375',\n",
       " 'vec_0_376',\n",
       " 'vec_0_377',\n",
       " 'vec_0_378',\n",
       " 'vec_0_379',\n",
       " 'vec_0_380',\n",
       " 'vec_0_381',\n",
       " 'vec_0_382',\n",
       " 'vec_0_383',\n",
       " 'vec_0_384',\n",
       " 'vec_0_385',\n",
       " 'vec_0_386',\n",
       " 'vec_0_387',\n",
       " 'vec_0_388',\n",
       " 'vec_0_389',\n",
       " 'vec_0_390',\n",
       " 'vec_0_391',\n",
       " 'vec_0_392',\n",
       " 'vec_0_393',\n",
       " 'vec_0_394',\n",
       " 'vec_0_395',\n",
       " 'vec_0_396',\n",
       " 'vec_0_397',\n",
       " 'vec_0_398',\n",
       " 'vec_0_399',\n",
       " 'vec_0_400',\n",
       " 'vec_0_401',\n",
       " 'vec_0_402',\n",
       " 'vec_0_403',\n",
       " 'vec_0_404',\n",
       " 'vec_0_405',\n",
       " 'vec_0_406',\n",
       " 'vec_0_407',\n",
       " 'vec_0_408',\n",
       " 'vec_0_409',\n",
       " 'vec_0_410',\n",
       " 'vec_0_411',\n",
       " 'vec_0_412',\n",
       " 'vec_0_413',\n",
       " 'vec_0_414',\n",
       " 'vec_0_415',\n",
       " 'vec_0_416',\n",
       " 'vec_0_417',\n",
       " 'vec_0_418',\n",
       " 'vec_0_419',\n",
       " 'vec_0_420',\n",
       " 'vec_0_421',\n",
       " 'vec_0_422',\n",
       " 'vec_0_423',\n",
       " 'vec_0_424',\n",
       " 'vec_0_425',\n",
       " 'vec_0_426',\n",
       " 'vec_0_427',\n",
       " 'vec_0_428',\n",
       " 'vec_0_429',\n",
       " 'vec_0_430',\n",
       " 'vec_0_431',\n",
       " 'vec_0_432',\n",
       " 'vec_0_433',\n",
       " 'vec_0_434',\n",
       " 'vec_0_435',\n",
       " 'vec_0_436',\n",
       " 'vec_0_437',\n",
       " 'vec_0_438',\n",
       " 'vec_0_439',\n",
       " 'vec_0_440',\n",
       " 'vec_0_441',\n",
       " 'vec_0_442',\n",
       " 'vec_0_443',\n",
       " 'vec_0_444',\n",
       " 'vec_0_445',\n",
       " 'vec_0_446',\n",
       " 'vec_0_447',\n",
       " 'vec_0_448',\n",
       " 'vec_0_449',\n",
       " 'vec_0_450',\n",
       " 'vec_0_451',\n",
       " 'vec_0_452',\n",
       " 'vec_0_453',\n",
       " 'vec_0_454',\n",
       " 'vec_0_455',\n",
       " 'vec_0_456',\n",
       " 'vec_0_457',\n",
       " 'vec_0_458',\n",
       " 'vec_0_459',\n",
       " 'vec_0_460',\n",
       " 'vec_0_461',\n",
       " 'vec_0_462',\n",
       " 'vec_0_463',\n",
       " 'vec_0_464',\n",
       " 'vec_0_465',\n",
       " 'vec_0_466',\n",
       " 'vec_0_467',\n",
       " 'vec_0_468',\n",
       " 'vec_0_469',\n",
       " 'vec_0_470',\n",
       " 'vec_0_471',\n",
       " 'vec_0_472',\n",
       " 'vec_0_473',\n",
       " 'vec_0_474',\n",
       " 'vec_0_475',\n",
       " 'vec_0_476',\n",
       " 'vec_0_477',\n",
       " 'vec_0_478',\n",
       " 'vec_0_479',\n",
       " 'vec_0_480',\n",
       " 'vec_0_481',\n",
       " 'vec_0_482',\n",
       " 'vec_0_483',\n",
       " 'vec_0_484',\n",
       " 'vec_0_485',\n",
       " 'vec_0_486',\n",
       " 'vec_0_487',\n",
       " 'vec_0_488',\n",
       " 'vec_0_489',\n",
       " 'vec_0_490',\n",
       " 'vec_0_491',\n",
       " 'vec_0_492',\n",
       " 'vec_0_493',\n",
       " 'vec_0_494',\n",
       " 'vec_0_495',\n",
       " 'vec_0_496',\n",
       " 'vec_0_497',\n",
       " 'vec_0_498',\n",
       " 'vec_0_499',\n",
       " 'vec_0_500',\n",
       " 'vec_0_501',\n",
       " 'vec_0_502',\n",
       " 'vec_0_503',\n",
       " 'vec_0_504',\n",
       " 'vec_0_505',\n",
       " 'vec_0_506',\n",
       " 'vec_0_507',\n",
       " 'vec_0_508',\n",
       " 'vec_0_509',\n",
       " 'vec_0_510',\n",
       " 'vec_0_511',\n",
       " 'vec_0_512',\n",
       " 'vec_0_513',\n",
       " 'vec_0_514',\n",
       " 'vec_0_515',\n",
       " 'vec_0_516',\n",
       " 'vec_0_517',\n",
       " 'vec_0_518',\n",
       " 'vec_0_519',\n",
       " 'vec_0_520',\n",
       " 'vec_0_521',\n",
       " 'vec_0_522',\n",
       " 'vec_0_523',\n",
       " 'vec_0_524',\n",
       " 'vec_0_525',\n",
       " 'vec_0_526',\n",
       " 'vec_0_527',\n",
       " 'vec_0_528',\n",
       " 'vec_0_529',\n",
       " 'vec_0_530',\n",
       " 'vec_0_531',\n",
       " 'vec_0_532',\n",
       " 'vec_0_533',\n",
       " 'vec_0_534',\n",
       " 'vec_0_535',\n",
       " 'vec_0_536',\n",
       " 'vec_0_537',\n",
       " 'vec_0_538',\n",
       " 'vec_0_539',\n",
       " 'vec_0_540',\n",
       " 'vec_0_541',\n",
       " 'vec_0_542',\n",
       " 'vec_0_543',\n",
       " 'vec_0_544',\n",
       " 'vec_0_545',\n",
       " 'vec_0_546',\n",
       " 'vec_0_547',\n",
       " 'vec_0_548',\n",
       " 'vec_0_549',\n",
       " 'vec_0_550',\n",
       " 'vec_0_551',\n",
       " 'vec_0_552',\n",
       " 'vec_0_553',\n",
       " 'vec_0_554',\n",
       " 'vec_0_555',\n",
       " 'vec_0_556',\n",
       " 'vec_0_557',\n",
       " 'vec_0_558',\n",
       " 'vec_0_559',\n",
       " 'vec_0_560',\n",
       " 'vec_0_561',\n",
       " 'vec_0_562',\n",
       " 'vec_0_563',\n",
       " 'vec_0_564',\n",
       " 'vec_0_565',\n",
       " 'vec_0_566',\n",
       " 'vec_0_567',\n",
       " 'vec_0_568',\n",
       " 'vec_0_569',\n",
       " 'vec_0_570',\n",
       " 'vec_0_571',\n",
       " 'vec_0_572',\n",
       " 'vec_0_573',\n",
       " 'vec_0_574',\n",
       " 'vec_0_575',\n",
       " 'vec_0_576',\n",
       " 'vec_0_577',\n",
       " 'vec_0_578',\n",
       " 'vec_0_579',\n",
       " 'vec_0_580',\n",
       " 'vec_0_581',\n",
       " 'vec_0_582',\n",
       " 'vec_0_583',\n",
       " 'vec_0_584',\n",
       " 'vec_0_585',\n",
       " 'vec_0_586',\n",
       " 'vec_0_587',\n",
       " 'vec_0_588',\n",
       " 'vec_0_589',\n",
       " 'vec_0_590',\n",
       " 'vec_0_591',\n",
       " 'vec_0_592',\n",
       " 'vec_0_593',\n",
       " 'vec_0_594',\n",
       " 'vec_0_595',\n",
       " 'vec_0_596',\n",
       " 'vec_0_597',\n",
       " 'vec_0_598',\n",
       " 'vec_0_599',\n",
       " 'vec_0_600',\n",
       " 'vec_0_601',\n",
       " 'vec_0_602',\n",
       " 'vec_0_603',\n",
       " 'vec_0_604',\n",
       " 'vec_0_605',\n",
       " 'vec_0_606',\n",
       " 'vec_0_607',\n",
       " 'vec_0_608',\n",
       " 'vec_0_609',\n",
       " 'vec_0_610',\n",
       " 'vec_0_611',\n",
       " 'vec_0_612',\n",
       " 'vec_0_613',\n",
       " 'vec_0_614',\n",
       " 'vec_0_615',\n",
       " 'vec_0_616',\n",
       " 'vec_0_617',\n",
       " 'vec_0_618',\n",
       " 'vec_0_619',\n",
       " 'vec_0_620',\n",
       " 'vec_0_621',\n",
       " 'vec_0_622',\n",
       " 'vec_0_623',\n",
       " 'vec_0_624',\n",
       " 'vec_0_625',\n",
       " 'vec_0_626',\n",
       " 'vec_0_627',\n",
       " 'vec_0_628',\n",
       " 'vec_0_629',\n",
       " 'vec_0_630',\n",
       " 'vec_0_631',\n",
       " 'vec_0_632',\n",
       " 'vec_0_633',\n",
       " 'vec_0_634',\n",
       " 'vec_0_635',\n",
       " 'vec_0_636',\n",
       " 'vec_0_637',\n",
       " 'vec_0_638',\n",
       " 'vec_0_639',\n",
       " 'vec_0_640',\n",
       " 'vec_0_641',\n",
       " 'vec_0_642',\n",
       " 'vec_0_643',\n",
       " 'vec_0_644',\n",
       " 'vec_0_645',\n",
       " 'vec_0_646',\n",
       " 'vec_0_647',\n",
       " 'vec_0_648',\n",
       " 'vec_0_649',\n",
       " 'vec_0_650',\n",
       " 'vec_0_651',\n",
       " 'vec_0_652',\n",
       " 'vec_0_653',\n",
       " 'vec_0_654',\n",
       " 'vec_0_655',\n",
       " 'vec_0_656',\n",
       " 'vec_0_657',\n",
       " 'vec_0_658',\n",
       " 'vec_0_659',\n",
       " 'vec_0_660',\n",
       " 'vec_0_661',\n",
       " 'vec_0_662',\n",
       " 'vec_0_663',\n",
       " 'vec_0_664',\n",
       " 'vec_0_665',\n",
       " 'vec_0_666',\n",
       " 'vec_0_667',\n",
       " 'vec_0_668',\n",
       " 'vec_0_669',\n",
       " 'vec_0_670',\n",
       " 'vec_0_671',\n",
       " 'vec_0_672',\n",
       " 'vec_0_673',\n",
       " 'vec_0_674',\n",
       " 'vec_0_675',\n",
       " 'vec_0_676',\n",
       " 'vec_0_677',\n",
       " 'vec_0_678',\n",
       " 'vec_0_679',\n",
       " 'vec_0_680',\n",
       " 'vec_0_681',\n",
       " 'vec_0_682',\n",
       " 'vec_0_683',\n",
       " 'vec_0_684',\n",
       " 'vec_0_685',\n",
       " 'vec_0_686',\n",
       " 'vec_0_687',\n",
       " 'vec_0_688',\n",
       " 'vec_0_689',\n",
       " 'vec_0_690',\n",
       " 'vec_0_691',\n",
       " 'vec_0_692',\n",
       " 'vec_0_693',\n",
       " 'vec_0_694',\n",
       " 'vec_0_695',\n",
       " 'vec_0_696',\n",
       " 'vec_0_697',\n",
       " 'vec_0_698',\n",
       " 'vec_0_699',\n",
       " 'vec_0_700',\n",
       " 'vec_0_701',\n",
       " 'vec_0_702',\n",
       " 'vec_0_703',\n",
       " 'vec_0_704',\n",
       " 'vec_0_705',\n",
       " 'vec_0_706',\n",
       " 'vec_0_707',\n",
       " 'vec_0_708',\n",
       " 'vec_0_709',\n",
       " 'vec_0_710',\n",
       " 'vec_0_711',\n",
       " 'vec_0_712',\n",
       " 'vec_0_713',\n",
       " 'vec_0_714',\n",
       " 'vec_0_715',\n",
       " 'vec_0_716',\n",
       " 'vec_0_717',\n",
       " 'vec_0_718',\n",
       " 'vec_0_719',\n",
       " 'vec_0_720',\n",
       " 'vec_0_721',\n",
       " 'vec_0_722',\n",
       " 'vec_0_723',\n",
       " 'vec_0_724',\n",
       " 'vec_0_725',\n",
       " 'vec_0_726',\n",
       " 'vec_0_727',\n",
       " 'vec_0_728',\n",
       " 'vec_0_729',\n",
       " 'vec_0_730',\n",
       " 'vec_0_731',\n",
       " 'vec_0_732',\n",
       " 'vec_0_733',\n",
       " 'vec_0_734',\n",
       " 'vec_0_735',\n",
       " 'vec_0_736',\n",
       " 'vec_0_737',\n",
       " 'vec_0_738',\n",
       " 'vec_0_739',\n",
       " 'vec_0_740',\n",
       " 'vec_0_741',\n",
       " 'vec_0_742',\n",
       " 'vec_0_743',\n",
       " 'vec_0_744',\n",
       " 'vec_0_745',\n",
       " 'vec_0_746',\n",
       " 'vec_0_747',\n",
       " 'vec_0_748',\n",
       " 'vec_0_749',\n",
       " 'vec_0_750',\n",
       " 'vec_0_751',\n",
       " 'vec_0_752',\n",
       " 'vec_0_753',\n",
       " 'vec_0_754',\n",
       " 'vec_0_755',\n",
       " 'vec_0_756',\n",
       " 'vec_0_757',\n",
       " 'vec_0_758',\n",
       " 'vec_0_759',\n",
       " 'vec_0_760',\n",
       " 'vec_0_761',\n",
       " 'vec_0_762',\n",
       " 'vec_0_763',\n",
       " 'vec_0_764',\n",
       " 'vec_0_765',\n",
       " 'vec_0_766',\n",
       " 'vec_0_767',\n",
       " 'vec_1_0',\n",
       " 'vec_1_1',\n",
       " 'vec_1_2',\n",
       " 'vec_1_3',\n",
       " 'vec_1_4',\n",
       " 'vec_1_5',\n",
       " 'vec_1_6',\n",
       " 'vec_1_7',\n",
       " 'vec_1_8',\n",
       " 'vec_1_9',\n",
       " 'vec_1_10',\n",
       " 'vec_1_11',\n",
       " 'vec_1_12',\n",
       " 'vec_1_13',\n",
       " 'vec_1_14',\n",
       " 'vec_1_15',\n",
       " 'vec_1_16',\n",
       " 'vec_1_17',\n",
       " 'vec_1_18',\n",
       " 'vec_1_19',\n",
       " 'vec_1_20',\n",
       " 'vec_1_21',\n",
       " 'vec_1_22',\n",
       " 'vec_1_23',\n",
       " 'vec_1_24',\n",
       " 'vec_1_25',\n",
       " 'vec_1_26',\n",
       " 'vec_1_27',\n",
       " 'vec_1_28',\n",
       " 'vec_1_29',\n",
       " 'vec_1_30',\n",
       " 'vec_1_31',\n",
       " 'vec_1_32',\n",
       " 'vec_1_33',\n",
       " 'vec_1_34',\n",
       " 'vec_1_35',\n",
       " 'vec_1_36',\n",
       " 'vec_1_37',\n",
       " 'vec_1_38',\n",
       " 'vec_1_39',\n",
       " 'vec_1_40',\n",
       " 'vec_1_41',\n",
       " 'vec_1_42',\n",
       " 'vec_1_43',\n",
       " 'vec_1_44',\n",
       " 'vec_1_45',\n",
       " 'vec_1_46',\n",
       " 'vec_1_47',\n",
       " 'vec_1_48',\n",
       " 'vec_1_49',\n",
       " 'vec_1_50',\n",
       " 'vec_1_51',\n",
       " 'vec_1_52',\n",
       " 'vec_1_53',\n",
       " 'vec_1_54',\n",
       " 'vec_1_55',\n",
       " 'vec_1_56',\n",
       " 'vec_1_57',\n",
       " 'vec_1_58',\n",
       " 'vec_1_59',\n",
       " 'vec_1_60',\n",
       " 'vec_1_61',\n",
       " 'vec_1_62',\n",
       " 'vec_1_63',\n",
       " 'vec_1_64',\n",
       " 'vec_1_65',\n",
       " 'vec_1_66',\n",
       " 'vec_1_67',\n",
       " 'vec_1_68',\n",
       " 'vec_1_69',\n",
       " 'vec_1_70',\n",
       " 'vec_1_71',\n",
       " 'vec_1_72',\n",
       " 'vec_1_73',\n",
       " 'vec_1_74',\n",
       " 'vec_1_75',\n",
       " 'vec_1_76',\n",
       " 'vec_1_77',\n",
       " 'vec_1_78',\n",
       " 'vec_1_79',\n",
       " 'vec_1_80',\n",
       " 'vec_1_81',\n",
       " 'vec_1_82',\n",
       " 'vec_1_83',\n",
       " 'vec_1_84',\n",
       " 'vec_1_85',\n",
       " 'vec_1_86',\n",
       " 'vec_1_87',\n",
       " 'vec_1_88',\n",
       " 'vec_1_89',\n",
       " 'vec_1_90',\n",
       " 'vec_1_91',\n",
       " 'vec_1_92',\n",
       " 'vec_1_93',\n",
       " 'vec_1_94',\n",
       " 'vec_1_95',\n",
       " 'vec_1_96',\n",
       " 'vec_1_97',\n",
       " 'vec_1_98',\n",
       " 'vec_1_99',\n",
       " 'vec_1_100',\n",
       " 'vec_1_101',\n",
       " 'vec_1_102',\n",
       " 'vec_1_103',\n",
       " 'vec_1_104',\n",
       " 'vec_1_105',\n",
       " 'vec_1_106',\n",
       " 'vec_1_107',\n",
       " 'vec_1_108',\n",
       " 'vec_1_109',\n",
       " 'vec_1_110',\n",
       " 'vec_1_111',\n",
       " 'vec_1_112',\n",
       " 'vec_1_113',\n",
       " 'vec_1_114',\n",
       " 'vec_1_115',\n",
       " 'vec_1_116',\n",
       " 'vec_1_117',\n",
       " 'vec_1_118',\n",
       " 'vec_1_119',\n",
       " 'vec_1_120',\n",
       " 'vec_1_121',\n",
       " 'vec_1_122',\n",
       " 'vec_1_123',\n",
       " 'vec_1_124',\n",
       " 'vec_1_125',\n",
       " 'vec_1_126',\n",
       " 'vec_1_127',\n",
       " 'vec_1_128',\n",
       " 'vec_1_129',\n",
       " 'vec_1_130',\n",
       " 'vec_1_131',\n",
       " 'vec_1_132',\n",
       " 'vec_1_133',\n",
       " 'vec_1_134',\n",
       " 'vec_1_135',\n",
       " 'vec_1_136',\n",
       " 'vec_1_137',\n",
       " 'vec_1_138',\n",
       " 'vec_1_139',\n",
       " 'vec_1_140',\n",
       " 'vec_1_141',\n",
       " 'vec_1_142',\n",
       " 'vec_1_143',\n",
       " 'vec_1_144',\n",
       " 'vec_1_145',\n",
       " 'vec_1_146',\n",
       " 'vec_1_147',\n",
       " 'vec_1_148',\n",
       " 'vec_1_149',\n",
       " 'vec_1_150',\n",
       " 'vec_1_151',\n",
       " 'vec_1_152',\n",
       " 'vec_1_153',\n",
       " 'vec_1_154',\n",
       " 'vec_1_155',\n",
       " 'vec_1_156',\n",
       " 'vec_1_157',\n",
       " 'vec_1_158',\n",
       " 'vec_1_159',\n",
       " 'vec_1_160',\n",
       " 'vec_1_161',\n",
       " 'vec_1_162',\n",
       " 'vec_1_163',\n",
       " 'vec_1_164',\n",
       " 'vec_1_165',\n",
       " 'vec_1_166',\n",
       " 'vec_1_167',\n",
       " 'vec_1_168',\n",
       " 'vec_1_169',\n",
       " 'vec_1_170',\n",
       " 'vec_1_171',\n",
       " 'vec_1_172',\n",
       " 'vec_1_173',\n",
       " 'vec_1_174',\n",
       " 'vec_1_175',\n",
       " 'vec_1_176',\n",
       " 'vec_1_177',\n",
       " 'vec_1_178',\n",
       " 'vec_1_179',\n",
       " 'vec_1_180',\n",
       " 'vec_1_181',\n",
       " 'vec_1_182',\n",
       " 'vec_1_183',\n",
       " 'vec_1_184',\n",
       " 'vec_1_185',\n",
       " 'vec_1_186',\n",
       " 'vec_1_187',\n",
       " 'vec_1_188',\n",
       " 'vec_1_189',\n",
       " 'vec_1_190',\n",
       " 'vec_1_191',\n",
       " 'vec_1_192',\n",
       " 'vec_1_193',\n",
       " 'vec_1_194',\n",
       " 'vec_1_195',\n",
       " 'vec_1_196',\n",
       " 'vec_1_197',\n",
       " 'vec_1_198',\n",
       " 'vec_1_199',\n",
       " 'vec_1_200',\n",
       " 'vec_1_201',\n",
       " 'vec_1_202',\n",
       " 'vec_1_203',\n",
       " 'vec_1_204',\n",
       " 'vec_1_205',\n",
       " 'vec_1_206',\n",
       " 'vec_1_207',\n",
       " 'vec_1_208',\n",
       " 'vec_1_209',\n",
       " 'vec_1_210',\n",
       " 'vec_1_211',\n",
       " 'vec_1_212',\n",
       " 'vec_1_213',\n",
       " 'vec_1_214',\n",
       " 'vec_1_215',\n",
       " 'vec_1_216',\n",
       " 'vec_1_217',\n",
       " 'vec_1_218',\n",
       " 'vec_1_219',\n",
       " 'vec_1_220',\n",
       " 'vec_1_221',\n",
       " 'vec_1_222',\n",
       " 'vec_1_223',\n",
       " 'vec_1_224',\n",
       " 'vec_1_225',\n",
       " 'vec_1_226',\n",
       " 'vec_1_227',\n",
       " 'vec_1_228',\n",
       " 'vec_1_229',\n",
       " 'vec_1_230',\n",
       " 'vec_1_231',\n",
       " ...]"
      ]
     },
     "execution_count": 48,
     "metadata": {},
     "output_type": "execute_result"
    }
   ],
   "source": [
    "embed_cols"
   ]
  },
  {
   "cell_type": "code",
   "execution_count": 49,
   "metadata": {},
   "outputs": [],
   "source": [
    "# Which data is being used to fit?  train_X or train_X_sp?\n",
    "## Ans: For evaluation step for checking how model is performing, we will use train_X_sp data \n",
    "## whereas for final submission on kaggle or deploying on production we will use train_X data\n",
    "\n",
    "final = True;  # If final = `True` then no evaluation is availably                 \n",
    "\n",
    "X_cols = embed_cols \n",
    "\n",
    "if final: \n",
    "  fit_X = train_X[ X_cols ]\n",
    "  fit_y = train_y\n",
    "else: \n",
    "  fit_X = train_X_sp[ X_cols ]\n",
    "  fit_y = train_y_sp\n",
    "\n",
    "eval_X = eval_X_sp[ X_cols ]\n",
    "eval_y = eval_y_sp"
   ]
  },
  {
   "cell_type": "markdown",
   "metadata": {},
   "source": [
    "- Model training"
   ]
  },
  {
   "cell_type": "code",
   "execution_count": 50,
   "metadata": {},
   "outputs": [],
   "source": [
    "# Define Evaluation metrics \n",
    "def evaluate(y_true, y_pred):\n",
    "    mae = mean_absolute_error(y_true,y_pred)\n",
    "    mse = mean_squared_error(y_true,y_pred)\n",
    "    rsquare = r2_score(y_true,y_pred)\n",
    "    rmse = mean_squared_error(y_true,y_pred,squared = False)\n",
    "    try:\n",
    "        rmsle = mean_squared_log_error(y_true,y_pred,squared = False)\n",
    "    except:\n",
    "        rmsle = np.nan\n",
    "    return mae, mse, rsquare, rmse, rmsle\n",
    "\n",
    "def evaluate_show(y_true, y_pred):\n",
    "  '''display a table of the evaluation'''\n",
    "  score = evaluate( y_true, y_pred )\n",
    "  score_df = pd.DataFrame(score).T.round(5)\n",
    "\n",
    "  score_df.columns = ['MAE','MSE','R2 Square','RMSE','RMSLE']\n",
    "  score_df.style.set_properties(**{'background-color': 'aliceblue' ,'color':'black','border-color': '#8b8c8c'})\n",
    "  print(score_df)\n",
    "  return()"
   ]
  },
  {
   "cell_type": "markdown",
   "metadata": {},
   "source": [
    "Train Random Forest"
   ]
  },
  {
   "cell_type": "code",
   "execution_count": 51,
   "metadata": {},
   "outputs": [
    {
     "data": {
      "text/html": [
       "<style>#sk-container-id-1 {\n",
       "  /* Definition of color scheme common for light and dark mode */\n",
       "  --sklearn-color-text: black;\n",
       "  --sklearn-color-line: gray;\n",
       "  /* Definition of color scheme for unfitted estimators */\n",
       "  --sklearn-color-unfitted-level-0: #fff5e6;\n",
       "  --sklearn-color-unfitted-level-1: #f6e4d2;\n",
       "  --sklearn-color-unfitted-level-2: #ffe0b3;\n",
       "  --sklearn-color-unfitted-level-3: chocolate;\n",
       "  /* Definition of color scheme for fitted estimators */\n",
       "  --sklearn-color-fitted-level-0: #f0f8ff;\n",
       "  --sklearn-color-fitted-level-1: #d4ebff;\n",
       "  --sklearn-color-fitted-level-2: #b3dbfd;\n",
       "  --sklearn-color-fitted-level-3: cornflowerblue;\n",
       "\n",
       "  /* Specific color for light theme */\n",
       "  --sklearn-color-text-on-default-background: var(--sg-text-color, var(--theme-code-foreground, var(--jp-content-font-color1, black)));\n",
       "  --sklearn-color-background: var(--sg-background-color, var(--theme-background, var(--jp-layout-color0, white)));\n",
       "  --sklearn-color-border-box: var(--sg-text-color, var(--theme-code-foreground, var(--jp-content-font-color1, black)));\n",
       "  --sklearn-color-icon: #696969;\n",
       "\n",
       "  @media (prefers-color-scheme: dark) {\n",
       "    /* Redefinition of color scheme for dark theme */\n",
       "    --sklearn-color-text-on-default-background: var(--sg-text-color, var(--theme-code-foreground, var(--jp-content-font-color1, white)));\n",
       "    --sklearn-color-background: var(--sg-background-color, var(--theme-background, var(--jp-layout-color0, #111)));\n",
       "    --sklearn-color-border-box: var(--sg-text-color, var(--theme-code-foreground, var(--jp-content-font-color1, white)));\n",
       "    --sklearn-color-icon: #878787;\n",
       "  }\n",
       "}\n",
       "\n",
       "#sk-container-id-1 {\n",
       "  color: var(--sklearn-color-text);\n",
       "}\n",
       "\n",
       "#sk-container-id-1 pre {\n",
       "  padding: 0;\n",
       "}\n",
       "\n",
       "#sk-container-id-1 input.sk-hidden--visually {\n",
       "  border: 0;\n",
       "  clip: rect(1px 1px 1px 1px);\n",
       "  clip: rect(1px, 1px, 1px, 1px);\n",
       "  height: 1px;\n",
       "  margin: -1px;\n",
       "  overflow: hidden;\n",
       "  padding: 0;\n",
       "  position: absolute;\n",
       "  width: 1px;\n",
       "}\n",
       "\n",
       "#sk-container-id-1 div.sk-dashed-wrapped {\n",
       "  border: 1px dashed var(--sklearn-color-line);\n",
       "  margin: 0 0.4em 0.5em 0.4em;\n",
       "  box-sizing: border-box;\n",
       "  padding-bottom: 0.4em;\n",
       "  background-color: var(--sklearn-color-background);\n",
       "}\n",
       "\n",
       "#sk-container-id-1 div.sk-container {\n",
       "  /* jupyter's `normalize.less` sets `[hidden] { display: none; }`\n",
       "     but bootstrap.min.css set `[hidden] { display: none !important; }`\n",
       "     so we also need the `!important` here to be able to override the\n",
       "     default hidden behavior on the sphinx rendered scikit-learn.org.\n",
       "     See: https://github.com/scikit-learn/scikit-learn/issues/21755 */\n",
       "  display: inline-block !important;\n",
       "  position: relative;\n",
       "}\n",
       "\n",
       "#sk-container-id-1 div.sk-text-repr-fallback {\n",
       "  display: none;\n",
       "}\n",
       "\n",
       "div.sk-parallel-item,\n",
       "div.sk-serial,\n",
       "div.sk-item {\n",
       "  /* draw centered vertical line to link estimators */\n",
       "  background-image: linear-gradient(var(--sklearn-color-text-on-default-background), var(--sklearn-color-text-on-default-background));\n",
       "  background-size: 2px 100%;\n",
       "  background-repeat: no-repeat;\n",
       "  background-position: center center;\n",
       "}\n",
       "\n",
       "/* Parallel-specific style estimator block */\n",
       "\n",
       "#sk-container-id-1 div.sk-parallel-item::after {\n",
       "  content: \"\";\n",
       "  width: 100%;\n",
       "  border-bottom: 2px solid var(--sklearn-color-text-on-default-background);\n",
       "  flex-grow: 1;\n",
       "}\n",
       "\n",
       "#sk-container-id-1 div.sk-parallel {\n",
       "  display: flex;\n",
       "  align-items: stretch;\n",
       "  justify-content: center;\n",
       "  background-color: var(--sklearn-color-background);\n",
       "  position: relative;\n",
       "}\n",
       "\n",
       "#sk-container-id-1 div.sk-parallel-item {\n",
       "  display: flex;\n",
       "  flex-direction: column;\n",
       "}\n",
       "\n",
       "#sk-container-id-1 div.sk-parallel-item:first-child::after {\n",
       "  align-self: flex-end;\n",
       "  width: 50%;\n",
       "}\n",
       "\n",
       "#sk-container-id-1 div.sk-parallel-item:last-child::after {\n",
       "  align-self: flex-start;\n",
       "  width: 50%;\n",
       "}\n",
       "\n",
       "#sk-container-id-1 div.sk-parallel-item:only-child::after {\n",
       "  width: 0;\n",
       "}\n",
       "\n",
       "/* Serial-specific style estimator block */\n",
       "\n",
       "#sk-container-id-1 div.sk-serial {\n",
       "  display: flex;\n",
       "  flex-direction: column;\n",
       "  align-items: center;\n",
       "  background-color: var(--sklearn-color-background);\n",
       "  padding-right: 1em;\n",
       "  padding-left: 1em;\n",
       "}\n",
       "\n",
       "\n",
       "/* Toggleable style: style used for estimator/Pipeline/ColumnTransformer box that is\n",
       "clickable and can be expanded/collapsed.\n",
       "- Pipeline and ColumnTransformer use this feature and define the default style\n",
       "- Estimators will overwrite some part of the style using the `sk-estimator` class\n",
       "*/\n",
       "\n",
       "/* Pipeline and ColumnTransformer style (default) */\n",
       "\n",
       "#sk-container-id-1 div.sk-toggleable {\n",
       "  /* Default theme specific background. It is overwritten whether we have a\n",
       "  specific estimator or a Pipeline/ColumnTransformer */\n",
       "  background-color: var(--sklearn-color-background);\n",
       "}\n",
       "\n",
       "/* Toggleable label */\n",
       "#sk-container-id-1 label.sk-toggleable__label {\n",
       "  cursor: pointer;\n",
       "  display: block;\n",
       "  width: 100%;\n",
       "  margin-bottom: 0;\n",
       "  padding: 0.5em;\n",
       "  box-sizing: border-box;\n",
       "  text-align: center;\n",
       "}\n",
       "\n",
       "#sk-container-id-1 label.sk-toggleable__label-arrow:before {\n",
       "  /* Arrow on the left of the label */\n",
       "  content: \"▸\";\n",
       "  float: left;\n",
       "  margin-right: 0.25em;\n",
       "  color: var(--sklearn-color-icon);\n",
       "}\n",
       "\n",
       "#sk-container-id-1 label.sk-toggleable__label-arrow:hover:before {\n",
       "  color: var(--sklearn-color-text);\n",
       "}\n",
       "\n",
       "/* Toggleable content - dropdown */\n",
       "\n",
       "#sk-container-id-1 div.sk-toggleable__content {\n",
       "  max-height: 0;\n",
       "  max-width: 0;\n",
       "  overflow: hidden;\n",
       "  text-align: left;\n",
       "  /* unfitted */\n",
       "  background-color: var(--sklearn-color-unfitted-level-0);\n",
       "}\n",
       "\n",
       "#sk-container-id-1 div.sk-toggleable__content.fitted {\n",
       "  /* fitted */\n",
       "  background-color: var(--sklearn-color-fitted-level-0);\n",
       "}\n",
       "\n",
       "#sk-container-id-1 div.sk-toggleable__content pre {\n",
       "  margin: 0.2em;\n",
       "  border-radius: 0.25em;\n",
       "  color: var(--sklearn-color-text);\n",
       "  /* unfitted */\n",
       "  background-color: var(--sklearn-color-unfitted-level-0);\n",
       "}\n",
       "\n",
       "#sk-container-id-1 div.sk-toggleable__content.fitted pre {\n",
       "  /* unfitted */\n",
       "  background-color: var(--sklearn-color-fitted-level-0);\n",
       "}\n",
       "\n",
       "#sk-container-id-1 input.sk-toggleable__control:checked~div.sk-toggleable__content {\n",
       "  /* Expand drop-down */\n",
       "  max-height: 200px;\n",
       "  max-width: 100%;\n",
       "  overflow: auto;\n",
       "}\n",
       "\n",
       "#sk-container-id-1 input.sk-toggleable__control:checked~label.sk-toggleable__label-arrow:before {\n",
       "  content: \"▾\";\n",
       "}\n",
       "\n",
       "/* Pipeline/ColumnTransformer-specific style */\n",
       "\n",
       "#sk-container-id-1 div.sk-label input.sk-toggleable__control:checked~label.sk-toggleable__label {\n",
       "  color: var(--sklearn-color-text);\n",
       "  background-color: var(--sklearn-color-unfitted-level-2);\n",
       "}\n",
       "\n",
       "#sk-container-id-1 div.sk-label.fitted input.sk-toggleable__control:checked~label.sk-toggleable__label {\n",
       "  background-color: var(--sklearn-color-fitted-level-2);\n",
       "}\n",
       "\n",
       "/* Estimator-specific style */\n",
       "\n",
       "/* Colorize estimator box */\n",
       "#sk-container-id-1 div.sk-estimator input.sk-toggleable__control:checked~label.sk-toggleable__label {\n",
       "  /* unfitted */\n",
       "  background-color: var(--sklearn-color-unfitted-level-2);\n",
       "}\n",
       "\n",
       "#sk-container-id-1 div.sk-estimator.fitted input.sk-toggleable__control:checked~label.sk-toggleable__label {\n",
       "  /* fitted */\n",
       "  background-color: var(--sklearn-color-fitted-level-2);\n",
       "}\n",
       "\n",
       "#sk-container-id-1 div.sk-label label.sk-toggleable__label,\n",
       "#sk-container-id-1 div.sk-label label {\n",
       "  /* The background is the default theme color */\n",
       "  color: var(--sklearn-color-text-on-default-background);\n",
       "}\n",
       "\n",
       "/* On hover, darken the color of the background */\n",
       "#sk-container-id-1 div.sk-label:hover label.sk-toggleable__label {\n",
       "  color: var(--sklearn-color-text);\n",
       "  background-color: var(--sklearn-color-unfitted-level-2);\n",
       "}\n",
       "\n",
       "/* Label box, darken color on hover, fitted */\n",
       "#sk-container-id-1 div.sk-label.fitted:hover label.sk-toggleable__label.fitted {\n",
       "  color: var(--sklearn-color-text);\n",
       "  background-color: var(--sklearn-color-fitted-level-2);\n",
       "}\n",
       "\n",
       "/* Estimator label */\n",
       "\n",
       "#sk-container-id-1 div.sk-label label {\n",
       "  font-family: monospace;\n",
       "  font-weight: bold;\n",
       "  display: inline-block;\n",
       "  line-height: 1.2em;\n",
       "}\n",
       "\n",
       "#sk-container-id-1 div.sk-label-container {\n",
       "  text-align: center;\n",
       "}\n",
       "\n",
       "/* Estimator-specific */\n",
       "#sk-container-id-1 div.sk-estimator {\n",
       "  font-family: monospace;\n",
       "  border: 1px dotted var(--sklearn-color-border-box);\n",
       "  border-radius: 0.25em;\n",
       "  box-sizing: border-box;\n",
       "  margin-bottom: 0.5em;\n",
       "  /* unfitted */\n",
       "  background-color: var(--sklearn-color-unfitted-level-0);\n",
       "}\n",
       "\n",
       "#sk-container-id-1 div.sk-estimator.fitted {\n",
       "  /* fitted */\n",
       "  background-color: var(--sklearn-color-fitted-level-0);\n",
       "}\n",
       "\n",
       "/* on hover */\n",
       "#sk-container-id-1 div.sk-estimator:hover {\n",
       "  /* unfitted */\n",
       "  background-color: var(--sklearn-color-unfitted-level-2);\n",
       "}\n",
       "\n",
       "#sk-container-id-1 div.sk-estimator.fitted:hover {\n",
       "  /* fitted */\n",
       "  background-color: var(--sklearn-color-fitted-level-2);\n",
       "}\n",
       "\n",
       "/* Specification for estimator info (e.g. \"i\" and \"?\") */\n",
       "\n",
       "/* Common style for \"i\" and \"?\" */\n",
       "\n",
       ".sk-estimator-doc-link,\n",
       "a:link.sk-estimator-doc-link,\n",
       "a:visited.sk-estimator-doc-link {\n",
       "  float: right;\n",
       "  font-size: smaller;\n",
       "  line-height: 1em;\n",
       "  font-family: monospace;\n",
       "  background-color: var(--sklearn-color-background);\n",
       "  border-radius: 1em;\n",
       "  height: 1em;\n",
       "  width: 1em;\n",
       "  text-decoration: none !important;\n",
       "  margin-left: 1ex;\n",
       "  /* unfitted */\n",
       "  border: var(--sklearn-color-unfitted-level-1) 1pt solid;\n",
       "  color: var(--sklearn-color-unfitted-level-1);\n",
       "}\n",
       "\n",
       ".sk-estimator-doc-link.fitted,\n",
       "a:link.sk-estimator-doc-link.fitted,\n",
       "a:visited.sk-estimator-doc-link.fitted {\n",
       "  /* fitted */\n",
       "  border: var(--sklearn-color-fitted-level-1) 1pt solid;\n",
       "  color: var(--sklearn-color-fitted-level-1);\n",
       "}\n",
       "\n",
       "/* On hover */\n",
       "div.sk-estimator:hover .sk-estimator-doc-link:hover,\n",
       ".sk-estimator-doc-link:hover,\n",
       "div.sk-label-container:hover .sk-estimator-doc-link:hover,\n",
       ".sk-estimator-doc-link:hover {\n",
       "  /* unfitted */\n",
       "  background-color: var(--sklearn-color-unfitted-level-3);\n",
       "  color: var(--sklearn-color-background);\n",
       "  text-decoration: none;\n",
       "}\n",
       "\n",
       "div.sk-estimator.fitted:hover .sk-estimator-doc-link.fitted:hover,\n",
       ".sk-estimator-doc-link.fitted:hover,\n",
       "div.sk-label-container:hover .sk-estimator-doc-link.fitted:hover,\n",
       ".sk-estimator-doc-link.fitted:hover {\n",
       "  /* fitted */\n",
       "  background-color: var(--sklearn-color-fitted-level-3);\n",
       "  color: var(--sklearn-color-background);\n",
       "  text-decoration: none;\n",
       "}\n",
       "\n",
       "/* Span, style for the box shown on hovering the info icon */\n",
       ".sk-estimator-doc-link span {\n",
       "  display: none;\n",
       "  z-index: 9999;\n",
       "  position: relative;\n",
       "  font-weight: normal;\n",
       "  right: .2ex;\n",
       "  padding: .5ex;\n",
       "  margin: .5ex;\n",
       "  width: min-content;\n",
       "  min-width: 20ex;\n",
       "  max-width: 50ex;\n",
       "  color: var(--sklearn-color-text);\n",
       "  box-shadow: 2pt 2pt 4pt #999;\n",
       "  /* unfitted */\n",
       "  background: var(--sklearn-color-unfitted-level-0);\n",
       "  border: .5pt solid var(--sklearn-color-unfitted-level-3);\n",
       "}\n",
       "\n",
       ".sk-estimator-doc-link.fitted span {\n",
       "  /* fitted */\n",
       "  background: var(--sklearn-color-fitted-level-0);\n",
       "  border: var(--sklearn-color-fitted-level-3);\n",
       "}\n",
       "\n",
       ".sk-estimator-doc-link:hover span {\n",
       "  display: block;\n",
       "}\n",
       "\n",
       "/* \"?\"-specific style due to the `<a>` HTML tag */\n",
       "\n",
       "#sk-container-id-1 a.estimator_doc_link {\n",
       "  float: right;\n",
       "  font-size: 1rem;\n",
       "  line-height: 1em;\n",
       "  font-family: monospace;\n",
       "  background-color: var(--sklearn-color-background);\n",
       "  border-radius: 1rem;\n",
       "  height: 1rem;\n",
       "  width: 1rem;\n",
       "  text-decoration: none;\n",
       "  /* unfitted */\n",
       "  color: var(--sklearn-color-unfitted-level-1);\n",
       "  border: var(--sklearn-color-unfitted-level-1) 1pt solid;\n",
       "}\n",
       "\n",
       "#sk-container-id-1 a.estimator_doc_link.fitted {\n",
       "  /* fitted */\n",
       "  border: var(--sklearn-color-fitted-level-1) 1pt solid;\n",
       "  color: var(--sklearn-color-fitted-level-1);\n",
       "}\n",
       "\n",
       "/* On hover */\n",
       "#sk-container-id-1 a.estimator_doc_link:hover {\n",
       "  /* unfitted */\n",
       "  background-color: var(--sklearn-color-unfitted-level-3);\n",
       "  color: var(--sklearn-color-background);\n",
       "  text-decoration: none;\n",
       "}\n",
       "\n",
       "#sk-container-id-1 a.estimator_doc_link.fitted:hover {\n",
       "  /* fitted */\n",
       "  background-color: var(--sklearn-color-fitted-level-3);\n",
       "}\n",
       "</style><div id=\"sk-container-id-1\" class=\"sk-top-container\"><div class=\"sk-text-repr-fallback\"><pre>RandomForestRegressor(max_depth=16, n_estimators=1000, random_state=0)</pre><b>In a Jupyter environment, please rerun this cell to show the HTML representation or trust the notebook. <br />On GitHub, the HTML representation is unable to render, please try loading this page with nbviewer.org.</b></div><div class=\"sk-container\" hidden><div class=\"sk-item\"><div class=\"sk-estimator fitted sk-toggleable\"><input class=\"sk-toggleable__control sk-hidden--visually\" id=\"sk-estimator-id-1\" type=\"checkbox\" checked><label for=\"sk-estimator-id-1\" class=\"sk-toggleable__label fitted sk-toggleable__label-arrow fitted\">&nbsp;&nbsp;RandomForestRegressor<a class=\"sk-estimator-doc-link fitted\" rel=\"noreferrer\" target=\"_blank\" href=\"https://scikit-learn.org/1.4/modules/generated/sklearn.ensemble.RandomForestRegressor.html\">?<span>Documentation for RandomForestRegressor</span></a><span class=\"sk-estimator-doc-link fitted\">i<span>Fitted</span></span></label><div class=\"sk-toggleable__content fitted\"><pre>RandomForestRegressor(max_depth=16, n_estimators=1000, random_state=0)</pre></div> </div></div></div></div>"
      ],
      "text/plain": [
       "RandomForestRegressor(max_depth=16, n_estimators=1000, random_state=0)"
      ]
     },
     "execution_count": 51,
     "metadata": {},
     "output_type": "execute_result"
    }
   ],
   "source": [
    "## RF (Est. 5min) \n",
    "from sklearn.ensemble import RandomForestRegressor\n",
    "model_rf = RandomForestRegressor(n_estimators=1000, max_depth=16, random_state=0)\n",
    "model_rf.fit(fit_X, fit_y)"
   ]
  },
  {
   "cell_type": "code",
   "execution_count": 52,
   "metadata": {},
   "outputs": [
    {
     "name": "stderr",
     "output_type": "stream",
     "text": [
      "/Users/nisargmehta/Documents/LLM/langchain/myenv/lib/python3.9/site-packages/sklearn/metrics/_regression.py:483: FutureWarning: 'squared' is deprecated in version 1.4 and will be removed in 1.6. To calculate the root mean squared error, use the function'root_mean_squared_error'.\n",
      "  warnings.warn(\n",
      "/Users/nisargmehta/Documents/LLM/langchain/myenv/lib/python3.9/site-packages/sklearn/metrics/_regression.py:666: FutureWarning: 'squared' is deprecated in version 1.4 and will be removed in 1.6. To calculate the root mean squared logarithmic error, use the function'root_mean_squared_log_error'.\n",
      "  warnings.warn(\n"
     ]
    },
    {
     "data": {
      "text/html": [
       "<style type=\"text/css\">\n",
       "#T_712a2_row0_col0, #T_712a2_row0_col1, #T_712a2_row0_col2, #T_712a2_row0_col3, #T_712a2_row0_col4 {\n",
       "  background-color: aliceblue;\n",
       "  color: black;\n",
       "  border-color: #8b8c8c;\n",
       "}\n",
       "</style>\n",
       "<table id=\"T_712a2\">\n",
       "  <thead>\n",
       "    <tr>\n",
       "      <th class=\"blank level0\" >&nbsp;</th>\n",
       "      <th id=\"T_712a2_level0_col0\" class=\"col_heading level0 col0\" >MAE</th>\n",
       "      <th id=\"T_712a2_level0_col1\" class=\"col_heading level0 col1\" >MSE</th>\n",
       "      <th id=\"T_712a2_level0_col2\" class=\"col_heading level0 col2\" >R2 Square</th>\n",
       "      <th id=\"T_712a2_level0_col3\" class=\"col_heading level0 col3\" >RMSE</th>\n",
       "      <th id=\"T_712a2_level0_col4\" class=\"col_heading level0 col4\" >RMSLE</th>\n",
       "    </tr>\n",
       "  </thead>\n",
       "  <tbody>\n",
       "    <tr>\n",
       "      <th id=\"T_712a2_level0_row0\" class=\"row_heading level0 row0\" >0</th>\n",
       "      <td id=\"T_712a2_row0_col0\" class=\"data row0 col0\" >9251.093160</td>\n",
       "      <td id=\"T_712a2_row0_col1\" class=\"data row0 col1\" >298295724.148220</td>\n",
       "      <td id=\"T_712a2_row0_col2\" class=\"data row0 col2\" >0.956810</td>\n",
       "      <td id=\"T_712a2_row0_col3\" class=\"data row0 col3\" >17271.239800</td>\n",
       "      <td id=\"T_712a2_row0_col4\" class=\"data row0 col4\" >0.069000</td>\n",
       "    </tr>\n",
       "  </tbody>\n",
       "</table>\n"
      ],
      "text/plain": [
       "<pandas.io.formats.style.Styler at 0x328f19c70>"
      ]
     },
     "execution_count": 52,
     "metadata": {},
     "output_type": "execute_result"
    }
   ],
   "source": [
    "eval_y_pred = model_rf.predict(eval_X)\n",
    "\n",
    "score = evaluate(eval_y, eval_y_pred)\n",
    "score_df = pd.DataFrame(score).T.round(5)\n",
    "score_df.columns = ['MAE','MSE','R2 Square','RMSE','RMSLE']\n",
    "score_df.style.set_properties(**{'background-color': 'aliceblue' ,'color':'black','border-color': '#8b8c8c'})"
   ]
  },
  {
   "cell_type": "code",
   "execution_count": 55,
   "metadata": {},
   "outputs": [],
   "source": [
    "test_X = test_X[embed_cols]"
   ]
  },
  {
   "cell_type": "code",
   "execution_count": 56,
   "metadata": {},
   "outputs": [
    {
     "data": {
      "text/html": [
       "<div>\n",
       "<style scoped>\n",
       "    .dataframe tbody tr th:only-of-type {\n",
       "        vertical-align: middle;\n",
       "    }\n",
       "\n",
       "    .dataframe tbody tr th {\n",
       "        vertical-align: top;\n",
       "    }\n",
       "\n",
       "    .dataframe thead th {\n",
       "        text-align: right;\n",
       "    }\n",
       "</style>\n",
       "<table border=\"1\" class=\"dataframe\">\n",
       "  <thead>\n",
       "    <tr style=\"text-align: right;\">\n",
       "      <th></th>\n",
       "      <th>Id</th>\n",
       "      <th>SalePrice</th>\n",
       "    </tr>\n",
       "  </thead>\n",
       "  <tbody>\n",
       "    <tr>\n",
       "      <th>0</th>\n",
       "      <td>1461</td>\n",
       "      <td>122735.808487</td>\n",
       "    </tr>\n",
       "    <tr>\n",
       "      <th>1</th>\n",
       "      <td>1462</td>\n",
       "      <td>170775.757784</td>\n",
       "    </tr>\n",
       "    <tr>\n",
       "      <th>2</th>\n",
       "      <td>1463</td>\n",
       "      <td>210746.055862</td>\n",
       "    </tr>\n",
       "    <tr>\n",
       "      <th>3</th>\n",
       "      <td>1464</td>\n",
       "      <td>239325.878152</td>\n",
       "    </tr>\n",
       "    <tr>\n",
       "      <th>4</th>\n",
       "      <td>1465</td>\n",
       "      <td>176951.762234</td>\n",
       "    </tr>\n",
       "    <tr>\n",
       "      <th>...</th>\n",
       "      <td>...</td>\n",
       "      <td>...</td>\n",
       "    </tr>\n",
       "    <tr>\n",
       "      <th>1454</th>\n",
       "      <td>2915</td>\n",
       "      <td>109294.816867</td>\n",
       "    </tr>\n",
       "    <tr>\n",
       "      <th>1455</th>\n",
       "      <td>2916</td>\n",
       "      <td>108733.266662</td>\n",
       "    </tr>\n",
       "    <tr>\n",
       "      <th>1456</th>\n",
       "      <td>2917</td>\n",
       "      <td>158676.626794</td>\n",
       "    </tr>\n",
       "    <tr>\n",
       "      <th>1457</th>\n",
       "      <td>2918</td>\n",
       "      <td>112713.829405</td>\n",
       "    </tr>\n",
       "    <tr>\n",
       "      <th>1458</th>\n",
       "      <td>2919</td>\n",
       "      <td>248047.761491</td>\n",
       "    </tr>\n",
       "  </tbody>\n",
       "</table>\n",
       "<p>1459 rows × 2 columns</p>\n",
       "</div>"
      ],
      "text/plain": [
       "        Id      SalePrice\n",
       "0     1461  122735.808487\n",
       "1     1462  170775.757784\n",
       "2     1463  210746.055862\n",
       "3     1464  239325.878152\n",
       "4     1465  176951.762234\n",
       "...    ...            ...\n",
       "1454  2915  109294.816867\n",
       "1455  2916  108733.266662\n",
       "1456  2917  158676.626794\n",
       "1457  2918  112713.829405\n",
       "1458  2919  248047.761491\n",
       "\n",
       "[1459 rows x 2 columns]"
      ]
     },
     "execution_count": 56,
     "metadata": {},
     "output_type": "execute_result"
    }
   ],
   "source": [
    "test_out = model_rf.predict(test_X)\n",
    "df_test_submission = pd.DataFrame( { 'Id': test.Id, 'SalePrice': test_out} )\n",
    "df_test_submission"
   ]
  },
  {
   "cell_type": "markdown",
   "metadata": {},
   "source": [
    "Training XGBoost\n",
    "- Training takes lot of time, so not training XGBoost."
   ]
  },
  {
   "cell_type": "code",
   "execution_count": null,
   "metadata": {},
   "outputs": [],
   "source": [
    "import xgboost as xgb\n",
    "\n",
    "model_xgb = xgb.XGBRegressor(objective=\"reg:squarederror\", max_depth=6, n_estimators=10000 , learning_rate=0.01, colsample_bytree=0.2\n",
    "                            , min_child_weight=1.5, reg_alpha=0.75, reg_lambda=0.45, subsample=0.6) "
   ]
  },
  {
   "cell_type": "code",
   "execution_count": null,
   "metadata": {},
   "outputs": [],
   "source": [
    "# Train Model\n",
    "model = model_xgb.fit(fit_X,fit_y) "
   ]
  },
  {
   "cell_type": "code",
   "execution_count": null,
   "metadata": {},
   "outputs": [],
   "source": [
    "eval_y_pred = model.predict(eval_X)\n",
    "# pred_by_model_train = model.predict(train_X_sp1)\n",
    "\n",
    "score = evaluate(eval_y, eval_y_pred)\n",
    "# score = [ math.trunc(score[i]*1000)/1000 for i in range(len(score)) ]\n",
    "score_df = pd.DataFrame(score).T.round(5)\n",
    "\n",
    "score_df.columns = ['MAE','MSE','R2 Square','RMSE','RMSLE']\n",
    "score_df.style.set_properties(**{'background-color': 'aliceblue' ,'color':'black','border-color': '#8b8c8c'})\n",
    "\n",
    "\"\"\"\n",
    "output-\n",
    "MAE: 21678\n",
    "R2: 0.76\n",
    "RMLSE: 0.157\n",
    "\"\"\""
   ]
  }
 ],
 "metadata": {
  "kernelspec": {
   "display_name": "Python 3",
   "language": "python",
   "name": "python3"
  },
  "language_info": {
   "codemirror_mode": {
    "name": "ipython",
    "version": 3
   },
   "file_extension": ".py",
   "mimetype": "text/x-python",
   "name": "python",
   "nbconvert_exporter": "python",
   "pygments_lexer": "ipython3",
   "version": "3.11.5"
  }
 },
 "nbformat": 4,
 "nbformat_minor": 2
}
