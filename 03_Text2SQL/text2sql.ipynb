{
 "cells": [
  {
   "cell_type": "markdown",
   "metadata": {},
   "source": [
    "- This task involves converting text input into a structured representation and using it to generate a semantically correct SQL query that can be executed on a database.\n",
    "- Model used will be PaLM 2 model from Google. \n",
    "- Our focal point will be a flight reservation system, a complex domain with intricate relationships and data structures. Within this system, we’ll explore various tables encompassing flight details, passenger information, booking history, and more, all hosted within BigQuery datasets. Flight systems encompass a vast array of interconnected tables and datasets, ranging from customer details and ticketing information to flight schedules and pricing metrics. Will consider 4 tables - reservations, customers, transactions, and flights. \n",
    "\n",
    "- Architectural Patterns: \n",
    "    - We outline five distinct patterns for implementing LLMs in SQL query generation."
   ]
  },
  {
   "cell_type": "markdown",
   "metadata": {},
   "source": [
    "#### Create Bigquery Tables"
   ]
  },
  {
   "cell_type": "code",
   "execution_count": 11,
   "metadata": {},
   "outputs": [],
   "source": [
    "from google.cloud.exceptions import NotFound\n",
    "from google.cloud import bigquery\n",
    "import pandas as pd\n",
    "import logging\n",
    "import os"
   ]
  },
  {
   "cell_type": "code",
   "execution_count": 12,
   "metadata": {},
   "outputs": [],
   "source": [
    "logger = logging.getLogger(__name__)\n",
    "logger.setLevel(logging.DEBUG)\n",
    "logger.addHandler(logging.StreamHandler())"
   ]
  },
  {
   "cell_type": "code",
   "execution_count": 14,
   "metadata": {},
   "outputs": [],
   "source": [
    "SERVICE_ACCOUNT_CREDENTIALS = 'gcp_bigquery.json'\n",
    "os.environ['GOOGLE_APPLICATION_CREDENTIALS'] = SERVICE_ACCOUNT_CREDENTIALS\n",
    "\n",
    "client = bigquery.Client()"
   ]
  },
  {
   "cell_type": "markdown",
   "metadata": {},
   "source": [
    "- Create dataset"
   ]
  },
  {
   "cell_type": "code",
   "execution_count": 15,
   "metadata": {},
   "outputs": [
    {
     "name": "stderr",
     "output_type": "stream",
     "text": [
      "fluent-buckeye-422006.flight_reservations\n",
      "fluent-buckeye-422006.flight_reservations\n"
     ]
    }
   ],
   "source": [
    "dataset_id = f\"{client.project}.flight_reservations\"\n",
    "logger.info(dataset_id)"
   ]
  },
  {
   "cell_type": "code",
   "execution_count": 16,
   "metadata": {},
   "outputs": [
    {
     "name": "stderr",
     "output_type": "stream",
     "text": [
      "Dataset fluent-buckeye-422006.flight_reservations created.\n",
      "Dataset fluent-buckeye-422006.flight_reservations created.\n"
     ]
    }
   ],
   "source": [
    "try:\n",
    "    dataset = client.get_dataset(dataset_id)\n",
    "    logger.info(f\"Dataset {dataset_id} already exists!\")\n",
    "except NotFound:\n",
    "    dataset = bigquery.Dataset(dataset_id)\n",
    "    dataset.location = \"US\"\n",
    "    dataset = client.create_dataset(dataset)\n",
    "    logger.info(f\"Dataset {dataset_id} created.\")"
   ]
  },
  {
   "cell_type": "markdown",
   "metadata": {},
   "source": [
    "- Create tables\n",
    "- Creating customers table - "
   ]
  },
  {
   "cell_type": "code",
   "execution_count": 17,
   "metadata": {},
   "outputs": [
    {
     "name": "stderr",
     "output_type": "stream",
     "text": [
      "fluent-buckeye-422006.flight_reservations.customers\n",
      "fluent-buckeye-422006.flight_reservations.customers\n"
     ]
    }
   ],
   "source": [
    "table_id = f\"{dataset_id}.customers\"\n",
    "logger.info(table_id)\n",
    "\n",
    "customers_schema = [\n",
    "    bigquery.SchemaField(\"customer_id\", \"INT64\", mode=\"REQUIRED\"),\n",
    "    bigquery.SchemaField(\"first_name\", \"STRING\", mode=\"REQUIRED\"),\n",
    "    bigquery.SchemaField(\"last_name\", \"STRING\", mode=\"REQUIRED\"),\n",
    "    bigquery.SchemaField(\"email\", \"STRING\", mode=\"REQUIRED\"),\n",
    "    bigquery.SchemaField(\"date_of_birth\", \"DATE\", mode=\"REQUIRED\"),\n",
    "    bigquery.SchemaField(\"created_at\", \"DATETIME\", mode=\"REQUIRED\"),\n",
    "]"
   ]
  },
  {
   "cell_type": "code",
   "execution_count": 18,
   "metadata": {},
   "outputs": [
    {
     "name": "stderr",
     "output_type": "stream",
     "text": [
      "Table fluent-buckeye-422006.flight_reservations.customers created.\n",
      "Table fluent-buckeye-422006.flight_reservations.customers created.\n"
     ]
    }
   ],
   "source": [
    "try:\n",
    "    customers_table = client.get_table(table_id)\n",
    "    logger.info(f\"Table {table_id} already exists!\")\n",
    "except NotFound:\n",
    "    customers_table = bigquery.Table(table_id, schema=customers_schema)\n",
    "    customers_table = client.create_table(customers_table)  \n",
    "    logger.info(f\"Table {table_id} created.\")"
   ]
  },
  {
   "cell_type": "markdown",
   "metadata": {},
   "source": [
    "- Create flights table"
   ]
  },
  {
   "cell_type": "code",
   "execution_count": 19,
   "metadata": {},
   "outputs": [
    {
     "name": "stderr",
     "output_type": "stream",
     "text": [
      "fluent-buckeye-422006.flight_reservations.flights\n",
      "fluent-buckeye-422006.flight_reservations.flights\n"
     ]
    }
   ],
   "source": [
    "table_id = f\"{dataset_id}.flights\"\n",
    "logger.info(table_id)\n",
    "\n",
    "flights_schema = [\n",
    "    bigquery.SchemaField(\"flight_id\", \"INT64\", mode=\"REQUIRED\"),\n",
    "    bigquery.SchemaField(\"origin\", \"STRING\", mode=\"REQUIRED\"),\n",
    "    bigquery.SchemaField(\"destination\", \"STRING\", mode=\"REQUIRED\"),\n",
    "    bigquery.SchemaField(\"departure_datetime\", \"DATETIME\", mode=\"REQUIRED\"),\n",
    "    bigquery.SchemaField(\"arrival_datetime\", \"DATETIME\", mode=\"REQUIRED\"),\n",
    "    bigquery.SchemaField(\"carrier\", \"STRING\", mode=\"REQUIRED\"),\n",
    "    bigquery.SchemaField(\"price\", \"FLOAT64\", mode=\"REQUIRED\"),\n",
    "]"
   ]
  },
  {
   "cell_type": "code",
   "execution_count": 20,
   "metadata": {},
   "outputs": [
    {
     "name": "stderr",
     "output_type": "stream",
     "text": [
      "Table fluent-buckeye-422006.flight_reservations.flights created.\n",
      "Table fluent-buckeye-422006.flight_reservations.flights created.\n"
     ]
    }
   ],
   "source": [
    "try:\n",
    "    flights_table = client.get_table(table_id)\n",
    "    logger.info(f\"Table {table_id} already exists!\")\n",
    "except NotFound:\n",
    "    flights_table = bigquery.Table(table_id, schema=flights_schema)\n",
    "    flights_table = client.create_table(flights_table)  \n",
    "    logger.info(f\"Table {table_id} created.\")"
   ]
  },
  {
   "cell_type": "markdown",
   "metadata": {},
   "source": [
    "- Create reservations table"
   ]
  },
  {
   "cell_type": "code",
   "execution_count": 22,
   "metadata": {},
   "outputs": [
    {
     "name": "stderr",
     "output_type": "stream",
     "text": [
      "fluent-buckeye-422006.flight_reservations.reservations\n",
      "fluent-buckeye-422006.flight_reservations.reservations\n"
     ]
    }
   ],
   "source": [
    "table_id = f\"{dataset_id}.reservations\"\n",
    "logger.info(table_id)\n",
    "\n",
    "reservations_schema = [\n",
    "    bigquery.SchemaField(\"reservation_id\", \"INT64\", mode=\"REQUIRED\"),\n",
    "    bigquery.SchemaField(\"customer_id\", \"INT64\", mode=\"REQUIRED\"),\n",
    "    bigquery.SchemaField(\"flight_id\", \"INT64\", mode=\"REQUIRED\"),\n",
    "    bigquery.SchemaField(\"reservation_datetime\", \"DATETIME\", mode=\"REQUIRED\"),\n",
    "    bigquery.SchemaField(\"status\", \"STRING\", mode=\"REQUIRED\"),\n",
    "]"
   ]
  },
  {
   "cell_type": "code",
   "execution_count": 23,
   "metadata": {},
   "outputs": [
    {
     "name": "stderr",
     "output_type": "stream",
     "text": [
      "Table fluent-buckeye-422006.flight_reservations.reservations created.\n",
      "Table fluent-buckeye-422006.flight_reservations.reservations created.\n"
     ]
    }
   ],
   "source": [
    "try:\n",
    "    reservations_table = client.get_table(table_id)\n",
    "    logger.info(f\"Table {table_id} already exists!\")\n",
    "except NotFound:\n",
    "    reservations_table = bigquery.Table(table_id, schema=reservations_schema)\n",
    "    reservations_table = client.create_table(reservations_table)  \n",
    "    logger.info(f\"Table {table_id} created.\")"
   ]
  },
  {
   "cell_type": "markdown",
   "metadata": {},
   "source": [
    "- Create transactions table"
   ]
  },
  {
   "cell_type": "code",
   "execution_count": 24,
   "metadata": {},
   "outputs": [
    {
     "name": "stderr",
     "output_type": "stream",
     "text": [
      "fluent-buckeye-422006.flight_reservations.transactions\n",
      "fluent-buckeye-422006.flight_reservations.transactions\n"
     ]
    }
   ],
   "source": [
    "table_id = f\"{dataset_id}.transactions\"\n",
    "logger.info(table_id)\n",
    "\n",
    "transactions_schema = [\n",
    "    bigquery.SchemaField(\"transaction_id\", \"INT64\", mode=\"REQUIRED\"),\n",
    "    bigquery.SchemaField(\"reservation_id\", \"INT64\", mode=\"REQUIRED\"),\n",
    "    bigquery.SchemaField(\"amount\", \"FLOAT64\", mode=\"REQUIRED\"),\n",
    "    bigquery.SchemaField(\"transaction_datetime\", \"DATETIME\", mode=\"REQUIRED\"),\n",
    "]"
   ]
  },
  {
   "cell_type": "code",
   "execution_count": 25,
   "metadata": {},
   "outputs": [
    {
     "name": "stderr",
     "output_type": "stream",
     "text": [
      "Table fluent-buckeye-422006.flight_reservations.transactions created.\n",
      "Table fluent-buckeye-422006.flight_reservations.transactions created.\n"
     ]
    }
   ],
   "source": [
    "try:\n",
    "    transactions_table = client.get_table(table_id)\n",
    "    logger.info(f\"Table {table_id} already exists!\")\n",
    "except NotFound:\n",
    "    transactions_table = bigquery.Table(table_id, schema=transactions_schema)\n",
    "    transactions_table = client.create_table(transactions_table)  \n",
    "    logger.info(f\"Table {table_id} created.\")"
   ]
  },
  {
   "cell_type": "markdown",
   "metadata": {},
   "source": [
    "- Populate tables"
   ]
  },
  {
   "cell_type": "code",
   "execution_count": 33,
   "metadata": {},
   "outputs": [
    {
     "name": "stdout",
     "output_type": "stream",
     "text": [
      "Loaded 20 rows and 6 columns to fluent-buckeye-422006.flight_reservations.customers\n"
     ]
    }
   ],
   "source": [
    "job_config = bigquery.LoadJobConfig(\n",
    "    source_format=bigquery.SourceFormat.CSV, skip_leading_rows=1, autodetect=True,\n",
    "        write_disposition=bigquery.WriteDisposition.WRITE_TRUNCATE  #added to have truncate and insert load\n",
    ")\n",
    "\n",
    "with open('text2sql_data/flights.csv', \"rb\") as source_file:\n",
    "    job = client.load_table_from_file(source_file, customers_table, job_config=job_config)\n",
    "    \n",
    "job.result()  # Waits for the job to complete.\n",
    "\n",
    "table = client.get_table(customers_table)  # Make an API request.\n",
    "print(\n",
    "    \"Loaded {} rows and {} columns to {}\".format(\n",
    "        table.num_rows, len(table.schema), customers_table\n",
    "    )\n",
    ")"
   ]
  },
  {
   "cell_type": "code",
   "execution_count": 35,
   "metadata": {},
   "outputs": [
    {
     "name": "stdout",
     "output_type": "stream",
     "text": [
      "Loaded 20 rows and 7 columns to fluent-buckeye-422006.flight_reservations.flights\n"
     ]
    }
   ],
   "source": [
    "job_config = bigquery.LoadJobConfig(\n",
    "    source_format=bigquery.SourceFormat.CSV, skip_leading_rows=1, autodetect=True,\n",
    "        write_disposition=bigquery.WriteDisposition.WRITE_TRUNCATE  #added to have truncate and insert load\n",
    ")\n",
    "\n",
    "with open('text2sql_data/flights.csv', \"rb\") as source_file:\n",
    "    job = client.load_table_from_file(source_file, flights_table, job_config=job_config)\n",
    "    \n",
    "job.result()  # Waits for the job to complete.\n",
    "\n",
    "table = client.get_table(flights_table)  # Make an API request.\n",
    "print(\n",
    "    \"Loaded {} rows and {} columns to {}\".format(\n",
    "        table.num_rows, len(table.schema), flights_table\n",
    "    )\n",
    ")"
   ]
  },
  {
   "cell_type": "code",
   "execution_count": 36,
   "metadata": {},
   "outputs": [
    {
     "name": "stdout",
     "output_type": "stream",
     "text": [
      "Loaded 20 rows and 5 columns to fluent-buckeye-422006.flight_reservations.reservations\n"
     ]
    }
   ],
   "source": [
    "job_config = bigquery.LoadJobConfig(\n",
    "    source_format=bigquery.SourceFormat.CSV, skip_leading_rows=1, autodetect=True,\n",
    "        write_disposition=bigquery.WriteDisposition.WRITE_TRUNCATE  #added to have truncate and insert load\n",
    ")\n",
    "\n",
    "with open('text2sql_data/reservations.csv', \"rb\") as source_file:\n",
    "    job = client.load_table_from_file(source_file, reservations_table, job_config=job_config)\n",
    "    \n",
    "job.result()  # Waits for the job to complete.\n",
    "\n",
    "table = client.get_table(reservations_table)  # Make an API request.\n",
    "print(\n",
    "    \"Loaded {} rows and {} columns to {}\".format(\n",
    "        table.num_rows, len(table.schema), reservations_table\n",
    "    )\n",
    ")"
   ]
  },
  {
   "cell_type": "code",
   "execution_count": 37,
   "metadata": {},
   "outputs": [
    {
     "name": "stdout",
     "output_type": "stream",
     "text": [
      "Loaded 16 rows and 4 columns to fluent-buckeye-422006.flight_reservations.transactions\n"
     ]
    }
   ],
   "source": [
    "job_config = bigquery.LoadJobConfig(\n",
    "    source_format=bigquery.SourceFormat.CSV, skip_leading_rows=1, autodetect=True,\n",
    "        write_disposition=bigquery.WriteDisposition.WRITE_TRUNCATE  #added to have truncate and insert load\n",
    ")\n",
    "\n",
    "with open('text2sql_data/transactions.csv', \"rb\") as source_file:\n",
    "    job = client.load_table_from_file(source_file, transactions_table, job_config=job_config)\n",
    "    \n",
    "job.result()  # Waits for the job to complete.\n",
    "\n",
    "table = client.get_table(transactions_table)  # Make an API request.\n",
    "print(\n",
    "    \"Loaded {} rows and {} columns to {}\".format(\n",
    "        table.num_rows, len(table.schema), transactions_table\n",
    "    )\n",
    ")"
   ]
  },
  {
   "cell_type": "markdown",
   "metadata": {},
   "source": [
    "#### Pattern 1: Intent Detection and Entity Recognition with Text-to-SQL"
   ]
  },
  {
   "cell_type": "markdown",
   "metadata": {},
   "source": [
    "- The process of converting text to SQL queries begins with intent detection. This step is crucial as it discerns the user’s purpose from their query. Intent detection is typically approached as a multi-class classification problem, requiring a supervised learning model that is trained on a dataset balanced across all possible intents. The introduction to LLM has changed the landscape. These models can perform tasks like intent detection in a zero-shot or few-shot manner, eliminating the need for extensive training data.\n",
    "- Another key component of traditional text-to-SQL systems is Named Entity Recognition (NER), which involves identifying and extracting entities from the user’s input.\n",
    "\n",
    "1. Intent Detection:\n",
    "    - The user’s query or utterance is input into the LLM, which determines the user’s intent. For example, the intent behind a query in the context of booking a flight reservation.\n",
    "    - Example : \n",
    "        - Need all the bookings from 10th to 15th October 2023.,RETRIEVE_RESERVATIONS\n",
    "        - Who made a reservation last Wednesday?,IDENTIFY_RECENT_CUSTOMERS"
   ]
  },
  {
   "cell_type": "code",
   "execution_count": 3,
   "metadata": {},
   "outputs": [],
   "source": [
    "from langchain.prompts.chat import SystemMessagePromptTemplate\n",
    "from langchain.prompts.chat import HumanMessagePromptTemplate\n",
    "from langchain.prompts.chat import AIMessagePromptTemplate\n",
    "from langchain.prompts.chat import ChatPromptTemplate\n",
    "from langchain.chat_models import ChatVertexAI\n",
    "from google.cloud import bigquery\n",
    "import pandas as pd\n",
    "import logging\n",
    "import os"
   ]
  },
  {
   "cell_type": "code",
   "execution_count": 14,
   "metadata": {},
   "outputs": [],
   "source": [
    "logger = logging.getLogger(__name__)\n",
    "logger.setLevel(logging.INFO)\n",
    "logger.addHandler(logging.StreamHandler())\n"
   ]
  },
  {
   "cell_type": "code",
   "execution_count": 60,
   "metadata": {},
   "outputs": [],
   "source": [
    "SERVICE_ACCOUNT_CREDENTIALS = 'gcp_bigquery.json'\n",
    "os.environ['GOOGLE_APPLICATION_CREDENTIALS'] = SERVICE_ACCOUNT_CREDENTIALS"
   ]
  },
  {
   "cell_type": "code",
   "execution_count": 103,
   "metadata": {},
   "outputs": [],
   "source": [
    "PROJECT = 'fluent-buckeye-422006'\n",
    "LOCATION = 'us-central1'\n",
    "MODEL_NAME = 'chat-bison-001'\n",
    "\n",
    "bq = bigquery.Client()"
   ]
  },
  {
   "cell_type": "code",
   "execution_count": 63,
   "metadata": {},
   "outputs": [
    {
     "name": "stderr",
     "output_type": "stream",
     "text": [
      "/Users/nisargmehta/Documents/LLM/langchain/myenv/lib/python3.9/site-packages/langchain_core/_api/deprecation.py:119: LangChainDeprecationWarning: The class `ChatOpenAI` was deprecated in LangChain 0.0.10 and will be removed in 0.2.0. An updated version of the class exists in the langchain-openai package and should be used instead. To use it run `pip install -U langchain-openai` and import as `from langchain_openai import ChatOpenAI`.\n",
      "  warn_deprecated(\n"
     ]
    }
   ],
   "source": [
    "from langchain.chat_models import ChatOpenAI\n",
    "os.environ[\"OPEN_API_KEY\"] = \"\"\n",
    "llm = ChatOpenAI(temperature=0, openai_api_key=os.environ[\"OPEN_API_KEY\"])"
   ]
  },
  {
   "cell_type": "code",
   "execution_count": 64,
   "metadata": {},
   "outputs": [],
   "source": [
    "user_query = \"Provide a list of all flight reservations from October 10th to October 15th, 2023\""
   ]
  },
  {
   "cell_type": "code",
   "execution_count": 65,
   "metadata": {},
   "outputs": [
    {
     "data": {
      "text/html": [
       "<div>\n",
       "<style scoped>\n",
       "    .dataframe tbody tr th:only-of-type {\n",
       "        vertical-align: middle;\n",
       "    }\n",
       "\n",
       "    .dataframe tbody tr th {\n",
       "        vertical-align: top;\n",
       "    }\n",
       "\n",
       "    .dataframe thead th {\n",
       "        text-align: right;\n",
       "    }\n",
       "</style>\n",
       "<table border=\"1\" class=\"dataframe\">\n",
       "  <thead>\n",
       "    <tr style=\"text-align: right;\">\n",
       "      <th></th>\n",
       "      <th>prompt</th>\n",
       "      <th>intent</th>\n",
       "    </tr>\n",
       "  </thead>\n",
       "  <tbody>\n",
       "    <tr>\n",
       "      <th>0</th>\n",
       "      <td>Need all the bookings from 10th to 15th Octobe...</td>\n",
       "      <td>RETRIEVE_RESERVATIONS</td>\n",
       "    </tr>\n",
       "    <tr>\n",
       "      <th>1</th>\n",
       "      <td>Could you retrieve reservations for mid-Octobe...</td>\n",
       "      <td>RETRIEVE_RESERVATIONS</td>\n",
       "    </tr>\n",
       "    <tr>\n",
       "      <th>2</th>\n",
       "      <td>Let’s see all the October reservations from 10...</td>\n",
       "      <td>RETRIEVE_RESERVATIONS</td>\n",
       "    </tr>\n",
       "    <tr>\n",
       "      <th>3</th>\n",
       "      <td>Any reservations from 10/10/2023 to 15/10/2023?</td>\n",
       "      <td>RETRIEVE_RESERVATIONS</td>\n",
       "    </tr>\n",
       "    <tr>\n",
       "      <th>4</th>\n",
       "      <td>I’m looking for bookings between the second an...</td>\n",
       "      <td>RETRIEVE_RESERVATIONS</td>\n",
       "    </tr>\n",
       "  </tbody>\n",
       "</table>\n",
       "</div>"
      ],
      "text/plain": [
       "                                              prompt                 intent\n",
       "0  Need all the bookings from 10th to 15th Octobe...  RETRIEVE_RESERVATIONS\n",
       "1  Could you retrieve reservations for mid-Octobe...  RETRIEVE_RESERVATIONS\n",
       "2  Let’s see all the October reservations from 10...  RETRIEVE_RESERVATIONS\n",
       "3    Any reservations from 10/10/2023 to 15/10/2023?  RETRIEVE_RESERVATIONS\n",
       "4  I’m looking for bookings between the second an...  RETRIEVE_RESERVATIONS"
      ]
     },
     "execution_count": 65,
     "metadata": {},
     "output_type": "execute_result"
    }
   ],
   "source": [
    "messages = []\n",
    "examples = pd.read_csv('text2sql_data/few-shot/prompts_intent.csv')\n",
    "examples.head()"
   ]
  },
  {
   "cell_type": "code",
   "execution_count": 66,
   "metadata": {},
   "outputs": [],
   "source": [
    "template = \"You are a helpful assistant capable of detecting the intent behind a user's query.\"\n",
    "system_message_prompt = SystemMessagePromptTemplate.from_template(template)\n",
    "messages.append(system_message_prompt)"
   ]
  },
  {
   "cell_type": "code",
   "execution_count": 67,
   "metadata": {},
   "outputs": [],
   "source": [
    "for _, row in examples.iterrows():\n",
    "    prompt, completion = row\n",
    "    human_message = HumanMessagePromptTemplate.from_template(prompt)\n",
    "    messages.append(human_message)\n",
    "    ai_message = AIMessagePromptTemplate.from_template(completion)\n",
    "    messages.append(ai_message)\n",
    "\n",
    "human_template = \"{user_query}\"\n",
    "human_message = HumanMessagePromptTemplate.from_template(human_template)\n",
    "messages.append(human_message)"
   ]
  },
  {
   "cell_type": "code",
   "execution_count": 69,
   "metadata": {},
   "outputs": [],
   "source": [
    "chat_prompt = ChatPromptTemplate.from_messages(messages)\n",
    "request = chat_prompt.format_prompt(user_query=user_query).to_messages()"
   ]
  },
  {
   "cell_type": "code",
   "execution_count": 70,
   "metadata": {},
   "outputs": [
    {
     "name": "stderr",
     "output_type": "stream",
     "text": [
      "/Users/nisargmehta/Documents/LLM/langchain/myenv/lib/python3.9/site-packages/langchain_core/_api/deprecation.py:119: LangChainDeprecationWarning: The method `BaseChatModel.__call__` was deprecated in langchain-core 0.1.7 and will be removed in 0.2.0. Use invoke instead.\n",
      "  warn_deprecated(\n",
      "RETRIEVE_RESERVATIONS\n",
      "RETRIEVE_RESERVATIONS\n"
     ]
    },
    {
     "name": "stdout",
     "output_type": "stream",
     "text": [
      "CPU times: user 73.3 ms, sys: 55.3 ms, total: 129 ms\n",
      "Wall time: 4.13 s\n"
     ]
    }
   ],
   "source": [
    "%%time \n",
    "\n",
    "response = llm(request)\n",
    "intent = response.content.strip()\n",
    "logger.info(intent)"
   ]
  },
  {
   "cell_type": "markdown",
   "metadata": {},
   "source": [
    "2. Entity Recognition : \n",
    "    - Extract the entities from the user query. To perform NER — the extraction of relevant entities from the text. \n",
    "    - Example: \n",
    "        - \"Can you show me all the reservations from October 10th to October 15th, 2023?\",\"Start Date:October 10th, 2023|End Date:October 15th, 2023\"\n",
    "        - \"What bookings do we have from 10/10/2023 to 10/15/2023?\",\"Start Date:10/10/2023|End Date:10/15/2023\""
   ]
  },
  {
   "cell_type": "code",
   "execution_count": 71,
   "metadata": {},
   "outputs": [
    {
     "data": {
      "text/html": [
       "<div>\n",
       "<style scoped>\n",
       "    .dataframe tbody tr th:only-of-type {\n",
       "        vertical-align: middle;\n",
       "    }\n",
       "\n",
       "    .dataframe tbody tr th {\n",
       "        vertical-align: top;\n",
       "    }\n",
       "\n",
       "    .dataframe thead th {\n",
       "        text-align: right;\n",
       "    }\n",
       "</style>\n",
       "<table border=\"1\" class=\"dataframe\">\n",
       "  <thead>\n",
       "    <tr style=\"text-align: right;\">\n",
       "      <th></th>\n",
       "      <th>prompt</th>\n",
       "      <th>entities</th>\n",
       "    </tr>\n",
       "  </thead>\n",
       "  <tbody>\n",
       "    <tr>\n",
       "      <th>0</th>\n",
       "      <td>Can you show me all the reservations from Octo...</td>\n",
       "      <td>Start Date:October 10th, 2023|End Date:October...</td>\n",
       "    </tr>\n",
       "    <tr>\n",
       "      <th>1</th>\n",
       "      <td>What bookings do we have from 10/10/2023 to 10...</td>\n",
       "      <td>Start Date:10/10/2023|End Date:10/15/2023</td>\n",
       "    </tr>\n",
       "    <tr>\n",
       "      <th>2</th>\n",
       "      <td>Show the reservations occurring between the se...</td>\n",
       "      <td>Start Date:October 8th, 2023|End Date:October ...</td>\n",
       "    </tr>\n",
       "    <tr>\n",
       "      <th>3</th>\n",
       "      <td>List all bookings that are happening from Octo...</td>\n",
       "      <td>Start Date:October 10, 2023|End Date:October 1...</td>\n",
       "    </tr>\n",
       "    <tr>\n",
       "      <th>4</th>\n",
       "      <td>Fetch the reservations from the second week of...</td>\n",
       "      <td>Start Date:October 8th, 2023|End Date:October ...</td>\n",
       "    </tr>\n",
       "  </tbody>\n",
       "</table>\n",
       "</div>"
      ],
      "text/plain": [
       "                                              prompt  \\\n",
       "0  Can you show me all the reservations from Octo...   \n",
       "1  What bookings do we have from 10/10/2023 to 10...   \n",
       "2  Show the reservations occurring between the se...   \n",
       "3  List all bookings that are happening from Octo...   \n",
       "4  Fetch the reservations from the second week of...   \n",
       "\n",
       "                                            entities  \n",
       "0  Start Date:October 10th, 2023|End Date:October...  \n",
       "1          Start Date:10/10/2023|End Date:10/15/2023  \n",
       "2  Start Date:October 8th, 2023|End Date:October ...  \n",
       "3  Start Date:October 10, 2023|End Date:October 1...  \n",
       "4  Start Date:October 8th, 2023|End Date:October ...  "
      ]
     },
     "execution_count": 71,
     "metadata": {},
     "output_type": "execute_result"
    }
   ],
   "source": [
    "messages = []\n",
    "examples = pd.read_csv('text2sql_data/few-shot/prompts_ner.csv')\n",
    "examples.head()"
   ]
  },
  {
   "cell_type": "code",
   "execution_count": 73,
   "metadata": {},
   "outputs": [],
   "source": [
    "template = \"You are a helpful assistant capable of performing named entity recognition.\"\n",
    "system_message_prompt = SystemMessagePromptTemplate.from_template(template)\n",
    "messages.append(system_message_prompt)\n",
    "\n",
    "for _, row in examples.iterrows():\n",
    "    prompt, completion = row\n",
    "    human_message = HumanMessagePromptTemplate.from_template(prompt)\n",
    "    messages.append(human_message)\n",
    "    ai_message = AIMessagePromptTemplate.from_template(completion)\n",
    "    messages.append(ai_message)\n",
    "\n",
    "human_template = \"{user_query} Standardize the date format to YYYY-MM-DD.\"\n",
    "human_message = HumanMessagePromptTemplate.from_template(human_template)\n",
    "messages.append(human_message)"
   ]
  },
  {
   "cell_type": "code",
   "execution_count": 74,
   "metadata": {},
   "outputs": [],
   "source": [
    "chat_prompt = ChatPromptTemplate.from_messages(messages)\n",
    "request = chat_prompt.format_prompt(user_query=user_query).to_messages()"
   ]
  },
  {
   "cell_type": "code",
   "execution_count": 75,
   "metadata": {},
   "outputs": [
    {
     "name": "stderr",
     "output_type": "stream",
     "text": [
      "Start Date:2023-10-10|End Date:2023-10-15\n",
      "Start Date:2023-10-10|End Date:2023-10-15\n"
     ]
    },
    {
     "name": "stdout",
     "output_type": "stream",
     "text": [
      "CPU times: user 61.1 ms, sys: 4.98 ms, total: 66.1 ms\n",
      "Wall time: 1.44 s\n"
     ]
    }
   ],
   "source": [
    "%%time \n",
    "\n",
    "response = llm(request)\n",
    "entities = response.content.strip()\n",
    "logger.info(entities)"
   ]
  },
  {
   "cell_type": "markdown",
   "metadata": {},
   "source": [
    "3. Mapping Intent to Database Tables: \n",
    "    - The detected intent is used to determine which database tables to query. While LLMs can assist in this step, it can also be programmatically treated as key-value mapping retrieval\n",
    "    - Examples: \n",
    "        - RETRIEVE_RESERVATIONS,reservations|flights\n",
    "        - IDENTIFY_RECENT_CUSTOMERS,reservations|customers\n",
    "        - CALCULATE_REVENUE,reservations|transactions\n",
    "        - FIND_PEAK_DEPARTURE_MONTHS,flights"
   ]
  },
  {
   "cell_type": "code",
   "execution_count": 76,
   "metadata": {},
   "outputs": [
    {
     "data": {
      "text/html": [
       "<div>\n",
       "<style scoped>\n",
       "    .dataframe tbody tr th:only-of-type {\n",
       "        vertical-align: middle;\n",
       "    }\n",
       "\n",
       "    .dataframe tbody tr th {\n",
       "        vertical-align: top;\n",
       "    }\n",
       "\n",
       "    .dataframe thead th {\n",
       "        text-align: right;\n",
       "    }\n",
       "</style>\n",
       "<table border=\"1\" class=\"dataframe\">\n",
       "  <thead>\n",
       "    <tr style=\"text-align: right;\">\n",
       "      <th></th>\n",
       "      <th>intent</th>\n",
       "      <th>mapped_tables</th>\n",
       "    </tr>\n",
       "  </thead>\n",
       "  <tbody>\n",
       "    <tr>\n",
       "      <th>0</th>\n",
       "      <td>RETRIEVE_RESERVATIONS</td>\n",
       "      <td>reservations|flights</td>\n",
       "    </tr>\n",
       "    <tr>\n",
       "      <th>1</th>\n",
       "      <td>IDENTIFY_RECENT_CUSTOMERS</td>\n",
       "      <td>reservations|customers</td>\n",
       "    </tr>\n",
       "    <tr>\n",
       "      <th>2</th>\n",
       "      <td>CALCULATE_REVENUE</td>\n",
       "      <td>reservations|transactions</td>\n",
       "    </tr>\n",
       "    <tr>\n",
       "      <th>3</th>\n",
       "      <td>FIND_PEAK_DEPARTURE_MONTHS</td>\n",
       "      <td>flights</td>\n",
       "    </tr>\n",
       "    <tr>\n",
       "      <th>4</th>\n",
       "      <td>GROUP_AND_COUNT_CUSTOMERS_BY_AGE</td>\n",
       "      <td>customers</td>\n",
       "    </tr>\n",
       "  </tbody>\n",
       "</table>\n",
       "</div>"
      ],
      "text/plain": [
       "                             intent              mapped_tables\n",
       "0             RETRIEVE_RESERVATIONS       reservations|flights\n",
       "1         IDENTIFY_RECENT_CUSTOMERS     reservations|customers\n",
       "2                 CALCULATE_REVENUE  reservations|transactions\n",
       "3        FIND_PEAK_DEPARTURE_MONTHS                    flights\n",
       "4  GROUP_AND_COUNT_CUSTOMERS_BY_AGE                  customers"
      ]
     },
     "execution_count": 76,
     "metadata": {},
     "output_type": "execute_result"
    }
   ],
   "source": [
    "messages = []\n",
    "examples = pd.read_csv('text2sql_data/few-shot/intent_to_table_mapping.csv')\n",
    "examples.head()"
   ]
  },
  {
   "cell_type": "code",
   "execution_count": 77,
   "metadata": {},
   "outputs": [],
   "source": [
    "template = \"You are a helpful assistant capable of mapping detected intent to the correct list of BigQuery tables.\"\n",
    "system_message_prompt = SystemMessagePromptTemplate.from_template(template)\n",
    "messages.append(system_message_prompt)\n",
    "\n",
    "for _, row in examples.iterrows():\n",
    "    prompt, completion = row\n",
    "    human_message = HumanMessagePromptTemplate.from_template(prompt)\n",
    "    messages.append(human_message)\n",
    "    ai_message = AIMessagePromptTemplate.from_template(completion)\n",
    "    messages.append(ai_message)\n",
    "\n",
    "human_template = \"{user_intent}\"\n",
    "human_message = HumanMessagePromptTemplate.from_template(human_template)\n",
    "messages.append(human_message)"
   ]
  },
  {
   "cell_type": "code",
   "execution_count": 78,
   "metadata": {},
   "outputs": [],
   "source": [
    "chat_prompt = ChatPromptTemplate.from_messages(messages)\n",
    "request = chat_prompt.format_prompt(user_intent=intent).to_messages()"
   ]
  },
  {
   "cell_type": "code",
   "execution_count": 79,
   "metadata": {},
   "outputs": [
    {
     "name": "stderr",
     "output_type": "stream",
     "text": [
      "reservations|flights\n",
      "reservations|flights\n"
     ]
    },
    {
     "name": "stdout",
     "output_type": "stream",
     "text": [
      "CPU times: user 16 ms, sys: 2.9 ms, total: 18.9 ms\n",
      "Wall time: 1.03 s\n"
     ]
    }
   ],
   "source": [
    "%%time \n",
    "\n",
    "response = llm(request)\n",
    "tables = response.content.strip()\n",
    "logger.info(tables)"
   ]
  },
  {
   "cell_type": "markdown",
   "metadata": {},
   "source": [
    "4. Load and filter table schemas: "
   ]
  },
  {
   "cell_type": "code",
   "execution_count": 81,
   "metadata": {},
   "outputs": [],
   "source": [
    "def read_files_from_dir(directory):\n",
    "    if not os.path.exists(directory):\n",
    "        logger.warn(f\"The directory {directory} does not exist!\")\n",
    "        return {}\n",
    "\n",
    "    # Create an empty dictionary to store filename and content\n",
    "    files_dict = {}\n",
    "\n",
    "    # Iterate over each file in the directory\n",
    "    for filename in os.listdir(directory):\n",
    "        file_path = os.path.join(directory, filename)\n",
    "\n",
    "        # Ensure it's a file and not a sub-directory or other entity\n",
    "        if os.path.isfile(file_path):\n",
    "            with open(file_path, 'r', encoding='utf-8') as file:\n",
    "                content = file.read()\n",
    "                filename = filename.split('.txt')[0]\n",
    "                files_dict[filename] = content\n",
    "\n",
    "    return files_dict"
   ]
  },
  {
   "cell_type": "code",
   "execution_count": 88,
   "metadata": {},
   "outputs": [],
   "source": [
    "directory_path = 'text2sql_data/text-schema/'\n",
    "table_schemas = read_files_from_dir(directory_path)"
   ]
  },
  {
   "cell_type": "code",
   "execution_count": 89,
   "metadata": {},
   "outputs": [
    {
     "name": "stderr",
     "output_type": "stream",
     "text": [
      "----\n",
      "Reservations Table:\n",
      "Description:\n",
      "The Reservations table keeps track of all flight reservations made by customers. Each record represents a unique reservation, detailing the customer, flight, reservation time, and status.\n",
      "----\n",
      "Columns:\n",
      "--\n",
      "reservation_id:\n",
      "Description: A unique identifier for each reservation made on the platform.\n",
      "Usage: This ID ensures that each reservation is distinct and can be referenced for customer inquiries, modifications, and operational tracking.\n",
      "Type: INT64\n",
      "--\n",
      "customer_id:\n",
      "Description: A reference to a customer from the Customers table who made the reservation.\n",
      "Usage: Establishes which customer made a specific reservation, aiding in personalized user experiences, communication, and support.\n",
      "Type: INT64\n",
      "--\n",
      "flight_id:\n",
      "Description: Refers to a specific flight from the Flights table.\n",
      "Usage: Ensures that the reservation corresponds to a specific flight, aiding in managing flight capacities and customer communications.\n",
      "Type: INT64\n",
      "--\n",
      "reservation_datetime:\n",
      "Description: Indicates the date and time when the reservation was made.\n",
      "Usage: Helps in tracking reservation timelines for data analysis and customer communication, and can be used to manage reservation expiries or follow-ups.\n",
      "Type: DATETIME\n",
      "--\n",
      "status:\n",
      "Description: The current status of the reservation (e.g., Confirmed, Cancelled, Pending, etc.)\n",
      "Usage: Provides customers and operational teams with crucial information regarding the state of the reservation, and assists in managing operational processes and customer communications.\n",
      "Type: STRING\n",
      "------\n",
      "Flights Table:\n",
      "Description:\n",
      "The Flights table records all available flights and their relevant details. Each record represents a unique flight, including details about its origin, destination, departure, arrival, carrier, and price.\n",
      "----\n",
      "Columns:\n",
      "--\n",
      "flight_id:\n",
      "Description: A unique identifier for each flight.\n",
      "Usage: This ID ensures each flight is distinct and can be referenced for booking, customer inquiries, and operational purposes.\n",
      "Type: INT64\n",
      "--\n",
      "origin:\n",
      "Description: The departure location of the flight.\n",
      "Usage: Helps customers and operational teams identify where the flight begins and assists in planning and managing flight schedules.\n",
      "Type: STRING\n",
      "--\n",
      "destination:\n",
      "Description: The arrival location of the flight.\n",
      "Usage: Aids customers in finding flights that reach their desired destination and helps operational teams manage and plan flight schedules.\n",
      "Type: STRING\n",
      "--\n",
      "departure_datetime:\n",
      "Description: The date and time when the flight is scheduled to depart.\n",
      "Usage: Provides customers with the information needed to plan their journey and helps operational teams manage and track flights.\n",
      "Type: DATETIME\n",
      "--\n",
      "arrival_datetime:\n",
      "Description: The date and time when the flight is scheduled to arrive at the destination.\n",
      "Usage: Facilitates customers in planning their schedules around their arrival and assists operational teams in managing gate assignments and staff scheduling.\n",
      "Type: DATETIME\n",
      "--\n",
      "carrier:\n",
      "Description: The airline carrier operating the flight.\n",
      "Usage: Allows customers to select flights based on their preferred carrier and helps manage partnerships and operational logistics related to specific carriers.\n",
      "Type: STRING\n",
      "--\n",
      "price:\n",
      "Description: The price of a ticket on the flight.\n",
      "Usage: Enables customers to evaluate and purchase flights based on their budget and assists in revenue management and pricing strategies for the carrier.\n",
      "Type: FLOAT64\n",
      "--\n",
      "----\n",
      "Reservations Table:\n",
      "Description:\n",
      "The Reservations table keeps track of all flight reservations made by customers. Each record represents a unique reservation, detailing the customer, flight, reservation time, and status.\n",
      "----\n",
      "Columns:\n",
      "--\n",
      "reservation_id:\n",
      "Description: A unique identifier for each reservation made on the platform.\n",
      "Usage: This ID ensures that each reservation is distinct and can be referenced for customer inquiries, modifications, and operational tracking.\n",
      "Type: INT64\n",
      "--\n",
      "customer_id:\n",
      "Description: A reference to a customer from the Customers table who made the reservation.\n",
      "Usage: Establishes which customer made a specific reservation, aiding in personalized user experiences, communication, and support.\n",
      "Type: INT64\n",
      "--\n",
      "flight_id:\n",
      "Description: Refers to a specific flight from the Flights table.\n",
      "Usage: Ensures that the reservation corresponds to a specific flight, aiding in managing flight capacities and customer communications.\n",
      "Type: INT64\n",
      "--\n",
      "reservation_datetime:\n",
      "Description: Indicates the date and time when the reservation was made.\n",
      "Usage: Helps in tracking reservation timelines for data analysis and customer communication, and can be used to manage reservation expiries or follow-ups.\n",
      "Type: DATETIME\n",
      "--\n",
      "status:\n",
      "Description: The current status of the reservation (e.g., Confirmed, Cancelled, Pending, etc.)\n",
      "Usage: Provides customers and operational teams with crucial information regarding the state of the reservation, and assists in managing operational processes and customer communications.\n",
      "Type: STRING\n",
      "------\n",
      "Flights Table:\n",
      "Description:\n",
      "The Flights table records all available flights and their relevant details. Each record represents a unique flight, including details about its origin, destination, departure, arrival, carrier, and price.\n",
      "----\n",
      "Columns:\n",
      "--\n",
      "flight_id:\n",
      "Description: A unique identifier for each flight.\n",
      "Usage: This ID ensures each flight is distinct and can be referenced for booking, customer inquiries, and operational purposes.\n",
      "Type: INT64\n",
      "--\n",
      "origin:\n",
      "Description: The departure location of the flight.\n",
      "Usage: Helps customers and operational teams identify where the flight begins and assists in planning and managing flight schedules.\n",
      "Type: STRING\n",
      "--\n",
      "destination:\n",
      "Description: The arrival location of the flight.\n",
      "Usage: Aids customers in finding flights that reach their desired destination and helps operational teams manage and plan flight schedules.\n",
      "Type: STRING\n",
      "--\n",
      "departure_datetime:\n",
      "Description: The date and time when the flight is scheduled to depart.\n",
      "Usage: Provides customers with the information needed to plan their journey and helps operational teams manage and track flights.\n",
      "Type: DATETIME\n",
      "--\n",
      "arrival_datetime:\n",
      "Description: The date and time when the flight is scheduled to arrive at the destination.\n",
      "Usage: Facilitates customers in planning their schedules around their arrival and assists operational teams in managing gate assignments and staff scheduling.\n",
      "Type: DATETIME\n",
      "--\n",
      "carrier:\n",
      "Description: The airline carrier operating the flight.\n",
      "Usage: Allows customers to select flights based on their preferred carrier and helps manage partnerships and operational logistics related to specific carriers.\n",
      "Type: STRING\n",
      "--\n",
      "price:\n",
      "Description: The price of a ticket on the flight.\n",
      "Usage: Enables customers to evaluate and purchase flights based on their budget and assists in revenue management and pricing strategies for the carrier.\n",
      "Type: FLOAT64\n",
      "--\n"
     ]
    }
   ],
   "source": [
    "table_names = tables.split('|')\n",
    "filtered_table_schemas = {}\n",
    "\n",
    "for table_name in table_names:\n",
    "    if table_name in table_schemas.keys():\n",
    "        filtered_table_schemas[table_name] = table_schemas[table_name]\n",
    "\n",
    "filtered_table_schemas_text = []\n",
    "for schema in filtered_table_schemas.values():\n",
    "    filtered_table_schemas_text.append(schema)\n",
    "\n",
    "filtered_table_schemas_text = ''.join(filtered_table_schemas_text)\n",
    "logger.info(filtered_table_schemas_text)"
   ]
  },
  {
   "cell_type": "markdown",
   "metadata": {},
   "source": [
    "5. SQL Statement Construction\n",
    "    - The gathered information, which includes the user query, detected intent, and extracted entities, is integrated with mapped tables and filtered schema info, such as table and column descriptions. This comprehensive data info is compiled into a structured prompt for the LLM as shown below.\n",
    "    - Please construct a SQL query using the information provided below: \n",
    "        - Input Parameters:\n",
    "            - INTENT: {intent}\n",
    "            - EXTRACTED_ENTITIES: {entities}\n",
    "            - MAPPED_TABLES: {tables}\n",
    "\n",
    "        - User Query:\n",
    "            - {user_query}\n",
    "\n",
    "        - Table Schemas:\n",
    "            - {filtered_table_schemas_text}\n",
    "\n",
    "        - Note: \n",
    "        -   Please prefix the table names with `flight_reservations`."
   ]
  },
  {
   "cell_type": "code",
   "execution_count": 90,
   "metadata": {},
   "outputs": [],
   "source": [
    "messages = []\n",
    "template = \"You are a SQL master expert capable of writing complex SQL query in BigQuery.\"\n",
    "system_message_prompt = SystemMessagePromptTemplate.from_template(template)\n",
    "messages.append(system_message_prompt)"
   ]
  },
  {
   "cell_type": "code",
   "execution_count": 91,
   "metadata": {},
   "outputs": [],
   "source": [
    "human_template = \"\"\"Please construct a SQL query using the information provided below:\n",
    "\n",
    "Input Parameters:\n",
    "-----------------\n",
    "INTENT: {intent}\n",
    "EXTRACTED_ENTITIES: {entities}\n",
    "MAPPED_TABLES: {tables}\n",
    "\n",
    "User Query:\n",
    "-----------\n",
    "{user_query}\n",
    "\n",
    "Table Schemas:\n",
    "--------------\n",
    "{filtered_table_schemas_text}\n",
    "\n",
    "Note: \n",
    "- Please prefix the table names with `flight_reservations`.\"\"\""
   ]
  },
  {
   "cell_type": "code",
   "execution_count": 92,
   "metadata": {},
   "outputs": [],
   "source": [
    "human_message = HumanMessagePromptTemplate.from_template(human_template)\n",
    "messages.append(human_message)\n",
    "chat_prompt = ChatPromptTemplate.from_messages(messages)"
   ]
  },
  {
   "cell_type": "code",
   "execution_count": 93,
   "metadata": {},
   "outputs": [],
   "source": [
    "request = chat_prompt.format_prompt(intent=intent, entities=entities, tables=tables, user_query=user_query,\n",
    "                                    filtered_table_schemas_text=filtered_table_schemas_text).to_messages()"
   ]
  },
  {
   "cell_type": "code",
   "execution_count": 95,
   "metadata": {},
   "outputs": [
    {
     "name": "stderr",
     "output_type": "stream",
     "text": [
      "SELECT flight_reservations.reservation_id, flight_reservations.customer_id, flight_reservations.flight_id, flight_reservations.reservation_datetime, flight_reservations.status\n",
      "FROM flight_reservations.reservations AS flight_reservations\n",
      "JOIN flight_reservations.flights AS flight_flights\n",
      "ON flight_reservations.flight_id = flight_flights.flight_id\n",
      "WHERE flight_reservations.reservation_datetime >= TIMESTAMP('2023-10-10') \n",
      "AND flight_reservations.reservation_datetime < TIMESTAMP('2023-10-16');\n",
      "SELECT flight_reservations.reservation_id, flight_reservations.customer_id, flight_reservations.flight_id, flight_reservations.reservation_datetime, flight_reservations.status\n",
      "FROM flight_reservations.reservations AS flight_reservations\n",
      "JOIN flight_reservations.flights AS flight_flights\n",
      "ON flight_reservations.flight_id = flight_flights.flight_id\n",
      "WHERE flight_reservations.reservation_datetime >= TIMESTAMP('2023-10-10') \n",
      "AND flight_reservations.reservation_datetime < TIMESTAMP('2023-10-16');\n"
     ]
    },
    {
     "name": "stdout",
     "output_type": "stream",
     "text": [
      "CPU times: user 14.1 ms, sys: 3.56 ms, total: 17.6 ms\n",
      "Wall time: 2.28 s\n"
     ]
    }
   ],
   "source": [
    "%%time \n",
    "\n",
    "response = llm(request)\n",
    "sql = '\\n'.join(response.content.strip().split('\\n')[1:-1])\n",
    "logger.info(sql)"
   ]
  },
  {
   "cell_type": "markdown",
   "metadata": {},
   "source": [
    "#### Pattern 2: LLM Flow with RAG"
   ]
  },
  {
   "cell_type": "markdown",
   "metadata": {},
   "source": [
    "- If we’re dealing with hundreds or even thousands of tables in BigQuery, or instances where tables are broad with thousands of columns, the previous pattern doesn’t hold up. It’s practically impossible to map the detected intent to the corresponding tables. The same issue arises when we face new scenarios or query types, the first pattern can’t reliably map intent to the correct tables. \n",
    "- Here in RAG, We turn the table descriptions and schema descriptions (columns) into embeddings, then index these embeddings for search. \n",
    "\n",
    "1. Embedding and Indexing Descriptions: \n",
    "    - Start by encoding the table and column descriptions into embeddings using a text embedding model. Once the descriptions are encoded, create two indices — one for table descriptions and another for column descriptions. "
   ]
  },
  {
   "cell_type": "code",
   "execution_count": 105,
   "metadata": {},
   "outputs": [],
   "source": [
    "from langchain.prompts.chat import SystemMessagePromptTemplate\n",
    "from langchain.prompts.chat import HumanMessagePromptTemplate\n",
    "from langchain.prompts.chat import ChatPromptTemplate\n",
    "from langchain.embeddings import VertexAIEmbeddings\n",
    "from langchain.document_loaders import JSONLoader\n",
    "from langchain.embeddings.base import Embeddings\n",
    "from langchain.chat_models import ChatVertexAI\n",
    "from langchain.vectorstores import FAISS\n",
    "from google.cloud import bigquery\n",
    "from typing import List\n",
    "from tqdm import tqdm\n",
    "import logging\n",
    "import json\n",
    "import os "
   ]
  },
  {
   "cell_type": "code",
   "execution_count": 106,
   "metadata": {},
   "outputs": [],
   "source": [
    "logger = logging.getLogger('langchain')\n",
    "logger.setLevel(logging.INFO)\n",
    "logger.addHandler(logging.StreamHandler())"
   ]
  },
  {
   "cell_type": "code",
   "execution_count": 109,
   "metadata": {},
   "outputs": [],
   "source": [
    "from langchain.embeddings import HuggingFaceBgeEmbeddings\n",
    "\n",
    "model_name = \"BAAI/bge-small-en-v1.5\"\n",
    "encode_kwargs = {'normalize_embeddings': True} # set True to compute cosine similarity\n",
    "\n",
    "bge_embeddings = HuggingFaceBgeEmbeddings(\n",
    "    model_name=model_name,\n",
    "    model_kwargs={'device': 'cpu'},\n",
    "    encode_kwargs=encode_kwargs\n",
    ")"
   ]
  },
  {
   "cell_type": "code",
   "execution_count": 110,
   "metadata": {},
   "outputs": [],
   "source": [
    "query = \"Provide a list of all flight reservations from October 10th to October 15th, 2023\""
   ]
  },
  {
   "cell_type": "code",
   "execution_count": 113,
   "metadata": {},
   "outputs": [],
   "source": [
    "documents = JSONLoader(file_path='text2sql_data/rag-schema/tables.jsonl', jq_schema='.', text_content=False, json_lines=True).load()"
   ]
  },
  {
   "cell_type": "code",
   "execution_count": 114,
   "metadata": {},
   "outputs": [],
   "source": [
    "db = FAISS.from_documents(documents=documents, embedding=bge_embeddings)"
   ]
  },
  {
   "cell_type": "markdown",
   "metadata": {},
   "source": [
    "2. \n",
    "    - The encoded query is compared against a pre-indexed repository of table descriptions to identify relevant tables and index of column descriptions that align with the user’s intent. With this a multi-layered search strategy is employed in this architectural pattern. "
   ]
  },
  {
   "cell_type": "code",
   "execution_count": 115,
   "metadata": {},
   "outputs": [
    {
     "name": "stderr",
     "output_type": "stream",
     "text": [
      "/Users/nisargmehta/Documents/LLM/langchain/myenv/lib/python3.9/site-packages/langchain_core/_api/deprecation.py:119: LangChainDeprecationWarning: The method `BaseRetriever.get_relevant_documents` was deprecated in langchain-core 0.1.46 and will be removed in 0.3.0. Use invoke instead.\n",
      "  warn_deprecated(\n"
     ]
    }
   ],
   "source": [
    "retriever = db.as_retriever(search_type='mmr', search_kwargs={'k': 5, 'lambda_mult': 1})\n",
    "matched_documents = retriever.get_relevant_documents(query=query)"
   ]
  },
  {
   "cell_type": "code",
   "execution_count": 116,
   "metadata": {},
   "outputs": [
    {
     "data": {
      "text/plain": [
       "[Document(page_content='{\"dataset_name\": \"flight_reservations\", \"table_name\": \"reservations\", \"description\": \"The `reservations` table keeps track of all flight bookings, linking them to customers and flights and recording when the reservation was made and its current status.\", \"example_queries\": [\"Find all reservations made by a specific customer.\", \"Show all reservations for a particular flight.\", \"Retrieve reservations made within a specific time period.\", \"Which reservations have a particular status (e.g., confirmed, cancelled, etc.)?\", \"List the reservations in chronological order.\"]}', metadata={'source': '/Users/nisargmehta/Documents/LLM/langchain/RAG/text2sql_data/rag-schema/tables.jsonl', 'seq_num': 33}),\n",
       " Document(page_content='{\"dataset_name\": \"flight_reservations\", \"table_name\": \"flights\", \"description\": \"The `flights` table logs details about each flight, including origin, destination, departure and arrival times, the carrier, and the price.\", \"example_queries\": [\"Find all flights departing from a specific location.\", \"Show all flights to a particular destination.\", \"Retrieve flights with departure or arrival at a specific time frame.\", \"Which flights are operated by a particular carrier?\", \"List all flights within a specific price range.\"]}', metadata={'source': '/Users/nisargmehta/Documents/LLM/langchain/RAG/text2sql_data/rag-schema/tables.jsonl', 'seq_num': 32}),\n",
       " Document(page_content='{\"dataset_name\": \"flight_reservations\", \"table_name\": \"transactions\", \"description\": \"The `transactions` table documents all payment transactions related to flight reservations, including the reservation they pertain to, the amount paid, and when the transaction took place.\", \"example_queries\": [\"Find all transactions associated with a specific reservation.\", \"Show all transactions above a certain amount.\", \"Retrieve transactions that took place in a specific time frame.\", \"Which reservations have associated transactions?\", \"List all transactions in order of amount.\"]}', metadata={'source': '/Users/nisargmehta/Documents/LLM/langchain/RAG/text2sql_data/rag-schema/tables.jsonl', 'seq_num': 34}),\n",
       " Document(page_content='{\"dataset_name\": \"hotel_reservations\", \"table_name\": \"reservations\", \"description\": \"The `reservations` table chronicles all the bookings made by users. Each record stands for a unique reservation.\", \"example_queries\": [\"Retrieve all my past reservations.\", \"Cancel my reservation for tomorrow.\", \"Show upcoming reservations for this month.\", \"Find reservations made using discount code XYZ.\", \"List all cancelled reservations.\"]}', metadata={'source': '/Users/nisargmehta/Documents/LLM/langchain/RAG/text2sql_data/rag-schema/tables.jsonl', 'seq_num': 3}),\n",
       " Document(page_content='{\"dataset_name\": \"hotel_reservations\", \"table_name\": \"services\", \"description\": \"The `services` table lists additional services offered by hotels, such as airport shuttle, laundry, or guided tours.\", \"example_queries\": [\"List all hotels offering airport shuttle.\", \"Which hotels have laundry service?\", \"Show services available at 5-star hotels.\", \"Find hotels offering guided tours.\", \"List hotels with 24-hour room service.\"]}', metadata={'source': '/Users/nisargmehta/Documents/LLM/langchain/RAG/text2sql_data/rag-schema/tables.jsonl', 'seq_num': 11})]"
      ]
     },
     "execution_count": 116,
     "metadata": {},
     "output_type": "execute_result"
    }
   ],
   "source": [
    "matched_documents"
   ]
  },
  {
   "cell_type": "code",
   "execution_count": 118,
   "metadata": {},
   "outputs": [],
   "source": [
    "documents = JSONLoader(file_path='text2sql_data/rag-schema/columns.jsonl', jq_schema='.', text_content=False, json_lines=True).load()\n",
    "db = FAISS.from_documents(documents=documents, embedding=bge_embeddings)"
   ]
  },
  {
   "cell_type": "code",
   "execution_count": 119,
   "metadata": {},
   "outputs": [],
   "source": [
    "search_kwargs = {'k': 20}\n",
    "\n",
    "retriever = db.as_retriever(search_type='similarity', search_kwargs=search_kwargs)"
   ]
  },
  {
   "cell_type": "code",
   "execution_count": 120,
   "metadata": {},
   "outputs": [
    {
     "name": "stderr",
     "output_type": "stream",
     "text": [
      "[Document(page_content='{\"dataset_name\": \"flight_reservations\", \"table_name\": \"flights\", \"column_name\": \"arrival_datetime\", \"description\": \"The arrival time of the flight.\", \"usage\": \"Informs users and helps them plan their travel.\", \"data_type\": \"DATETIME\"}', metadata={'source': '/Users/nisargmehta/Documents/LLM/langchain/RAG/text2sql_data/rag-schema/columns.jsonl', 'seq_num': 56}), Document(page_content='{\"dataset_name\": \"flight_reservations\", \"table_name\": \"reservations\", \"column_name\": \"status\", \"description\": \"The status of the reservation (e.g., confirmed, cancelled).\", \"usage\": \"Informs users and staff of the current state of the reservation.\", \"data_type\": \"STRING\"}', metadata={'source': '/Users/nisargmehta/Documents/LLM/langchain/RAG/text2sql_data/rag-schema/columns.jsonl', 'seq_num': 63}), Document(page_content='{\"dataset_name\": \"flight_reservations\", \"table_name\": \"flights\", \"column_name\": \"departure_datetime\", \"description\": \"The departure time of the flight.\", \"usage\": \"Informs users and helps them plan their travel.\", \"data_type\": \"DATETIME\"}', metadata={'source': '/Users/nisargmehta/Documents/LLM/langchain/RAG/text2sql_data/rag-schema/columns.jsonl', 'seq_num': 55}), Document(page_content='{\"dataset_name\": \"flight_reservations\", \"table_name\": \"flights\", \"column_name\": \"destination\", \"description\": \"The arrival location of the flight.\", \"usage\": \"Used to find flights and plan journeys.\", \"data_type\": \"STRING\"}', metadata={'source': '/Users/nisargmehta/Documents/LLM/langchain/RAG/text2sql_data/rag-schema/columns.jsonl', 'seq_num': 54}), Document(page_content='{\"dataset_name\": \"flight_reservations\", \"table_name\": \"reservations\", \"column_name\": \"reservation_datetime\", \"description\": \"Timestamp of when the reservation was made.\", \"usage\": \"Helps track reservation history and manage bookings.\", \"data_type\": \"DATETIME\"}', metadata={'source': '/Users/nisargmehta/Documents/LLM/langchain/RAG/text2sql_data/rag-schema/columns.jsonl', 'seq_num': 62}), Document(page_content='{\"dataset_name\": \"flight_reservations\", \"table_name\": \"flights\", \"column_name\": \"origin\", \"description\": \"The departure location of the flight.\", \"usage\": \"Helps users find flights based on their travel plans.\", \"data_type\": \"STRING\"}', metadata={'source': '/Users/nisargmehta/Documents/LLM/langchain/RAG/text2sql_data/rag-schema/columns.jsonl', 'seq_num': 53}), Document(page_content='{\"dataset_name\": \"flight_reservations\", \"table_name\": \"flights\", \"column_name\": \"carrier\", \"description\": \"The airline operating the flight.\", \"usage\": \"Provides users with the choice of airline and informs about the operator.\", \"data_type\": \"STRING\"}', metadata={'source': '/Users/nisargmehta/Documents/LLM/langchain/RAG/text2sql_data/rag-schema/columns.jsonl', 'seq_num': 57}), Document(page_content='{\"dataset_name\": \"flight_reservations\", \"table_name\": \"flights\", \"column_name\": \"price\", \"description\": \"The price of the flight ticket.\", \"usage\": \"Informs users and is used during booking transactions.\", \"data_type\": \"FLOAT64\"}', metadata={'source': '/Users/nisargmehta/Documents/LLM/langchain/RAG/text2sql_data/rag-schema/columns.jsonl', 'seq_num': 58}), Document(page_content='{\"dataset_name\": \"flight_reservations\", \"table_name\": \"customers\", \"column_name\": \"date_of_birth\", \"description\": \"The birth date of the customer.\", \"usage\": \"May be used for age verification and personalized offers.\", \"data_type\": \"DATE\"}', metadata={'source': '/Users/nisargmehta/Documents/LLM/langchain/RAG/text2sql_data/rag-schema/columns.jsonl', 'seq_num': 50}), Document(page_content='{\"dataset_name\": \"flight_reservations\", \"table_name\": \"flights\", \"column_name\": \"flight_id\", \"description\": \"A unique identifier for each flight.\", \"usage\": \"Used to uniquely identify and manage flight records.\", \"data_type\": \"INT64\"}', metadata={'source': '/Users/nisargmehta/Documents/LLM/langchain/RAG/text2sql_data/rag-schema/columns.jsonl', 'seq_num': 52}), Document(page_content='{\"dataset_name\": \"flight_reservations\", \"table_name\": \"reservations\", \"column_name\": \"flight_id\", \"description\": \"A unique identifier for each flight.\", \"usage\": \"Used to uniquely identify and manage flight records.\", \"data_type\": \"INT64\"}', metadata={'source': '/Users/nisargmehta/Documents/LLM/langchain/RAG/text2sql_data/rag-schema/columns.jsonl', 'seq_num': 61}), Document(page_content='{\"dataset_name\": \"flight_reservations\", \"table_name\": \"reservations\", \"column_name\": \"reservation_id\", \"description\": \"A unique identifier for each reservation.\", \"usage\": \"Used to uniquely identify and manage reservation records.\", \"data_type\": \"INT64\"}', metadata={'source': '/Users/nisargmehta/Documents/LLM/langchain/RAG/text2sql_data/rag-schema/columns.jsonl', 'seq_num': 59}), Document(page_content='{\"dataset_name\": \"flight_reservations\", \"table_name\": \"transactions\", \"column_name\": \"reservation_id\", \"description\": \"A unique identifier for each reservation.\", \"usage\": \"Used to uniquely identify and manage reservation records.\", \"data_type\": \"INT64\"}', metadata={'source': '/Users/nisargmehta/Documents/LLM/langchain/RAG/text2sql_data/rag-schema/columns.jsonl', 'seq_num': 65}), Document(page_content='{\"dataset_name\": \"hotel_reservations\", \"table_name\": \"discounts\", \"column_name\": \"expiry_date\", \"description\": \"The date on which the discount expires.\", \"usage\": \"Used for discount lifecycle management.\", \"data_type\": \"STRING\"}', metadata={'source': '/Users/nisargmehta/Documents/LLM/langchain/RAG/text2sql_data/rag-schema/columns.jsonl', 'seq_num': 35}), Document(page_content='{\"dataset_name\": \"hotel_reservations\", \"table_name\": \"reservations\", \"column_name\": \"start_date\", \"description\": \"Indicates the beginning date of the reservation.\", \"usage\": \"Helps in determining room availability and the user\\'s stay period.\", \"data_type\": \"DATE\"}', metadata={'source': '/Users/nisargmehta/Documents/LLM/langchain/RAG/text2sql_data/rag-schema/columns.jsonl', 'seq_num': 8}), Document(page_content='{\"dataset_name\": \"flight_reservations\", \"table_name\": \"reservations\", \"column_name\": \"customer_id\", \"description\": \"A unique identifier assigned to each customer.\", \"usage\": \"Ensures each customer is distinct and can be referenced in reservations.\", \"data_type\": \"INT64\"}', metadata={'source': '/Users/nisargmehta/Documents/LLM/langchain/RAG/text2sql_data/rag-schema/columns.jsonl', 'seq_num': 60}), Document(page_content='{\"dataset_name\": \"hotel_reservations\", \"table_name\": \"events\", \"column_name\": \"availability\", \"description\": \"Indicates whether tickets for the event are available.\", \"usage\": \"Used for real-time ticketing updates.\", \"data_type\": \"STRING\"}', metadata={'source': '/Users/nisargmehta/Documents/LLM/langchain/RAG/text2sql_data/rag-schema/columns.jsonl', 'seq_num': 44}), Document(page_content='{\"dataset_name\": \"flight_reservations\", \"table_name\": \"customers\", \"column_name\": \"email\", \"description\": \"The email address of the customer.\", \"usage\": \"Primary mode of communication with the customer.\", \"data_type\": \"STRING\"}', metadata={'source': '/Users/nisargmehta/Documents/LLM/langchain/RAG/text2sql_data/rag-schema/columns.jsonl', 'seq_num': 49}), Document(page_content='{\"dataset_name\": \"hotel_reservations\", \"table_name\": \"rooms\", \"column_name\": \"price_per_night\", \"description\": \"Indicates the cost of booking the room for one night.\", \"usage\": \"Helps users in understanding the pricing and aids in budget planning.\", \"data_type\": \"FLOAT64\"}', metadata={'source': '/Users/nisargmehta/Documents/LLM/langchain/RAG/text2sql_data/rag-schema/columns.jsonl', 'seq_num': 13}), Document(page_content='{\"dataset_name\": \"hotel_reservations\", \"table_name\": \"reservations\", \"column_name\": \"end_date\", \"description\": \"Marks the termination date of the reservation.\", \"usage\": \"Assists in room inventory management and billing.\", \"data_type\": \"DATE\"}', metadata={'source': '/Users/nisargmehta/Documents/LLM/langchain/RAG/text2sql_data/rag-schema/columns.jsonl', 'seq_num': 9})]\n"
     ]
    }
   ],
   "source": [
    "matched_columns = retriever.get_relevant_documents(query=query)\n",
    "logger.info(matched_columns)"
   ]
  },
  {
   "cell_type": "code",
   "execution_count": 121,
   "metadata": {},
   "outputs": [
    {
     "name": "stderr",
     "output_type": "stream",
     "text": [
      "[{'dataset_name': 'flight_reservations', 'table_name': 'flights', 'column_name': 'arrival_datetime', 'description': 'The arrival time of the flight.', 'usage': 'Informs users and helps them plan their travel.', 'data_type': 'DATETIME'}, {'dataset_name': 'flight_reservations', 'table_name': 'reservations', 'column_name': 'status', 'description': 'The status of the reservation (e.g., confirmed, cancelled).', 'usage': 'Informs users and staff of the current state of the reservation.', 'data_type': 'STRING'}, {'dataset_name': 'flight_reservations', 'table_name': 'flights', 'column_name': 'departure_datetime', 'description': 'The departure time of the flight.', 'usage': 'Informs users and helps them plan their travel.', 'data_type': 'DATETIME'}, {'dataset_name': 'flight_reservations', 'table_name': 'flights', 'column_name': 'destination', 'description': 'The arrival location of the flight.', 'usage': 'Used to find flights and plan journeys.', 'data_type': 'STRING'}, {'dataset_name': 'flight_reservations', 'table_name': 'reservations', 'column_name': 'reservation_datetime', 'description': 'Timestamp of when the reservation was made.', 'usage': 'Helps track reservation history and manage bookings.', 'data_type': 'DATETIME'}, {'dataset_name': 'flight_reservations', 'table_name': 'flights', 'column_name': 'origin', 'description': 'The departure location of the flight.', 'usage': 'Helps users find flights based on their travel plans.', 'data_type': 'STRING'}, {'dataset_name': 'flight_reservations', 'table_name': 'flights', 'column_name': 'carrier', 'description': 'The airline operating the flight.', 'usage': 'Provides users with the choice of airline and informs about the operator.', 'data_type': 'STRING'}, {'dataset_name': 'flight_reservations', 'table_name': 'flights', 'column_name': 'price', 'description': 'The price of the flight ticket.', 'usage': 'Informs users and is used during booking transactions.', 'data_type': 'FLOAT64'}, {'dataset_name': 'flight_reservations', 'table_name': 'customers', 'column_name': 'date_of_birth', 'description': 'The birth date of the customer.', 'usage': 'May be used for age verification and personalized offers.', 'data_type': 'DATE'}, {'dataset_name': 'flight_reservations', 'table_name': 'flights', 'column_name': 'flight_id', 'description': 'A unique identifier for each flight.', 'usage': 'Used to uniquely identify and manage flight records.', 'data_type': 'INT64'}, {'dataset_name': 'flight_reservations', 'table_name': 'reservations', 'column_name': 'flight_id', 'description': 'A unique identifier for each flight.', 'usage': 'Used to uniquely identify and manage flight records.', 'data_type': 'INT64'}, {'dataset_name': 'flight_reservations', 'table_name': 'reservations', 'column_name': 'reservation_id', 'description': 'A unique identifier for each reservation.', 'usage': 'Used to uniquely identify and manage reservation records.', 'data_type': 'INT64'}, {'dataset_name': 'flight_reservations', 'table_name': 'transactions', 'column_name': 'reservation_id', 'description': 'A unique identifier for each reservation.', 'usage': 'Used to uniquely identify and manage reservation records.', 'data_type': 'INT64'}, {'dataset_name': 'flight_reservations', 'table_name': 'reservations', 'column_name': 'customer_id', 'description': 'A unique identifier assigned to each customer.', 'usage': 'Ensures each customer is distinct and can be referenced in reservations.', 'data_type': 'INT64'}, {'dataset_name': 'flight_reservations', 'table_name': 'customers', 'column_name': 'email', 'description': 'The email address of the customer.', 'usage': 'Primary mode of communication with the customer.', 'data_type': 'STRING'}]\n"
     ]
    }
   ],
   "source": [
    "matched_columns_filtered = []\n",
    "\n",
    "# LangChain filters does not support multiple values at the moment\n",
    "for i, column in enumerate(matched_columns):\n",
    "    page_content = json.loads(column.page_content)\n",
    "    dataset_name = page_content['dataset_name']\n",
    "    if dataset_name == 'flight_reservations':\n",
    "        matched_columns_filtered.append(page_content)\n",
    "\n",
    "logger.info(matched_columns_filtered)"
   ]
  },
  {
   "cell_type": "code",
   "execution_count": 122,
   "metadata": {},
   "outputs": [
    {
     "name": "stderr",
     "output_type": "stream",
     "text": [
      "dataset_name=flight_reservations|table_name=flights|column_name=arrival_datetime|data_type=DATETIME\n",
      "dataset_name=flight_reservations|table_name=reservations|column_name=status|data_type=STRING\n",
      "dataset_name=flight_reservations|table_name=flights|column_name=departure_datetime|data_type=DATETIME\n",
      "dataset_name=flight_reservations|table_name=flights|column_name=destination|data_type=STRING\n",
      "dataset_name=flight_reservations|table_name=reservations|column_name=reservation_datetime|data_type=DATETIME\n",
      "dataset_name=flight_reservations|table_name=flights|column_name=origin|data_type=STRING\n",
      "dataset_name=flight_reservations|table_name=flights|column_name=carrier|data_type=STRING\n",
      "dataset_name=flight_reservations|table_name=flights|column_name=price|data_type=FLOAT64\n",
      "dataset_name=flight_reservations|table_name=customers|column_name=date_of_birth|data_type=DATE\n",
      "dataset_name=flight_reservations|table_name=flights|column_name=flight_id|data_type=INT64\n",
      "dataset_name=flight_reservations|table_name=reservations|column_name=flight_id|data_type=INT64\n",
      "dataset_name=flight_reservations|table_name=reservations|column_name=reservation_id|data_type=INT64\n",
      "dataset_name=flight_reservations|table_name=transactions|column_name=reservation_id|data_type=INT64\n",
      "dataset_name=flight_reservations|table_name=reservations|column_name=customer_id|data_type=INT64\n",
      "dataset_name=flight_reservations|table_name=customers|column_name=email|data_type=STRING\n"
     ]
    }
   ],
   "source": [
    "matched_columns_cleaned = []\n",
    "\n",
    "for doc in matched_columns_filtered:\n",
    "    dataset_name = doc['dataset_name']\n",
    "    table_name = doc['table_name']\n",
    "    column_name = doc['column_name']\n",
    "    data_type = doc['data_type']\n",
    "    matched_columns_cleaned.append(f'dataset_name={dataset_name}|table_name={table_name}|column_name={column_name}|data_type={data_type}')\n",
    "    \n",
    "matched_columns_cleaned = '\\n'.join(matched_columns_cleaned)\n",
    "logger.info(matched_columns_cleaned)"
   ]
  },
  {
   "cell_type": "markdown",
   "metadata": {},
   "source": [
    "3. Text-to-SQL generation"
   ]
  },
  {
   "cell_type": "code",
   "execution_count": 123,
   "metadata": {},
   "outputs": [],
   "source": [
    "messages = []\n",
    "template = \"You are a SQL master expert capable of writing complex SQL query in BigQuery.\"\n",
    "system_message_prompt = SystemMessagePromptTemplate.from_template(template)\n",
    "messages.append(system_message_prompt)"
   ]
  },
  {
   "cell_type": "code",
   "execution_count": 124,
   "metadata": {},
   "outputs": [],
   "source": [
    "human_template = \"\"\"Given the following inputs:\n",
    "USER_QUERY:\n",
    "--\n",
    "{query}\n",
    "--\n",
    "MATCHED_SCHEMA: \n",
    "--\n",
    "{matched_schema}\n",
    "--\n",
    "Please construct a SQL query using the MATCHED_SCHEMA and the USER_QUERY provided above. \n",
    "The goal is to determine the availability of hotels based on the provided info. \n",
    "\n",
    "IMPORTANT: Use ONLY the column names (column_name) mentioned in MATCHED_SCHEMA. DO NOT USE any other column names outside of this. \n",
    "IMPORTANT: Associate column_name mentioned in MATCHED_SCHEMA only to the table_name specified under MATCHED_SCHEMA.\n",
    "NOTE: Use SQL 'AS' statement to assign a new name temporarily to a table column or even a table wherever needed. \n",
    "\"\"\""
   ]
  },
  {
   "cell_type": "code",
   "execution_count": 125,
   "metadata": {},
   "outputs": [],
   "source": [
    "human_message = HumanMessagePromptTemplate.from_template(human_template)\n",
    "messages.append(human_message)"
   ]
  },
  {
   "cell_type": "code",
   "execution_count": 126,
   "metadata": {},
   "outputs": [],
   "source": [
    "chat_prompt = ChatPromptTemplate.from_messages(messages)\n",
    "request = chat_prompt.format_prompt(query=query, matched_schema=matched_columns_cleaned).to_messages()"
   ]
  },
  {
   "cell_type": "code",
   "execution_count": 127,
   "metadata": {},
   "outputs": [
    {
     "name": "stderr",
     "output_type": "stream",
     "text": [
      "SELECT \n",
      "    r.reservation_id AS reservation_id,\n",
      "    r.customer_id AS customer_id,\n",
      "    r.flight_id AS flight_id,\n",
      "    r.status AS reservation_status,\n",
      "    r.reservation_datetime AS reservation_datetime,\n",
      "    f.origin AS flight_origin,\n",
      "    f.destination AS flight_destination,\n",
      "    f.carrier AS flight_carrier,\n",
      "    f.price AS flight_price,\n",
      "    f.departure_datetime AS flight_departure_datetime,\n",
      "    f.arrival_datetime AS flight_arrival_datetime\n",
      "FROM \n",
      "    flight_reservations.reservations AS r\n",
      "JOIN \n",
      "    flight_reservations.flights AS f\n",
      "ON \n",
      "    r.flight_id = f.flight_id\n",
      "WHERE \n",
      "    f.departure_datetime >= '2023-10-10' \n",
      "    AND f.arrival_datetime <= '2023-10-15'\n"
     ]
    }
   ],
   "source": [
    "response = llm(request)\n",
    "sql = '\\n'.join(response.content.strip().split('\\n')[1:-1])\n",
    "logger.info(sql)"
   ]
  },
  {
   "cell_type": "markdown",
   "metadata": {},
   "source": [
    "#### Pattern 3: SQL Agent"
   ]
  },
  {
   "cell_type": "markdown",
   "metadata": {},
   "source": [
    "- The agents have the capacity to analyze SQL databases by transforming natural language queries into SQL commands. The LangChain SQL agent for BigQuery exemplifies this capability, enabling users to interact with BigQuery databases using natural language. "
   ]
  },
  {
   "cell_type": "code",
   "execution_count": 39,
   "metadata": {},
   "outputs": [],
   "source": [
    "from langchain.agents.agent_toolkits import SQLDatabaseToolkit\n",
    "from langchain.chat_models import ChatVertexAI\n",
    "from langchain.sql_database import SQLDatabase\n",
    "from langchain.agents import create_sql_agent\n",
    "from urllib.parse import quote_plus\n",
    "import pkg_resources\n",
    "import sqlalchemy\n",
    "import langchain\n",
    "import logging\n",
    "import os "
   ]
  },
  {
   "cell_type": "code",
   "execution_count": 40,
   "metadata": {},
   "outputs": [],
   "source": [
    "logger = logging.getLogger(__name__)\n",
    "logger.setLevel(logging.INFO)\n",
    "logger.addHandler(logging.StreamHandler())"
   ]
  },
  {
   "cell_type": "code",
   "execution_count": 41,
   "metadata": {},
   "outputs": [],
   "source": [
    "PROJECT = 'fluent-buckeye-422006'\n",
    "LOCATION = 'us-central1'\n",
    "MODEL_NAME = 'codechat-bison@latest'\n",
    "DATASET = 'flight_reservations'\n",
    "SERVICE_ACCOUNT_KEY_PATH = 'gcp_bigquery.json'\n",
    "os.environ['GOOGLE_APPLICATION_CREDENTIALS'] = SERVICE_ACCOUNT_KEY_PATH\n",
    "SERVICE_ACCOUNT_KEY_PATH_ABS = os.path.abspath(SERVICE_ACCOUNT_KEY_PATH)\n",
    "SERVICE_ACCOUNT_EMAIL = 'bigquery-database@fluent-buckeye-422006.iam.gserviceaccount.com'  # Can be found in the service account JSON key above\n",
    "OAUTH_FLAG = 0 # 0 means we are using the service account credentials key for auth and 1 means we are using a refresh token \n",
    "CATALOG = 'fluent-buckeye-422006'  # same as project name \n",
    "DRIVER_PATH_ABS = '/Library/simba/googlebigqueryodbc/lib/libgooglebigqueryodbc_sbu.dylib'\n",
    "EMAIL = 'bigquery-database@fluent-buckeye-422006.iam.gserviceaccount.com'"
   ]
  },
  {
   "cell_type": "code",
   "execution_count": 42,
   "metadata": {},
   "outputs": [
    {
     "name": "stderr",
     "output_type": "stream",
     "text": [
      "SQLALCHEMY_URI=bigquery://fluent-buckeye-422006/flight_reservations?KeyFilePath=%2FUsers%2Fnisargmehta%2FDocuments%2FLLM%2Flangchain%2FRAG%2Fgcp_bigquery.json&Driver=%2FLibrary%2Fsimba%2Fgooglebigqueryodbc%2Flib%2Flibgooglebigqueryodbc_sbu.dylib&OAuthMechanism=0&Catalog=fluent-buckeye-422006&Dataset=flight_reservations&Email=bigquery-database@fluent-buckeye-422006.iam.gserviceaccount.com\n",
      "SQLALCHEMY_URI=bigquery://fluent-buckeye-422006/flight_reservations?KeyFilePath=%2FUsers%2Fnisargmehta%2FDocuments%2FLLM%2Flangchain%2FRAG%2Fgcp_bigquery.json&Driver=%2FLibrary%2Fsimba%2Fgooglebigqueryodbc%2Flib%2Flibgooglebigqueryodbc_sbu.dylib&OAuthMechanism=0&Catalog=fluent-buckeye-422006&Dataset=flight_reservations&Email=bigquery-database@fluent-buckeye-422006.iam.gserviceaccount.com\n",
      "SQLALCHEMY_URI=bigquery://fluent-buckeye-422006/flight_reservations?KeyFilePath=%2FUsers%2Fnisargmehta%2FDocuments%2FLLM%2Flangchain%2FRAG%2Fgcp_bigquery.json&Driver=%2FLibrary%2Fsimba%2Fgooglebigqueryodbc%2Flib%2Flibgooglebigqueryodbc_sbu.dylib&OAuthMechanism=0&Catalog=fluent-buckeye-422006&Dataset=flight_reservations&Email=bigquery-database@fluent-buckeye-422006.iam.gserviceaccount.com\n"
     ]
    }
   ],
   "source": [
    "params = {\n",
    "    'KeyFilePath': quote_plus(SERVICE_ACCOUNT_KEY_PATH_ABS),\n",
    "    'Driver': quote_plus(DRIVER_PATH_ABS),\n",
    "    'OAuthMechanism': OAUTH_FLAG,\n",
    "    'Catalog': CATALOG,\n",
    "    'Dataset': DATASET,\n",
    "    'Email': EMAIL,\n",
    "}\n",
    "\n",
    "SQLALCHEMY_URI = f\"bigquery://{PROJECT}/{DATASET}?{'&'.join(f'{k}={v}' for k, v in params.items())}\"\n",
    "logger.info(f'SQLALCHEMY_URI={SQLALCHEMY_URI}')"
   ]
  },
  {
   "cell_type": "code",
   "execution_count": 43,
   "metadata": {},
   "outputs": [
    {
     "name": "stderr",
     "output_type": "stream",
     "text": [
      "/Users/nisargmehta/Documents/LLM/langchain/myenv/lib/python3.9/site-packages/google/cloud/bigquery/client.py:585: UserWarning: Cannot create BigQuery Storage client, the dependency google-cloud-bigquery-storage is not installed.\n",
      "  warnings.warn(\n"
     ]
    }
   ],
   "source": [
    "from langchain.sql_database import SQLDatabase\n",
    "db = SQLDatabase.from_uri(SQLALCHEMY_URI)"
   ]
  },
  {
   "cell_type": "code",
   "execution_count": 44,
   "metadata": {},
   "outputs": [],
   "source": [
    "from langchain.chat_models import ChatOpenAI\n",
    "os.environ[\"OPEN_API_KEY\"] = \"\"\n",
    "llm = ChatOpenAI(temperature=0, openai_api_key=os.environ[\"OPEN_API_KEY\"])"
   ]
  },
  {
   "cell_type": "markdown",
   "metadata": {},
   "source": [
    "- Scenario 1: Retrieve Active Reservations for a Specific Date Range"
   ]
  },
  {
   "cell_type": "code",
   "execution_count": 47,
   "metadata": {},
   "outputs": [
    {
     "name": "stdout",
     "output_type": "stream",
     "text": [
      "\n",
      "\n",
      "\u001b[1m> Entering new SQL Agent Executor chain...\u001b[0m\n"
     ]
    },
    {
     "name": "stdout",
     "output_type": "stream",
     "text": [
      "\u001b[32;1m\u001b[1;3mI need to query the database to retrieve flight reservations within the specified date range.\n",
      "Action: sql_db_query_checker\n",
      "Action Input: SELECT * FROM reservations WHERE reservation_date BETWEEN '2023-10-10' AND '2023-10-15'\u001b[0m\u001b[36;1m\u001b[1;3mSELECT * \n",
      "FROM reservations \n",
      "WHERE reservation_date >= '2023-10-10' AND reservation_date <= '2023-10-15'\u001b[0m\u001b[32;1m\u001b[1;3mThe query looks correct now, I can proceed to execute it.\n",
      "Action: sql_db_query\n",
      "Action Input: SELECT * \n",
      "FROM reservations \n",
      "WHERE reservation_date >= '2023-10-10' AND reservation_date <= '2023-10-15'\u001b[0m"
     ]
    },
    {
     "name": "stderr",
     "output_type": "stream",
     "text": [
      "/Users/nisargmehta/Documents/LLM/langchain/myenv/lib/python3.9/site-packages/langchain_community/utilities/sql_database.py:463: SAWarning: Dialect bigquery:bigquery will not make use of SQL compilation caching as it does not set the 'supports_statement_cache' attribute to ``True``.  This can have significant performance implications including some performance degradations in comparison to prior SQLAlchemy versions.  Dialect maintainers should seek to set this attribute to True after appropriate development and testing for SQLAlchemy 1.4 caching support.   Alternatively, this attribute may be set to False which will disable this warning. (Background on this error at: https://sqlalche.me/e/14/cprf)\n",
      "  cursor = connection.execute(\n"
     ]
    },
    {
     "name": "stdout",
     "output_type": "stream",
     "text": [
      "\u001b[36;1m\u001b[1;3mError: (google.cloud.bigquery.dbapi.exceptions.DatabaseError) 400 POST https://bigquery.googleapis.com/bigquery/v2/projects/fluent-buckeye-422006/queries?prettyPrint=false: Unrecognized name: reservation_date; Did you mean reservation_datetime? at [3:7]\n",
      "[SQL: SELECT * \n",
      "FROM reservations \n",
      "WHERE reservation_date >= '2023-10-10' AND reservation_date <= '2023-10-15']\n",
      "(Background on this error at: https://sqlalche.me/e/14/4xp6)\u001b[0m\u001b[32;1m\u001b[1;3mI need to check the schema to see the correct field name for reservation date.\n",
      "Action: sql_db_schema\n",
      "Action Input: reservations\u001b[0m\u001b[33;1m\u001b[1;3m\n",
      "CREATE TABLE `reservations` (\n",
      "\t`reservation_id` INT64, \n",
      "\t`customer_id` INT64, \n",
      "\t`flight_id` INT64, \n",
      "\t`reservation_datetime` TIMESTAMP, \n",
      "\t`status` STRING\n",
      ")\n",
      "\n",
      "/*\n",
      "3 rows from reservations table:\n",
      "reservation_id\tcustomer_id\tflight_id\treservation_datetime\tstatus\n",
      "4\t3\t4\t2023-10-05 08:30:00+00:00\tCancelled\n",
      "9\t8\t8\t2023-10-20 09:00:00+00:00\tCancelled\n",
      "13\t13\t12\t2023-10-30 14:50:00+00:00\tCancelled\n",
      "*/\u001b[0m\u001b[32;1m\u001b[1;3mThe correct field name for the reservation date is `reservation_datetime`.\n",
      "Action: sql_db_query\n",
      "Action Input: SELECT * \n",
      "FROM reservations \n",
      "WHERE reservation_datetime >= '2023-10-10' AND reservation_datetime <= '2023-10-15'\u001b[0m\u001b[36;1m\u001b[1;3m[(6, 6, 6, datetime.datetime(2023, 10, 10, 10, 0, tzinfo=datetime.timezone.utc), 'Confirmed'), (7, 6, 7, datetime.datetime(2023, 10, 12, 11, 30, tzinfo=datetime.timezone.utc), 'Confirmed')]\u001b[0m\u001b[32;1m\u001b[1;3mI now have the list of flight reservations from October 10th to October 15th, 2023.\n",
      "Final Answer: [(6, 6, 6, datetime.datetime(2023, 10, 10, 10, 0, tzinfo=datetime.timezone.utc), 'Confirmed'), (7, 6, 7, datetime.datetime(2023, 10, 12, 11, 30, tzinfo=datetime.timezone.utc), 'Confirmed')]\u001b[0m\n",
      "\n",
      "\u001b[1m> Finished chain.\u001b[0m\n"
     ]
    },
    {
     "data": {
      "text/plain": [
       "\"[(6, 6, 6, datetime.datetime(2023, 10, 10, 10, 0, tzinfo=datetime.timezone.utc), 'Confirmed'), (7, 6, 7, datetime.datetime(2023, 10, 12, 11, 30, tzinfo=datetime.timezone.utc), 'Confirmed')]\""
      ]
     },
     "execution_count": 47,
     "metadata": {},
     "output_type": "execute_result"
    }
   ],
   "source": [
    "question = \"Provide a list of all flight reservations from October 10th to October 15th, 2023\"\n",
    "agent_executor.run(question)"
   ]
  },
  {
   "cell_type": "markdown",
   "metadata": {},
   "source": [
    "- Scenario 2: Identify customers who made reservations in the past N days"
   ]
  },
  {
   "cell_type": "code",
   "execution_count": 48,
   "metadata": {},
   "outputs": [
    {
     "name": "stdout",
     "output_type": "stream",
     "text": [
      "\n",
      "\n",
      "\u001b[1m> Entering new SQL Agent Executor chain...\u001b[0m\n",
      "\u001b[32;1m\u001b[1;3mI need to query the database to find customers who have made flight reservations within the last 7 days.\n",
      "Action: sql_db_query_checker\n",
      "Action Input: SELECT * FROM customers WHERE reservation_date >= DATE_SUB(NOW(), INTERVAL 7 DAY)\u001b[0m\u001b[36;1m\u001b[1;3mSELECT * \n",
      "FROM customers \n",
      "WHERE reservation_date >= DATE_SUB(CURRENT_DATE(), INTERVAL 7 DAY)\u001b[0m\u001b[32;1m\u001b[1;3mThe query looks correct, I should execute it to get the result.\n",
      "Action: sql_db_query\n",
      "Action Input: SELECT * FROM customers WHERE reservation_date >= DATE_SUB(CURRENT_DATE(), INTERVAL 7 DAY)\u001b[0m\u001b[36;1m\u001b[1;3mError: (google.cloud.bigquery.dbapi.exceptions.DatabaseError) 400 POST https://bigquery.googleapis.com/bigquery/v2/projects/fluent-buckeye-422006/queries?prettyPrint=false: Unrecognized name: reservation_date at [1:31]\n",
      "[SQL: SELECT * FROM customers WHERE reservation_date >= DATE_SUB(CURRENT_DATE(), INTERVAL 7 DAY)]\n",
      "(Background on this error at: https://sqlalche.me/e/14/4xp6)\u001b[0m\u001b[32;1m\u001b[1;3mI should use sql_db_schema to check the correct field name for reservation date.\n",
      "Action: sql_db_schema\n",
      "Action Input: customers\u001b[0m\u001b[33;1m\u001b[1;3m\n",
      "CREATE TABLE `customers` (\n",
      "\t`customer_id` INT64, \n",
      "\t`first_name` STRING, \n",
      "\t`last_name` STRING, \n",
      "\t`email` STRING, \n",
      "\t`date_of_birth` DATE, \n",
      "\t`created_at` TIMESTAMP\n",
      ")\n",
      "\n",
      "/*\n",
      "3 rows from customers table:\n",
      "customer_id\tfirst_name\tlast_name\temail\tdate_of_birth\tcreated_at\n",
      "1\tJohn\tDoe\tjohn.doe@example.com\t1985-02-15\t2021-01-01 08:30:00+00:00\n",
      "2\tJane\tDoe\tjane.doe@example.com\t1987-05-23\t2021-01-15 12:45:00+00:00\n",
      "3\tAlice\tJohnson\talice.j@example.com\t1990-08-10\t2021-03-20 09:00:00+00:00\n",
      "*/\u001b[0m\u001b[32;1m\u001b[1;3mThe correct field for the reservation date is not in the customers table. I need to find the table that contains reservation information.\n",
      "Action: sql_db_list_tables\n",
      "Action Input: \u001b[0m\u001b[38;5;200m\u001b[1;3mcustomers, flights, reservations, transactions\u001b[0m\u001b[32;1m\u001b[1;3mThe reservations table likely contains the reservation date information. I should query that table.\n",
      "Action: sql_db_query_checker\n",
      "Action Input: SELECT * FROM reservations WHERE reservation_date >= DATE_SUB(CURRENT_DATE(), INTERVAL 7 DAY)\u001b[0m\u001b[36;1m\u001b[1;3mSELECT * \n",
      "FROM reservations \n",
      "WHERE reservation_date >= DATE_SUB(CURRENT_DATE(), INTERVAL 7 DAY)\u001b[0m\u001b[32;1m\u001b[1;3mThe query to find customers who have made flight reservations within the last 7 days is to query the reservations table, not the customers table.\n",
      "Final Answer: SELECT * FROM reservations WHERE reservation_date >= DATE_SUB(CURRENT_DATE(), INTERVAL 7 DAY)\u001b[0m\n",
      "\n",
      "\u001b[1m> Finished chain.\u001b[0m\n"
     ]
    }
   ],
   "source": [
    "question = \"Identify all customers who have made flight reservations within the last 7 days.\"\n",
    "_ = agent_executor.run(question)"
   ]
  },
  {
   "cell_type": "markdown",
   "metadata": {},
   "source": [
    "- Scenario 3: Calculate Monthly Revenue"
   ]
  },
  {
   "cell_type": "code",
   "execution_count": 49,
   "metadata": {},
   "outputs": [
    {
     "name": "stdout",
     "output_type": "stream",
     "text": [
      "\n",
      "\n",
      "\u001b[1m> Entering new SQL Agent Executor chain...\u001b[0m\n",
      "\u001b[32;1m\u001b[1;3mI need to retrieve the total revenue generated from transactions in October 2023 for reservations with a Confirmed status.\n",
      "Action: sql_db_list_tables\n",
      "Action Input: \u001b[0m\u001b[38;5;200m\u001b[1;3mcustomers, flights, reservations, transactions\u001b[0m\u001b[32;1m\u001b[1;3mI need to find the tables that contain information about reservations and transactions.\n",
      "Action: sql_db_schema\n",
      "Action Input: reservations, transactions\u001b[0m\u001b[33;1m\u001b[1;3m\n",
      "CREATE TABLE `reservations` (\n",
      "\t`reservation_id` INT64, \n",
      "\t`customer_id` INT64, \n",
      "\t`flight_id` INT64, \n",
      "\t`reservation_datetime` TIMESTAMP, \n",
      "\t`status` STRING\n",
      ")\n",
      "\n",
      "/*\n",
      "3 rows from reservations table:\n",
      "reservation_id\tcustomer_id\tflight_id\treservation_datetime\tstatus\n",
      "4\t3\t4\t2023-10-05 08:30:00+00:00\tCancelled\n",
      "9\t8\t8\t2023-10-20 09:00:00+00:00\tCancelled\n",
      "13\t13\t12\t2023-10-30 14:50:00+00:00\tCancelled\n",
      "*/\n",
      "\n",
      "\n",
      "CREATE TABLE `transactions` (\n",
      "\t`transaction_id` INT64, \n",
      "\t`reservation_id` INT64, \n",
      "\t`amount` INT64, \n",
      "\t`transaction_datetime` TIMESTAMP\n",
      ")\n",
      "\n",
      "/*\n",
      "3 rows from transactions table:\n",
      "transaction_id\treservation_id\tamount\ttransaction_datetime\n",
      "6\t6\t550\t2023-10-10 10:01:00+00:00\n",
      "3\t3\t300\t2023-10-03 12:16:00+00:00\n",
      "20\t20\t320\t2023-11-22 09:11:00+00:00\n",
      "*/\u001b[0m\u001b[32;1m\u001b[1;3mI need to join the reservations and transactions tables on the reservation_id to calculate the total revenue generated from transactions in October 2023 for reservations with a Confirmed status.\n",
      "Action: sql_db_query\n",
      "Action Input: SELECT SUM(t.amount) AS total_revenue\n",
      "FROM reservations r\n",
      "JOIN transactions t ON r.reservation_id = t.reservation_id\n",
      "WHERE EXTRACT(MONTH FROM r.reservation_datetime) = 10\n",
      "AND r.status = 'Confirmed'\u001b[0m\u001b[36;1m\u001b[1;3m[(3860,)]\u001b[0m\u001b[32;1m\u001b[1;3mThe total revenue generated from transactions in October 2023 for reservations with a Confirmed status is $3860.\n",
      "Final Answer: $3860\u001b[0m\n",
      "\n",
      "\u001b[1m> Finished chain.\u001b[0m\n"
     ]
    }
   ],
   "source": [
    "question = \"Calculate the total revenue generated from transactions in October 2023, specifically from all reservations with a Confirmed status.\"\n",
    "_ = agent_executor.run(question)"
   ]
  },
  {
   "cell_type": "markdown",
   "metadata": {},
   "source": [
    "- Scenario 5: Customer Age Group\n",
    "    - Group customers by age brackets and count the number in each bracket."
   ]
  },
  {
   "cell_type": "code",
   "execution_count": 50,
   "metadata": {},
   "outputs": [
    {
     "name": "stdout",
     "output_type": "stream",
     "text": [
      "\n",
      "\n",
      "\u001b[1m> Entering new SQL Agent Executor chain...\u001b[0m\n",
      "\u001b[32;1m\u001b[1;3mI need to group customers by age brackets and count the number of customers in each bracket.\n",
      "Action: sql_db_query_checker\n",
      "Action Input: SELECT COUNT(*), \n",
      "    CASE\n",
      "        WHEN age < 20 THEN '0-19'\n",
      "        WHEN age BETWEEN 20 AND 29 THEN '20-29'\n",
      "        WHEN age BETWEEN 30 AND 39 THEN '30-39'\n",
      "        WHEN age BETWEEN 40 AND 49 THEN '40-49'\n",
      "        ELSE '50+'\n",
      "    END AS age_bracket\n",
      "FROM customers\n",
      "GROUP BY age_bracket;\u001b[0m\u001b[36;1m\u001b[1;3mSELECT COUNT(*), \n",
      "    CASE\n",
      "        WHEN age < 20 THEN '0-19'\n",
      "        WHEN age BETWEEN 20 AND 29 THEN '20-29'\n",
      "        WHEN age BETWEEN 30 AND 39 THEN '30-39'\n",
      "        WHEN age BETWEEN 40 AND 49 THEN '40-49'\n",
      "        ELSE '50+'\n",
      "    END AS age_bracket\n",
      "FROM customers\n",
      "GROUP BY age_bracket;\u001b[0m\u001b[32;1m\u001b[1;3mThe query looks correct, I can now execute it to get the result.\n",
      "Action: sql_db_query\n",
      "Action Input: SELECT COUNT(*), \n",
      "    CASE\n",
      "        WHEN age < 20 THEN '0-19'\n",
      "        WHEN age BETWEEN 20 AND 29 THEN '20-29'\n",
      "        WHEN age BETWEEN 30 AND 39 THEN '30-39'\n",
      "        WHEN age BETWEEN 40 AND 49 THEN '40-49'\n",
      "        ELSE '50+'\n",
      "    END AS age_bracket\n",
      "FROM customers\n",
      "GROUP BY age_bracket;\u001b[0m\u001b[36;1m\u001b[1;3mError: (google.cloud.bigquery.dbapi.exceptions.DatabaseError) 400 POST https://bigquery.googleapis.com/bigquery/v2/projects/fluent-buckeye-422006/queries?prettyPrint=false: Unrecognized name: age at [3:14]\n",
      "[SQL: SELECT COUNT(*), \n",
      "    CASE\n",
      "        WHEN age < 20 THEN '0-19'\n",
      "        WHEN age BETWEEN 20 AND 29 THEN '20-29'\n",
      "        WHEN age BETWEEN 30 AND 39 THEN '30-39'\n",
      "        WHEN age BETWEEN 40 AND 49 THEN '40-49'\n",
      "        ELSE '50+'\n",
      "    END AS age_bracket\n",
      "FROM customers\n",
      "GROUP BY age_bracket;]\n",
      "(Background on this error at: https://sqlalche.me/e/14/4xp6)\u001b[0m\u001b[32;1m\u001b[1;3mI need to check the schema of the customers table to see the correct field for age.\n",
      "Action: sql_db_schema\n",
      "Action Input: customers\u001b[0m\u001b[33;1m\u001b[1;3m\n",
      "CREATE TABLE `customers` (\n",
      "\t`customer_id` INT64, \n",
      "\t`first_name` STRING, \n",
      "\t`last_name` STRING, \n",
      "\t`email` STRING, \n",
      "\t`date_of_birth` DATE, \n",
      "\t`created_at` TIMESTAMP\n",
      ")\n",
      "\n",
      "/*\n",
      "3 rows from customers table:\n",
      "customer_id\tfirst_name\tlast_name\temail\tdate_of_birth\tcreated_at\n",
      "1\tJohn\tDoe\tjohn.doe@example.com\t1985-02-15\t2021-01-01 08:30:00+00:00\n",
      "2\tJane\tDoe\tjane.doe@example.com\t1987-05-23\t2021-01-15 12:45:00+00:00\n",
      "3\tAlice\tJohnson\talice.j@example.com\t1990-08-10\t2021-03-20 09:00:00+00:00\n",
      "*/\u001b[0m\u001b[32;1m\u001b[1;3mI see that the field for age is not directly available in the customers table. I can calculate the age from the date_of_birth field.\n",
      "Action: sql_db_query\n",
      "Action Input: SELECT COUNT(*), \n",
      "    CASE\n",
      "        WHEN EXTRACT(YEAR FROM CURRENT_DATE()) - EXTRACT(YEAR FROM date_of_birth) < 20 THEN '0-19'\n",
      "        WHEN EXTRACT(YEAR FROM CURRENT_DATE()) - EXTRACT(YEAR FROM date_of_birth) BETWEEN 20 AND 29 THEN '20-29'\n",
      "        WHEN EXTRACT(YEAR FROM CURRENT_DATE()) - EXTRACT(YEAR FROM date_of_birth) BETWEEN 30 AND 39 THEN '30-39'\n",
      "        WHEN EXTRACT(YEAR FROM CURRENT_DATE()) - EXTRACT(YEAR FROM date_of_birth) BETWEEN 40 AND 49 THEN '40-49'\n",
      "        ELSE '50+'\n",
      "    END AS age_bracket\n",
      "FROM customers\n",
      "GROUP BY age_bracket;\u001b[0m\u001b[36;1m\u001b[1;3m[(6, '30-39'), (5, '40-49'), (3, '20-29'), (6, '50+')]\u001b[0m\u001b[32;1m\u001b[1;3mI now know the final answer.\n",
      "Final Answer: There are 6 customers in the age bracket 30-39, 5 customers in the age bracket 40-49, 3 customers in the age bracket 20-29, and 6 customers in the age bracket 50+.\u001b[0m\n",
      "\n",
      "\u001b[1m> Finished chain.\u001b[0m\n"
     ]
    }
   ],
   "source": [
    "question = \"Group customers into five distinct age brackets and count the number of customers in each bracket.\"\n",
    "_ = agent_executor.run(question)"
   ]
  },
  {
   "cell_type": "markdown",
   "metadata": {},
   "source": [
    "#### Pattern 4: Direct Schema Inference with Self-Correction"
   ]
  },
  {
   "cell_type": "markdown",
   "metadata": {},
   "source": [
    "- This approach begins with the direct inference of the schema, utilizing a ‘seed prompt’ that instructs the LLM to construct an SQL query corresponding to a user’s inquiry. The execution of this initial prompt continues iteratively until it meets with success. Failures are treated as critical learning opportunity for the LLM, allowing it to scrutinize tracebacks and utilize error messages to refine and evolve the seed prompt into an improved query iteration. This self-corrected query is then tested; if successful, the process is complete; if not, the iterative cycle of refinement and testing is sustained until a successful outcome is secured."
   ]
  },
  {
   "cell_type": "code",
   "execution_count": 45,
   "metadata": {},
   "outputs": [],
   "source": [
    "from vertexai.language_models import CodeChatModel\n",
    "from vertexai.language_models import CodeChatSession\n",
    "from google.cloud import bigquery\n",
    "import logging \n",
    "import os "
   ]
  },
  {
   "cell_type": "code",
   "execution_count": 2,
   "metadata": {},
   "outputs": [],
   "source": [
    "logger = logging.getLogger(__name__)\n",
    "logger.setLevel(logging.DEBUG)\n",
    "logger.addHandler(logging.StreamHandler())"
   ]
  },
  {
   "cell_type": "code",
   "execution_count": 46,
   "metadata": {},
   "outputs": [],
   "source": [
    "PROJECT_ID = 'fluent-buckeye-422006'\n",
    "MODEL_NAME = 'codechat-bison@latest'\n",
    "TEMPERATURE = 0 # default value = 0\n",
    "MAX_OUTPUT_TOKENS = 2048  # length of the output response | overridding the default value which is 128\n",
    "LOCATION = 'us-central1'"
   ]
  },
  {
   "cell_type": "code",
   "execution_count": 4,
   "metadata": {},
   "outputs": [],
   "source": [
    "DATASET = 'flight_reservations'\n",
    "TABLES = ['customers', 'flights', 'reservations', 'transactions', 'loyality_points']"
   ]
  },
  {
   "cell_type": "code",
   "execution_count": 48,
   "metadata": {},
   "outputs": [],
   "source": [
    "SERVICE_ACCOUNT_CREDENTIALS = 'gcp_bigquery.json'\n",
    "os.environ['GOOGLE_APPLICATION_CREDENTIALS'] = SERVICE_ACCOUNT_CREDENTIALS\n",
    "\n",
    "from langchain.chat_models import ChatOpenAI\n",
    "os.environ[\"OPEN_API_KEY\"] = \"\"\n",
    "llm = ChatOpenAI(temperature=0, openai_api_key=os.environ[\"OPEN_API_KEY\"])"
   ]
  },
  {
   "cell_type": "code",
   "execution_count": 8,
   "metadata": {},
   "outputs": [],
   "source": [
    "code_gen_model = llm\n",
    "bq_client = bigquery.Client()"
   ]
  },
  {
   "cell_type": "code",
   "execution_count": 9,
   "metadata": {},
   "outputs": [
    {
     "name": "stderr",
     "output_type": "stream",
     "text": [
      "\n",
      "    SELECT *\n",
      "    FROM `fluent-buckeye-422006.flight_reservations.INFORMATION_SCHEMA.COLUMN_FIELD_PATHS`\n",
      "    WHERE table_name in (\"customers\",\"flights\",\"reservations\",\"transactions\",\"loyality_points\")\n",
      "\n"
     ]
    }
   ],
   "source": [
    "query = f\"\"\"\n",
    "    SELECT *\n",
    "    FROM `{PROJECT_ID}.{DATASET}.INFORMATION_SCHEMA.COLUMN_FIELD_PATHS`\n",
    "    WHERE table_name in ({','.join([f'\"{table}\"' for table in TABLES])})\n",
    "\"\"\"\n",
    "logger.info(query)"
   ]
  },
  {
   "cell_type": "code",
   "execution_count": 10,
   "metadata": {},
   "outputs": [
    {
     "data": {
      "text/html": [
       "<div>\n",
       "<style scoped>\n",
       "    .dataframe tbody tr th:only-of-type {\n",
       "        vertical-align: middle;\n",
       "    }\n",
       "\n",
       "    .dataframe tbody tr th {\n",
       "        vertical-align: top;\n",
       "    }\n",
       "\n",
       "    .dataframe thead th {\n",
       "        text-align: right;\n",
       "    }\n",
       "</style>\n",
       "<table border=\"1\" class=\"dataframe\">\n",
       "  <thead>\n",
       "    <tr style=\"text-align: right;\">\n",
       "      <th></th>\n",
       "      <th>table_catalog</th>\n",
       "      <th>table_schema</th>\n",
       "      <th>table_name</th>\n",
       "      <th>column_name</th>\n",
       "      <th>field_path</th>\n",
       "      <th>data_type</th>\n",
       "      <th>description</th>\n",
       "      <th>collation_name</th>\n",
       "      <th>rounding_mode</th>\n",
       "    </tr>\n",
       "  </thead>\n",
       "  <tbody>\n",
       "    <tr>\n",
       "      <th>0</th>\n",
       "      <td>fluent-buckeye-422006</td>\n",
       "      <td>flight_reservations</td>\n",
       "      <td>transactions</td>\n",
       "      <td>transaction_id</td>\n",
       "      <td>transaction_id</td>\n",
       "      <td>INT64</td>\n",
       "      <td>None</td>\n",
       "      <td>NULL</td>\n",
       "      <td>None</td>\n",
       "    </tr>\n",
       "    <tr>\n",
       "      <th>1</th>\n",
       "      <td>fluent-buckeye-422006</td>\n",
       "      <td>flight_reservations</td>\n",
       "      <td>transactions</td>\n",
       "      <td>reservation_id</td>\n",
       "      <td>reservation_id</td>\n",
       "      <td>INT64</td>\n",
       "      <td>None</td>\n",
       "      <td>NULL</td>\n",
       "      <td>None</td>\n",
       "    </tr>\n",
       "    <tr>\n",
       "      <th>2</th>\n",
       "      <td>fluent-buckeye-422006</td>\n",
       "      <td>flight_reservations</td>\n",
       "      <td>transactions</td>\n",
       "      <td>amount</td>\n",
       "      <td>amount</td>\n",
       "      <td>INT64</td>\n",
       "      <td>None</td>\n",
       "      <td>NULL</td>\n",
       "      <td>None</td>\n",
       "    </tr>\n",
       "    <tr>\n",
       "      <th>3</th>\n",
       "      <td>fluent-buckeye-422006</td>\n",
       "      <td>flight_reservations</td>\n",
       "      <td>transactions</td>\n",
       "      <td>transaction_datetime</td>\n",
       "      <td>transaction_datetime</td>\n",
       "      <td>TIMESTAMP</td>\n",
       "      <td>None</td>\n",
       "      <td>NULL</td>\n",
       "      <td>None</td>\n",
       "    </tr>\n",
       "    <tr>\n",
       "      <th>4</th>\n",
       "      <td>fluent-buckeye-422006</td>\n",
       "      <td>flight_reservations</td>\n",
       "      <td>reservations</td>\n",
       "      <td>reservation_id</td>\n",
       "      <td>reservation_id</td>\n",
       "      <td>INT64</td>\n",
       "      <td>None</td>\n",
       "      <td>NULL</td>\n",
       "      <td>None</td>\n",
       "    </tr>\n",
       "    <tr>\n",
       "      <th>5</th>\n",
       "      <td>fluent-buckeye-422006</td>\n",
       "      <td>flight_reservations</td>\n",
       "      <td>reservations</td>\n",
       "      <td>customer_id</td>\n",
       "      <td>customer_id</td>\n",
       "      <td>INT64</td>\n",
       "      <td>None</td>\n",
       "      <td>NULL</td>\n",
       "      <td>None</td>\n",
       "    </tr>\n",
       "    <tr>\n",
       "      <th>6</th>\n",
       "      <td>fluent-buckeye-422006</td>\n",
       "      <td>flight_reservations</td>\n",
       "      <td>reservations</td>\n",
       "      <td>flight_id</td>\n",
       "      <td>flight_id</td>\n",
       "      <td>INT64</td>\n",
       "      <td>None</td>\n",
       "      <td>NULL</td>\n",
       "      <td>None</td>\n",
       "    </tr>\n",
       "    <tr>\n",
       "      <th>7</th>\n",
       "      <td>fluent-buckeye-422006</td>\n",
       "      <td>flight_reservations</td>\n",
       "      <td>reservations</td>\n",
       "      <td>reservation_datetime</td>\n",
       "      <td>reservation_datetime</td>\n",
       "      <td>TIMESTAMP</td>\n",
       "      <td>None</td>\n",
       "      <td>NULL</td>\n",
       "      <td>None</td>\n",
       "    </tr>\n",
       "    <tr>\n",
       "      <th>8</th>\n",
       "      <td>fluent-buckeye-422006</td>\n",
       "      <td>flight_reservations</td>\n",
       "      <td>reservations</td>\n",
       "      <td>status</td>\n",
       "      <td>status</td>\n",
       "      <td>STRING</td>\n",
       "      <td>None</td>\n",
       "      <td>NULL</td>\n",
       "      <td>None</td>\n",
       "    </tr>\n",
       "    <tr>\n",
       "      <th>9</th>\n",
       "      <td>fluent-buckeye-422006</td>\n",
       "      <td>flight_reservations</td>\n",
       "      <td>flights</td>\n",
       "      <td>flight_id</td>\n",
       "      <td>flight_id</td>\n",
       "      <td>INT64</td>\n",
       "      <td>None</td>\n",
       "      <td>NULL</td>\n",
       "      <td>None</td>\n",
       "    </tr>\n",
       "    <tr>\n",
       "      <th>10</th>\n",
       "      <td>fluent-buckeye-422006</td>\n",
       "      <td>flight_reservations</td>\n",
       "      <td>flights</td>\n",
       "      <td>origin</td>\n",
       "      <td>origin</td>\n",
       "      <td>STRING</td>\n",
       "      <td>None</td>\n",
       "      <td>NULL</td>\n",
       "      <td>None</td>\n",
       "    </tr>\n",
       "    <tr>\n",
       "      <th>11</th>\n",
       "      <td>fluent-buckeye-422006</td>\n",
       "      <td>flight_reservations</td>\n",
       "      <td>flights</td>\n",
       "      <td>destination</td>\n",
       "      <td>destination</td>\n",
       "      <td>STRING</td>\n",
       "      <td>None</td>\n",
       "      <td>NULL</td>\n",
       "      <td>None</td>\n",
       "    </tr>\n",
       "    <tr>\n",
       "      <th>12</th>\n",
       "      <td>fluent-buckeye-422006</td>\n",
       "      <td>flight_reservations</td>\n",
       "      <td>flights</td>\n",
       "      <td>departure_datetime</td>\n",
       "      <td>departure_datetime</td>\n",
       "      <td>TIMESTAMP</td>\n",
       "      <td>None</td>\n",
       "      <td>NULL</td>\n",
       "      <td>None</td>\n",
       "    </tr>\n",
       "    <tr>\n",
       "      <th>13</th>\n",
       "      <td>fluent-buckeye-422006</td>\n",
       "      <td>flight_reservations</td>\n",
       "      <td>flights</td>\n",
       "      <td>arrival_datetime</td>\n",
       "      <td>arrival_datetime</td>\n",
       "      <td>TIMESTAMP</td>\n",
       "      <td>None</td>\n",
       "      <td>NULL</td>\n",
       "      <td>None</td>\n",
       "    </tr>\n",
       "    <tr>\n",
       "      <th>14</th>\n",
       "      <td>fluent-buckeye-422006</td>\n",
       "      <td>flight_reservations</td>\n",
       "      <td>flights</td>\n",
       "      <td>carrier</td>\n",
       "      <td>carrier</td>\n",
       "      <td>STRING</td>\n",
       "      <td>None</td>\n",
       "      <td>NULL</td>\n",
       "      <td>None</td>\n",
       "    </tr>\n",
       "    <tr>\n",
       "      <th>15</th>\n",
       "      <td>fluent-buckeye-422006</td>\n",
       "      <td>flight_reservations</td>\n",
       "      <td>flights</td>\n",
       "      <td>price</td>\n",
       "      <td>price</td>\n",
       "      <td>INT64</td>\n",
       "      <td>None</td>\n",
       "      <td>NULL</td>\n",
       "      <td>None</td>\n",
       "    </tr>\n",
       "    <tr>\n",
       "      <th>16</th>\n",
       "      <td>fluent-buckeye-422006</td>\n",
       "      <td>flight_reservations</td>\n",
       "      <td>customers</td>\n",
       "      <td>customer_id</td>\n",
       "      <td>customer_id</td>\n",
       "      <td>INT64</td>\n",
       "      <td>None</td>\n",
       "      <td>NULL</td>\n",
       "      <td>None</td>\n",
       "    </tr>\n",
       "    <tr>\n",
       "      <th>17</th>\n",
       "      <td>fluent-buckeye-422006</td>\n",
       "      <td>flight_reservations</td>\n",
       "      <td>customers</td>\n",
       "      <td>first_name</td>\n",
       "      <td>first_name</td>\n",
       "      <td>STRING</td>\n",
       "      <td>None</td>\n",
       "      <td>NULL</td>\n",
       "      <td>None</td>\n",
       "    </tr>\n",
       "    <tr>\n",
       "      <th>18</th>\n",
       "      <td>fluent-buckeye-422006</td>\n",
       "      <td>flight_reservations</td>\n",
       "      <td>customers</td>\n",
       "      <td>last_name</td>\n",
       "      <td>last_name</td>\n",
       "      <td>STRING</td>\n",
       "      <td>None</td>\n",
       "      <td>NULL</td>\n",
       "      <td>None</td>\n",
       "    </tr>\n",
       "    <tr>\n",
       "      <th>19</th>\n",
       "      <td>fluent-buckeye-422006</td>\n",
       "      <td>flight_reservations</td>\n",
       "      <td>customers</td>\n",
       "      <td>email</td>\n",
       "      <td>email</td>\n",
       "      <td>STRING</td>\n",
       "      <td>None</td>\n",
       "      <td>NULL</td>\n",
       "      <td>None</td>\n",
       "    </tr>\n",
       "    <tr>\n",
       "      <th>20</th>\n",
       "      <td>fluent-buckeye-422006</td>\n",
       "      <td>flight_reservations</td>\n",
       "      <td>customers</td>\n",
       "      <td>date_of_birth</td>\n",
       "      <td>date_of_birth</td>\n",
       "      <td>DATE</td>\n",
       "      <td>None</td>\n",
       "      <td>NULL</td>\n",
       "      <td>None</td>\n",
       "    </tr>\n",
       "    <tr>\n",
       "      <th>21</th>\n",
       "      <td>fluent-buckeye-422006</td>\n",
       "      <td>flight_reservations</td>\n",
       "      <td>customers</td>\n",
       "      <td>created_at</td>\n",
       "      <td>created_at</td>\n",
       "      <td>TIMESTAMP</td>\n",
       "      <td>None</td>\n",
       "      <td>NULL</td>\n",
       "      <td>None</td>\n",
       "    </tr>\n",
       "  </tbody>\n",
       "</table>\n",
       "</div>"
      ],
      "text/plain": [
       "            table_catalog         table_schema    table_name  \\\n",
       "0   fluent-buckeye-422006  flight_reservations  transactions   \n",
       "1   fluent-buckeye-422006  flight_reservations  transactions   \n",
       "2   fluent-buckeye-422006  flight_reservations  transactions   \n",
       "3   fluent-buckeye-422006  flight_reservations  transactions   \n",
       "4   fluent-buckeye-422006  flight_reservations  reservations   \n",
       "5   fluent-buckeye-422006  flight_reservations  reservations   \n",
       "6   fluent-buckeye-422006  flight_reservations  reservations   \n",
       "7   fluent-buckeye-422006  flight_reservations  reservations   \n",
       "8   fluent-buckeye-422006  flight_reservations  reservations   \n",
       "9   fluent-buckeye-422006  flight_reservations       flights   \n",
       "10  fluent-buckeye-422006  flight_reservations       flights   \n",
       "11  fluent-buckeye-422006  flight_reservations       flights   \n",
       "12  fluent-buckeye-422006  flight_reservations       flights   \n",
       "13  fluent-buckeye-422006  flight_reservations       flights   \n",
       "14  fluent-buckeye-422006  flight_reservations       flights   \n",
       "15  fluent-buckeye-422006  flight_reservations       flights   \n",
       "16  fluent-buckeye-422006  flight_reservations     customers   \n",
       "17  fluent-buckeye-422006  flight_reservations     customers   \n",
       "18  fluent-buckeye-422006  flight_reservations     customers   \n",
       "19  fluent-buckeye-422006  flight_reservations     customers   \n",
       "20  fluent-buckeye-422006  flight_reservations     customers   \n",
       "21  fluent-buckeye-422006  flight_reservations     customers   \n",
       "\n",
       "             column_name            field_path  data_type description  \\\n",
       "0         transaction_id        transaction_id      INT64        None   \n",
       "1         reservation_id        reservation_id      INT64        None   \n",
       "2                 amount                amount      INT64        None   \n",
       "3   transaction_datetime  transaction_datetime  TIMESTAMP        None   \n",
       "4         reservation_id        reservation_id      INT64        None   \n",
       "5            customer_id           customer_id      INT64        None   \n",
       "6              flight_id             flight_id      INT64        None   \n",
       "7   reservation_datetime  reservation_datetime  TIMESTAMP        None   \n",
       "8                 status                status     STRING        None   \n",
       "9              flight_id             flight_id      INT64        None   \n",
       "10                origin                origin     STRING        None   \n",
       "11           destination           destination     STRING        None   \n",
       "12    departure_datetime    departure_datetime  TIMESTAMP        None   \n",
       "13      arrival_datetime      arrival_datetime  TIMESTAMP        None   \n",
       "14               carrier               carrier     STRING        None   \n",
       "15                 price                 price      INT64        None   \n",
       "16           customer_id           customer_id      INT64        None   \n",
       "17            first_name            first_name     STRING        None   \n",
       "18             last_name             last_name     STRING        None   \n",
       "19                 email                 email     STRING        None   \n",
       "20         date_of_birth         date_of_birth       DATE        None   \n",
       "21            created_at            created_at  TIMESTAMP        None   \n",
       "\n",
       "   collation_name rounding_mode  \n",
       "0            NULL          None  \n",
       "1            NULL          None  \n",
       "2            NULL          None  \n",
       "3            NULL          None  \n",
       "4            NULL          None  \n",
       "5            NULL          None  \n",
       "6            NULL          None  \n",
       "7            NULL          None  \n",
       "8            NULL          None  \n",
       "9            NULL          None  \n",
       "10           NULL          None  \n",
       "11           NULL          None  \n",
       "12           NULL          None  \n",
       "13           NULL          None  \n",
       "14           NULL          None  \n",
       "15           NULL          None  \n",
       "16           NULL          None  \n",
       "17           NULL          None  \n",
       "18           NULL          None  \n",
       "19           NULL          None  \n",
       "20           NULL          None  \n",
       "21           NULL          None  "
      ]
     },
     "execution_count": 10,
     "metadata": {},
     "output_type": "execute_result"
    }
   ],
   "source": [
    "schema_columns = bq_client.query(query=query).to_dataframe()\n",
    "schema_columns"
   ]
  },
  {
   "cell_type": "code",
   "execution_count": 11,
   "metadata": {},
   "outputs": [
    {
     "name": "stderr",
     "output_type": "stream",
     "text": [
      "| table_catalog         | table_schema        | table_name   | column_name          | field_path           | data_type   | description   | collation_name   | rounding_mode   |\n",
      "|:----------------------|:--------------------|:-------------|:---------------------|:---------------------|:------------|:--------------|:-----------------|:----------------|\n",
      "| fluent-buckeye-422006 | flight_reservations | transactions | transaction_id       | transaction_id       | INT64       |               | NULL             |                 |\n",
      "| fluent-buckeye-422006 | flight_reservations | transactions | reservation_id       | reservation_id       | INT64       |               | NULL             |                 |\n",
      "| fluent-buckeye-422006 | flight_reservations | transactions | amount               | amount               | INT64       |               | NULL             |                 |\n",
      "| fluent-buckeye-422006 | flight_reservations | transactions | transaction_datetime | transaction_datetime | TIMESTAMP   |               | NULL             |                 |\n",
      "| fluent-buckeye-422006 | flight_reservations | reservations | reservation_id       | reservation_id       | INT64       |               | NULL             |                 |\n",
      "| fluent-buckeye-422006 | flight_reservations | reservations | customer_id          | customer_id          | INT64       |               | NULL             |                 |\n",
      "| fluent-buckeye-422006 | flight_reservations | reservations | flight_id            | flight_id            | INT64       |               | NULL             |                 |\n",
      "| fluent-buckeye-422006 | flight_reservations | reservations | reservation_datetime | reservation_datetime | TIMESTAMP   |               | NULL             |                 |\n",
      "| fluent-buckeye-422006 | flight_reservations | reservations | status               | status               | STRING      |               | NULL             |                 |\n",
      "| fluent-buckeye-422006 | flight_reservations | flights      | flight_id            | flight_id            | INT64       |               | NULL             |                 |\n",
      "| fluent-buckeye-422006 | flight_reservations | flights      | origin               | origin               | STRING      |               | NULL             |                 |\n",
      "| fluent-buckeye-422006 | flight_reservations | flights      | destination          | destination          | STRING      |               | NULL             |                 |\n",
      "| fluent-buckeye-422006 | flight_reservations | flights      | departure_datetime   | departure_datetime   | TIMESTAMP   |               | NULL             |                 |\n",
      "| fluent-buckeye-422006 | flight_reservations | flights      | arrival_datetime     | arrival_datetime     | TIMESTAMP   |               | NULL             |                 |\n",
      "| fluent-buckeye-422006 | flight_reservations | flights      | carrier              | carrier              | STRING      |               | NULL             |                 |\n",
      "| fluent-buckeye-422006 | flight_reservations | flights      | price                | price                | INT64       |               | NULL             |                 |\n",
      "| fluent-buckeye-422006 | flight_reservations | customers    | customer_id          | customer_id          | INT64       |               | NULL             |                 |\n",
      "| fluent-buckeye-422006 | flight_reservations | customers    | first_name           | first_name           | STRING      |               | NULL             |                 |\n",
      "| fluent-buckeye-422006 | flight_reservations | customers    | last_name            | last_name            | STRING      |               | NULL             |                 |\n",
      "| fluent-buckeye-422006 | flight_reservations | customers    | email                | email                | STRING      |               | NULL             |                 |\n",
      "| fluent-buckeye-422006 | flight_reservations | customers    | date_of_birth        | date_of_birth        | DATE        |               | NULL             |                 |\n",
      "| fluent-buckeye-422006 | flight_reservations | customers    | created_at           | created_at           | TIMESTAMP   |               | NULL             |                 |\n"
     ]
    }
   ],
   "source": [
    "schema_columns = schema_columns.to_markdown(index=False)\n",
    "logger.info(schema_columns)"
   ]
  },
  {
   "cell_type": "code",
   "execution_count": 57,
   "metadata": {},
   "outputs": [],
   "source": [
    "def generate_and_execute_sql(prompt, max_tries=8):\n",
    "    \"\"\"\n",
    "    Generate an SQL query using the code_gen_model and execute it using bq_client.\n",
    "    \n",
    "    Args:\n",
    "    - prompt (str): Prompt to provide to the model for generating SQL.\n",
    "    - max_tries (int): Maximum number of attempts to generate and execute SQL.\n",
    "    \n",
    "    Returns:\n",
    "    - dict: A dictionary containing the successful dataframe or error messages and prompt evolution.\n",
    "    \"\"\"\n",
    "    \n",
    "    tries = 0\n",
    "    error_messages = []\n",
    "    prompts = [prompt]\n",
    "    df = None\n",
    "\n",
    "    # chat_session = CodeChatSession(model=llm, temperature=TEMPERATURE, max_output_tokens=MAX_OUTPUT_TOKENS)\n",
    "    \n",
    "    while tries < max_tries:\n",
    "        logger.info(f'ATTEMPT: {tries+1}')\n",
    "        try:\n",
    "            # Predict SQL using the model\n",
    "            response = llm(prompt)\n",
    "            print(response)\n",
    "            generated_sql_query = response.text\n",
    "            generated_sql_query = '\\n'.join(generated_sql_query.split('\\n')[1:-1])\n",
    "            logger.info('-' * 50)\n",
    "            logger.info(generated_sql_query)\n",
    "            logger.info('-' * 50)\n",
    "            # Execute SQL using BigQuery client\n",
    "            df = bq_client.query(generated_sql_query).to_dataframe()\n",
    "            logger.info('SUCCEEDED')\n",
    "            return {\"dataframe\": df, \"prompts\": prompts, \"errors\": error_messages}\n",
    "        except Exception as e:\n",
    "            logger.error('FAILED')\n",
    "            # Catch the error, store the message, and try again\n",
    "            msg = str(e)\n",
    "            error_messages.append(msg)\n",
    "            # Evolve the prompt by appending the error message and asking the model to correct it\n",
    "            prompt = f\"\"\"Encountered an error: {msg}. \n",
    "To address this, please generate an alternative SQL query response that avoids this specific error. \n",
    "Follow the instructions mentioned above to remediate the error. \n",
    "\n",
    "Modify the below SQL query to resolve the issue:\n",
    "{generated_sql_query}\n",
    "\n",
    "Ensure the revised SQL query aligns precisely with the requirements outlined in the initial question.\"\"\"\n",
    "            prompts.append(prompt)\n",
    "            tries += 1\n",
    "        logger.info('=' * 100)\n",
    "\n",
    "    return {\"dataframe\": df, \"prompts\": prompts, \"errors\": error_messages}"
   ]
  },
  {
   "cell_type": "markdown",
   "metadata": {},
   "source": [
    "- Constructing the SEED prompt"
   ]
  },
  {
   "cell_type": "code",
   "execution_count": 58,
   "metadata": {},
   "outputs": [
    {
     "name": "stderr",
     "output_type": "stream",
     "text": [
      "\n",
      "Please craft a SQL query for BigQuery that addresses the following QUESTION provided below. \n",
      "Ensure you reference the appropriate BigQuery tables and column names provided in the SCHEMA below. \n",
      "When joining tables, employ type coercion to guarantee data type consistency for the join columns. \n",
      "Additionally, the output column names should specify units where applicable.\n",
      "\n",
      "QUESTION:\n",
      "{}\n",
      "\n",
      "SCHEMA:\n",
      "{}\n",
      "\n",
      "IMPORTANT: \n",
      "Use ONLY DATETIME and DO NOT use TIMESTAMP.\n",
      "--\n",
      "Ensure your SQL query accurately defines both the start and end of the DATETIME range.\n",
      "\n"
     ]
    }
   ],
   "source": [
    "seed_prompt = \"\"\"\n",
    "Please craft a SQL query for BigQuery that addresses the following QUESTION provided below. \n",
    "Ensure you reference the appropriate BigQuery tables and column names provided in the SCHEMA below. \n",
    "When joining tables, employ type coercion to guarantee data type consistency for the join columns. \n",
    "Additionally, the output column names should specify units where applicable.\\n\n",
    "QUESTION:\n",
    "{}\\n\n",
    "SCHEMA:\n",
    "{}\\n\n",
    "IMPORTANT: \n",
    "Use ONLY DATETIME and DO NOT use TIMESTAMP.\n",
    "--\n",
    "Ensure your SQL query accurately defines both the start and end of the DATETIME range.\n",
    "\"\"\"\n",
    "logger.info(seed_prompt)"
   ]
  },
  {
   "cell_type": "code",
   "execution_count": 59,
   "metadata": {},
   "outputs": [
    {
     "name": "stderr",
     "output_type": "stream",
     "text": [
      "\n",
      "Please craft a SQL query for BigQuery that addresses the following QUESTION provided below. \n",
      "Ensure you reference the appropriate BigQuery tables and column names provided in the SCHEMA below. \n",
      "When joining tables, employ type coercion to guarantee data type consistency for the join columns. \n",
      "Additionally, the output column names should specify units where applicable.\n",
      "\n",
      "QUESTION:\n",
      "Provide a list of all reservations from October 10th to October 15th, 2023\n",
      "\n",
      "SCHEMA:\n",
      "| table_catalog         | table_schema        | table_name   | column_name          | field_path           | data_type   | description   | collation_name   | rounding_mode   |\n",
      "|:----------------------|:--------------------|:-------------|:---------------------|:---------------------|:------------|:--------------|:-----------------|:----------------|\n",
      "| fluent-buckeye-422006 | flight_reservations | transactions | transaction_id       | transaction_id       | INT64       |               | NULL             |                 |\n",
      "| fluent-buckeye-422006 | flight_reservations | transactions | reservation_id       | reservation_id       | INT64       |               | NULL             |                 |\n",
      "| fluent-buckeye-422006 | flight_reservations | transactions | amount               | amount               | INT64       |               | NULL             |                 |\n",
      "| fluent-buckeye-422006 | flight_reservations | transactions | transaction_datetime | transaction_datetime | TIMESTAMP   |               | NULL             |                 |\n",
      "| fluent-buckeye-422006 | flight_reservations | reservations | reservation_id       | reservation_id       | INT64       |               | NULL             |                 |\n",
      "| fluent-buckeye-422006 | flight_reservations | reservations | customer_id          | customer_id          | INT64       |               | NULL             |                 |\n",
      "| fluent-buckeye-422006 | flight_reservations | reservations | flight_id            | flight_id            | INT64       |               | NULL             |                 |\n",
      "| fluent-buckeye-422006 | flight_reservations | reservations | reservation_datetime | reservation_datetime | TIMESTAMP   |               | NULL             |                 |\n",
      "| fluent-buckeye-422006 | flight_reservations | reservations | status               | status               | STRING      |               | NULL             |                 |\n",
      "| fluent-buckeye-422006 | flight_reservations | flights      | flight_id            | flight_id            | INT64       |               | NULL             |                 |\n",
      "| fluent-buckeye-422006 | flight_reservations | flights      | origin               | origin               | STRING      |               | NULL             |                 |\n",
      "| fluent-buckeye-422006 | flight_reservations | flights      | destination          | destination          | STRING      |               | NULL             |                 |\n",
      "| fluent-buckeye-422006 | flight_reservations | flights      | departure_datetime   | departure_datetime   | TIMESTAMP   |               | NULL             |                 |\n",
      "| fluent-buckeye-422006 | flight_reservations | flights      | arrival_datetime     | arrival_datetime     | TIMESTAMP   |               | NULL             |                 |\n",
      "| fluent-buckeye-422006 | flight_reservations | flights      | carrier              | carrier              | STRING      |               | NULL             |                 |\n",
      "| fluent-buckeye-422006 | flight_reservations | flights      | price                | price                | INT64       |               | NULL             |                 |\n",
      "| fluent-buckeye-422006 | flight_reservations | customers    | customer_id          | customer_id          | INT64       |               | NULL             |                 |\n",
      "| fluent-buckeye-422006 | flight_reservations | customers    | first_name           | first_name           | STRING      |               | NULL             |                 |\n",
      "| fluent-buckeye-422006 | flight_reservations | customers    | last_name            | last_name            | STRING      |               | NULL             |                 |\n",
      "| fluent-buckeye-422006 | flight_reservations | customers    | email                | email                | STRING      |               | NULL             |                 |\n",
      "| fluent-buckeye-422006 | flight_reservations | customers    | date_of_birth        | date_of_birth        | DATE        |               | NULL             |                 |\n",
      "| fluent-buckeye-422006 | flight_reservations | customers    | created_at           | created_at           | TIMESTAMP   |               | NULL             |                 |\n",
      "\n",
      "IMPORTANT: \n",
      "Use ONLY DATETIME and DO NOT use TIMESTAMP.\n",
      "--\n",
      "Ensure your SQL query accurately defines both the start and end of the DATETIME range.\n",
      "\n"
     ]
    }
   ],
   "source": [
    "question = \"Provide a list of all reservations from October 10th to October 15th, 2023\"\n",
    "prompt = seed_prompt.format(question, schema_columns)\n",
    "logger.info(prompt)"
   ]
  },
  {
   "cell_type": "code",
   "execution_count": 63,
   "metadata": {},
   "outputs": [],
   "source": [
    "# %%time\n",
    "\n",
    "# response = generate_and_execute_sql(prompt=prompt)\n",
    "# sql_output = response['dataframe']\n",
    "# sql_output"
   ]
  },
  {
   "cell_type": "markdown",
   "metadata": {},
   "source": [
    "### Project - NL2SQL"
   ]
  },
  {
   "cell_type": "markdown",
   "metadata": {},
   "source": [
    "##### Building a Basic NL2SQL Model"
   ]
  },
  {
   "cell_type": "code",
   "execution_count": 72,
   "metadata": {},
   "outputs": [
    {
     "name": "stdout",
     "output_type": "stream",
     "text": [
      "mysql\n",
      "['customers', 'employees', 'offices', 'orderdetails', 'orders', 'payments', 'productlines', 'products']\n",
      "\n",
      "CREATE TABLE customers (\n",
      "\t`customerNumber` INTEGER NOT NULL, \n",
      "\t`customerName` VARCHAR(50) NOT NULL, \n",
      "\t`contactLastName` VARCHAR(50) NOT NULL, \n",
      "\t`contactFirstName` VARCHAR(50) NOT NULL, \n",
      "\tphone VARCHAR(50) NOT NULL, \n",
      "\t`addressLine1` VARCHAR(50) NOT NULL, \n",
      "\t`addressLine2` VARCHAR(50), \n",
      "\tcity VARCHAR(50) NOT NULL, \n",
      "\tstate VARCHAR(50), \n",
      "\t`postalCode` VARCHAR(15), \n",
      "\tcountry VARCHAR(50) NOT NULL, \n",
      "\t`salesRepEmployeeNumber` INTEGER, \n",
      "\t`creditLimit` DECIMAL(10, 2), \n",
      "\tPRIMARY KEY (`customerNumber`), \n",
      "\tCONSTRAINT customers_ibfk_1 FOREIGN KEY(`salesRepEmployeeNumber`) REFERENCES employees (`employeeNumber`)\n",
      ")ENGINE=InnoDB DEFAULT CHARSET=utf8mb4 COLLATE utf8mb4_0900_ai_ci\n",
      "\n",
      "/*\n",
      "3 rows from customers table:\n",
      "customerNumber\tcustomerName\tcontactLastName\tcontactFirstName\tphone\taddressLine1\taddressLine2\tcity\tstate\tpostalCode\tcountry\tsalesRepEmployeeNumber\tcreditLimit\n",
      "103\tAtelier graphique\tSchmitt\tCarine \t40.32.2555\t54, rue Royale\tNone\tNantes\tNone\t44000\tFrance\t1370\t21000.00\n",
      "112\tSignal Gift Stores\tKing\tJean\t7025551838\t8489 Strong St.\tNone\tLas Vegas\tNV\t83030\tUSA\t1166\t71800.00\n",
      "114\tAustralian Collectors, Co.\tFerguson\tPeter\t03 9520 4555\t636 St Kilda Road\tLevel 3\tMelbourne\tVictoria\t3004\tAustralia\t1611\t117300.00\n",
      "*/\n",
      "\n",
      "\n",
      "CREATE TABLE employees (\n",
      "\t`employeeNumber` INTEGER NOT NULL, \n",
      "\t`lastName` VARCHAR(50) NOT NULL, \n",
      "\t`firstName` VARCHAR(50) NOT NULL, \n",
      "\textension VARCHAR(10) NOT NULL, \n",
      "\temail VARCHAR(100) NOT NULL, \n",
      "\t`officeCode` VARCHAR(10) NOT NULL, \n",
      "\t`reportsTo` INTEGER, \n",
      "\t`jobTitle` VARCHAR(50) NOT NULL, \n",
      "\tPRIMARY KEY (`employeeNumber`), \n",
      "\tCONSTRAINT employees_ibfk_1 FOREIGN KEY(`reportsTo`) REFERENCES employees (`employeeNumber`), \n",
      "\tCONSTRAINT employees_ibfk_2 FOREIGN KEY(`officeCode`) REFERENCES offices (`officeCode`)\n",
      ")ENGINE=InnoDB DEFAULT CHARSET=utf8mb4 COLLATE utf8mb4_0900_ai_ci\n",
      "\n",
      "/*\n",
      "3 rows from employees table:\n",
      "employeeNumber\tlastName\tfirstName\textension\temail\tofficeCode\treportsTo\tjobTitle\n",
      "1002\tMurphy\tDiane\tx5800\tdmurphy@classicmodelcars.com\t1\tNone\tPresident\n",
      "1056\tPatterson\tMary\tx4611\tmpatterso@classicmodelcars.com\t1\t1002\tVP Sales\n",
      "1076\tFirrelli\tJeff\tx9273\tjfirrelli@classicmodelcars.com\t1\t1002\tVP Marketing\n",
      "*/\n",
      "\n",
      "\n",
      "CREATE TABLE offices (\n",
      "\t`officeCode` VARCHAR(10) NOT NULL, \n",
      "\tcity VARCHAR(50) NOT NULL, \n",
      "\tphone VARCHAR(50) NOT NULL, \n",
      "\t`addressLine1` VARCHAR(50) NOT NULL, \n",
      "\t`addressLine2` VARCHAR(50), \n",
      "\tstate VARCHAR(50), \n",
      "\tcountry VARCHAR(50) NOT NULL, \n",
      "\t`postalCode` VARCHAR(15) NOT NULL, \n",
      "\tterritory VARCHAR(10) NOT NULL, \n",
      "\tPRIMARY KEY (`officeCode`)\n",
      ")ENGINE=InnoDB DEFAULT CHARSET=utf8mb4 COLLATE utf8mb4_0900_ai_ci\n",
      "\n",
      "/*\n",
      "3 rows from offices table:\n",
      "officeCode\tcity\tphone\taddressLine1\taddressLine2\tstate\tcountry\tpostalCode\tterritory\n",
      "1\tSan Francisco\t+1 650 219 4782\t100 Market Street\tSuite 300\tCA\tUSA\t94080\tNA\n",
      "2\tBoston\t+1 215 837 0825\t1550 Court Place\tSuite 102\tMA\tUSA\t02107\tNA\n",
      "3\tNYC\t+1 212 555 3000\t523 East 53rd Street\tapt. 5A\tNY\tUSA\t10022\tNA\n",
      "*/\n",
      "\n",
      "\n",
      "CREATE TABLE orderdetails (\n",
      "\t`orderNumber` INTEGER NOT NULL, \n",
      "\t`productCode` VARCHAR(15) NOT NULL, \n",
      "\t`quantityOrdered` INTEGER NOT NULL, \n",
      "\t`priceEach` DECIMAL(10, 2) NOT NULL, \n",
      "\t`orderLineNumber` SMALLINT NOT NULL, \n",
      "\tPRIMARY KEY (`orderNumber`, `productCode`), \n",
      "\tCONSTRAINT orderdetails_ibfk_1 FOREIGN KEY(`orderNumber`) REFERENCES orders (`orderNumber`), \n",
      "\tCONSTRAINT orderdetails_ibfk_2 FOREIGN KEY(`productCode`) REFERENCES products (`productCode`)\n",
      ")ENGINE=InnoDB DEFAULT CHARSET=utf8mb4 COLLATE utf8mb4_0900_ai_ci\n",
      "\n",
      "/*\n",
      "3 rows from orderdetails table:\n",
      "orderNumber\tproductCode\tquantityOrdered\tpriceEach\torderLineNumber\n",
      "10100\tS18_1749\t30\t136.00\t3\n",
      "10100\tS18_2248\t50\t55.09\t2\n",
      "10100\tS18_4409\t22\t75.46\t4\n",
      "*/\n",
      "\n",
      "\n",
      "CREATE TABLE orders (\n",
      "\t`orderNumber` INTEGER NOT NULL, \n",
      "\t`orderDate` DATE NOT NULL, \n",
      "\t`requiredDate` DATE NOT NULL, \n",
      "\t`shippedDate` DATE, \n",
      "\tstatus VARCHAR(15) NOT NULL, \n",
      "\tcomments TEXT, \n",
      "\t`customerNumber` INTEGER NOT NULL, \n",
      "\tPRIMARY KEY (`orderNumber`), \n",
      "\tCONSTRAINT orders_ibfk_1 FOREIGN KEY(`customerNumber`) REFERENCES customers (`customerNumber`)\n",
      ")ENGINE=InnoDB DEFAULT CHARSET=utf8mb4 COLLATE utf8mb4_0900_ai_ci\n",
      "\n",
      "/*\n",
      "3 rows from orders table:\n",
      "orderNumber\torderDate\trequiredDate\tshippedDate\tstatus\tcomments\tcustomerNumber\n",
      "10100\t2003-01-06\t2003-01-13\t2003-01-10\tShipped\tNone\t363\n",
      "10101\t2003-01-09\t2003-01-18\t2003-01-11\tShipped\tCheck on availability.\t128\n",
      "10102\t2003-01-10\t2003-01-18\t2003-01-14\tShipped\tNone\t181\n",
      "*/\n",
      "\n",
      "\n",
      "CREATE TABLE payments (\n",
      "\t`customerNumber` INTEGER NOT NULL, \n",
      "\t`checkNumber` VARCHAR(50) NOT NULL, \n",
      "\t`paymentDate` DATE NOT NULL, \n",
      "\tamount DECIMAL(10, 2) NOT NULL, \n",
      "\tPRIMARY KEY (`customerNumber`, `checkNumber`), \n",
      "\tCONSTRAINT payments_ibfk_1 FOREIGN KEY(`customerNumber`) REFERENCES customers (`customerNumber`)\n",
      ")ENGINE=InnoDB DEFAULT CHARSET=utf8mb4 COLLATE utf8mb4_0900_ai_ci\n",
      "\n",
      "/*\n",
      "3 rows from payments table:\n",
      "customerNumber\tcheckNumber\tpaymentDate\tamount\n",
      "103\tHQ336336\t2004-10-19\t6066.78\n",
      "103\tJM555205\t2003-06-05\t14571.44\n",
      "103\tOM314933\t2004-12-18\t1676.14\n",
      "*/\n",
      "\n",
      "\n",
      "CREATE TABLE productlines (\n",
      "\t`productLine` VARCHAR(50) NOT NULL, \n",
      "\t`textDescription` VARCHAR(4000), \n",
      "\t`htmlDescription` MEDIUMTEXT, \n",
      "\timage MEDIUMBLOB, \n",
      "\tPRIMARY KEY (`productLine`)\n",
      ")ENGINE=InnoDB DEFAULT CHARSET=utf8mb4 COLLATE utf8mb4_0900_ai_ci\n",
      "\n",
      "/*\n",
      "3 rows from productlines table:\n",
      "productLine\ttextDescription\thtmlDescription\timage\n",
      "Classic Cars\tAttention car enthusiasts: Make your wildest car ownership dreams come true. Whether you are looking\tNone\tNone\n",
      "Motorcycles\tOur motorcycles are state of the art replicas of classic as well as contemporary motorcycle legends \tNone\tNone\n",
      "Planes\tUnique, diecast airplane and helicopter replicas suitable for collections, as well as home, office o\tNone\tNone\n",
      "*/\n",
      "\n",
      "\n",
      "CREATE TABLE products (\n",
      "\t`productCode` VARCHAR(15) NOT NULL, \n",
      "\t`productName` VARCHAR(70) NOT NULL, \n",
      "\t`productLine` VARCHAR(50) NOT NULL, \n",
      "\t`productScale` VARCHAR(10) NOT NULL, \n",
      "\t`productVendor` VARCHAR(50) NOT NULL, \n",
      "\t`productDescription` TEXT NOT NULL, \n",
      "\t`quantityInStock` SMALLINT NOT NULL, \n",
      "\t`buyPrice` DECIMAL(10, 2) NOT NULL, \n",
      "\t`MSRP` DECIMAL(10, 2) NOT NULL, \n",
      "\tPRIMARY KEY (`productCode`), \n",
      "\tCONSTRAINT products_ibfk_1 FOREIGN KEY(`productLine`) REFERENCES productlines (`productLine`)\n",
      ")ENGINE=InnoDB DEFAULT CHARSET=utf8mb4 COLLATE utf8mb4_0900_ai_ci\n",
      "\n",
      "/*\n",
      "3 rows from products table:\n",
      "productCode\tproductName\tproductLine\tproductScale\tproductVendor\tproductDescription\tquantityInStock\tbuyPrice\tMSRP\n",
      "S10_1678\t1969 Harley Davidson Ultimate Chopper\tMotorcycles\t1:10\tMin Lin Diecast\tThis replica features working kickstand, front suspension, gear-shift lever, footbrake lever, drive \t7933\t48.81\t95.70\n",
      "S10_1949\t1952 Alpine Renault 1300\tClassic Cars\t1:10\tClassic Metal Creations\tTurnable front wheels; steering function; detailed interior; detailed engine; opening hood; opening \t7305\t98.58\t214.30\n",
      "S10_2016\t1996 Moto Guzzi 1100i\tMotorcycles\t1:10\tHighway 66 Mini Classics\tOfficial Moto Guzzi logos and insignias, saddle bags located on side of motorcycle, detailed engine,\t6625\t68.99\t118.94\n",
      "*/\n"
     ]
    }
   ],
   "source": [
    " import os\n",
    " os.environ[\"OPENAI_API_KEY\"] = \"\"\n",
    "\n",
    " db_user = \"root\"\n",
    " db_password = \"Nisarg_12345\"\n",
    " db_host = \"localhost\"\n",
    " db_name = \"classicmodels\"\n",
    " from langchain_community.utilities.sql_database import SQLDatabase\n",
    "#  db = SQLDatabase.from_uri(f\"mysql+pymysql://{db_user}:{db_password}@{db_host}/{db_name}\",sample_rows_in_table_info=1,include_tables=['customers','orders'],custom_table_info={'customers':\"customer\"})\n",
    " db = SQLDatabase.from_uri(f\"mysql+pymysql://{db_user}:{db_password}@{db_host}/{db_name}\")\n",
    " print(db.dialect)\n",
    " print(db.get_usable_table_names())\n",
    " print(db.table_info)"
   ]
  },
  {
   "cell_type": "code",
   "execution_count": 76,
   "metadata": {},
   "outputs": [],
   "source": [
    "os.environ['LANGCHAIN_TRACING_V2']=\"true\"\n",
    "os.environ['LANGCHAIN_API_KEY'] = \"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\""
   ]
  },
  {
   "cell_type": "markdown",
   "metadata": {},
   "source": [
    "- The query and response can be analyzed in langsmith (platform by langchain)"
   ]
  },
  {
   "cell_type": "code",
   "execution_count": 77,
   "metadata": {},
   "outputs": [
    {
     "name": "stdout",
     "output_type": "stream",
     "text": [
      "SELECT `buyPrice`, `MSRP`\n",
      "FROM products\n",
      "WHERE `productName` = '1968 Ford Mustang'\n",
      "LIMIT 1;\n"
     ]
    }
   ],
   "source": [
    "from langchain.chains import create_sql_query_chain\n",
    "from langchain_openai import ChatOpenAI\n",
    "\n",
    "llm = ChatOpenAI(model=\"gpt-3.5-turbo\", temperature=0)\n",
    "generate_query = create_sql_query_chain(llm, db) # this is chain\n",
    "query = generate_query.invoke({\"question\": \"what is price of `1968 Ford Mustang`\"})\n",
    "# \"what is price of `1968 Ford Mustang`\"\n",
    "print(query)"
   ]
  },
  {
   "cell_type": "markdown",
   "metadata": {},
   "source": [
    "- Executing the generated SQL query against your database retrieves the data you're looking for, which LangChain can then present in a user-friendly format."
   ]
  },
  {
   "cell_type": "code",
   "execution_count": 78,
   "metadata": {},
   "outputs": [
    {
     "data": {
      "text/plain": [
       "\"[(Decimal('95.34'), Decimal('194.57'))]\""
      ]
     },
     "execution_count": 78,
     "metadata": {},
     "output_type": "execute_result"
    }
   ],
   "source": [
    "from langchain_community.tools.sql_database.tool import QuerySQLDataBaseTool\n",
    "execute_query = QuerySQLDataBaseTool(db=db) # this is also chain\n",
    "execute_query.invoke(query)\n",
    "\n",
    "# Decimal('95.34') is buyPrice, Decimal('194.57') is MSRP"
   ]
  },
  {
   "cell_type": "code",
   "execution_count": 80,
   "metadata": {},
   "outputs": [
    {
     "data": {
      "text/plain": [
       "'[(326,)]'"
      ]
     },
     "execution_count": 80,
     "metadata": {},
     "output_type": "execute_result"
    }
   ],
   "source": [
    "# Both chain can be combined - create_sql_query_chain and QuerySQLDataBaseTool\n",
    "chain = generate_query | execute_query\n",
    "chain.invoke({'question':\"how many orders are there?\"})"
   ]
  },
  {
   "cell_type": "markdown",
   "metadata": {},
   "source": [
    "- Rephrasing Answers for Enhanced Clarity: "
   ]
  },
  {
   "cell_type": "code",
   "execution_count": 81,
   "metadata": {},
   "outputs": [
    {
     "data": {
      "text/plain": [
       "'There are 2 customers who have an order count greater than 5.'"
      ]
     },
     "execution_count": 81,
     "metadata": {},
     "output_type": "execute_result"
    }
   ],
   "source": [
    " from operator import itemgetter\n",
    "\n",
    " from langchain_core.output_parsers import StrOutputParser\n",
    " from langchain_core.prompts import PromptTemplate\n",
    " from langchain_core.runnables import RunnablePassthrough\n",
    "\n",
    " answer_prompt = PromptTemplate.from_template(\n",
    "     \"\"\"Given the following user question, corresponding SQL query, and SQL result, answer the user question.\n",
    "\n",
    " Question: {question}\n",
    " SQL Query: {query}\n",
    " SQL Result: {result}\n",
    " Answer: \"\"\"\n",
    " )\n",
    "\n",
    " rephrase_answer = answer_prompt | llm | StrOutputParser() # chain\n",
    "\n",
    "# Combining generate_query | execute_query\n",
    "# RunnablePassthrough takes the question (user query) and with \"RunnablePassthrough.assign(query=generate_query)\" it generate the SQL with generate_query function \n",
    "# Then this is passed as an input and with \"itemgetter(\"query\") | execute_query\", we get the result in text format because the SQL query is passed as an input for \n",
    "# execute_query function which returns the value. As in rephrase_answer, for answer_prompt we need Question, SQL Query, SQL result : We have this 3, which is passed to LLM,\n",
    "# and then to StrOutputParser for converting in string format.\n",
    " chain = (\n",
    "     RunnablePassthrough.assign(query=generate_query).assign(\n",
    "         result = itemgetter(\"query\") | execute_query\n",
    "     )\n",
    "     | rephrase_answer\n",
    " )\n",
    "\n",
    " chain.invoke({\"question\": \"How many customers have an order count greater than 5\"})"
   ]
  },
  {
   "cell_type": "markdown",
   "metadata": {},
   "source": [
    "##### Few-Shot Examples & Dynamic Few-Shot Examples"
   ]
  },
  {
   "cell_type": "code",
   "execution_count": 84,
   "metadata": {},
   "outputs": [],
   "source": [
    "examples = [\n",
    "    {\n",
    "        \"input\": \"List all customers in France with a credit limit over 20,000.\",\n",
    "        \"query\": \"SELECT * FROM customers WHERE country = 'France' AND creditLimit > 20000;\"\n",
    "    },\n",
    "    {\n",
    "        \"input\": \"Get the highest payment amount made by any customer.\",\n",
    "        \"query\": \"SELECT MAX(amount) FROM payments;\"\n",
    "    },\n",
    "    {\n",
    "        \"input\": \"Show product details for products in the 'Motorcycles' product line.\",\n",
    "        \"query\": \"SELECT * FROM products WHERE productLine = 'Motorcycles';\"\n",
    "    },\n",
    "    {\n",
    "        \"input\": \"Retrieve the names of employees who report to employee number 1002.\",\n",
    "        \"query\": \"SELECT firstName, lastName FROM employees WHERE reportsTo = 1002;\"\n",
    "    },\n",
    "    {\n",
    "        \"input\": \"List all products with a stock quantity less than 7000.\",\n",
    "        \"query\": \"SELECT productName, quantityInStock FROM products WHERE quantityInStock < 7000;\"\n",
    "    },\n",
    "    {\n",
    "     'input':\"what is price of `1968 Ford Mustang`\",\n",
    "     \"query\": \"SELECT `buyPrice`, `MSRP` FROM products  WHERE `productName` = '1968 Ford Mustang' LIMIT 1;\"   \n",
    "    }\n",
    "]"
   ]
  },
  {
   "cell_type": "code",
   "execution_count": 85,
   "metadata": {},
   "outputs": [
    {
     "name": "stdout",
     "output_type": "stream",
     "text": [
      "Human: List all customers in France with a credit limit over 20,000.\n",
      "SQLQuery:\n",
      "AI: SELECT * FROM customers WHERE country = 'France' AND creditLimit > 20000;\n",
      "Human: Get the highest payment amount made by any customer.\n",
      "SQLQuery:\n",
      "AI: SELECT MAX(amount) FROM payments;\n",
      "Human: Show product details for products in the 'Motorcycles' product line.\n",
      "SQLQuery:\n",
      "AI: SELECT * FROM products WHERE productLine = 'Motorcycles';\n",
      "Human: Retrieve the names of employees who report to employee number 1002.\n",
      "SQLQuery:\n",
      "AI: SELECT firstName, lastName FROM employees WHERE reportsTo = 1002;\n",
      "Human: List all products with a stock quantity less than 7000.\n",
      "SQLQuery:\n",
      "AI: SELECT productName, quantityInStock FROM products WHERE quantityInStock < 7000;\n",
      "Human: what is price of `1968 Ford Mustang`\n",
      "SQLQuery:\n",
      "AI: SELECT `buyPrice`, `MSRP` FROM products  WHERE `productName` = '1968 Ford Mustang' LIMIT 1;\n"
     ]
    }
   ],
   "source": [
    " from langchain_core.prompts import ChatPromptTemplate, MessagesPlaceholder,FewShotChatMessagePromptTemplate,PromptTemplate\n",
    "\n",
    " example_prompt = ChatPromptTemplate.from_messages(\n",
    "     [\n",
    "         (\"human\", \"{input}\\nSQLQuery:\"),\n",
    "         (\"ai\", \"{query}\"),\n",
    "     ]\n",
    " )\n",
    " few_shot_prompt = FewShotChatMessagePromptTemplate(\n",
    "     example_prompt=example_prompt,\n",
    "     examples=examples,\n",
    "     # input_variables=[\"input\",\"top_k\"],\n",
    "     input_variables=[\"input\"],\n",
    " )\n",
    " print(few_shot_prompt.format(input1=\"How many products are there?\"))"
   ]
  },
  {
   "cell_type": "markdown",
   "metadata": {},
   "source": [
    "- Dynamic Few-Shot Example Selection: \n",
    "    - This advanced technique tailors the few-shot examples provided to the model based on the specific context of the user's query. It ensures that the guidance offered to the model is not just relevant but optimally aligned with the query's nuances, significantly boosting the model's ability to generate accurate SQL queries. "
   ]
  },
  {
   "cell_type": "code",
   "execution_count": 87,
   "metadata": {},
   "outputs": [
    {
     "data": {
      "text/plain": [
       "[{'input': 'Get the highest payment amount made by any customer.',\n",
       "  'query': 'SELECT MAX(amount) FROM payments;'},\n",
       " {'input': 'List all customers in France with a credit limit over 20,000.',\n",
       "  'query': \"SELECT * FROM customers WHERE country = 'France' AND creditLimit > 20000;\"}]"
      ]
     },
     "execution_count": 87,
     "metadata": {},
     "output_type": "execute_result"
    }
   ],
   "source": [
    " from langchain_community.vectorstores import Chroma\n",
    " from langchain_core.example_selectors import SemanticSimilarityExampleSelector\n",
    " from langchain_openai import OpenAIEmbeddings\n",
    "\n",
    " vectorstore = Chroma()\n",
    " vectorstore.delete_collection()\n",
    " example_selector = SemanticSimilarityExampleSelector.from_examples(\n",
    "     examples,\n",
    "     OpenAIEmbeddings(),\n",
    "     vectorstore,\n",
    "     k=2,\n",
    "     input_keys=[\"input\"],\n",
    " )\n",
    " example_selector.select_examples({\"input\": \"Who is the highest paying customer?\"})"
   ]
  },
  {
   "cell_type": "code",
   "execution_count": 89,
   "metadata": {},
   "outputs": [
    {
     "name": "stdout",
     "output_type": "stream",
     "text": [
      "Human: List all products with a stock quantity less than 7000.\n",
      "SQLQuery:\n",
      "AI: SELECT productName, quantityInStock FROM products WHERE quantityInStock < 7000;\n",
      "Human: Show product details for products in the 'Motorcycles' product line.\n",
      "SQLQuery:\n",
      "AI: SELECT * FROM products WHERE productLine = 'Motorcycles';\n"
     ]
    }
   ],
   "source": [
    "few_shot_prompt = FewShotChatMessagePromptTemplate(\n",
    "     example_prompt=example_prompt,\n",
    "     example_selector=example_selector,\n",
    "     input_variables=[\"input\",\"top_k\"],\n",
    " )\n",
    "print(few_shot_prompt.format(input=\"How many products are there?\"))"
   ]
  },
  {
   "cell_type": "code",
   "execution_count": 92,
   "metadata": {},
   "outputs": [
    {
     "name": "stdout",
     "output_type": "stream",
     "text": [
      "System: You are a MySQL expert. Given an input question, create a syntactically correct MySQL query to run. Unless otherwise specificed.\n",
      "\n",
      "Here is the relevant table info: some table info\n",
      "\n",
      "Below are a number of examples of questions and their corresponding SQL queries.\n",
      "Human: List all products with a stock quantity less than 7000.\n",
      "SQLQuery:\n",
      "AI: SELECT productName, quantityInStock FROM products WHERE quantityInStock < 7000;\n",
      "Human: Show product details for products in the 'Motorcycles' product line.\n",
      "SQLQuery:\n",
      "AI: SELECT * FROM products WHERE productLine = 'Motorcycles';\n",
      "Human: How many products are there?\n"
     ]
    }
   ],
   "source": [
    " final_prompt = ChatPromptTemplate.from_messages(\n",
    "     [\n",
    "         (\"system\", \"You are a MySQL expert. Given an input question, create a syntactically correct MySQL query to run. Unless otherwise specificed.\\n\\nHere is the relevant table info: {table_info}\\n\\nBelow are a number of examples of questions and their corresponding SQL queries.\"),\n",
    "         few_shot_prompt,\n",
    "         (\"human\", \"{input}\"),\n",
    "     ]\n",
    " )\n",
    " print(final_prompt.format(input=\"How many products are there?\",table_info=\"some table info\"))"
   ]
  },
  {
   "cell_type": "code",
   "execution_count": 94,
   "metadata": {},
   "outputs": [
    {
     "data": {
      "text/plain": [
       "'There are 85 customers with a credit limit greater than 50000.'"
      ]
     },
     "execution_count": 94,
     "metadata": {},
     "output_type": "execute_result"
    }
   ],
   "source": [
    "generate_query = create_sql_query_chain(llm, db,final_prompt)\n",
    "chain = (\n",
    " RunnablePassthrough.assign(query=generate_query).assign(\n",
    "     result=itemgetter(\"query\") | execute_query\n",
    " )\n",
    " | rephrase_answer\n",
    ")\n",
    "chain.invoke({\"question\": \"How many csutomers with credit limit more than 50000\"})"
   ]
  },
  {
   "cell_type": "markdown",
   "metadata": {},
   "source": [
    "##### Dynamic Relevant Table Selection"
   ]
  },
  {
   "cell_type": "markdown",
   "metadata": {},
   "source": [
    "- In the realm of NL2SQL models, especially when dealing with complex databases featuring 100+ tables. With databases growing in complexity and size, it's impractical and costly in terms of prompt token usage to include the schema of every table in the initial prompt for generating SQL queries. \n",
    "- Dynamic relevant table selection emerges as a solution to this challenge, focusing the model's attention only on the tables pertinent to the user's query"
   ]
  },
  {
   "cell_type": "code",
   "execution_count": 95,
   "metadata": {},
   "outputs": [
    {
     "name": "stdout",
     "output_type": "stream",
     "text": [
      "Table Name:productlines\n",
      "Table Description:Stores information about the different product lines offered by the company, including a unique name, textual description, HTML description, and image. Categorizes products into different lines.\n",
      "\n",
      "Table Name:products\n",
      "Table Description:Contains details of each product sold by the company, including code, name, product line, scale, vendor, description, stock quantity, buy price, and MSRP. Linked to the productlines table.\n",
      "\n",
      "Table Name:offices\n",
      "Table Description:Holds data on the company's sales offices, including office code, city, phone number, address, state, country, postal code, and territory. Each office is uniquely identified by its office code.\n",
      "\n",
      "Table Name:employees\n",
      "Table Description:Stores information about employees, including number, last name, first name, job title, contact info, and office code. Links to offices and maps organizational structure through the reportsTo attribute.\n",
      "\n",
      "Table Name:customers\n",
      "Table Description:Captures data on customers, including customer number, name, contact details, address, assigned sales rep, and credit limit. Central to managing customer relationships and sales processes.\n",
      "\n",
      "Table Name:payments\n",
      "Table Description:Records payments made by customers, tracking the customer number, check number, payment date, and amount. Linked to the customers table for financial tracking and account management.\n",
      "\n",
      "Table Name:orders\n",
      "Table Description:Details each sales order placed by customers, including order number, dates, status, comments, and customer number. Linked to the customers table, tracking sales transactions.\n",
      "\n",
      "Table Name:orderdetails\n",
      "Table Description:Describes individual line items for each sales order, including order number, product code, quantity, price, and order line number. Links orders to products, detailing the items sold.\n",
      "\n",
      "\n"
     ]
    }
   ],
   "source": [
    "from operator import itemgetter\n",
    "from langchain.chains.openai_tools import create_extraction_chain_pydantic\n",
    "from langchain_core.pydantic_v1 import BaseModel, Field\n",
    "from typing import List\n",
    "import pandas as pd\n",
    "\n",
    "def get_table_details():\n",
    "    # Read the CSV file into a DataFrame\n",
    "    table_description = pd.read_csv(\"data/database_table_descriptions.csv\")\n",
    "    table_docs = []\n",
    "\n",
    "    # Iterate over the DataFrame rows to create Document objects\n",
    "    table_details = \"\"\n",
    "    for index, row in table_description.iterrows():\n",
    "        table_details = table_details + \"Table Name:\" + row['Table'] + \"\\n\" + \"Table Description:\" + row['Description'] + \"\\n\\n\"\n",
    "\n",
    "    return table_details\n",
    "\n",
    "\n",
    "class Table(BaseModel):\n",
    "    \"\"\"Table in SQL database.\"\"\"\n",
    "\n",
    "    name: str = Field(description=\"Name of table in SQL database.\")\n",
    "\n",
    "# table_names = \"\\n\".join(db.get_usable_table_names())\n",
    "table_details = get_table_details()\n",
    "print(table_details)\n"
   ]
  },
  {
   "cell_type": "code",
   "execution_count": 96,
   "metadata": {},
   "outputs": [
    {
     "data": {
      "text/plain": [
       "[Table(name='customers'), Table(name='orders')]"
      ]
     },
     "execution_count": 96,
     "metadata": {},
     "output_type": "execute_result"
    }
   ],
   "source": [
    "table_details_prompt = f\"\"\"Return the names of ALL the SQL tables that MIGHT be relevant to the user question. \\\n",
    "The tables are:\n",
    "\n",
    "{table_details}\n",
    "\n",
    "Remember to include ALL POTENTIALLY RELEVANT tables, even if you're not sure that they're needed.\"\"\"\n",
    "\n",
    "# create_extraction_chain_pydantic takes the table_details_prompt and llm that after extration gives the \"Table\" name\n",
    "table_chain = create_extraction_chain_pydantic(Table, llm, system_message=table_details_prompt)\n",
    "tables = table_chain.invoke({\"input\": \"give me details of customer and their order count\"})\n",
    "tables"
   ]
  },
  {
   "cell_type": "code",
   "execution_count": 97,
   "metadata": {},
   "outputs": [
    {
     "data": {
      "text/plain": [
       "['customers', 'orders']"
      ]
     },
     "execution_count": 97,
     "metadata": {},
     "output_type": "execute_result"
    }
   ],
   "source": [
    "def get_tables(tables: List[Table]) -> List[str]:\n",
    "    tables  = [table.name for table in tables]\n",
    "    return tables\n",
    "\n",
    "select_table = {\"input\": itemgetter(\"question\")} | create_extraction_chain_pydantic(Table, llm, system_message=table_details_prompt) | get_tables\n",
    "select_table.invoke({\"question\": \"give me details of customer and their order count\"})"
   ]
  },
  {
   "cell_type": "code",
   "execution_count": 98,
   "metadata": {},
   "outputs": [
    {
     "data": {
      "text/plain": [
       "'There are 2 customers with an order count of more than 5.'"
      ]
     },
     "execution_count": 98,
     "metadata": {},
     "output_type": "execute_result"
    }
   ],
   "source": [
    "# The generate query part wil check if to use all tables or to use the table mentioned in the variable \"table_names_to_use\". Both of them are passed in chain format.\n",
    "chain = (\n",
    "RunnablePassthrough.assign(table_names_to_use=select_table) |\n",
    "RunnablePassthrough.assign(query=generate_query).assign(\n",
    "    result=itemgetter(\"query\") | execute_query\n",
    ")\n",
    "| rephrase_answer\n",
    ")\n",
    "chain.invoke({\"question\": \"How many cutomers with order count more than 5\"})"
   ]
  },
  {
   "cell_type": "markdown",
   "metadata": {},
   "source": [
    "##### Adding Memory for Follow-up Database Queries"
   ]
  },
  {
   "cell_type": "code",
   "execution_count": 99,
   "metadata": {},
   "outputs": [],
   "source": [
    " from langchain.memory import ChatMessageHistory\n",
    " history = ChatMessageHistory()"
   ]
  },
  {
   "cell_type": "code",
   "execution_count": 100,
   "metadata": {},
   "outputs": [
    {
     "name": "stdout",
     "output_type": "stream",
     "text": [
      "System: You are a MySQL expert. Given an input question, create a syntactically correct MySQL query to run. Unless otherwise specificed.\n",
      "\n",
      "Here is the relevant table info: some table info\n",
      "\n",
      "Below are a number of examples of questions and their corresponding SQL queries. Those examples are just for referecne and hsould be considered while answering follow up questions\n",
      "Human: List all products with a stock quantity less than 7000.\n",
      "SQLQuery:\n",
      "AI: SELECT productName, quantityInStock FROM products WHERE quantityInStock < 7000;\n",
      "Human: Show product details for products in the 'Motorcycles' product line.\n",
      "SQLQuery:\n",
      "AI: SELECT * FROM products WHERE productLine = 'Motorcycles';\n",
      "Human: How many products are there?\n"
     ]
    }
   ],
   "source": [
    "# MessagesPlaceholder will hold the conversation history\n",
    "final_prompt = ChatPromptTemplate.from_messages(\n",
    "     [\n",
    "         (\"system\", \"You are a MySQL expert. Given an input question, create a syntactically correct MySQL query to run. Unless otherwise specificed.\\n\\nHere is the relevant table info: {table_info}\\n\\nBelow are a number of examples of questions and their corresponding SQL queries. Those examples are just for referecne and hsould be considered while answering follow up questions\"),\n",
    "         few_shot_prompt,\n",
    "         MessagesPlaceholder(variable_name=\"messages\"),\n",
    "         (\"human\", \"{input}\"),\n",
    "     ]\n",
    " )\n",
    "print(final_prompt.format(input=\"How many products are there?\",table_info=\"some table info\",messages=[]))"
   ]
  },
  {
   "cell_type": "code",
   "execution_count": 102,
   "metadata": {},
   "outputs": [],
   "source": [
    "generate_query = create_sql_query_chain(llm, db,final_prompt)\n",
    "\n",
    "chain = (\n",
    " RunnablePassthrough.assign(table_names_to_use=select_table) |\n",
    " RunnablePassthrough.assign(query=generate_query).assign(\n",
    "     result=itemgetter(\"query\") | execute_query\n",
    " )\n",
    " | rephrase_answer\n",
    ")"
   ]
  },
  {
   "cell_type": "code",
   "execution_count": 103,
   "metadata": {},
   "outputs": [],
   "source": [
    "question = \"How many cutomers with order count more than 5\"\n",
    "response = chain.invoke({\"question\": question,\"messages\":history.messages})"
   ]
  },
  {
   "cell_type": "code",
   "execution_count": 104,
   "metadata": {},
   "outputs": [
    {
     "data": {
      "text/plain": [
       "[HumanMessage(content='How many cutomers with order count more than 5'),\n",
       " AIMessage(content='There are 2 customers with an order count of more than 5.')]"
      ]
     },
     "execution_count": 104,
     "metadata": {},
     "output_type": "execute_result"
    }
   ],
   "source": [
    "history.add_user_message(question)\n",
    "history.add_ai_message(response)\n",
    "history.messages"
   ]
  },
  {
   "cell_type": "code",
   "execution_count": 106,
   "metadata": {},
   "outputs": [
    {
     "data": {
      "text/plain": [
       "\"The names of the customers who have placed more than 5 orders are 'Mini Gifts Distributors Ltd.' and 'Euro+ Shopping Channel'.\""
      ]
     },
     "execution_count": 106,
     "metadata": {},
     "output_type": "execute_result"
    }
   ],
   "source": [
    "response = chain.invoke({\"question\": \"Can you list their names?\",\"messages\":history.messages})\n",
    "response"
   ]
  }
 ],
 "metadata": {
  "kernelspec": {
   "display_name": "Python 3",
   "language": "python",
   "name": "python3"
  },
  "language_info": {
   "codemirror_mode": {
    "name": "ipython",
    "version": 3
   },
   "file_extension": ".py",
   "mimetype": "text/x-python",
   "name": "python",
   "nbconvert_exporter": "python",
   "pygments_lexer": "ipython3",
   "version": "3.9.19"
  }
 },
 "nbformat": 4,
 "nbformat_minor": 2
}
